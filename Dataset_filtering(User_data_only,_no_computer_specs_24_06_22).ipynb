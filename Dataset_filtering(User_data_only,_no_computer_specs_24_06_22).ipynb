{
  "nbformat": 4,
  "nbformat_minor": 0,
  "metadata": {
    "colab": {
      "name": "Dataset filtering(User data only, no computer specs-24/06/22)",
      "provenance": []
    },
    "kernelspec": {
      "name": "python3",
      "display_name": "Python 3"
    },
    "language_info": {
      "name": "python"
    }
  },
  "cells": [
    {
      "cell_type": "markdown",
      "source": [
        "## **Importing Dataset**"
      ],
      "metadata": {
        "id": "uUt6etpq3eL4"
      }
    },
    {
      "cell_type": "code",
      "execution_count": 1,
      "metadata": {
        "colab": {
          "base_uri": "https://localhost:8080/"
        },
        "id": "4e1c57tN0KJw",
        "outputId": "ab462131-d22a-4bfb-8ae8-6f1b8a98ced5"
      },
      "outputs": [
        {
          "output_type": "stream",
          "name": "stdout",
          "text": [
            "Mounted at /content/drive\n"
          ]
        }
      ],
      "source": [
        "from google.colab import drive\n",
        "drive.mount('/content/drive')"
      ]
    },
    {
      "cell_type": "code",
      "source": [
        "!unzip -q /content/drive/MyDrive/eYSIP_Data/Dataset.zip"
      ],
      "metadata": {
        "id": "jvVgtGJ01UmC"
      },
      "execution_count": 2,
      "outputs": []
    },
    {
      "cell_type": "markdown",
      "source": [
        "## **Importing Libraries**"
      ],
      "metadata": {
        "id": "7l_FxKU44OQk"
      }
    },
    {
      "cell_type": "code",
      "source": [
        "import pandas as pd\n",
        "import numpy as np"
      ],
      "metadata": {
        "id": "L0GpEG-C3omk"
      },
      "execution_count": 3,
      "outputs": []
    },
    {
      "cell_type": "code",
      "source": [
        "Mem_Details = pd.read_csv(r'/content/Dataset/Team_Members_Details_ DaPrA - team_member_details_30_09.csv')\n"
      ],
      "metadata": {
        "id": "LiUdTB9G4QPJ"
      },
      "execution_count": 4,
      "outputs": []
    },
    {
      "cell_type": "code",
      "source": [
        "Dep_Details = pd.read_csv(r'/content/departments.csv')"
      ],
      "metadata": {
        "id": "H3j_v829EqOI"
      },
      "execution_count": 7,
      "outputs": []
    },
    {
      "cell_type": "code",
      "source": [
        "Mem_Details.info()"
      ],
      "metadata": {
        "colab": {
          "base_uri": "https://localhost:8080/"
        },
        "id": "-P-ZcMM67Qih",
        "outputId": "5808faa3-4fb8-4023-ed30-e549b1e4d363"
      },
      "execution_count": 8,
      "outputs": [
        {
          "output_type": "stream",
          "name": "stdout",
          "text": [
            "<class 'pandas.core.frame.DataFrame'>\n",
            "RangeIndex: 5689 entries, 0 to 5688\n",
            "Data columns (total 68 columns):\n",
            " #   Column           Non-Null Count  Dtype  \n",
            "---  ------           --------------  -----  \n",
            " 0   team_id          5689 non-null   int64  \n",
            " 1   role             5689 non-null   int64  \n",
            " 2   Department       5672 non-null   object \n",
            " 3   Discipline       5672 non-null   object \n",
            " 4   Year             5672 non-null   float64\n",
            " 5   Gender           5672 non-null   object \n",
            " 6   eyrc_year        5670 non-null   object \n",
            " 7   eyrc_theme       641 non-null    object \n",
            " 8   eyrc_cert        641 non-null    object \n",
            " 9   elsiLab          5664 non-null   float64\n",
            " 10  cgpa             5383 non-null   float64\n",
            " 11  onlineCourse     5665 non-null   float64\n",
            " 12  paidCert         5665 non-null   float64\n",
            " 13  completeCourse   5665 non-null   float64\n",
            " 14  courseName1      2582 non-null   object \n",
            " 15  courseYear1      2584 non-null   object \n",
            " 16  courseRs1        2578 non-null   object \n",
            " 17  courseName2      1725 non-null   object \n",
            " 18  courseYear2      1725 non-null   object \n",
            " 19  courseRs2        1721 non-null   object \n",
            " 20  courseName3      1170 non-null   object \n",
            " 21  courseYear3      1171 non-null   object \n",
            " 22  courseRs3        1167 non-null   object \n",
            " 23  courseName4      776 non-null    object \n",
            " 24  courseYear4      777 non-null    object \n",
            " 25  courseRs4        772 non-null    object \n",
            " 26  courseName5      501 non-null    object \n",
            " 27  courseYear5      502 non-null    object \n",
            " 28  courseRs5        501 non-null    object \n",
            " 29  bankAcc          0 non-null      float64\n",
            " 30  paymentOpt       0 non-null      float64\n",
            " 31  categoryDomain   0 non-null      float64\n",
            " 32  otherComp        0 non-null      float64\n",
            " 33  isFee            0 non-null      float64\n",
            " 34  internetOpt      5662 non-null   object \n",
            " 35  ssc_board        5431 non-null   object \n",
            " 36  hsc_board        5428 non-null   object \n",
            " 37  workstation      5662 non-null   float64\n",
            " 38  memory           3377 non-null   object \n",
            " 39  storage          3123 non-null   object \n",
            " 40  processor        3170 non-null   object \n",
            " 41  graphics         2739 non-null   object \n",
            " 42  graphics_memory  2888 non-null   object \n",
            " 43  internetspeed    4503 non-null   object \n",
            " 44  geekbench        4503 non-null   object \n",
            " 45  geekbench1       4503 non-null   object \n",
            " 46  os               3387 non-null   object \n",
            " 47  sub_ros          5672 non-null   float64\n",
            " 48  sub_ip           5672 non-null   float64\n",
            " 49  sub_emb_c        5672 non-null   float64\n",
            " 50  sub_ml           5672 non-null   float64\n",
            " 51  sub_ap           5672 non-null   float64\n",
            " 52  sub_cs           5672 non-null   float64\n",
            " 53  sub_mss          5672 non-null   float64\n",
            " 54  sub_fpga         5672 non-null   float64\n",
            " 55  sub_mm           5672 non-null   float64\n",
            " 56  sub_de           5672 non-null   float64\n",
            " 57  preference       5634 non-null   object \n",
            " 58  preference1      5634 non-null   object \n",
            " 59  preference2      5634 non-null   object \n",
            " 60  preference3      5634 non-null   object \n",
            " 61  preference4      5634 non-null   object \n",
            " 62  preference5      5634 non-null   object \n",
            " 63  preference6      5634 non-null   object \n",
            " 64  college_id       5689 non-null   object \n",
            " 65  college_name     5689 non-null   object \n",
            " 66  IS_eLSI          5689 non-null   int64  \n",
            " 67  country          5689 non-null   object \n",
            "dtypes: float64(22), int64(3), object(43)\n",
            "memory usage: 3.0+ MB\n"
          ]
        }
      ]
    },
    {
      "cell_type": "markdown",
      "source": [
        "## **Removing Teams with less than 4 members**"
      ],
      "metadata": {
        "id": "EyFGS-GsdMuJ"
      }
    },
    {
      "cell_type": "code",
      "source": [
        "Mem_Details['freq'] = Mem_Details.groupby('team_id')['team_id'].transform('count')\n",
        "Mem_Details.count()"
      ],
      "metadata": {
        "colab": {
          "base_uri": "https://localhost:8080/"
        },
        "id": "DT7AiyMTcIxm",
        "outputId": "6a1c496c-59d6-4c1a-e744-f5fd6314c3a1"
      },
      "execution_count": 10,
      "outputs": [
        {
          "output_type": "execute_result",
          "data": {
            "text/plain": [
              "team_id         5689\n",
              "role            5689\n",
              "Department      5672\n",
              "Discipline      5672\n",
              "Year            5672\n",
              "                ... \n",
              "college_id      5689\n",
              "college_name    5689\n",
              "IS_eLSI         5689\n",
              "country         5689\n",
              "freq            5689\n",
              "Length: 69, dtype: int64"
            ]
          },
          "metadata": {},
          "execution_count": 10
        }
      ]
    },
    {
      "cell_type": "code",
      "source": [
        "Mem_Details = Mem_Details[Mem_Details.freq >3]\n",
        "Mem_Details.count()"
      ],
      "metadata": {
        "colab": {
          "base_uri": "https://localhost:8080/"
        },
        "id": "H67uhuClcuKp",
        "outputId": "88576c04-bea9-46b4-8116-d78732e64156"
      },
      "execution_count": 11,
      "outputs": [
        {
          "output_type": "execute_result",
          "data": {
            "text/plain": [
              "team_id         5172\n",
              "role            5172\n",
              "Department      5161\n",
              "Discipline      5161\n",
              "Year            5161\n",
              "                ... \n",
              "college_id      5172\n",
              "college_name    5172\n",
              "IS_eLSI         5172\n",
              "country         5172\n",
              "freq            5172\n",
              "Length: 69, dtype: int64"
            ]
          },
          "metadata": {},
          "execution_count": 11
        }
      ]
    },
    {
      "cell_type": "markdown",
      "source": [
        "## **Analysing Null and Unique Values in every column**"
      ],
      "metadata": {
        "id": "Tuq1Yr7ZbFoi"
      }
    },
    {
      "cell_type": "code",
      "source": [
        "print(Mem_Details.isna().sum().sort_values(ascending=False).to_markdown())"
      ],
      "metadata": {
        "colab": {
          "base_uri": "https://localhost:8080/"
        },
        "id": "GG1o5u_FUH-y",
        "outputId": "f3df3c9e-62e3-468d-9d92-db27a0b17fc8"
      },
      "execution_count": 12,
      "outputs": [
        {
          "output_type": "stream",
          "name": "stdout",
          "text": [
            "|                 |    0 |\n",
            "|:----------------|-----:|\n",
            "| otherComp       | 5172 |\n",
            "| isFee           | 5172 |\n",
            "| categoryDomain  | 5172 |\n",
            "| paymentOpt      | 5172 |\n",
            "| bankAcc         | 5172 |\n",
            "| courseRs5       | 4725 |\n",
            "| courseName5     | 4725 |\n",
            "| courseYear5     | 4724 |\n",
            "| eyrc_theme      | 4615 |\n",
            "| eyrc_cert       | 4615 |\n",
            "| courseRs4       | 4485 |\n",
            "| courseName4     | 4481 |\n",
            "| courseYear4     | 4480 |\n",
            "| courseRs3       | 4130 |\n",
            "| courseName3     | 4127 |\n",
            "| courseYear3     | 4126 |\n",
            "| courseRs2       | 3623 |\n",
            "| courseName2     | 3619 |\n",
            "| courseYear2     | 3618 |\n",
            "| courseRs1       | 2839 |\n",
            "| courseName1     | 2834 |\n",
            "| courseYear1     | 2833 |\n",
            "| graphics        | 2698 |\n",
            "| graphics_memory | 2567 |\n",
            "| storage         | 2349 |\n",
            "| processor       | 2303 |\n",
            "| memory          | 2113 |\n",
            "| os              | 2106 |\n",
            "| geekbench       | 1105 |\n",
            "| internetspeed   | 1105 |\n",
            "| geekbench1      | 1105 |\n",
            "| cgpa            |  265 |\n",
            "| hsc_board       |  225 |\n",
            "| ssc_board       |  222 |\n",
            "| preference5     |   52 |\n",
            "| preference      |   52 |\n",
            "| preference6     |   52 |\n",
            "| preference4     |   52 |\n",
            "| preference2     |   52 |\n",
            "| preference1     |   52 |\n",
            "| preference3     |   52 |\n",
            "| elsiLab         |   19 |\n",
            "| internetOpt     |   18 |\n",
            "| workstation     |   18 |\n",
            "| completeCourse  |   18 |\n",
            "| onlineCourse    |   18 |\n",
            "| paidCert        |   18 |\n",
            "| eyrc_year       |   13 |\n",
            "| sub_mm          |   11 |\n",
            "| Department      |   11 |\n",
            "| Discipline      |   11 |\n",
            "| Year            |   11 |\n",
            "| Gender          |   11 |\n",
            "| sub_de          |   11 |\n",
            "| sub_fpga        |   11 |\n",
            "| sub_mss         |   11 |\n",
            "| sub_cs          |   11 |\n",
            "| sub_ap          |   11 |\n",
            "| sub_ml          |   11 |\n",
            "| sub_emb_c       |   11 |\n",
            "| sub_ip          |   11 |\n",
            "| sub_ros         |   11 |\n",
            "| country         |    0 |\n",
            "| college_name    |    0 |\n",
            "| IS_eLSI         |    0 |\n",
            "| team_id         |    0 |\n",
            "| college_id      |    0 |\n",
            "| role            |    0 |\n",
            "| freq            |    0 |\n"
          ]
        }
      ]
    },
    {
      "cell_type": "code",
      "source": [
        "Mem_Details.head()"
      ],
      "metadata": {
        "colab": {
          "base_uri": "https://localhost:8080/",
          "height": 508
        },
        "id": "vSLgyz5a4ls4",
        "outputId": "27225a5e-6d0e-4ed7-cfeb-c5faaf385523"
      },
      "execution_count": 13,
      "outputs": [
        {
          "output_type": "execute_result",
          "data": {
            "text/plain": [
              "   team_id  role                                 Department      Discipline  \\\n",
              "0     1001     1  Electronics and Communication Engineering  BE/BTech/B.Dec   \n",
              "1     1001     2  Electronics and Communication Engineering  BE/BTech/B.Dec   \n",
              "2     1001     2  Electronics and Communication Engineering  BE/BTech/B.Dec   \n",
              "3     1001     2  Electronics and Communication Engineering  BE/BTech/B.Dec   \n",
              "4     1002     1  Electronics and Communication Engineering  BE/BTech/B.Dec   \n",
              "\n",
              "   Year Gender            eyrc_year   eyrc_theme  eyrc_cert  elsiLab  ...  \\\n",
              "0   3.0   Male           [\"eyrc20\"]        20_VD       20_6      1.0  ...   \n",
              "1   3.0   Male           [\"eyrc20\"]        20_VD       20_6      1.0  ...   \n",
              "2   3.0   Male             [\"none\"]          NaN        NaN      1.0  ...   \n",
              "3   3.0   Male             [\"none\"]          NaN        NaN      1.0  ...   \n",
              "4   3.0   Male  [\"eyrc19\",\"eyrc20\"]  20_SB,19_SR  20_6,19_6      2.0  ...   \n",
              "\n",
              "         preference2               preference3               preference4  \\\n",
              "0       Agribot (AB)  Soil Monitoring Bot (SM)         Berryminator (BM)   \n",
              "1       Agribot (AB)  Soil Monitoring Bot (SM)         Berryminator (BM)   \n",
              "2       Agribot (AB)  Soil Monitoring Bot (SM)         Berryminator (BM)   \n",
              "3       Agribot (AB)  Soil Monitoring Bot (SM)         Berryminator (BM)   \n",
              "4  Berryminator (BM)              Agribot (AB)  Soil Monitoring Bot (SM)   \n",
              "\n",
              "       preference5             preference6 college_id  \\\n",
              "0  Dairy Bike (DB)  Functional Weeder (FW)     KA1006   \n",
              "1  Dairy Bike (DB)  Functional Weeder (FW)     KA1006   \n",
              "2  Dairy Bike (DB)  Functional Weeder (FW)     KA1006   \n",
              "3  Dairy Bike (DB)  Functional Weeder (FW)     KA1006   \n",
              "4  Dairy Bike (DB)  Functional Weeder (FW)     DL1039   \n",
              "\n",
              "                                        college_name IS_eLSI country freq  \n",
              "0       Alva's Institute of Engineering & Technology       1   India    4  \n",
              "1       Alva's Institute of Engineering & Technology       1   India    4  \n",
              "2       Alva's Institute of Engineering & Technology       1   India    4  \n",
              "3       Alva's Institute of Engineering & Technology       1   India    4  \n",
              "4  University School of Information And Communica...       0   India    4  \n",
              "\n",
              "[5 rows x 69 columns]"
            ],
            "text/html": [
              "\n",
              "  <div id=\"df-c61ee76f-e6d5-442e-b016-694a44ff4a80\">\n",
              "    <div class=\"colab-df-container\">\n",
              "      <div>\n",
              "<style scoped>\n",
              "    .dataframe tbody tr th:only-of-type {\n",
              "        vertical-align: middle;\n",
              "    }\n",
              "\n",
              "    .dataframe tbody tr th {\n",
              "        vertical-align: top;\n",
              "    }\n",
              "\n",
              "    .dataframe thead th {\n",
              "        text-align: right;\n",
              "    }\n",
              "</style>\n",
              "<table border=\"1\" class=\"dataframe\">\n",
              "  <thead>\n",
              "    <tr style=\"text-align: right;\">\n",
              "      <th></th>\n",
              "      <th>team_id</th>\n",
              "      <th>role</th>\n",
              "      <th>Department</th>\n",
              "      <th>Discipline</th>\n",
              "      <th>Year</th>\n",
              "      <th>Gender</th>\n",
              "      <th>eyrc_year</th>\n",
              "      <th>eyrc_theme</th>\n",
              "      <th>eyrc_cert</th>\n",
              "      <th>elsiLab</th>\n",
              "      <th>...</th>\n",
              "      <th>preference2</th>\n",
              "      <th>preference3</th>\n",
              "      <th>preference4</th>\n",
              "      <th>preference5</th>\n",
              "      <th>preference6</th>\n",
              "      <th>college_id</th>\n",
              "      <th>college_name</th>\n",
              "      <th>IS_eLSI</th>\n",
              "      <th>country</th>\n",
              "      <th>freq</th>\n",
              "    </tr>\n",
              "  </thead>\n",
              "  <tbody>\n",
              "    <tr>\n",
              "      <th>0</th>\n",
              "      <td>1001</td>\n",
              "      <td>1</td>\n",
              "      <td>Electronics and Communication Engineering</td>\n",
              "      <td>BE/BTech/B.Dec</td>\n",
              "      <td>3.0</td>\n",
              "      <td>Male</td>\n",
              "      <td>[\"eyrc20\"]</td>\n",
              "      <td>20_VD</td>\n",
              "      <td>20_6</td>\n",
              "      <td>1.0</td>\n",
              "      <td>...</td>\n",
              "      <td>Agribot (AB)</td>\n",
              "      <td>Soil Monitoring Bot (SM)</td>\n",
              "      <td>Berryminator (BM)</td>\n",
              "      <td>Dairy Bike (DB)</td>\n",
              "      <td>Functional Weeder (FW)</td>\n",
              "      <td>KA1006</td>\n",
              "      <td>Alva's Institute of Engineering &amp; Technology</td>\n",
              "      <td>1</td>\n",
              "      <td>India</td>\n",
              "      <td>4</td>\n",
              "    </tr>\n",
              "    <tr>\n",
              "      <th>1</th>\n",
              "      <td>1001</td>\n",
              "      <td>2</td>\n",
              "      <td>Electronics and Communication Engineering</td>\n",
              "      <td>BE/BTech/B.Dec</td>\n",
              "      <td>3.0</td>\n",
              "      <td>Male</td>\n",
              "      <td>[\"eyrc20\"]</td>\n",
              "      <td>20_VD</td>\n",
              "      <td>20_6</td>\n",
              "      <td>1.0</td>\n",
              "      <td>...</td>\n",
              "      <td>Agribot (AB)</td>\n",
              "      <td>Soil Monitoring Bot (SM)</td>\n",
              "      <td>Berryminator (BM)</td>\n",
              "      <td>Dairy Bike (DB)</td>\n",
              "      <td>Functional Weeder (FW)</td>\n",
              "      <td>KA1006</td>\n",
              "      <td>Alva's Institute of Engineering &amp; Technology</td>\n",
              "      <td>1</td>\n",
              "      <td>India</td>\n",
              "      <td>4</td>\n",
              "    </tr>\n",
              "    <tr>\n",
              "      <th>2</th>\n",
              "      <td>1001</td>\n",
              "      <td>2</td>\n",
              "      <td>Electronics and Communication Engineering</td>\n",
              "      <td>BE/BTech/B.Dec</td>\n",
              "      <td>3.0</td>\n",
              "      <td>Male</td>\n",
              "      <td>[\"none\"]</td>\n",
              "      <td>NaN</td>\n",
              "      <td>NaN</td>\n",
              "      <td>1.0</td>\n",
              "      <td>...</td>\n",
              "      <td>Agribot (AB)</td>\n",
              "      <td>Soil Monitoring Bot (SM)</td>\n",
              "      <td>Berryminator (BM)</td>\n",
              "      <td>Dairy Bike (DB)</td>\n",
              "      <td>Functional Weeder (FW)</td>\n",
              "      <td>KA1006</td>\n",
              "      <td>Alva's Institute of Engineering &amp; Technology</td>\n",
              "      <td>1</td>\n",
              "      <td>India</td>\n",
              "      <td>4</td>\n",
              "    </tr>\n",
              "    <tr>\n",
              "      <th>3</th>\n",
              "      <td>1001</td>\n",
              "      <td>2</td>\n",
              "      <td>Electronics and Communication Engineering</td>\n",
              "      <td>BE/BTech/B.Dec</td>\n",
              "      <td>3.0</td>\n",
              "      <td>Male</td>\n",
              "      <td>[\"none\"]</td>\n",
              "      <td>NaN</td>\n",
              "      <td>NaN</td>\n",
              "      <td>1.0</td>\n",
              "      <td>...</td>\n",
              "      <td>Agribot (AB)</td>\n",
              "      <td>Soil Monitoring Bot (SM)</td>\n",
              "      <td>Berryminator (BM)</td>\n",
              "      <td>Dairy Bike (DB)</td>\n",
              "      <td>Functional Weeder (FW)</td>\n",
              "      <td>KA1006</td>\n",
              "      <td>Alva's Institute of Engineering &amp; Technology</td>\n",
              "      <td>1</td>\n",
              "      <td>India</td>\n",
              "      <td>4</td>\n",
              "    </tr>\n",
              "    <tr>\n",
              "      <th>4</th>\n",
              "      <td>1002</td>\n",
              "      <td>1</td>\n",
              "      <td>Electronics and Communication Engineering</td>\n",
              "      <td>BE/BTech/B.Dec</td>\n",
              "      <td>3.0</td>\n",
              "      <td>Male</td>\n",
              "      <td>[\"eyrc19\",\"eyrc20\"]</td>\n",
              "      <td>20_SB,19_SR</td>\n",
              "      <td>20_6,19_6</td>\n",
              "      <td>2.0</td>\n",
              "      <td>...</td>\n",
              "      <td>Berryminator (BM)</td>\n",
              "      <td>Agribot (AB)</td>\n",
              "      <td>Soil Monitoring Bot (SM)</td>\n",
              "      <td>Dairy Bike (DB)</td>\n",
              "      <td>Functional Weeder (FW)</td>\n",
              "      <td>DL1039</td>\n",
              "      <td>University School of Information And Communica...</td>\n",
              "      <td>0</td>\n",
              "      <td>India</td>\n",
              "      <td>4</td>\n",
              "    </tr>\n",
              "  </tbody>\n",
              "</table>\n",
              "<p>5 rows × 69 columns</p>\n",
              "</div>\n",
              "      <button class=\"colab-df-convert\" onclick=\"convertToInteractive('df-c61ee76f-e6d5-442e-b016-694a44ff4a80')\"\n",
              "              title=\"Convert this dataframe to an interactive table.\"\n",
              "              style=\"display:none;\">\n",
              "        \n",
              "  <svg xmlns=\"http://www.w3.org/2000/svg\" height=\"24px\"viewBox=\"0 0 24 24\"\n",
              "       width=\"24px\">\n",
              "    <path d=\"M0 0h24v24H0V0z\" fill=\"none\"/>\n",
              "    <path d=\"M18.56 5.44l.94 2.06.94-2.06 2.06-.94-2.06-.94-.94-2.06-.94 2.06-2.06.94zm-11 1L8.5 8.5l.94-2.06 2.06-.94-2.06-.94L8.5 2.5l-.94 2.06-2.06.94zm10 10l.94 2.06.94-2.06 2.06-.94-2.06-.94-.94-2.06-.94 2.06-2.06.94z\"/><path d=\"M17.41 7.96l-1.37-1.37c-.4-.4-.92-.59-1.43-.59-.52 0-1.04.2-1.43.59L10.3 9.45l-7.72 7.72c-.78.78-.78 2.05 0 2.83L4 21.41c.39.39.9.59 1.41.59.51 0 1.02-.2 1.41-.59l7.78-7.78 2.81-2.81c.8-.78.8-2.07 0-2.86zM5.41 20L4 18.59l7.72-7.72 1.47 1.35L5.41 20z\"/>\n",
              "  </svg>\n",
              "      </button>\n",
              "      \n",
              "  <style>\n",
              "    .colab-df-container {\n",
              "      display:flex;\n",
              "      flex-wrap:wrap;\n",
              "      gap: 12px;\n",
              "    }\n",
              "\n",
              "    .colab-df-convert {\n",
              "      background-color: #E8F0FE;\n",
              "      border: none;\n",
              "      border-radius: 50%;\n",
              "      cursor: pointer;\n",
              "      display: none;\n",
              "      fill: #1967D2;\n",
              "      height: 32px;\n",
              "      padding: 0 0 0 0;\n",
              "      width: 32px;\n",
              "    }\n",
              "\n",
              "    .colab-df-convert:hover {\n",
              "      background-color: #E2EBFA;\n",
              "      box-shadow: 0px 1px 2px rgba(60, 64, 67, 0.3), 0px 1px 3px 1px rgba(60, 64, 67, 0.15);\n",
              "      fill: #174EA6;\n",
              "    }\n",
              "\n",
              "    [theme=dark] .colab-df-convert {\n",
              "      background-color: #3B4455;\n",
              "      fill: #D2E3FC;\n",
              "    }\n",
              "\n",
              "    [theme=dark] .colab-df-convert:hover {\n",
              "      background-color: #434B5C;\n",
              "      box-shadow: 0px 1px 3px 1px rgba(0, 0, 0, 0.15);\n",
              "      filter: drop-shadow(0px 1px 2px rgba(0, 0, 0, 0.3));\n",
              "      fill: #FFFFFF;\n",
              "    }\n",
              "  </style>\n",
              "\n",
              "      <script>\n",
              "        const buttonEl =\n",
              "          document.querySelector('#df-c61ee76f-e6d5-442e-b016-694a44ff4a80 button.colab-df-convert');\n",
              "        buttonEl.style.display =\n",
              "          google.colab.kernel.accessAllowed ? 'block' : 'none';\n",
              "\n",
              "        async function convertToInteractive(key) {\n",
              "          const element = document.querySelector('#df-c61ee76f-e6d5-442e-b016-694a44ff4a80');\n",
              "          const dataTable =\n",
              "            await google.colab.kernel.invokeFunction('convertToInteractive',\n",
              "                                                     [key], {});\n",
              "          if (!dataTable) return;\n",
              "\n",
              "          const docLinkHtml = 'Like what you see? Visit the ' +\n",
              "            '<a target=\"_blank\" href=https://colab.research.google.com/notebooks/data_table.ipynb>data table notebook</a>'\n",
              "            + ' to learn more about interactive tables.';\n",
              "          element.innerHTML = '';\n",
              "          dataTable['output_type'] = 'display_data';\n",
              "          await google.colab.output.renderOutput(dataTable, element);\n",
              "          const docLink = document.createElement('div');\n",
              "          docLink.innerHTML = docLinkHtml;\n",
              "          element.appendChild(docLink);\n",
              "        }\n",
              "      </script>\n",
              "    </div>\n",
              "  </div>\n",
              "  "
            ]
          },
          "metadata": {},
          "execution_count": 13
        }
      ]
    },
    {
      "cell_type": "code",
      "source": [
        "Mem_Details.columns"
      ],
      "metadata": {
        "colab": {
          "base_uri": "https://localhost:8080/"
        },
        "id": "uJpQBKtDK8DO",
        "outputId": "9ea973c8-14be-428c-ff93-2b87119ce37c"
      },
      "execution_count": 14,
      "outputs": [
        {
          "output_type": "execute_result",
          "data": {
            "text/plain": [
              "Index(['team_id', 'role', 'Department', 'Discipline', 'Year', 'Gender',\n",
              "       'eyrc_year', 'eyrc_theme', 'eyrc_cert', 'elsiLab', 'cgpa',\n",
              "       'onlineCourse', 'paidCert', 'completeCourse', 'courseName1',\n",
              "       'courseYear1', 'courseRs1', 'courseName2', 'courseYear2', 'courseRs2',\n",
              "       'courseName3', 'courseYear3', 'courseRs3', 'courseName4', 'courseYear4',\n",
              "       'courseRs4', 'courseName5', 'courseYear5', 'courseRs5', 'bankAcc',\n",
              "       'paymentOpt', 'categoryDomain', 'otherComp', 'isFee', 'internetOpt',\n",
              "       'ssc_board', 'hsc_board', 'workstation', 'memory', 'storage',\n",
              "       'processor', 'graphics', 'graphics_memory', 'internetspeed',\n",
              "       'geekbench', 'geekbench1', 'os', 'sub_ros', 'sub_ip', 'sub_emb_c',\n",
              "       'sub_ml', 'sub_ap', 'sub_cs', 'sub_mss', 'sub_fpga', 'sub_mm', 'sub_de',\n",
              "       'preference', 'preference1', 'preference2', 'preference3',\n",
              "       'preference4', 'preference5', 'preference6', 'college_id',\n",
              "       'college_name', 'IS_eLSI', 'country', 'freq'],\n",
              "      dtype='object')"
            ]
          },
          "metadata": {},
          "execution_count": 14
        }
      ]
    },
    {
      "cell_type": "markdown",
      "source": [
        "### **Function to create a dateframe indicating count of unique value and the values themselves**"
      ],
      "metadata": {
        "id": "EipbBArZbNzz"
      }
    },
    {
      "cell_type": "code",
      "source": [
        "def unique_chart(Dataset):\n",
        "  uni_dict = {}\n",
        "  uni_value ={}\n",
        "  keys = Dataset.columns\n",
        "  for i in keys:\n",
        "    uni_dict[i] = Dataset[i].nunique()\n",
        "    if Dataset[i].nunique() <= 10:\n",
        "      uni_value[i] = Dataset[i].unique()\n",
        "    else:\n",
        "      uni_value[i] = None\n",
        "  Unique = pd.DataFrame([uni_dict, uni_value]) \n",
        "  return (Unique)\n"
      ],
      "metadata": {
        "id": "4OGQO7yL6CZe"
      },
      "execution_count": 15,
      "outputs": []
    },
    {
      "cell_type": "code",
      "source": [
        "Unique = unique_chart(Mem_Details)\n",
        "print(Unique.to_markdown())"
      ],
      "metadata": {
        "colab": {
          "base_uri": "https://localhost:8080/"
        },
        "id": "e10yk_AUGwv0",
        "outputId": "b7c776a8-f0b9-4dc6-c33f-3b1545869e15"
      },
      "execution_count": 17,
      "outputs": [
        {
          "output_type": "stream",
          "name": "stdout",
          "text": [
            "|    |   team_id | role   |   Department | Discipline                                                 | Year                  | Gender                | eyrc_year                                                              |   eyrc_theme |   eyrc_cert | elsiLab       |   cgpa |   onlineCourse |   paidCert |   completeCourse |   courseName1 |   courseYear1 |   courseRs1 |   courseName2 |   courseYear2 |   courseRs2 |   courseName3 |   courseYear3 |   courseRs3 |   courseName4 |   courseYear4 |   courseRs4 |   courseName5 |   courseYear5 |   courseRs5 |   bankAcc |   paymentOpt |   categoryDomain |   otherComp |   isFee |   internetOpt | ssc_board                             | hsc_board                             | workstation   | memory                                                                 | storage                                                             |   processor |   graphics | graphics_memory                                                        | internetspeed                                                |   geekbench |   geekbench1 | os                                                                          | sub_ros                   | sub_ip                    | sub_emb_c                 | sub_ml                    | sub_ap                    | sub_cs                    | sub_mss                   | sub_fpga                  | sub_mm                    | sub_de                    |   preference | preference1                                                            | preference2                                           | preference3                                                             | preference4                                                             | preference5                                                               | preference6                                                      |   college_id |   college_name | IS_eLSI   | country                        |   freq |\n",
            "|---:|----------:|:-------|-------------:|:-----------------------------------------------------------|:----------------------|:----------------------|:-----------------------------------------------------------------------|-------------:|------------:|:--------------|-------:|---------------:|-----------:|-----------------:|--------------:|--------------:|------------:|--------------:|--------------:|------------:|--------------:|--------------:|------------:|--------------:|--------------:|------------:|--------------:|--------------:|------------:|----------:|-------------:|-----------------:|------------:|--------:|--------------:|:--------------------------------------|:--------------------------------------|:--------------|:-----------------------------------------------------------------------|:--------------------------------------------------------------------|------------:|-----------:|:-----------------------------------------------------------------------|:-------------------------------------------------------------|------------:|-------------:|:----------------------------------------------------------------------------|:--------------------------|:--------------------------|:--------------------------|:--------------------------|:--------------------------|:--------------------------|:--------------------------|:--------------------------|:--------------------------|:--------------------------|-------------:|:-----------------------------------------------------------------------|:------------------------------------------------------|:------------------------------------------------------------------------|:------------------------------------------------------------------------|:--------------------------------------------------------------------------|:-----------------------------------------------------------------|-------------:|---------------:|:----------|:-------------------------------|-------:|\n",
            "|  0 |      1293 | 2      |           43 | 6                                                          | 4                     | 2                     | 9                                                                      |           30 |          31 | 2             |    905 |             40 |         32 |               35 |          1581 |           504 |         294 |          1137 |           387 |         206 |           803 |           288 |         172 |           525 |           211 |         125 |           337 |           160 |          97 |         0 |            0 |                0 |           0 |       0 |            79 | 5                                     | 5                                     | 2             | 7                                                                      | 5                                                                   |         665 |        711 | 7                                                                      | 6                                                            |        3979 |         3978 | 7                                                                           | 5                         | 5                         | 5                         | 5                         | 5                         | 5                         | 5                         | 5                         | 5                         | 5                         |          472 | 6                                                                      | 6                                                     | 6                                                                       | 6                                                                       | 6                                                                         | 6                                                                |          303 |            302 | 2         | 3                              |      1 |\n",
            "|  1 |       nan | [1 2]  |          nan | ['BE/BTech/B.Dec' 'ME/MTech' 'Dual Degree B.Tech & M.Tech' | [ 3.  2.  4.  1. nan] | ['Male' 'Female' nan] | ['[\"eyrc20\"]' '[\"none\"]' '[\"eyrc19\",\"eyrc20\"]' '[\"eyrc19\"]'            |          nan |         nan | [ 1.  2. nan] |    nan |            nan |        nan |              nan |           nan |           nan |         nan |           nan |           nan |         nan |           nan |           nan |         nan |           nan |           nan |         nan |           nan |           nan |         nan |       nan |          nan |              nan |         nan |     nan |           nan | ['SB' 'CBSE' 'CISCE' nan 'OT' 'NIOS'] | ['CBSE' 'SB' 'CISCE' 'NIOS' nan 'OT'] | [ 1.  2. nan] | ['4 GB' '8 GB' '6 GB' nan '16 GB & more' '12 GB' 'Up to 2 GB' 'Other'] | ['1.6 - 2 GHz' '2.1 - 2.5 GHz' '2.5 GHz & more' nan 'Up to 1.5 GHz' |         nan |        nan | ['Other' 'Up to 2 GB' '4 GB' nan '6 GB' '8 GB' '16 GB & more' '12 GB'] | ['Upto 1 Mbps' 'Upto 10 Mbps' 'Upto 50 Mbps' 'Upto 150 Mbps' |         nan |          nan | ['Linux' 'Windows 10' nan 'Windows 8.1' 'Other' 'Mac OS' 'Windows 7' 'DOS'] | [ 1.  0.  4.  3.  2. nan] | [ 0.  2.  3.  1.  4. nan] | [ 1.  0.  3.  2.  4. nan] | [ 0.  1.  3.  4.  2. nan] | [ 0.  2.  1.  3.  4. nan] | [ 2.  1.  0.  3.  4. nan] | [ 0.  1.  3.  2.  4. nan] | [ 1.  0.  2.  4.  3. nan] | [ 0.  2.  1.  3. nan  4.] | [ 2.  1.  0.  3.  4. nan] |          nan | ['Strawberry Stacker (SS)' 'Agribot (AB)' 'Functional Weeder (FW)'     | ['Agribot (AB)' 'Berryminator (BM)' 'Dairy Bike (DB)' | ['Soil Monitoring Bot (SM)' 'Agribot (AB)' 'Dairy Bike (DB)'            | ['Berryminator (BM)' 'Soil Monitoring Bot (SM)' 'Dairy Bike (DB)'       | ['Dairy Bike (DB)' 'Functional Weeder (FW)' 'Berryminator (BM)'           | ['Functional Weeder (FW)' 'Soil Monitoring Bot (SM)'             |          nan |            nan | [1 0]     | ['India' 'Bhutan' 'Sri Lanka'] |      4 |\n",
            "|    |           |        |              |  'BSc/BCA/B.Voc/B.Com' 'Diploma' 'MSc/MCA' nan]            |                       |                       |  '[\"eyrc20\",\"eyrc19\"]' '[\"eyrc18\"]' nan '[\"eyrc20\",\"eyrc19\",\"eyrc18\"]' |              |             |               |        |                |            |                  |               |               |             |               |               |             |               |               |             |               |               |             |               |               |             |           |              |                  |             |         |               |                                       |                                       |               |                                                                        |  'Other']                                                           |             |            |                                                                        |  'Upto 200 Mbps & more' 'Upto 100 Mbps' nan]                 |             |              |                                                                             |                           |                           |                           |                           |                           |                           |                           |                           |                           |                           |              |  'Berryminator (BM)' 'Soil Monitoring Bot (SM)' 'Dairy Bike (DB)' nan] |  'Strawberry Stacker (SS)' 'Functional Weeder (FW)'   |  'Berryminator (BM)' 'Strawberry Stacker (SS)' 'Functional Weeder (FW)' |  'Agribot (AB)' 'Strawberry Stacker (SS)' 'Functional Weeder (FW)' nan] |  'Soil Monitoring Bot (SM)' 'Agribot (AB)' 'Strawberry Stacker (SS)' nan] |  'Strawberry Stacker (SS)' 'Dairy Bike (DB)' 'Berryminator (BM)' |              |                |           |                                |        |\n",
            "|    |           |        |              |                                                            |                       |                       |  '[\"eyrc19\",\"eyrc18\"]' '[\"eyrc17\"]']                                   |              |             |               |        |                |            |                  |               |               |             |               |               |             |               |               |             |               |               |             |               |               |             |           |              |                  |             |         |               |                                       |                                       |               |                                                                        |                                                                     |             |            |                                                                        |                                                              |             |              |                                                                             |                           |                           |                           |                           |                           |                           |                           |                           |                           |                           |              |                                                                        |  'Soil Monitoring Bot (SM)' nan]                      |  nan]                                                                   |                                                                         |                                                                           |  'Agribot (AB)' nan]                                             |              |                |           |                                |        |\n"
          ]
        }
      ]
    },
    {
      "cell_type": "code",
      "source": [
        "Unique.columns"
      ],
      "metadata": {
        "colab": {
          "base_uri": "https://localhost:8080/"
        },
        "id": "C9u6BAaZYTvx",
        "outputId": "7e59bd33-d2df-4926-9402-d47fa656c8d5"
      },
      "execution_count": 18,
      "outputs": [
        {
          "output_type": "execute_result",
          "data": {
            "text/plain": [
              "Index(['team_id', 'role', 'Department', 'Discipline', 'Year', 'Gender',\n",
              "       'eyrc_year', 'eyrc_theme', 'eyrc_cert', 'elsiLab', 'cgpa',\n",
              "       'onlineCourse', 'paidCert', 'completeCourse', 'courseName1',\n",
              "       'courseYear1', 'courseRs1', 'courseName2', 'courseYear2', 'courseRs2',\n",
              "       'courseName3', 'courseYear3', 'courseRs3', 'courseName4', 'courseYear4',\n",
              "       'courseRs4', 'courseName5', 'courseYear5', 'courseRs5', 'bankAcc',\n",
              "       'paymentOpt', 'categoryDomain', 'otherComp', 'isFee', 'internetOpt',\n",
              "       'ssc_board', 'hsc_board', 'workstation', 'memory', 'storage',\n",
              "       'processor', 'graphics', 'graphics_memory', 'internetspeed',\n",
              "       'geekbench', 'geekbench1', 'os', 'sub_ros', 'sub_ip', 'sub_emb_c',\n",
              "       'sub_ml', 'sub_ap', 'sub_cs', 'sub_mss', 'sub_fpga', 'sub_mm', 'sub_de',\n",
              "       'preference', 'preference1', 'preference2', 'preference3',\n",
              "       'preference4', 'preference5', 'preference6', 'college_id',\n",
              "       'college_name', 'IS_eLSI', 'country', 'freq'],\n",
              "      dtype='object')"
            ]
          },
          "metadata": {},
          "execution_count": 18
        }
      ]
    },
    {
      "cell_type": "markdown",
      "source": [
        "Observation: From the above operations, we can see that some of the columns have high number of null and unique values that will not contribute towards further analysis. So, we can drop them."
      ],
      "metadata": {
        "id": "EBnmlpcQbn4z"
      }
    },
    {
      "cell_type": "code",
      "source": [
        "Updated_dataset = Mem_Details.drop(['eyrc_theme', 'eyrc_cert', 'paidCert', 'courseName1', 'courseYear1', 'courseRs1', 'courseName2', 'courseYear2', 'courseRs2', 'courseName3', 'courseYear3', 'courseRs3', 'courseName4', 'courseYear4', 'courseRs4', 'courseName5', 'courseYear5', 'courseRs5', 'bankAcc', 'paymentOpt', 'categoryDomain', 'otherComp', 'isFee', 'memory', 'storage', 'processor','os', 'geekbench', 'geekbench1', 'graphics','preference', 'college_id'], axis=1)"
      ],
      "metadata": {
        "id": "xi6SBHcERkK_"
      },
      "execution_count": 19,
      "outputs": []
    },
    {
      "cell_type": "code",
      "source": [
        "Updated_dataset.info()"
      ],
      "metadata": {
        "colab": {
          "base_uri": "https://localhost:8080/"
        },
        "id": "ejtcE55uSDm7",
        "outputId": "6bcbce25-6dd3-4177-ea31-5ce3092198e5"
      },
      "execution_count": 20,
      "outputs": [
        {
          "output_type": "stream",
          "name": "stdout",
          "text": [
            "<class 'pandas.core.frame.DataFrame'>\n",
            "Int64Index: 5172 entries, 0 to 5688\n",
            "Data columns (total 37 columns):\n",
            " #   Column           Non-Null Count  Dtype  \n",
            "---  ------           --------------  -----  \n",
            " 0   team_id          5172 non-null   int64  \n",
            " 1   role             5172 non-null   int64  \n",
            " 2   Department       5161 non-null   object \n",
            " 3   Discipline       5161 non-null   object \n",
            " 4   Year             5161 non-null   float64\n",
            " 5   Gender           5161 non-null   object \n",
            " 6   eyrc_year        5159 non-null   object \n",
            " 7   elsiLab          5153 non-null   float64\n",
            " 8   cgpa             4907 non-null   float64\n",
            " 9   onlineCourse     5154 non-null   float64\n",
            " 10  completeCourse   5154 non-null   float64\n",
            " 11  internetOpt      5154 non-null   object \n",
            " 12  ssc_board        4950 non-null   object \n",
            " 13  hsc_board        4947 non-null   object \n",
            " 14  workstation      5154 non-null   float64\n",
            " 15  graphics_memory  2605 non-null   object \n",
            " 16  internetspeed    4067 non-null   object \n",
            " 17  sub_ros          5161 non-null   float64\n",
            " 18  sub_ip           5161 non-null   float64\n",
            " 19  sub_emb_c        5161 non-null   float64\n",
            " 20  sub_ml           5161 non-null   float64\n",
            " 21  sub_ap           5161 non-null   float64\n",
            " 22  sub_cs           5161 non-null   float64\n",
            " 23  sub_mss          5161 non-null   float64\n",
            " 24  sub_fpga         5161 non-null   float64\n",
            " 25  sub_mm           5161 non-null   float64\n",
            " 26  sub_de           5161 non-null   float64\n",
            " 27  preference1      5120 non-null   object \n",
            " 28  preference2      5120 non-null   object \n",
            " 29  preference3      5120 non-null   object \n",
            " 30  preference4      5120 non-null   object \n",
            " 31  preference5      5120 non-null   object \n",
            " 32  preference6      5120 non-null   object \n",
            " 33  college_name     5172 non-null   object \n",
            " 34  IS_eLSI          5172 non-null   int64  \n",
            " 35  country          5172 non-null   object \n",
            " 36  freq             5172 non-null   int64  \n",
            "dtypes: float64(16), int64(4), object(17)\n",
            "memory usage: 1.5+ MB\n"
          ]
        }
      ]
    },
    {
      "cell_type": "code",
      "source": [
        "Unique1 = unique_chart(Updated_dataset)\n",
        "print(Unique1.to_markdown())"
      ],
      "metadata": {
        "colab": {
          "base_uri": "https://localhost:8080/"
        },
        "id": "nB-SyTRsSe7X",
        "outputId": "2e99e8f0-14c7-40de-af42-fa89045abd28"
      },
      "execution_count": 21,
      "outputs": [
        {
          "output_type": "stream",
          "name": "stdout",
          "text": [
            "|    |   team_id | role   |   Department | Discipline                                                 | Year                  | Gender                | eyrc_year                                                              | elsiLab       |   cgpa |   onlineCourse |   completeCourse |   internetOpt | ssc_board                             | hsc_board                             | workstation   | graphics_memory                                                        | internetspeed                                                | sub_ros                   | sub_ip                    | sub_emb_c                 | sub_ml                    | sub_ap                    | sub_cs                    | sub_mss                   | sub_fpga                  | sub_mm                    | sub_de                    | preference1                                                            | preference2                                           | preference3                                                             | preference4                                                             | preference5                                                               | preference6                                                      |   college_name | IS_eLSI   | country                        |   freq |\n",
            "|---:|----------:|:-------|-------------:|:-----------------------------------------------------------|:----------------------|:----------------------|:-----------------------------------------------------------------------|:--------------|-------:|---------------:|-----------------:|--------------:|:--------------------------------------|:--------------------------------------|:--------------|:-----------------------------------------------------------------------|:-------------------------------------------------------------|:--------------------------|:--------------------------|:--------------------------|:--------------------------|:--------------------------|:--------------------------|:--------------------------|:--------------------------|:--------------------------|:--------------------------|:-----------------------------------------------------------------------|:------------------------------------------------------|:------------------------------------------------------------------------|:------------------------------------------------------------------------|:--------------------------------------------------------------------------|:-----------------------------------------------------------------|---------------:|:----------|:-------------------------------|-------:|\n",
            "|  0 |      1293 | 2      |           43 | 6                                                          | 4                     | 2                     | 9                                                                      | 2             |    905 |             40 |               35 |            79 | 5                                     | 5                                     | 2             | 7                                                                      | 6                                                            | 5                         | 5                         | 5                         | 5                         | 5                         | 5                         | 5                         | 5                         | 5                         | 5                         | 6                                                                      | 6                                                     | 6                                                                       | 6                                                                       | 6                                                                         | 6                                                                |            302 | 2         | 3                              |      1 |\n",
            "|  1 |       nan | [1 2]  |          nan | ['BE/BTech/B.Dec' 'ME/MTech' 'Dual Degree B.Tech & M.Tech' | [ 3.  2.  4.  1. nan] | ['Male' 'Female' nan] | ['[\"eyrc20\"]' '[\"none\"]' '[\"eyrc19\",\"eyrc20\"]' '[\"eyrc19\"]'            | [ 1.  2. nan] |    nan |            nan |              nan |           nan | ['SB' 'CBSE' 'CISCE' nan 'OT' 'NIOS'] | ['CBSE' 'SB' 'CISCE' 'NIOS' nan 'OT'] | [ 1.  2. nan] | ['Other' 'Up to 2 GB' '4 GB' nan '6 GB' '8 GB' '16 GB & more' '12 GB'] | ['Upto 1 Mbps' 'Upto 10 Mbps' 'Upto 50 Mbps' 'Upto 150 Mbps' | [ 1.  0.  4.  3.  2. nan] | [ 0.  2.  3.  1.  4. nan] | [ 1.  0.  3.  2.  4. nan] | [ 0.  1.  3.  4.  2. nan] | [ 0.  2.  1.  3.  4. nan] | [ 2.  1.  0.  3.  4. nan] | [ 0.  1.  3.  2.  4. nan] | [ 1.  0.  2.  4.  3. nan] | [ 0.  2.  1.  3. nan  4.] | [ 2.  1.  0.  3.  4. nan] | ['Strawberry Stacker (SS)' 'Agribot (AB)' 'Functional Weeder (FW)'     | ['Agribot (AB)' 'Berryminator (BM)' 'Dairy Bike (DB)' | ['Soil Monitoring Bot (SM)' 'Agribot (AB)' 'Dairy Bike (DB)'            | ['Berryminator (BM)' 'Soil Monitoring Bot (SM)' 'Dairy Bike (DB)'       | ['Dairy Bike (DB)' 'Functional Weeder (FW)' 'Berryminator (BM)'           | ['Functional Weeder (FW)' 'Soil Monitoring Bot (SM)'             |            nan | [1 0]     | ['India' 'Bhutan' 'Sri Lanka'] |      4 |\n",
            "|    |           |        |              |  'BSc/BCA/B.Voc/B.Com' 'Diploma' 'MSc/MCA' nan]            |                       |                       |  '[\"eyrc20\",\"eyrc19\"]' '[\"eyrc18\"]' nan '[\"eyrc20\",\"eyrc19\",\"eyrc18\"]' |               |        |                |                  |               |                                       |                                       |               |                                                                        |  'Upto 200 Mbps & more' 'Upto 100 Mbps' nan]                 |                           |                           |                           |                           |                           |                           |                           |                           |                           |                           |  'Berryminator (BM)' 'Soil Monitoring Bot (SM)' 'Dairy Bike (DB)' nan] |  'Strawberry Stacker (SS)' 'Functional Weeder (FW)'   |  'Berryminator (BM)' 'Strawberry Stacker (SS)' 'Functional Weeder (FW)' |  'Agribot (AB)' 'Strawberry Stacker (SS)' 'Functional Weeder (FW)' nan] |  'Soil Monitoring Bot (SM)' 'Agribot (AB)' 'Strawberry Stacker (SS)' nan] |  'Strawberry Stacker (SS)' 'Dairy Bike (DB)' 'Berryminator (BM)' |                |           |                                |        |\n",
            "|    |           |        |              |                                                            |                       |                       |  '[\"eyrc19\",\"eyrc18\"]' '[\"eyrc17\"]']                                   |               |        |                |                  |               |                                       |                                       |               |                                                                        |                                                              |                           |                           |                           |                           |                           |                           |                           |                           |                           |                           |                                                                        |  'Soil Monitoring Bot (SM)' nan]                      |  nan]                                                                   |                                                                         |                                                                           |  'Agribot (AB)' nan]                                             |                |           |                                |        |\n"
          ]
        }
      ]
    },
    {
      "cell_type": "code",
      "source": [
        "Unique1.columns"
      ],
      "metadata": {
        "colab": {
          "base_uri": "https://localhost:8080/"
        },
        "id": "yvHUV-nLY6QI",
        "outputId": "45b06898-e13e-4628-d189-fe888011881a"
      },
      "execution_count": 22,
      "outputs": [
        {
          "output_type": "execute_result",
          "data": {
            "text/plain": [
              "Index(['team_id', 'role', 'Department', 'Discipline', 'Year', 'Gender',\n",
              "       'eyrc_year', 'elsiLab', 'cgpa', 'onlineCourse', 'completeCourse',\n",
              "       'internetOpt', 'ssc_board', 'hsc_board', 'workstation',\n",
              "       'graphics_memory', 'internetspeed', 'sub_ros', 'sub_ip', 'sub_emb_c',\n",
              "       'sub_ml', 'sub_ap', 'sub_cs', 'sub_mss', 'sub_fpga', 'sub_mm', 'sub_de',\n",
              "       'preference1', 'preference2', 'preference3', 'preference4',\n",
              "       'preference5', 'preference6', 'college_name', 'IS_eLSI', 'country',\n",
              "       'freq'],\n",
              "      dtype='object')"
            ]
          },
          "metadata": {},
          "execution_count": 22
        }
      ]
    },
    {
      "cell_type": "markdown",
      "source": [
        "## **Converting Discipline Column into numerical vaalues**"
      ],
      "metadata": {
        "id": "w7-kri7elB3W"
      }
    },
    {
      "cell_type": "code",
      "source": [
        "Updated_dataset['Discipline'].replace(['BE/BTech/B.Dec', 'ME/MTech', 'Dual Degree B.Tech & M.Tech', 'BSc/BCA/B.Voc/B.Com', 'Diploma', 'MSc/MCA'], [0, 1, 2, 3, 4, 5], inplace=True)"
      ],
      "metadata": {
        "id": "09qek4L3afaB"
      },
      "execution_count": 23,
      "outputs": []
    },
    {
      "cell_type": "code",
      "source": [
        "Updated_dataset.info()"
      ],
      "metadata": {
        "colab": {
          "base_uri": "https://localhost:8080/"
        },
        "id": "k0XUDPFm4bv-",
        "outputId": "512c259b-dd53-4ed9-e7ff-845bfced06fb"
      },
      "execution_count": 24,
      "outputs": [
        {
          "output_type": "stream",
          "name": "stdout",
          "text": [
            "<class 'pandas.core.frame.DataFrame'>\n",
            "Int64Index: 5172 entries, 0 to 5688\n",
            "Data columns (total 37 columns):\n",
            " #   Column           Non-Null Count  Dtype  \n",
            "---  ------           --------------  -----  \n",
            " 0   team_id          5172 non-null   int64  \n",
            " 1   role             5172 non-null   int64  \n",
            " 2   Department       5161 non-null   object \n",
            " 3   Discipline       5161 non-null   float64\n",
            " 4   Year             5161 non-null   float64\n",
            " 5   Gender           5161 non-null   object \n",
            " 6   eyrc_year        5159 non-null   object \n",
            " 7   elsiLab          5153 non-null   float64\n",
            " 8   cgpa             4907 non-null   float64\n",
            " 9   onlineCourse     5154 non-null   float64\n",
            " 10  completeCourse   5154 non-null   float64\n",
            " 11  internetOpt      5154 non-null   object \n",
            " 12  ssc_board        4950 non-null   object \n",
            " 13  hsc_board        4947 non-null   object \n",
            " 14  workstation      5154 non-null   float64\n",
            " 15  graphics_memory  2605 non-null   object \n",
            " 16  internetspeed    4067 non-null   object \n",
            " 17  sub_ros          5161 non-null   float64\n",
            " 18  sub_ip           5161 non-null   float64\n",
            " 19  sub_emb_c        5161 non-null   float64\n",
            " 20  sub_ml           5161 non-null   float64\n",
            " 21  sub_ap           5161 non-null   float64\n",
            " 22  sub_cs           5161 non-null   float64\n",
            " 23  sub_mss          5161 non-null   float64\n",
            " 24  sub_fpga         5161 non-null   float64\n",
            " 25  sub_mm           5161 non-null   float64\n",
            " 26  sub_de           5161 non-null   float64\n",
            " 27  preference1      5120 non-null   object \n",
            " 28  preference2      5120 non-null   object \n",
            " 29  preference3      5120 non-null   object \n",
            " 30  preference4      5120 non-null   object \n",
            " 31  preference5      5120 non-null   object \n",
            " 32  preference6      5120 non-null   object \n",
            " 33  college_name     5172 non-null   object \n",
            " 34  IS_eLSI          5172 non-null   int64  \n",
            " 35  country          5172 non-null   object \n",
            " 36  freq             5172 non-null   int64  \n",
            "dtypes: float64(17), int64(4), object(16)\n",
            "memory usage: 1.5+ MB\n"
          ]
        }
      ]
    },
    {
      "cell_type": "markdown",
      "source": [
        "## **Converting Gender Column into numerical values**"
      ],
      "metadata": {
        "id": "e2mVLDI0lLPE"
      }
    },
    {
      "cell_type": "code",
      "source": [
        "Updated_dataset['Gender'].replace(['Male', 'Female'], [0, 1], inplace=True)"
      ],
      "metadata": {
        "id": "jrHb0HS0gwFW"
      },
      "execution_count": 25,
      "outputs": []
    },
    {
      "cell_type": "code",
      "source": [
        "Updated_dataset.info()"
      ],
      "metadata": {
        "colab": {
          "base_uri": "https://localhost:8080/"
        },
        "id": "LWSFhlIl4fs4",
        "outputId": "e7d9817f-41fc-4b04-a9c5-a6f91a16f9f1"
      },
      "execution_count": 26,
      "outputs": [
        {
          "output_type": "stream",
          "name": "stdout",
          "text": [
            "<class 'pandas.core.frame.DataFrame'>\n",
            "Int64Index: 5172 entries, 0 to 5688\n",
            "Data columns (total 37 columns):\n",
            " #   Column           Non-Null Count  Dtype  \n",
            "---  ------           --------------  -----  \n",
            " 0   team_id          5172 non-null   int64  \n",
            " 1   role             5172 non-null   int64  \n",
            " 2   Department       5161 non-null   object \n",
            " 3   Discipline       5161 non-null   float64\n",
            " 4   Year             5161 non-null   float64\n",
            " 5   Gender           5161 non-null   float64\n",
            " 6   eyrc_year        5159 non-null   object \n",
            " 7   elsiLab          5153 non-null   float64\n",
            " 8   cgpa             4907 non-null   float64\n",
            " 9   onlineCourse     5154 non-null   float64\n",
            " 10  completeCourse   5154 non-null   float64\n",
            " 11  internetOpt      5154 non-null   object \n",
            " 12  ssc_board        4950 non-null   object \n",
            " 13  hsc_board        4947 non-null   object \n",
            " 14  workstation      5154 non-null   float64\n",
            " 15  graphics_memory  2605 non-null   object \n",
            " 16  internetspeed    4067 non-null   object \n",
            " 17  sub_ros          5161 non-null   float64\n",
            " 18  sub_ip           5161 non-null   float64\n",
            " 19  sub_emb_c        5161 non-null   float64\n",
            " 20  sub_ml           5161 non-null   float64\n",
            " 21  sub_ap           5161 non-null   float64\n",
            " 22  sub_cs           5161 non-null   float64\n",
            " 23  sub_mss          5161 non-null   float64\n",
            " 24  sub_fpga         5161 non-null   float64\n",
            " 25  sub_mm           5161 non-null   float64\n",
            " 26  sub_de           5161 non-null   float64\n",
            " 27  preference1      5120 non-null   object \n",
            " 28  preference2      5120 non-null   object \n",
            " 29  preference3      5120 non-null   object \n",
            " 30  preference4      5120 non-null   object \n",
            " 31  preference5      5120 non-null   object \n",
            " 32  preference6      5120 non-null   object \n",
            " 33  college_name     5172 non-null   object \n",
            " 34  IS_eLSI          5172 non-null   int64  \n",
            " 35  country          5172 non-null   object \n",
            " 36  freq             5172 non-null   int64  \n",
            "dtypes: float64(18), int64(4), object(15)\n",
            "memory usage: 1.5+ MB\n"
          ]
        }
      ]
    },
    {
      "cell_type": "markdown",
      "source": [
        "## **Creating a participation frequency column from eyrc_year**"
      ],
      "metadata": {
        "id": "-zUDKQyplN0l"
      }
    },
    {
      "cell_type": "code",
      "source": [
        "Updated_dataset['eyrc_year'] = Updated_dataset['eyrc_year'].replace(np.nan, 0)\n",
        "Updated_dataset['eyrc_year'] = Updated_dataset['eyrc_year'].replace('[\"none\"]', 0)"
      ],
      "metadata": {
        "id": "n6xjv5AyYT0A"
      },
      "execution_count": 28,
      "outputs": []
    },
    {
      "cell_type": "code",
      "source": [
        "def freqofyear(row) :\n",
        "    year_data = row['eyrc_year']\n",
        "#     print(year_data)\n",
        "    if year_data != 0:\n",
        "        years = str(year_data).split(',')\n",
        "        # print(years)\n",
        "        year_freq = len(years)\n",
        "        # print(year_freq, row['team_id'])\n",
        "    else:\n",
        "        year_freq = 0\n",
        "        # print(year_freq)\n",
        "    row['Participation_Freq'] = year_freq\n",
        "    return row"
      ],
      "metadata": {
        "id": "-XuBo0Mwi9gC"
      },
      "execution_count": 30,
      "outputs": []
    },
    {
      "cell_type": "code",
      "source": [
        "Updated_dataset= Updated_dataset.apply(freqofyear, axis=1)"
      ],
      "metadata": {
        "id": "ICl5NWYAkmud"
      },
      "execution_count": 31,
      "outputs": []
    },
    {
      "cell_type": "code",
      "source": [
        "Unique1 = unique_chart(Updated_dataset)\n",
        "print(Unique1.to_markdown())"
      ],
      "metadata": {
        "colab": {
          "base_uri": "https://localhost:8080/"
        },
        "id": "ABgkM6VSGxCS",
        "outputId": "25c373f4-0b5f-430c-f1bc-46276d08f343"
      },
      "execution_count": 32,
      "outputs": [
        {
          "output_type": "stream",
          "name": "stdout",
          "text": [
            "|    |   team_id | role   |   Department | Discipline                    | Year                  | Gender        | eyrc_year                                                                | elsiLab       |   cgpa |   onlineCourse |   completeCourse |   internetOpt | ssc_board                             | hsc_board                             | workstation   | graphics_memory                                                        | internetspeed                                                | sub_ros                   | sub_ip                    | sub_emb_c                 | sub_ml                    | sub_ap                    | sub_cs                    | sub_mss                   | sub_fpga                  | sub_mm                    | sub_de                    | preference1                                                            | preference2                                           | preference3                                                             | preference4                                                             | preference5                                                               | preference6                                                      |   college_name | IS_eLSI   | country                        |   freq | Participation_Freq   |\n",
            "|---:|----------:|:-------|-------------:|:------------------------------|:----------------------|:--------------|:-------------------------------------------------------------------------|:--------------|-------:|---------------:|-----------------:|--------------:|:--------------------------------------|:--------------------------------------|:--------------|:-----------------------------------------------------------------------|:-------------------------------------------------------------|:--------------------------|:--------------------------|:--------------------------|:--------------------------|:--------------------------|:--------------------------|:--------------------------|:--------------------------|:--------------------------|:--------------------------|:-----------------------------------------------------------------------|:------------------------------------------------------|:------------------------------------------------------------------------|:------------------------------------------------------------------------|:--------------------------------------------------------------------------|:-----------------------------------------------------------------|---------------:|:----------|:-------------------------------|-------:|:---------------------|\n",
            "|  0 |      1293 | 2      |           43 | 6                             | 4                     | 2             | 9                                                                        | 2             |    905 |             40 |               35 |            79 | 5                                     | 5                                     | 2             | 7                                                                      | 6                                                            | 5                         | 5                         | 5                         | 5                         | 5                         | 5                         | 5                         | 5                         | 5                         | 5                         | 6                                                                      | 6                                                     | 6                                                                       | 6                                                                       | 6                                                                         | 6                                                                |            302 | 2         | 3                              |      1 | 4                    |\n",
            "|  1 |       nan | [1 2]  |          nan | [ 0.  1.  2.  3.  4.  5. nan] | [ 3.  2.  4.  1. nan] | [ 0.  1. nan] | ['[\"eyrc20\"]' 0 '[\"eyrc19\",\"eyrc20\"]' '[\"eyrc19\"]' '[\"eyrc20\",\"eyrc19\"]' | [ 1.  2. nan] |    nan |            nan |              nan |           nan | ['SB' 'CBSE' 'CISCE' nan 'OT' 'NIOS'] | ['CBSE' 'SB' 'CISCE' 'NIOS' nan 'OT'] | [ 1.  2. nan] | ['Other' 'Up to 2 GB' '4 GB' nan '6 GB' '8 GB' '16 GB & more' '12 GB'] | ['Upto 1 Mbps' 'Upto 10 Mbps' 'Upto 50 Mbps' 'Upto 150 Mbps' | [ 1.  0.  4.  3.  2. nan] | [ 0.  2.  3.  1.  4. nan] | [ 1.  0.  3.  2.  4. nan] | [ 0.  1.  3.  4.  2. nan] | [ 0.  2.  1.  3.  4. nan] | [ 2.  1.  0.  3.  4. nan] | [ 0.  1.  3.  2.  4. nan] | [ 1.  0.  2.  4.  3. nan] | [ 0.  2.  1.  3. nan  4.] | [ 2.  1.  0.  3.  4. nan] | ['Strawberry Stacker (SS)' 'Agribot (AB)' 'Functional Weeder (FW)'     | ['Agribot (AB)' 'Berryminator (BM)' 'Dairy Bike (DB)' | ['Soil Monitoring Bot (SM)' 'Agribot (AB)' 'Dairy Bike (DB)'            | ['Berryminator (BM)' 'Soil Monitoring Bot (SM)' 'Dairy Bike (DB)'       | ['Dairy Bike (DB)' 'Functional Weeder (FW)' 'Berryminator (BM)'           | ['Functional Weeder (FW)' 'Soil Monitoring Bot (SM)'             |            nan | [1 0]     | ['India' 'Bhutan' 'Sri Lanka'] |      4 | [1 0 2 3]            |\n",
            "|    |           |        |              |                               |                       |               |  '[\"eyrc18\"]' '[\"eyrc20\",\"eyrc19\",\"eyrc18\"]' '[\"eyrc19\",\"eyrc18\"]'       |               |        |                |                  |               |                                       |                                       |               |                                                                        |  'Upto 200 Mbps & more' 'Upto 100 Mbps' nan]                 |                           |                           |                           |                           |                           |                           |                           |                           |                           |                           |  'Berryminator (BM)' 'Soil Monitoring Bot (SM)' 'Dairy Bike (DB)' nan] |  'Strawberry Stacker (SS)' 'Functional Weeder (FW)'   |  'Berryminator (BM)' 'Strawberry Stacker (SS)' 'Functional Weeder (FW)' |  'Agribot (AB)' 'Strawberry Stacker (SS)' 'Functional Weeder (FW)' nan] |  'Soil Monitoring Bot (SM)' 'Agribot (AB)' 'Strawberry Stacker (SS)' nan] |  'Strawberry Stacker (SS)' 'Dairy Bike (DB)' 'Berryminator (BM)' |                |           |                                |        |                      |\n",
            "|    |           |        |              |                               |                       |               |  '[\"eyrc17\"]']                                                           |               |        |                |                  |               |                                       |                                       |               |                                                                        |                                                              |                           |                           |                           |                           |                           |                           |                           |                           |                           |                           |                                                                        |  'Soil Monitoring Bot (SM)' nan]                      |  nan]                                                                   |                                                                         |                                                                           |  'Agribot (AB)' nan]                                             |                |           |                                |        |                      |\n"
          ]
        }
      ]
    },
    {
      "cell_type": "code",
      "source": [
        "Updated_dataset.info()"
      ],
      "metadata": {
        "colab": {
          "base_uri": "https://localhost:8080/"
        },
        "id": "GdzABEeAim6O",
        "outputId": "141b87a2-5c73-457e-c7b8-895e10d665ee"
      },
      "execution_count": 33,
      "outputs": [
        {
          "output_type": "stream",
          "name": "stdout",
          "text": [
            "<class 'pandas.core.frame.DataFrame'>\n",
            "Int64Index: 5172 entries, 0 to 5688\n",
            "Data columns (total 38 columns):\n",
            " #   Column              Non-Null Count  Dtype  \n",
            "---  ------              --------------  -----  \n",
            " 0   team_id             5172 non-null   int64  \n",
            " 1   role                5172 non-null   int64  \n",
            " 2   Department          5161 non-null   object \n",
            " 3   Discipline          5161 non-null   float64\n",
            " 4   Year                5161 non-null   float64\n",
            " 5   Gender              5161 non-null   float64\n",
            " 6   eyrc_year           5172 non-null   object \n",
            " 7   elsiLab             5153 non-null   float64\n",
            " 8   cgpa                4907 non-null   float64\n",
            " 9   onlineCourse        5154 non-null   float64\n",
            " 10  completeCourse      5154 non-null   float64\n",
            " 11  internetOpt         5154 non-null   object \n",
            " 12  ssc_board           4950 non-null   object \n",
            " 13  hsc_board           4947 non-null   object \n",
            " 14  workstation         5154 non-null   float64\n",
            " 15  graphics_memory     2605 non-null   object \n",
            " 16  internetspeed       4067 non-null   object \n",
            " 17  sub_ros             5161 non-null   float64\n",
            " 18  sub_ip              5161 non-null   float64\n",
            " 19  sub_emb_c           5161 non-null   float64\n",
            " 20  sub_ml              5161 non-null   float64\n",
            " 21  sub_ap              5161 non-null   float64\n",
            " 22  sub_cs              5161 non-null   float64\n",
            " 23  sub_mss             5161 non-null   float64\n",
            " 24  sub_fpga            5161 non-null   float64\n",
            " 25  sub_mm              5161 non-null   float64\n",
            " 26  sub_de              5161 non-null   float64\n",
            " 27  preference1         5120 non-null   object \n",
            " 28  preference2         5120 non-null   object \n",
            " 29  preference3         5120 non-null   object \n",
            " 30  preference4         5120 non-null   object \n",
            " 31  preference5         5120 non-null   object \n",
            " 32  preference6         5120 non-null   object \n",
            " 33  college_name        5172 non-null   object \n",
            " 34  IS_eLSI             5172 non-null   int64  \n",
            " 35  country             5172 non-null   object \n",
            " 36  freq                5172 non-null   int64  \n",
            " 37  Participation_Freq  5172 non-null   int64  \n",
            "dtypes: float64(18), int64(5), object(15)\n",
            "memory usage: 1.5+ MB\n"
          ]
        }
      ]
    },
    {
      "cell_type": "markdown",
      "source": [
        "## **Creating a Internet option count column from InternetOpt**"
      ],
      "metadata": {
        "id": "6nQS_9qKquIN"
      }
    },
    {
      "cell_type": "code",
      "source": [
        "Updated_dataset['internetOpt'] = Updated_dataset['internetOpt'].replace(np.nan, 0)"
      ],
      "metadata": {
        "id": "uKbvQSe3gwm3"
      },
      "execution_count": 34,
      "outputs": []
    },
    {
      "cell_type": "code",
      "source": [
        "def internetoptcount(row) :\n",
        "    opt_count = row['internetOpt']\n",
        "    # print(year_data)\n",
        "    if opt_count != 0:\n",
        "        opt = str(opt_count).split(',')\n",
        "        opt_freq = len(opt)\n",
        "        # print(year_freq)\n",
        "    else:\n",
        "        opt_freq = 0\n",
        "        # print(year_freq)\n",
        "    row['Internet_option_freq'] = opt_freq\n",
        "    return row"
      ],
      "metadata": {
        "id": "VSdegDfwo6IZ"
      },
      "execution_count": 35,
      "outputs": []
    },
    {
      "cell_type": "code",
      "source": [
        "Updated_dataset= Updated_dataset.apply(internetoptcount, axis=1)\n"
      ],
      "metadata": {
        "id": "n-tbxYMdnCN6"
      },
      "execution_count": 36,
      "outputs": []
    },
    {
      "cell_type": "code",
      "source": [
        "Updated_dataset['Internet_option_freq'].unique()"
      ],
      "metadata": {
        "colab": {
          "base_uri": "https://localhost:8080/"
        },
        "id": "odZxfxAXhyCm",
        "outputId": "c6dd2e08-f50a-47a9-fde2-e684adbd29aa"
      },
      "execution_count": 37,
      "outputs": [
        {
          "output_type": "execute_result",
          "data": {
            "text/plain": [
              "array([3, 2, 1, 4, 5, 0])"
            ]
          },
          "metadata": {},
          "execution_count": 37
        }
      ]
    },
    {
      "cell_type": "code",
      "source": [
        "Updated_dataset = Updated_dataset.drop(['internetOpt', 'eyrc_year'], axis=1)"
      ],
      "metadata": {
        "id": "FqpLO3wPq-n4"
      },
      "execution_count": 38,
      "outputs": []
    },
    {
      "cell_type": "markdown",
      "source": [
        "## **Converting preference column into numerical values**"
      ],
      "metadata": {
        "id": "vL00KvZkq5ZR"
      }
    },
    {
      "cell_type": "code",
      "source": [
        "Updated_dataset['preference1'].replace(['Strawberry Stacker (SS)', 'Agribot (AB)', 'Functional Weeder (FW)',  'Berryminator (BM)', 'Soil Monitoring Bot (SM)', 'Dairy Bike (DB)'], [0, 1, 2, 3, 4, 5], inplace=True)\n",
        "Updated_dataset['preference2'].replace(['Strawberry Stacker (SS)', 'Agribot (AB)', 'Functional Weeder (FW)',  'Berryminator (BM)', 'Soil Monitoring Bot (SM)', 'Dairy Bike (DB)'], [0, 1, 2, 3, 4, 5], inplace=True)\n",
        "Updated_dataset['preference3'].replace(['Strawberry Stacker (SS)', 'Agribot (AB)', 'Functional Weeder (FW)',  'Berryminator (BM)', 'Soil Monitoring Bot (SM)', 'Dairy Bike (DB)'], [0, 1, 2, 3, 4, 5], inplace=True)\n",
        "Updated_dataset['preference4'].replace(['Strawberry Stacker (SS)', 'Agribot (AB)', 'Functional Weeder (FW)',  'Berryminator (BM)', 'Soil Monitoring Bot (SM)', 'Dairy Bike (DB)'], [0, 1, 2, 3, 4, 5], inplace=True)\n",
        "Updated_dataset['preference5'].replace(['Strawberry Stacker (SS)', 'Agribot (AB)', 'Functional Weeder (FW)',  'Berryminator (BM)', 'Soil Monitoring Bot (SM)', 'Dairy Bike (DB)'], [0, 1, 2, 3, 4, 5], inplace=True)\n",
        "Updated_dataset['preference6'].replace(['Strawberry Stacker (SS)', 'Agribot (AB)', 'Functional Weeder (FW)',  'Berryminator (BM)', 'Soil Monitoring Bot (SM)', 'Dairy Bike (DB)'], [0, 1, 2, 3, 4, 5], inplace=True)\n"
      ],
      "metadata": {
        "id": "yecbZdBF47gL"
      },
      "execution_count": 39,
      "outputs": []
    },
    {
      "cell_type": "markdown",
      "source": [
        "## **Dropping College Name and freq Columns**"
      ],
      "metadata": {
        "id": "fT0S7OipxCRt"
      }
    },
    {
      "cell_type": "code",
      "source": [
        "Updated_dataset = Updated_dataset.drop(['college_name'], axis=1)"
      ],
      "metadata": {
        "id": "ZOVgCnHA-ayX"
      },
      "execution_count": 40,
      "outputs": []
    },
    {
      "cell_type": "code",
      "source": [
        "Updated_dataset = Updated_dataset.drop(['freq'], axis=1)"
      ],
      "metadata": {
        "id": "ZmrwjLHPChL0"
      },
      "execution_count": 42,
      "outputs": []
    },
    {
      "cell_type": "code",
      "source": [
        "Updated_dataset.info()"
      ],
      "metadata": {
        "colab": {
          "base_uri": "https://localhost:8080/"
        },
        "id": "_nKuvR27Clei",
        "outputId": "f44c86d8-fdb9-4068-9503-aed3da794dc8"
      },
      "execution_count": 43,
      "outputs": [
        {
          "output_type": "stream",
          "name": "stdout",
          "text": [
            "<class 'pandas.core.frame.DataFrame'>\n",
            "Int64Index: 5172 entries, 0 to 5688\n",
            "Data columns (total 35 columns):\n",
            " #   Column                Non-Null Count  Dtype  \n",
            "---  ------                --------------  -----  \n",
            " 0   team_id               5172 non-null   int64  \n",
            " 1   role                  5172 non-null   int64  \n",
            " 2   Department            5161 non-null   object \n",
            " 3   Discipline            5161 non-null   float64\n",
            " 4   Year                  5161 non-null   float64\n",
            " 5   Gender                5161 non-null   float64\n",
            " 6   elsiLab               5153 non-null   float64\n",
            " 7   cgpa                  4907 non-null   float64\n",
            " 8   onlineCourse          5154 non-null   float64\n",
            " 9   completeCourse        5154 non-null   float64\n",
            " 10  ssc_board             4950 non-null   object \n",
            " 11  hsc_board             4947 non-null   object \n",
            " 12  workstation           5154 non-null   float64\n",
            " 13  graphics_memory       2605 non-null   object \n",
            " 14  internetspeed         4067 non-null   object \n",
            " 15  sub_ros               5161 non-null   float64\n",
            " 16  sub_ip                5161 non-null   float64\n",
            " 17  sub_emb_c             5161 non-null   float64\n",
            " 18  sub_ml                5161 non-null   float64\n",
            " 19  sub_ap                5161 non-null   float64\n",
            " 20  sub_cs                5161 non-null   float64\n",
            " 21  sub_mss               5161 non-null   float64\n",
            " 22  sub_fpga              5161 non-null   float64\n",
            " 23  sub_mm                5161 non-null   float64\n",
            " 24  sub_de                5161 non-null   float64\n",
            " 25  preference1           5120 non-null   float64\n",
            " 26  preference2           5120 non-null   float64\n",
            " 27  preference3           5120 non-null   float64\n",
            " 28  preference4           5120 non-null   float64\n",
            " 29  preference5           5120 non-null   float64\n",
            " 30  preference6           5120 non-null   float64\n",
            " 31  IS_eLSI               5172 non-null   int64  \n",
            " 32  country               5172 non-null   object \n",
            " 33  Participation_Freq    5172 non-null   int64  \n",
            " 34  Internet_option_freq  5172 non-null   int64  \n",
            "dtypes: float64(24), int64(5), object(6)\n",
            "memory usage: 1.4+ MB\n"
          ]
        }
      ]
    },
    {
      "cell_type": "markdown",
      "source": [
        "### **Converting Department columns into three categories: Computers, Electronics and Others**"
      ],
      "metadata": {
        "id": "loX5rVT8xP4i"
      }
    },
    {
      "cell_type": "code",
      "source": [
        "Dep_Details.head()"
      ],
      "metadata": {
        "colab": {
          "base_uri": "https://localhost:8080/",
          "height": 206
        },
        "id": "M8xNb5zWEDc-",
        "outputId": "55f356d9-d854-496b-92da-268f8d388e4c"
      },
      "execution_count": 44,
      "outputs": [
        {
          "output_type": "execute_result",
          "data": {
            "text/plain": [
              "   S.no                                 Department     Category\n",
              "0     1                    Electronics Engineering  Electronics\n",
              "1     2                           Computer Science    Computers\n",
              "2     3                       Computer Engineering    Computers\n",
              "3     4                     Information Technology    Computers\n",
              "4     5  Electronics and Communication Engineering  Electronics"
            ],
            "text/html": [
              "\n",
              "  <div id=\"df-930c3fb3-8856-47ec-91b8-22ac468633d9\">\n",
              "    <div class=\"colab-df-container\">\n",
              "      <div>\n",
              "<style scoped>\n",
              "    .dataframe tbody tr th:only-of-type {\n",
              "        vertical-align: middle;\n",
              "    }\n",
              "\n",
              "    .dataframe tbody tr th {\n",
              "        vertical-align: top;\n",
              "    }\n",
              "\n",
              "    .dataframe thead th {\n",
              "        text-align: right;\n",
              "    }\n",
              "</style>\n",
              "<table border=\"1\" class=\"dataframe\">\n",
              "  <thead>\n",
              "    <tr style=\"text-align: right;\">\n",
              "      <th></th>\n",
              "      <th>S.no</th>\n",
              "      <th>Department</th>\n",
              "      <th>Category</th>\n",
              "    </tr>\n",
              "  </thead>\n",
              "  <tbody>\n",
              "    <tr>\n",
              "      <th>0</th>\n",
              "      <td>1</td>\n",
              "      <td>Electronics Engineering</td>\n",
              "      <td>Electronics</td>\n",
              "    </tr>\n",
              "    <tr>\n",
              "      <th>1</th>\n",
              "      <td>2</td>\n",
              "      <td>Computer Science</td>\n",
              "      <td>Computers</td>\n",
              "    </tr>\n",
              "    <tr>\n",
              "      <th>2</th>\n",
              "      <td>3</td>\n",
              "      <td>Computer Engineering</td>\n",
              "      <td>Computers</td>\n",
              "    </tr>\n",
              "    <tr>\n",
              "      <th>3</th>\n",
              "      <td>4</td>\n",
              "      <td>Information Technology</td>\n",
              "      <td>Computers</td>\n",
              "    </tr>\n",
              "    <tr>\n",
              "      <th>4</th>\n",
              "      <td>5</td>\n",
              "      <td>Electronics and Communication Engineering</td>\n",
              "      <td>Electronics</td>\n",
              "    </tr>\n",
              "  </tbody>\n",
              "</table>\n",
              "</div>\n",
              "      <button class=\"colab-df-convert\" onclick=\"convertToInteractive('df-930c3fb3-8856-47ec-91b8-22ac468633d9')\"\n",
              "              title=\"Convert this dataframe to an interactive table.\"\n",
              "              style=\"display:none;\">\n",
              "        \n",
              "  <svg xmlns=\"http://www.w3.org/2000/svg\" height=\"24px\"viewBox=\"0 0 24 24\"\n",
              "       width=\"24px\">\n",
              "    <path d=\"M0 0h24v24H0V0z\" fill=\"none\"/>\n",
              "    <path d=\"M18.56 5.44l.94 2.06.94-2.06 2.06-.94-2.06-.94-.94-2.06-.94 2.06-2.06.94zm-11 1L8.5 8.5l.94-2.06 2.06-.94-2.06-.94L8.5 2.5l-.94 2.06-2.06.94zm10 10l.94 2.06.94-2.06 2.06-.94-2.06-.94-.94-2.06-.94 2.06-2.06.94z\"/><path d=\"M17.41 7.96l-1.37-1.37c-.4-.4-.92-.59-1.43-.59-.52 0-1.04.2-1.43.59L10.3 9.45l-7.72 7.72c-.78.78-.78 2.05 0 2.83L4 21.41c.39.39.9.59 1.41.59.51 0 1.02-.2 1.41-.59l7.78-7.78 2.81-2.81c.8-.78.8-2.07 0-2.86zM5.41 20L4 18.59l7.72-7.72 1.47 1.35L5.41 20z\"/>\n",
              "  </svg>\n",
              "      </button>\n",
              "      \n",
              "  <style>\n",
              "    .colab-df-container {\n",
              "      display:flex;\n",
              "      flex-wrap:wrap;\n",
              "      gap: 12px;\n",
              "    }\n",
              "\n",
              "    .colab-df-convert {\n",
              "      background-color: #E8F0FE;\n",
              "      border: none;\n",
              "      border-radius: 50%;\n",
              "      cursor: pointer;\n",
              "      display: none;\n",
              "      fill: #1967D2;\n",
              "      height: 32px;\n",
              "      padding: 0 0 0 0;\n",
              "      width: 32px;\n",
              "    }\n",
              "\n",
              "    .colab-df-convert:hover {\n",
              "      background-color: #E2EBFA;\n",
              "      box-shadow: 0px 1px 2px rgba(60, 64, 67, 0.3), 0px 1px 3px 1px rgba(60, 64, 67, 0.15);\n",
              "      fill: #174EA6;\n",
              "    }\n",
              "\n",
              "    [theme=dark] .colab-df-convert {\n",
              "      background-color: #3B4455;\n",
              "      fill: #D2E3FC;\n",
              "    }\n",
              "\n",
              "    [theme=dark] .colab-df-convert:hover {\n",
              "      background-color: #434B5C;\n",
              "      box-shadow: 0px 1px 3px 1px rgba(0, 0, 0, 0.15);\n",
              "      filter: drop-shadow(0px 1px 2px rgba(0, 0, 0, 0.3));\n",
              "      fill: #FFFFFF;\n",
              "    }\n",
              "  </style>\n",
              "\n",
              "      <script>\n",
              "        const buttonEl =\n",
              "          document.querySelector('#df-930c3fb3-8856-47ec-91b8-22ac468633d9 button.colab-df-convert');\n",
              "        buttonEl.style.display =\n",
              "          google.colab.kernel.accessAllowed ? 'block' : 'none';\n",
              "\n",
              "        async function convertToInteractive(key) {\n",
              "          const element = document.querySelector('#df-930c3fb3-8856-47ec-91b8-22ac468633d9');\n",
              "          const dataTable =\n",
              "            await google.colab.kernel.invokeFunction('convertToInteractive',\n",
              "                                                     [key], {});\n",
              "          if (!dataTable) return;\n",
              "\n",
              "          const docLinkHtml = 'Like what you see? Visit the ' +\n",
              "            '<a target=\"_blank\" href=https://colab.research.google.com/notebooks/data_table.ipynb>data table notebook</a>'\n",
              "            + ' to learn more about interactive tables.';\n",
              "          element.innerHTML = '';\n",
              "          dataTable['output_type'] = 'display_data';\n",
              "          await google.colab.output.renderOutput(dataTable, element);\n",
              "          const docLink = document.createElement('div');\n",
              "          docLink.innerHTML = docLinkHtml;\n",
              "          element.appendChild(docLink);\n",
              "        }\n",
              "      </script>\n",
              "    </div>\n",
              "  </div>\n",
              "  "
            ]
          },
          "metadata": {},
          "execution_count": 44
        }
      ]
    },
    {
      "cell_type": "code",
      "source": [
        "Dep_Details.drop(['S.no'],axis=1, inplace=True)"
      ],
      "metadata": {
        "id": "235XvdNDEWW3"
      },
      "execution_count": 45,
      "outputs": []
    },
    {
      "cell_type": "code",
      "source": [
        "Dep_Details['Category'].replace(['Electronics', 'Computers','Computer', 'Others', 'Other', 'other'], ['Electronics', 'Computers', 'Computers', 'Others', 'Others', 'Others'], inplace=True)"
      ],
      "metadata": {
        "id": "NjP7R5D-UGiV"
      },
      "execution_count": 46,
      "outputs": []
    },
    {
      "cell_type": "code",
      "source": [
        "Updated_dataset = Updated_dataset.merge(Dep_Details, how=\"left\")"
      ],
      "metadata": {
        "id": "3tBNQ60KSdTo"
      },
      "execution_count": 47,
      "outputs": []
    },
    {
      "cell_type": "code",
      "source": [
        "Updated_dataset['Category'].unique()"
      ],
      "metadata": {
        "colab": {
          "base_uri": "https://localhost:8080/"
        },
        "id": "-rZ0pOf9T2E3",
        "outputId": "cdcb49c5-1347-4a17-9421-c7a427037070"
      },
      "execution_count": 49,
      "outputs": [
        {
          "output_type": "execute_result",
          "data": {
            "text/plain": [
              "array(['Electronics', 'Computers', 'Others', nan], dtype=object)"
            ]
          },
          "metadata": {},
          "execution_count": 49
        }
      ]
    },
    {
      "cell_type": "code",
      "source": [
        "Updated_dataset['Category'].replace(['Electronics', 'Computers', 'Others'], [0,1,2], inplace=True)"
      ],
      "metadata": {
        "id": "4jNFWVSpXjkv"
      },
      "execution_count": 50,
      "outputs": []
    },
    {
      "cell_type": "code",
      "source": [
        "Updated_dataset.drop(['Department'], axis=1, inplace=True)\n",
        "Updated_dataset.rename(columns = {'Category':'Department_category'}, inplace = True)"
      ],
      "metadata": {
        "id": "lcKN4MhhXvBU"
      },
      "execution_count": 51,
      "outputs": []
    },
    {
      "cell_type": "code",
      "source": [
        "Updated_dataset.info()"
      ],
      "metadata": {
        "colab": {
          "base_uri": "https://localhost:8080/"
        },
        "id": "nzm7zeEgYIR5",
        "outputId": "7714b01d-df34-49ed-f4f6-1f1448b6dc77"
      },
      "execution_count": 52,
      "outputs": [
        {
          "output_type": "stream",
          "name": "stdout",
          "text": [
            "<class 'pandas.core.frame.DataFrame'>\n",
            "Int64Index: 5172 entries, 0 to 5171\n",
            "Data columns (total 35 columns):\n",
            " #   Column                Non-Null Count  Dtype  \n",
            "---  ------                --------------  -----  \n",
            " 0   team_id               5172 non-null   int64  \n",
            " 1   role                  5172 non-null   int64  \n",
            " 2   Discipline            5161 non-null   float64\n",
            " 3   Year                  5161 non-null   float64\n",
            " 4   Gender                5161 non-null   float64\n",
            " 5   elsiLab               5153 non-null   float64\n",
            " 6   cgpa                  4907 non-null   float64\n",
            " 7   onlineCourse          5154 non-null   float64\n",
            " 8   completeCourse        5154 non-null   float64\n",
            " 9   ssc_board             4950 non-null   object \n",
            " 10  hsc_board             4947 non-null   object \n",
            " 11  workstation           5154 non-null   float64\n",
            " 12  graphics_memory       2605 non-null   object \n",
            " 13  internetspeed         4067 non-null   object \n",
            " 14  sub_ros               5161 non-null   float64\n",
            " 15  sub_ip                5161 non-null   float64\n",
            " 16  sub_emb_c             5161 non-null   float64\n",
            " 17  sub_ml                5161 non-null   float64\n",
            " 18  sub_ap                5161 non-null   float64\n",
            " 19  sub_cs                5161 non-null   float64\n",
            " 20  sub_mss               5161 non-null   float64\n",
            " 21  sub_fpga              5161 non-null   float64\n",
            " 22  sub_mm                5161 non-null   float64\n",
            " 23  sub_de                5161 non-null   float64\n",
            " 24  preference1           5120 non-null   float64\n",
            " 25  preference2           5120 non-null   float64\n",
            " 26  preference3           5120 non-null   float64\n",
            " 27  preference4           5120 non-null   float64\n",
            " 28  preference5           5120 non-null   float64\n",
            " 29  preference6           5120 non-null   float64\n",
            " 30  IS_eLSI               5172 non-null   int64  \n",
            " 31  country               5172 non-null   object \n",
            " 32  Participation_Freq    5172 non-null   int64  \n",
            " 33  Internet_option_freq  5172 non-null   int64  \n",
            " 34  Department_category   5111 non-null   float64\n",
            "dtypes: float64(25), int64(5), object(5)\n",
            "memory usage: 1.4+ MB\n"
          ]
        }
      ]
    },
    {
      "cell_type": "markdown",
      "source": [
        "## **Dropping Graphics Memory Column**"
      ],
      "metadata": {
        "id": "SvbqFintxkut"
      }
    },
    {
      "cell_type": "code",
      "source": [
        "Updated_dataset.drop('graphics_memory',axis=1, inplace=True)"
      ],
      "metadata": {
        "id": "Ie9XKgXOZOkv"
      },
      "execution_count": 53,
      "outputs": []
    },
    {
      "cell_type": "code",
      "source": [
        "Updated_dataset.info()"
      ],
      "metadata": {
        "colab": {
          "base_uri": "https://localhost:8080/"
        },
        "id": "3oi2XRG0ZavG",
        "outputId": "f0cfd7ef-d1d5-4029-dbad-6b2a3db12e4c"
      },
      "execution_count": 54,
      "outputs": [
        {
          "output_type": "stream",
          "name": "stdout",
          "text": [
            "<class 'pandas.core.frame.DataFrame'>\n",
            "Int64Index: 5172 entries, 0 to 5171\n",
            "Data columns (total 34 columns):\n",
            " #   Column                Non-Null Count  Dtype  \n",
            "---  ------                --------------  -----  \n",
            " 0   team_id               5172 non-null   int64  \n",
            " 1   role                  5172 non-null   int64  \n",
            " 2   Discipline            5161 non-null   float64\n",
            " 3   Year                  5161 non-null   float64\n",
            " 4   Gender                5161 non-null   float64\n",
            " 5   elsiLab               5153 non-null   float64\n",
            " 6   cgpa                  4907 non-null   float64\n",
            " 7   onlineCourse          5154 non-null   float64\n",
            " 8   completeCourse        5154 non-null   float64\n",
            " 9   ssc_board             4950 non-null   object \n",
            " 10  hsc_board             4947 non-null   object \n",
            " 11  workstation           5154 non-null   float64\n",
            " 12  internetspeed         4067 non-null   object \n",
            " 13  sub_ros               5161 non-null   float64\n",
            " 14  sub_ip                5161 non-null   float64\n",
            " 15  sub_emb_c             5161 non-null   float64\n",
            " 16  sub_ml                5161 non-null   float64\n",
            " 17  sub_ap                5161 non-null   float64\n",
            " 18  sub_cs                5161 non-null   float64\n",
            " 19  sub_mss               5161 non-null   float64\n",
            " 20  sub_fpga              5161 non-null   float64\n",
            " 21  sub_mm                5161 non-null   float64\n",
            " 22  sub_de                5161 non-null   float64\n",
            " 23  preference1           5120 non-null   float64\n",
            " 24  preference2           5120 non-null   float64\n",
            " 25  preference3           5120 non-null   float64\n",
            " 26  preference4           5120 non-null   float64\n",
            " 27  preference5           5120 non-null   float64\n",
            " 28  preference6           5120 non-null   float64\n",
            " 29  IS_eLSI               5172 non-null   int64  \n",
            " 30  country               5172 non-null   object \n",
            " 31  Participation_Freq    5172 non-null   int64  \n",
            " 32  Internet_option_freq  5172 non-null   int64  \n",
            " 33  Department_category   5111 non-null   float64\n",
            "dtypes: float64(25), int64(5), object(4)\n",
            "memory usage: 1.4+ MB\n"
          ]
        }
      ]
    },
    {
      "cell_type": "code",
      "source": [
        "Updated_dataset.describe()"
      ],
      "metadata": {
        "colab": {
          "base_uri": "https://localhost:8080/",
          "height": 393
        },
        "id": "Sww8-eugaIz4",
        "outputId": "426f7a16-d997-41bd-d05a-98ceb17d84a3"
      },
      "execution_count": 55,
      "outputs": [
        {
          "output_type": "execute_result",
          "data": {
            "text/plain": [
              "           team_id         role   Discipline         Year       Gender  \\\n",
              "count  5172.000000  5172.000000  5161.000000  5161.000000  5161.000000   \n",
              "mean   1948.748647     1.750000     0.158303     2.504553     0.261383   \n",
              "std     560.346617     0.433055     0.690981     0.769595     0.439431   \n",
              "min    1001.000000     1.000000     0.000000     1.000000     0.000000   \n",
              "25%    1466.000000     1.750000     0.000000     2.000000     0.000000   \n",
              "50%    1897.000000     2.000000     0.000000     2.000000     0.000000   \n",
              "75%    2457.000000     2.000000     0.000000     3.000000     1.000000   \n",
              "max    2971.000000     2.000000     5.000000     4.000000     1.000000   \n",
              "\n",
              "           elsiLab         cgpa  onlineCourse  completeCourse  workstation  \\\n",
              "count  5153.000000  4907.000000   5154.000000     5154.000000  5154.000000   \n",
              "mean      1.503202    20.847700      2.900466        1.963912     1.210904   \n",
              "std       0.500038   124.590659      4.812291        3.610615     0.407990   \n",
              "min       1.000000     1.530000      0.000000        0.000000     1.000000   \n",
              "25%       1.000000     8.170000      0.000000        0.000000     1.000000   \n",
              "50%       2.000000     8.830000      2.000000        1.000000     1.000000   \n",
              "75%       2.000000     9.480000      4.000000        3.000000     1.000000   \n",
              "max       2.000000  8395.000000    100.000000      100.000000     2.000000   \n",
              "\n",
              "       ...  preference1  preference2  preference3  preference4  preference5  \\\n",
              "count  ...  5120.000000  5120.000000  5120.000000  5120.000000  5120.000000   \n",
              "mean   ...     2.271875     2.328125     2.507031     2.582813     2.789062   \n",
              "std    ...     1.602739     1.710473     1.767926     1.674702     1.602169   \n",
              "min    ...     0.000000     0.000000     0.000000     0.000000     0.000000   \n",
              "25%    ...     1.000000     1.000000     1.000000     1.000000     2.000000   \n",
              "50%    ...     3.000000     2.000000     3.000000     2.000000     3.000000   \n",
              "75%    ...     4.000000     4.000000     4.000000     4.000000     4.000000   \n",
              "max    ...     5.000000     5.000000     5.000000     5.000000     5.000000   \n",
              "\n",
              "       preference6      IS_eLSI  Participation_Freq  Internet_option_freq  \\\n",
              "count  5120.000000  5172.000000         5172.000000           5172.000000   \n",
              "mean      2.521094     0.526682            0.119296              1.457463   \n",
              "std       1.827367     0.499336            0.358717              0.784894   \n",
              "min       0.000000     0.000000            0.000000              0.000000   \n",
              "25%       1.000000     0.000000            0.000000              1.000000   \n",
              "50%       2.000000     1.000000            0.000000              1.000000   \n",
              "75%       4.000000     1.000000            0.000000              2.000000   \n",
              "max       5.000000     1.000000            3.000000              5.000000   \n",
              "\n",
              "       Department_category  \n",
              "count          5111.000000  \n",
              "mean              0.730972  \n",
              "std               0.829388  \n",
              "min               0.000000  \n",
              "25%               0.000000  \n",
              "50%               0.000000  \n",
              "75%               1.000000  \n",
              "max               2.000000  \n",
              "\n",
              "[8 rows x 30 columns]"
            ],
            "text/html": [
              "\n",
              "  <div id=\"df-1f310966-15e3-4b16-86a2-93590c7e5daf\">\n",
              "    <div class=\"colab-df-container\">\n",
              "      <div>\n",
              "<style scoped>\n",
              "    .dataframe tbody tr th:only-of-type {\n",
              "        vertical-align: middle;\n",
              "    }\n",
              "\n",
              "    .dataframe tbody tr th {\n",
              "        vertical-align: top;\n",
              "    }\n",
              "\n",
              "    .dataframe thead th {\n",
              "        text-align: right;\n",
              "    }\n",
              "</style>\n",
              "<table border=\"1\" class=\"dataframe\">\n",
              "  <thead>\n",
              "    <tr style=\"text-align: right;\">\n",
              "      <th></th>\n",
              "      <th>team_id</th>\n",
              "      <th>role</th>\n",
              "      <th>Discipline</th>\n",
              "      <th>Year</th>\n",
              "      <th>Gender</th>\n",
              "      <th>elsiLab</th>\n",
              "      <th>cgpa</th>\n",
              "      <th>onlineCourse</th>\n",
              "      <th>completeCourse</th>\n",
              "      <th>workstation</th>\n",
              "      <th>...</th>\n",
              "      <th>preference1</th>\n",
              "      <th>preference2</th>\n",
              "      <th>preference3</th>\n",
              "      <th>preference4</th>\n",
              "      <th>preference5</th>\n",
              "      <th>preference6</th>\n",
              "      <th>IS_eLSI</th>\n",
              "      <th>Participation_Freq</th>\n",
              "      <th>Internet_option_freq</th>\n",
              "      <th>Department_category</th>\n",
              "    </tr>\n",
              "  </thead>\n",
              "  <tbody>\n",
              "    <tr>\n",
              "      <th>count</th>\n",
              "      <td>5172.000000</td>\n",
              "      <td>5172.000000</td>\n",
              "      <td>5161.000000</td>\n",
              "      <td>5161.000000</td>\n",
              "      <td>5161.000000</td>\n",
              "      <td>5153.000000</td>\n",
              "      <td>4907.000000</td>\n",
              "      <td>5154.000000</td>\n",
              "      <td>5154.000000</td>\n",
              "      <td>5154.000000</td>\n",
              "      <td>...</td>\n",
              "      <td>5120.000000</td>\n",
              "      <td>5120.000000</td>\n",
              "      <td>5120.000000</td>\n",
              "      <td>5120.000000</td>\n",
              "      <td>5120.000000</td>\n",
              "      <td>5120.000000</td>\n",
              "      <td>5172.000000</td>\n",
              "      <td>5172.000000</td>\n",
              "      <td>5172.000000</td>\n",
              "      <td>5111.000000</td>\n",
              "    </tr>\n",
              "    <tr>\n",
              "      <th>mean</th>\n",
              "      <td>1948.748647</td>\n",
              "      <td>1.750000</td>\n",
              "      <td>0.158303</td>\n",
              "      <td>2.504553</td>\n",
              "      <td>0.261383</td>\n",
              "      <td>1.503202</td>\n",
              "      <td>20.847700</td>\n",
              "      <td>2.900466</td>\n",
              "      <td>1.963912</td>\n",
              "      <td>1.210904</td>\n",
              "      <td>...</td>\n",
              "      <td>2.271875</td>\n",
              "      <td>2.328125</td>\n",
              "      <td>2.507031</td>\n",
              "      <td>2.582813</td>\n",
              "      <td>2.789062</td>\n",
              "      <td>2.521094</td>\n",
              "      <td>0.526682</td>\n",
              "      <td>0.119296</td>\n",
              "      <td>1.457463</td>\n",
              "      <td>0.730972</td>\n",
              "    </tr>\n",
              "    <tr>\n",
              "      <th>std</th>\n",
              "      <td>560.346617</td>\n",
              "      <td>0.433055</td>\n",
              "      <td>0.690981</td>\n",
              "      <td>0.769595</td>\n",
              "      <td>0.439431</td>\n",
              "      <td>0.500038</td>\n",
              "      <td>124.590659</td>\n",
              "      <td>4.812291</td>\n",
              "      <td>3.610615</td>\n",
              "      <td>0.407990</td>\n",
              "      <td>...</td>\n",
              "      <td>1.602739</td>\n",
              "      <td>1.710473</td>\n",
              "      <td>1.767926</td>\n",
              "      <td>1.674702</td>\n",
              "      <td>1.602169</td>\n",
              "      <td>1.827367</td>\n",
              "      <td>0.499336</td>\n",
              "      <td>0.358717</td>\n",
              "      <td>0.784894</td>\n",
              "      <td>0.829388</td>\n",
              "    </tr>\n",
              "    <tr>\n",
              "      <th>min</th>\n",
              "      <td>1001.000000</td>\n",
              "      <td>1.000000</td>\n",
              "      <td>0.000000</td>\n",
              "      <td>1.000000</td>\n",
              "      <td>0.000000</td>\n",
              "      <td>1.000000</td>\n",
              "      <td>1.530000</td>\n",
              "      <td>0.000000</td>\n",
              "      <td>0.000000</td>\n",
              "      <td>1.000000</td>\n",
              "      <td>...</td>\n",
              "      <td>0.000000</td>\n",
              "      <td>0.000000</td>\n",
              "      <td>0.000000</td>\n",
              "      <td>0.000000</td>\n",
              "      <td>0.000000</td>\n",
              "      <td>0.000000</td>\n",
              "      <td>0.000000</td>\n",
              "      <td>0.000000</td>\n",
              "      <td>0.000000</td>\n",
              "      <td>0.000000</td>\n",
              "    </tr>\n",
              "    <tr>\n",
              "      <th>25%</th>\n",
              "      <td>1466.000000</td>\n",
              "      <td>1.750000</td>\n",
              "      <td>0.000000</td>\n",
              "      <td>2.000000</td>\n",
              "      <td>0.000000</td>\n",
              "      <td>1.000000</td>\n",
              "      <td>8.170000</td>\n",
              "      <td>0.000000</td>\n",
              "      <td>0.000000</td>\n",
              "      <td>1.000000</td>\n",
              "      <td>...</td>\n",
              "      <td>1.000000</td>\n",
              "      <td>1.000000</td>\n",
              "      <td>1.000000</td>\n",
              "      <td>1.000000</td>\n",
              "      <td>2.000000</td>\n",
              "      <td>1.000000</td>\n",
              "      <td>0.000000</td>\n",
              "      <td>0.000000</td>\n",
              "      <td>1.000000</td>\n",
              "      <td>0.000000</td>\n",
              "    </tr>\n",
              "    <tr>\n",
              "      <th>50%</th>\n",
              "      <td>1897.000000</td>\n",
              "      <td>2.000000</td>\n",
              "      <td>0.000000</td>\n",
              "      <td>2.000000</td>\n",
              "      <td>0.000000</td>\n",
              "      <td>2.000000</td>\n",
              "      <td>8.830000</td>\n",
              "      <td>2.000000</td>\n",
              "      <td>1.000000</td>\n",
              "      <td>1.000000</td>\n",
              "      <td>...</td>\n",
              "      <td>3.000000</td>\n",
              "      <td>2.000000</td>\n",
              "      <td>3.000000</td>\n",
              "      <td>2.000000</td>\n",
              "      <td>3.000000</td>\n",
              "      <td>2.000000</td>\n",
              "      <td>1.000000</td>\n",
              "      <td>0.000000</td>\n",
              "      <td>1.000000</td>\n",
              "      <td>0.000000</td>\n",
              "    </tr>\n",
              "    <tr>\n",
              "      <th>75%</th>\n",
              "      <td>2457.000000</td>\n",
              "      <td>2.000000</td>\n",
              "      <td>0.000000</td>\n",
              "      <td>3.000000</td>\n",
              "      <td>1.000000</td>\n",
              "      <td>2.000000</td>\n",
              "      <td>9.480000</td>\n",
              "      <td>4.000000</td>\n",
              "      <td>3.000000</td>\n",
              "      <td>1.000000</td>\n",
              "      <td>...</td>\n",
              "      <td>4.000000</td>\n",
              "      <td>4.000000</td>\n",
              "      <td>4.000000</td>\n",
              "      <td>4.000000</td>\n",
              "      <td>4.000000</td>\n",
              "      <td>4.000000</td>\n",
              "      <td>1.000000</td>\n",
              "      <td>0.000000</td>\n",
              "      <td>2.000000</td>\n",
              "      <td>1.000000</td>\n",
              "    </tr>\n",
              "    <tr>\n",
              "      <th>max</th>\n",
              "      <td>2971.000000</td>\n",
              "      <td>2.000000</td>\n",
              "      <td>5.000000</td>\n",
              "      <td>4.000000</td>\n",
              "      <td>1.000000</td>\n",
              "      <td>2.000000</td>\n",
              "      <td>8395.000000</td>\n",
              "      <td>100.000000</td>\n",
              "      <td>100.000000</td>\n",
              "      <td>2.000000</td>\n",
              "      <td>...</td>\n",
              "      <td>5.000000</td>\n",
              "      <td>5.000000</td>\n",
              "      <td>5.000000</td>\n",
              "      <td>5.000000</td>\n",
              "      <td>5.000000</td>\n",
              "      <td>5.000000</td>\n",
              "      <td>1.000000</td>\n",
              "      <td>3.000000</td>\n",
              "      <td>5.000000</td>\n",
              "      <td>2.000000</td>\n",
              "    </tr>\n",
              "  </tbody>\n",
              "</table>\n",
              "<p>8 rows × 30 columns</p>\n",
              "</div>\n",
              "      <button class=\"colab-df-convert\" onclick=\"convertToInteractive('df-1f310966-15e3-4b16-86a2-93590c7e5daf')\"\n",
              "              title=\"Convert this dataframe to an interactive table.\"\n",
              "              style=\"display:none;\">\n",
              "        \n",
              "  <svg xmlns=\"http://www.w3.org/2000/svg\" height=\"24px\"viewBox=\"0 0 24 24\"\n",
              "       width=\"24px\">\n",
              "    <path d=\"M0 0h24v24H0V0z\" fill=\"none\"/>\n",
              "    <path d=\"M18.56 5.44l.94 2.06.94-2.06 2.06-.94-2.06-.94-.94-2.06-.94 2.06-2.06.94zm-11 1L8.5 8.5l.94-2.06 2.06-.94-2.06-.94L8.5 2.5l-.94 2.06-2.06.94zm10 10l.94 2.06.94-2.06 2.06-.94-2.06-.94-.94-2.06-.94 2.06-2.06.94z\"/><path d=\"M17.41 7.96l-1.37-1.37c-.4-.4-.92-.59-1.43-.59-.52 0-1.04.2-1.43.59L10.3 9.45l-7.72 7.72c-.78.78-.78 2.05 0 2.83L4 21.41c.39.39.9.59 1.41.59.51 0 1.02-.2 1.41-.59l7.78-7.78 2.81-2.81c.8-.78.8-2.07 0-2.86zM5.41 20L4 18.59l7.72-7.72 1.47 1.35L5.41 20z\"/>\n",
              "  </svg>\n",
              "      </button>\n",
              "      \n",
              "  <style>\n",
              "    .colab-df-container {\n",
              "      display:flex;\n",
              "      flex-wrap:wrap;\n",
              "      gap: 12px;\n",
              "    }\n",
              "\n",
              "    .colab-df-convert {\n",
              "      background-color: #E8F0FE;\n",
              "      border: none;\n",
              "      border-radius: 50%;\n",
              "      cursor: pointer;\n",
              "      display: none;\n",
              "      fill: #1967D2;\n",
              "      height: 32px;\n",
              "      padding: 0 0 0 0;\n",
              "      width: 32px;\n",
              "    }\n",
              "\n",
              "    .colab-df-convert:hover {\n",
              "      background-color: #E2EBFA;\n",
              "      box-shadow: 0px 1px 2px rgba(60, 64, 67, 0.3), 0px 1px 3px 1px rgba(60, 64, 67, 0.15);\n",
              "      fill: #174EA6;\n",
              "    }\n",
              "\n",
              "    [theme=dark] .colab-df-convert {\n",
              "      background-color: #3B4455;\n",
              "      fill: #D2E3FC;\n",
              "    }\n",
              "\n",
              "    [theme=dark] .colab-df-convert:hover {\n",
              "      background-color: #434B5C;\n",
              "      box-shadow: 0px 1px 3px 1px rgba(0, 0, 0, 0.15);\n",
              "      filter: drop-shadow(0px 1px 2px rgba(0, 0, 0, 0.3));\n",
              "      fill: #FFFFFF;\n",
              "    }\n",
              "  </style>\n",
              "\n",
              "      <script>\n",
              "        const buttonEl =\n",
              "          document.querySelector('#df-1f310966-15e3-4b16-86a2-93590c7e5daf button.colab-df-convert');\n",
              "        buttonEl.style.display =\n",
              "          google.colab.kernel.accessAllowed ? 'block' : 'none';\n",
              "\n",
              "        async function convertToInteractive(key) {\n",
              "          const element = document.querySelector('#df-1f310966-15e3-4b16-86a2-93590c7e5daf');\n",
              "          const dataTable =\n",
              "            await google.colab.kernel.invokeFunction('convertToInteractive',\n",
              "                                                     [key], {});\n",
              "          if (!dataTable) return;\n",
              "\n",
              "          const docLinkHtml = 'Like what you see? Visit the ' +\n",
              "            '<a target=\"_blank\" href=https://colab.research.google.com/notebooks/data_table.ipynb>data table notebook</a>'\n",
              "            + ' to learn more about interactive tables.';\n",
              "          element.innerHTML = '';\n",
              "          dataTable['output_type'] = 'display_data';\n",
              "          await google.colab.output.renderOutput(dataTable, element);\n",
              "          const docLink = document.createElement('div');\n",
              "          docLink.innerHTML = docLinkHtml;\n",
              "          element.appendChild(docLink);\n",
              "        }\n",
              "      </script>\n",
              "    </div>\n",
              "  </div>\n",
              "  "
            ]
          },
          "metadata": {},
          "execution_count": 55
        }
      ]
    },
    {
      "cell_type": "code",
      "source": [
        "Updated_dataset.to_csv('Dataset(24-06-22).csv', index=True)"
      ],
      "metadata": {
        "id": "yfCHx2Zha7P4"
      },
      "execution_count": 56,
      "outputs": []
    },
    {
      "cell_type": "markdown",
      "source": [
        "This dataset has the least number of null values in its columns, all the redundant and irrelevant columns are dropped. Also, this dataset only contains the user details and no computer specification as of now."
      ],
      "metadata": {
        "id": "1QbsA5nB1QPg"
      }
    }
  ]
}