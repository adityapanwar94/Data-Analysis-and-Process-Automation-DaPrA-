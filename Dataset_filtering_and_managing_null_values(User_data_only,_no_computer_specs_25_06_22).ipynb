{
  "nbformat": 4,
  "nbformat_minor": 0,
  "metadata": {
    "colab": {
      "name": "Dataset filtering and managing null values(User data only, no computer specs-25/06/22)",
      "provenance": [],
      "include_colab_link": true
    },
    "kernelspec": {
      "name": "python3",
      "display_name": "Python 3"
    },
    "language_info": {
      "name": "python"
    }
  },
  "cells": [
    {
      "cell_type": "markdown",
      "metadata": {
        "id": "view-in-github",
        "colab_type": "text"
      },
      "source": [
        "<a href=\"https://colab.research.google.com/github/adityapanwar94/Data-Analysis-and-Process-Automation-DaPrA-/blob/drishti/Dataset_filtering_and_managing_null_values(User_data_only%2C_no_computer_specs_25_06_22).ipynb\" target=\"_parent\"><img src=\"https://colab.research.google.com/assets/colab-badge.svg\" alt=\"Open In Colab\"/></a>"
      ]
    },
    {
      "cell_type": "markdown",
      "source": [
        "## **Importing Dataset**"
      ],
      "metadata": {
        "id": "c_1EWjPWf11a"
      }
    },
    {
      "cell_type": "code",
      "execution_count": 83,
      "metadata": {
        "colab": {
          "base_uri": "https://localhost:8080/"
        },
        "id": "UkOq9kHEdgyD",
        "outputId": "f78c0edb-5417-445f-de62-29f40ff8610d"
      },
      "outputs": [
        {
          "output_type": "stream",
          "name": "stdout",
          "text": [
            "Drive already mounted at /content/drive; to attempt to forcibly remount, call drive.mount(\"/content/drive\", force_remount=True).\n"
          ]
        }
      ],
      "source": [
        "from google.colab import drive\n",
        "drive.mount('/content/drive')"
      ]
    },
    {
      "cell_type": "code",
      "source": [
        "!unzip -q /content/drive/MyDrive/eYSIP_Data/Dataset25-06.zip\n"
      ],
      "metadata": {
        "id": "sHBcOFygdpbm",
        "outputId": "010b304c-351c-4e0f-e39d-9a16f45f5f41",
        "colab": {
          "base_uri": "https://localhost:8080/"
        }
      },
      "execution_count": 84,
      "outputs": [
        {
          "output_type": "stream",
          "name": "stdout",
          "text": [
            "replace Dataset (25-06-22)/Dataset(24-06-22).csv? [y]es, [n]o, [A]ll, [N]one, [r]ename: y\n",
            "replace Dataset (25-06-22)/departments(new).csv? [y]es, [n]o, [A]ll, [N]one, [r]ename: y\n",
            "replace Dataset (25-06-22)/Team_Members_Details_ DaPrA - output_geekbench.csv? [y]es, [n]o, [A]ll, [N]one, [r]ename: y\n",
            "replace Dataset (25-06-22)/Team_Members_Details_ DaPrA - team_member_details_30_09.csv? [y]es, [n]o, [A]ll, [N]one, [r]ename: y\n"
          ]
        }
      ]
    },
    {
      "cell_type": "markdown",
      "source": [
        "## **Importing Libraries**"
      ],
      "metadata": {
        "id": "B_DsJco8fxsI"
      }
    },
    {
      "cell_type": "code",
      "source": [
        "import pandas as pd\n",
        "import numpy as np\n",
        "import matplotlib.pyplot as plt\n",
        "import seaborn as sns\n",
        "from itertools import groupby\n",
        "from sklearn.preprocessing import OneHotEncoder"
      ],
      "metadata": {
        "id": "hxo-Ej-BeRc_"
      },
      "execution_count": 85,
      "outputs": []
    },
    {
      "cell_type": "code",
      "source": [
        "Mem_data24 = pd.read_csv(r'/content/Dataset (25-06-22)/Dataset(24-06-22).csv')\n",
        "Mem_data24.info()"
      ],
      "metadata": {
        "colab": {
          "base_uri": "https://localhost:8080/"
        },
        "id": "CjZFZpQbgGSp",
        "outputId": "4e6ed703-45c3-4cd7-af9e-e5893585749f"
      },
      "execution_count": 86,
      "outputs": [
        {
          "output_type": "stream",
          "name": "stdout",
          "text": [
            "<class 'pandas.core.frame.DataFrame'>\n",
            "RangeIndex: 5172 entries, 0 to 5171\n",
            "Data columns (total 35 columns):\n",
            " #   Column                Non-Null Count  Dtype  \n",
            "---  ------                --------------  -----  \n",
            " 0   Unnamed: 0            5172 non-null   int64  \n",
            " 1   team_id               5172 non-null   int64  \n",
            " 2   role                  5172 non-null   int64  \n",
            " 3   Discipline            5161 non-null   float64\n",
            " 4   Year                  5161 non-null   float64\n",
            " 5   Gender                5161 non-null   float64\n",
            " 6   elsiLab               5153 non-null   float64\n",
            " 7   cgpa                  4907 non-null   float64\n",
            " 8   onlineCourse          5154 non-null   float64\n",
            " 9   completeCourse        5154 non-null   float64\n",
            " 10  ssc_board             4950 non-null   object \n",
            " 11  hsc_board             4947 non-null   object \n",
            " 12  workstation           5154 non-null   float64\n",
            " 13  internetspeed         4067 non-null   object \n",
            " 14  sub_ros               5161 non-null   float64\n",
            " 15  sub_ip                5161 non-null   float64\n",
            " 16  sub_emb_c             5161 non-null   float64\n",
            " 17  sub_ml                5161 non-null   float64\n",
            " 18  sub_ap                5161 non-null   float64\n",
            " 19  sub_cs                5161 non-null   float64\n",
            " 20  sub_mss               5161 non-null   float64\n",
            " 21  sub_fpga              5161 non-null   float64\n",
            " 22  sub_mm                5161 non-null   float64\n",
            " 23  sub_de                5161 non-null   float64\n",
            " 24  preference1           5120 non-null   float64\n",
            " 25  preference2           5120 non-null   float64\n",
            " 26  preference3           5120 non-null   float64\n",
            " 27  preference4           5120 non-null   float64\n",
            " 28  preference5           5120 non-null   float64\n",
            " 29  preference6           5120 non-null   float64\n",
            " 30  IS_eLSI               5172 non-null   int64  \n",
            " 31  country               5172 non-null   object \n",
            " 32  Participation_Freq    5172 non-null   int64  \n",
            " 33  Internet_option_freq  5172 non-null   int64  \n",
            " 34  Department_category   5111 non-null   float64\n",
            "dtypes: float64(25), int64(6), object(4)\n",
            "memory usage: 1.4+ MB\n"
          ]
        }
      ]
    },
    {
      "cell_type": "code",
      "source": [
        "Mem_data24.drop(['Unnamed: 0'], axis=1,inplace=True)"
      ],
      "metadata": {
        "id": "dfK__xyfgykp"
      },
      "execution_count": 87,
      "outputs": []
    },
    {
      "cell_type": "code",
      "source": [
        "def unique_chart(Dataset):\n",
        "  uni_dict = {}\n",
        "  uni_value ={}\n",
        "  keys = Dataset.columns\n",
        "  for i in keys:\n",
        "    uni_dict[i] = Dataset[i].nunique()\n",
        "    if Dataset[i].nunique() <= 10:\n",
        "      uni_value[i] = Dataset[i].unique()\n",
        "    else:\n",
        "      uni_value[i] = None\n",
        "  Unique = pd.DataFrame([uni_dict, uni_value]) \n",
        "  return (Unique)\n"
      ],
      "metadata": {
        "id": "4ocMD8B6JRew"
      },
      "execution_count": 88,
      "outputs": []
    },
    {
      "cell_type": "markdown",
      "source": [
        "## **Converting SSc and HSc columns into numerical data**"
      ],
      "metadata": {
        "id": "nXWWjeHY2X9M"
      }
    },
    {
      "cell_type": "code",
      "source": [
        "Mem_data24['ssc_board'].replace(['SB', 'CBSE', 'CISCE','OT', 'NIOS'], [0, 1, 2, 3, 4], inplace=True)\n",
        "Mem_data24['hsc_board'].replace(['SB', 'CBSE', 'CISCE','OT', 'NIOS'], [0, 1, 2, 3, 4], inplace=True)"
      ],
      "metadata": {
        "id": "MXu8dYbCtdhe"
      },
      "execution_count": 89,
      "outputs": []
    },
    {
      "cell_type": "markdown",
      "source": [
        "## **Converting internet speed into categories upto 1, 10, 50, 100, 150 and 200**"
      ],
      "metadata": {
        "id": "-sHJLXai2gMl"
      }
    },
    {
      "cell_type": "code",
      "source": [
        "Mem_data24['internetspeed'].replace(['Upto 1 Mbps', 'Upto 10 Mbps','Upto 50 Mbps', 'Upto 100 Mbps', 'Upto 150 Mbps', 'Upto 200 Mbps & more'], [1, 10, 50, 100, 150, 200], inplace=True)"
      ],
      "metadata": {
        "id": "2xvOQfYqqsVf"
      },
      "execution_count": 90,
      "outputs": []
    },
    {
      "cell_type": "code",
      "source": [
        "Mem_data24.rename(columns = {'internetspeed':'internetspeed<'}, inplace = True)"
      ],
      "metadata": {
        "id": "fKGe7M6PyMS0"
      },
      "execution_count": 91,
      "outputs": []
    },
    {
      "cell_type": "markdown",
      "source": [
        "## **Converting country column into numerical value**"
      ],
      "metadata": {
        "id": "S2Qr3Tl32rzS"
      }
    },
    {
      "cell_type": "code",
      "source": [
        "Mem_data24['country'].replace(['India', 'Bhutan', 'Sri Lanka'], [0, 1, 2], inplace=True)"
      ],
      "metadata": {
        "id": "B2nl5Kr9y5g5"
      },
      "execution_count": 92,
      "outputs": []
    },
    {
      "cell_type": "code",
      "source": [
        "Mem_data24.info()"
      ],
      "metadata": {
        "colab": {
          "base_uri": "https://localhost:8080/"
        },
        "id": "q13LwG2u23QH",
        "outputId": "6b52f9a1-e117-45b0-d1c4-4e5bbb7ac75b"
      },
      "execution_count": 93,
      "outputs": [
        {
          "output_type": "stream",
          "name": "stdout",
          "text": [
            "<class 'pandas.core.frame.DataFrame'>\n",
            "RangeIndex: 5172 entries, 0 to 5171\n",
            "Data columns (total 34 columns):\n",
            " #   Column                Non-Null Count  Dtype  \n",
            "---  ------                --------------  -----  \n",
            " 0   team_id               5172 non-null   int64  \n",
            " 1   role                  5172 non-null   int64  \n",
            " 2   Discipline            5161 non-null   float64\n",
            " 3   Year                  5161 non-null   float64\n",
            " 4   Gender                5161 non-null   float64\n",
            " 5   elsiLab               5153 non-null   float64\n",
            " 6   cgpa                  4907 non-null   float64\n",
            " 7   onlineCourse          5154 non-null   float64\n",
            " 8   completeCourse        5154 non-null   float64\n",
            " 9   ssc_board             4950 non-null   float64\n",
            " 10  hsc_board             4947 non-null   float64\n",
            " 11  workstation           5154 non-null   float64\n",
            " 12  internetspeed<        4067 non-null   float64\n",
            " 13  sub_ros               5161 non-null   float64\n",
            " 14  sub_ip                5161 non-null   float64\n",
            " 15  sub_emb_c             5161 non-null   float64\n",
            " 16  sub_ml                5161 non-null   float64\n",
            " 17  sub_ap                5161 non-null   float64\n",
            " 18  sub_cs                5161 non-null   float64\n",
            " 19  sub_mss               5161 non-null   float64\n",
            " 20  sub_fpga              5161 non-null   float64\n",
            " 21  sub_mm                5161 non-null   float64\n",
            " 22  sub_de                5161 non-null   float64\n",
            " 23  preference1           5120 non-null   float64\n",
            " 24  preference2           5120 non-null   float64\n",
            " 25  preference3           5120 non-null   float64\n",
            " 26  preference4           5120 non-null   float64\n",
            " 27  preference5           5120 non-null   float64\n",
            " 28  preference6           5120 non-null   float64\n",
            " 29  IS_eLSI               5172 non-null   int64  \n",
            " 30  country               5172 non-null   int64  \n",
            " 31  Participation_Freq    5172 non-null   int64  \n",
            " 32  Internet_option_freq  5172 non-null   int64  \n",
            " 33  Department_category   5111 non-null   float64\n",
            "dtypes: float64(28), int64(6)\n",
            "memory usage: 1.3 MB\n"
          ]
        }
      ]
    },
    {
      "cell_type": "markdown",
      "source": [
        "## **Analysing Null and Unique values**"
      ],
      "metadata": {
        "id": "dHiu4DYC27oq"
      }
    },
    {
      "cell_type": "code",
      "source": [
        "print(Mem_data24.isna().sum().sort_values(ascending=False).to_markdown())"
      ],
      "metadata": {
        "colab": {
          "base_uri": "https://localhost:8080/"
        },
        "id": "iNkdfCb0zG8L",
        "outputId": "08bbdfb8-0bb9-49c9-a91d-26e1c4982b84"
      },
      "execution_count": 94,
      "outputs": [
        {
          "output_type": "stream",
          "name": "stdout",
          "text": [
            "|                      |    0 |\n",
            "|:---------------------|-----:|\n",
            "| internetspeed<       | 1105 |\n",
            "| cgpa                 |  265 |\n",
            "| hsc_board            |  225 |\n",
            "| ssc_board            |  222 |\n",
            "| Department_category  |   61 |\n",
            "| preference4          |   52 |\n",
            "| preference5          |   52 |\n",
            "| preference6          |   52 |\n",
            "| preference3          |   52 |\n",
            "| preference2          |   52 |\n",
            "| preference1          |   52 |\n",
            "| elsiLab              |   19 |\n",
            "| onlineCourse         |   18 |\n",
            "| completeCourse       |   18 |\n",
            "| workstation          |   18 |\n",
            "| sub_mss              |   11 |\n",
            "| sub_de               |   11 |\n",
            "| sub_mm               |   11 |\n",
            "| sub_fpga             |   11 |\n",
            "| sub_ap               |   11 |\n",
            "| sub_cs               |   11 |\n",
            "| sub_ml               |   11 |\n",
            "| sub_emb_c            |   11 |\n",
            "| sub_ip               |   11 |\n",
            "| sub_ros              |   11 |\n",
            "| Gender               |   11 |\n",
            "| Year                 |   11 |\n",
            "| Discipline           |   11 |\n",
            "| role                 |    0 |\n",
            "| IS_eLSI              |    0 |\n",
            "| country              |    0 |\n",
            "| Participation_Freq   |    0 |\n",
            "| Internet_option_freq |    0 |\n",
            "| team_id              |    0 |\n"
          ]
        }
      ]
    },
    {
      "cell_type": "code",
      "source": [
        "Unique = unique_chart(Mem_data24)\n",
        "print(Unique.to_markdown())"
      ],
      "metadata": {
        "colab": {
          "base_uri": "https://localhost:8080/"
        },
        "id": "ltJKBSSzBYXl",
        "outputId": "a60bf7dd-5104-4823-8e5f-8d2141358f68"
      },
      "execution_count": 95,
      "outputs": [
        {
          "output_type": "stream",
          "name": "stdout",
          "text": [
            "|    |   team_id | role   | Discipline                    | Year                  | Gender        | elsiLab       |   cgpa |   onlineCourse |   completeCourse | ssc_board                 | hsc_board                 | workstation   | internetspeed<                       | sub_ros                   | sub_ip                    | sub_emb_c                 | sub_ml                    | sub_ap                    | sub_cs                    | sub_mss                   | sub_fpga                  | sub_mm                    | sub_de                    | preference1                   | preference2                   | preference3                   | preference4                   | preference5                   | preference6                   | IS_eLSI   | country   | Participation_Freq   | Internet_option_freq   | Department_category   |\n",
            "|---:|----------:|:-------|:------------------------------|:----------------------|:--------------|:--------------|-------:|---------------:|-----------------:|:--------------------------|:--------------------------|:--------------|:-------------------------------------|:--------------------------|:--------------------------|:--------------------------|:--------------------------|:--------------------------|:--------------------------|:--------------------------|:--------------------------|:--------------------------|:--------------------------|:------------------------------|:------------------------------|:------------------------------|:------------------------------|:------------------------------|:------------------------------|:----------|:----------|:---------------------|:-----------------------|:----------------------|\n",
            "|  0 |      1293 | 2      | 6                             | 4                     | 2             | 2             |    755 |             40 |               35 | 5                         | 5                         | 2             | 6                                    | 5                         | 5                         | 5                         | 5                         | 5                         | 5                         | 5                         | 5                         | 5                         | 5                         | 6                             | 6                             | 6                             | 6                             | 6                             | 6                             | 2         | 3         | 4                    | 6                      | 4                     |\n",
            "|  1 |       nan | [1 2]  | [ 0.  1.  2.  3.  4.  5. nan] | [ 3.  2.  4.  1. nan] | [ 0.  1. nan] | [ 1.  2. nan] |    nan |            nan |              nan | [ 0.  1.  2. nan  3.  4.] | [ 1.  0.  2.  4. nan  3.] | [ 1.  2. nan] | [  1.  10.  50. 150. 200. 100.  nan] | [ 1.  0.  4.  3.  2. nan] | [ 0.  2.  3.  1.  4. nan] | [ 1.  0.  3.  2.  4. nan] | [ 0.  1.  3.  4.  2. nan] | [ 0.  2.  1.  3.  4. nan] | [ 2.  1.  0.  3.  4. nan] | [ 0.  1.  3.  2.  4. nan] | [ 1.  0.  2.  4.  3. nan] | [ 0.  2.  1.  3. nan  4.] | [ 2.  1.  0.  3.  4. nan] | [ 0.  1.  2.  3.  4.  5. nan] | [ 1.  3.  5.  0.  2.  4. nan] | [ 4.  1.  5.  3.  0.  2. nan] | [ 3.  4.  5.  1.  0.  2. nan] | [ 5.  2.  3.  4.  1.  0. nan] | [ 2.  4.  0.  5.  3.  1. nan] | [1 0]     | [0 1 2]   | [1 0 2 3]            | [3 2 1 4 5 0]          | [ 0.  1.  2.  3. nan] |\n"
          ]
        }
      ]
    },
    {
      "cell_type": "markdown",
      "source": [
        "## **Finding out the list of teams with all preferences empty**"
      ],
      "metadata": {
        "id": "UoeY3u2t3HY3"
      }
    },
    {
      "cell_type": "code",
      "source": [
        "compare1 = Mem_data24.preference1.isnull().groupby(Mem_data24['team_id']).sum().astype(int).reset_index(name='count1')\n",
        "compare2 = Mem_data24.preference1.isnull().groupby(Mem_data24['team_id']).sum().astype(int).reset_index(name='count2')\n",
        "compare3 = Mem_data24.preference1.isnull().groupby(Mem_data24['team_id']).sum().astype(int).reset_index(name='count3')\n",
        "compare4 = Mem_data24.preference1.isnull().groupby(Mem_data24['team_id']).sum().astype(int).reset_index(name='count4')\n",
        "compare5 = Mem_data24.preference1.isnull().groupby(Mem_data24['team_id']).sum().astype(int).reset_index(name='count5')\n",
        "compare6 = Mem_data24.preference1.isnull().groupby(Mem_data24['team_id']).sum().astype(int).reset_index(name='count6')"
      ],
      "metadata": {
        "id": "NG_LASfRz9dd"
      },
      "execution_count": 96,
      "outputs": []
    },
    {
      "cell_type": "code",
      "source": [
        "pd.concat([compare1[compare1['count1']==4], compare2[compare2['count2']==4], compare3[compare3['count3']==4], compare4[compare4['count4']==4], compare5[compare5['count5']==4], compare6[compare6['count6']==4]], axis=1)"
      ],
      "metadata": {
        "colab": {
          "base_uri": "https://localhost:8080/",
          "height": 457
        },
        "id": "U-_gjxxD2ZWO",
        "outputId": "771e4b36-aaf5-4dcc-fcb3-9b18b6317907"
      },
      "execution_count": 97,
      "outputs": [
        {
          "output_type": "execute_result",
          "data": {
            "text/plain": [
              "      team_id  count1  team_id  count2  team_id  count3  team_id  count4  \\\n",
              "33       1054       4     1054       4     1054       4     1054       4   \n",
              "265      1395       4     1395       4     1395       4     1395       4   \n",
              "419      1576       4     1576       4     1576       4     1576       4   \n",
              "434      1594       4     1594       4     1594       4     1594       4   \n",
              "516      1711       4     1711       4     1711       4     1711       4   \n",
              "635      1883       4     1883       4     1883       4     1883       4   \n",
              "699      1965       4     1965       4     1965       4     1965       4   \n",
              "722      1996       4     1996       4     1996       4     1996       4   \n",
              "729      2005       4     2005       4     2005       4     2005       4   \n",
              "764      2093       4     2093       4     2093       4     2093       4   \n",
              "1120     2670       4     2670       4     2670       4     2670       4   \n",
              "1130     2684       4     2684       4     2684       4     2684       4   \n",
              "1162     2736       4     2736       4     2736       4     2736       4   \n",
              "\n",
              "      team_id  count5  team_id  count6  \n",
              "33       1054       4     1054       4  \n",
              "265      1395       4     1395       4  \n",
              "419      1576       4     1576       4  \n",
              "434      1594       4     1594       4  \n",
              "516      1711       4     1711       4  \n",
              "635      1883       4     1883       4  \n",
              "699      1965       4     1965       4  \n",
              "722      1996       4     1996       4  \n",
              "729      2005       4     2005       4  \n",
              "764      2093       4     2093       4  \n",
              "1120     2670       4     2670       4  \n",
              "1130     2684       4     2684       4  \n",
              "1162     2736       4     2736       4  "
            ],
            "text/html": [
              "\n",
              "  <div id=\"df-5415e5ba-ab33-4874-8e0b-5cadd6336805\">\n",
              "    <div class=\"colab-df-container\">\n",
              "      <div>\n",
              "<style scoped>\n",
              "    .dataframe tbody tr th:only-of-type {\n",
              "        vertical-align: middle;\n",
              "    }\n",
              "\n",
              "    .dataframe tbody tr th {\n",
              "        vertical-align: top;\n",
              "    }\n",
              "\n",
              "    .dataframe thead th {\n",
              "        text-align: right;\n",
              "    }\n",
              "</style>\n",
              "<table border=\"1\" class=\"dataframe\">\n",
              "  <thead>\n",
              "    <tr style=\"text-align: right;\">\n",
              "      <th></th>\n",
              "      <th>team_id</th>\n",
              "      <th>count1</th>\n",
              "      <th>team_id</th>\n",
              "      <th>count2</th>\n",
              "      <th>team_id</th>\n",
              "      <th>count3</th>\n",
              "      <th>team_id</th>\n",
              "      <th>count4</th>\n",
              "      <th>team_id</th>\n",
              "      <th>count5</th>\n",
              "      <th>team_id</th>\n",
              "      <th>count6</th>\n",
              "    </tr>\n",
              "  </thead>\n",
              "  <tbody>\n",
              "    <tr>\n",
              "      <th>33</th>\n",
              "      <td>1054</td>\n",
              "      <td>4</td>\n",
              "      <td>1054</td>\n",
              "      <td>4</td>\n",
              "      <td>1054</td>\n",
              "      <td>4</td>\n",
              "      <td>1054</td>\n",
              "      <td>4</td>\n",
              "      <td>1054</td>\n",
              "      <td>4</td>\n",
              "      <td>1054</td>\n",
              "      <td>4</td>\n",
              "    </tr>\n",
              "    <tr>\n",
              "      <th>265</th>\n",
              "      <td>1395</td>\n",
              "      <td>4</td>\n",
              "      <td>1395</td>\n",
              "      <td>4</td>\n",
              "      <td>1395</td>\n",
              "      <td>4</td>\n",
              "      <td>1395</td>\n",
              "      <td>4</td>\n",
              "      <td>1395</td>\n",
              "      <td>4</td>\n",
              "      <td>1395</td>\n",
              "      <td>4</td>\n",
              "    </tr>\n",
              "    <tr>\n",
              "      <th>419</th>\n",
              "      <td>1576</td>\n",
              "      <td>4</td>\n",
              "      <td>1576</td>\n",
              "      <td>4</td>\n",
              "      <td>1576</td>\n",
              "      <td>4</td>\n",
              "      <td>1576</td>\n",
              "      <td>4</td>\n",
              "      <td>1576</td>\n",
              "      <td>4</td>\n",
              "      <td>1576</td>\n",
              "      <td>4</td>\n",
              "    </tr>\n",
              "    <tr>\n",
              "      <th>434</th>\n",
              "      <td>1594</td>\n",
              "      <td>4</td>\n",
              "      <td>1594</td>\n",
              "      <td>4</td>\n",
              "      <td>1594</td>\n",
              "      <td>4</td>\n",
              "      <td>1594</td>\n",
              "      <td>4</td>\n",
              "      <td>1594</td>\n",
              "      <td>4</td>\n",
              "      <td>1594</td>\n",
              "      <td>4</td>\n",
              "    </tr>\n",
              "    <tr>\n",
              "      <th>516</th>\n",
              "      <td>1711</td>\n",
              "      <td>4</td>\n",
              "      <td>1711</td>\n",
              "      <td>4</td>\n",
              "      <td>1711</td>\n",
              "      <td>4</td>\n",
              "      <td>1711</td>\n",
              "      <td>4</td>\n",
              "      <td>1711</td>\n",
              "      <td>4</td>\n",
              "      <td>1711</td>\n",
              "      <td>4</td>\n",
              "    </tr>\n",
              "    <tr>\n",
              "      <th>635</th>\n",
              "      <td>1883</td>\n",
              "      <td>4</td>\n",
              "      <td>1883</td>\n",
              "      <td>4</td>\n",
              "      <td>1883</td>\n",
              "      <td>4</td>\n",
              "      <td>1883</td>\n",
              "      <td>4</td>\n",
              "      <td>1883</td>\n",
              "      <td>4</td>\n",
              "      <td>1883</td>\n",
              "      <td>4</td>\n",
              "    </tr>\n",
              "    <tr>\n",
              "      <th>699</th>\n",
              "      <td>1965</td>\n",
              "      <td>4</td>\n",
              "      <td>1965</td>\n",
              "      <td>4</td>\n",
              "      <td>1965</td>\n",
              "      <td>4</td>\n",
              "      <td>1965</td>\n",
              "      <td>4</td>\n",
              "      <td>1965</td>\n",
              "      <td>4</td>\n",
              "      <td>1965</td>\n",
              "      <td>4</td>\n",
              "    </tr>\n",
              "    <tr>\n",
              "      <th>722</th>\n",
              "      <td>1996</td>\n",
              "      <td>4</td>\n",
              "      <td>1996</td>\n",
              "      <td>4</td>\n",
              "      <td>1996</td>\n",
              "      <td>4</td>\n",
              "      <td>1996</td>\n",
              "      <td>4</td>\n",
              "      <td>1996</td>\n",
              "      <td>4</td>\n",
              "      <td>1996</td>\n",
              "      <td>4</td>\n",
              "    </tr>\n",
              "    <tr>\n",
              "      <th>729</th>\n",
              "      <td>2005</td>\n",
              "      <td>4</td>\n",
              "      <td>2005</td>\n",
              "      <td>4</td>\n",
              "      <td>2005</td>\n",
              "      <td>4</td>\n",
              "      <td>2005</td>\n",
              "      <td>4</td>\n",
              "      <td>2005</td>\n",
              "      <td>4</td>\n",
              "      <td>2005</td>\n",
              "      <td>4</td>\n",
              "    </tr>\n",
              "    <tr>\n",
              "      <th>764</th>\n",
              "      <td>2093</td>\n",
              "      <td>4</td>\n",
              "      <td>2093</td>\n",
              "      <td>4</td>\n",
              "      <td>2093</td>\n",
              "      <td>4</td>\n",
              "      <td>2093</td>\n",
              "      <td>4</td>\n",
              "      <td>2093</td>\n",
              "      <td>4</td>\n",
              "      <td>2093</td>\n",
              "      <td>4</td>\n",
              "    </tr>\n",
              "    <tr>\n",
              "      <th>1120</th>\n",
              "      <td>2670</td>\n",
              "      <td>4</td>\n",
              "      <td>2670</td>\n",
              "      <td>4</td>\n",
              "      <td>2670</td>\n",
              "      <td>4</td>\n",
              "      <td>2670</td>\n",
              "      <td>4</td>\n",
              "      <td>2670</td>\n",
              "      <td>4</td>\n",
              "      <td>2670</td>\n",
              "      <td>4</td>\n",
              "    </tr>\n",
              "    <tr>\n",
              "      <th>1130</th>\n",
              "      <td>2684</td>\n",
              "      <td>4</td>\n",
              "      <td>2684</td>\n",
              "      <td>4</td>\n",
              "      <td>2684</td>\n",
              "      <td>4</td>\n",
              "      <td>2684</td>\n",
              "      <td>4</td>\n",
              "      <td>2684</td>\n",
              "      <td>4</td>\n",
              "      <td>2684</td>\n",
              "      <td>4</td>\n",
              "    </tr>\n",
              "    <tr>\n",
              "      <th>1162</th>\n",
              "      <td>2736</td>\n",
              "      <td>4</td>\n",
              "      <td>2736</td>\n",
              "      <td>4</td>\n",
              "      <td>2736</td>\n",
              "      <td>4</td>\n",
              "      <td>2736</td>\n",
              "      <td>4</td>\n",
              "      <td>2736</td>\n",
              "      <td>4</td>\n",
              "      <td>2736</td>\n",
              "      <td>4</td>\n",
              "    </tr>\n",
              "  </tbody>\n",
              "</table>\n",
              "</div>\n",
              "      <button class=\"colab-df-convert\" onclick=\"convertToInteractive('df-5415e5ba-ab33-4874-8e0b-5cadd6336805')\"\n",
              "              title=\"Convert this dataframe to an interactive table.\"\n",
              "              style=\"display:none;\">\n",
              "        \n",
              "  <svg xmlns=\"http://www.w3.org/2000/svg\" height=\"24px\"viewBox=\"0 0 24 24\"\n",
              "       width=\"24px\">\n",
              "    <path d=\"M0 0h24v24H0V0z\" fill=\"none\"/>\n",
              "    <path d=\"M18.56 5.44l.94 2.06.94-2.06 2.06-.94-2.06-.94-.94-2.06-.94 2.06-2.06.94zm-11 1L8.5 8.5l.94-2.06 2.06-.94-2.06-.94L8.5 2.5l-.94 2.06-2.06.94zm10 10l.94 2.06.94-2.06 2.06-.94-2.06-.94-.94-2.06-.94 2.06-2.06.94z\"/><path d=\"M17.41 7.96l-1.37-1.37c-.4-.4-.92-.59-1.43-.59-.52 0-1.04.2-1.43.59L10.3 9.45l-7.72 7.72c-.78.78-.78 2.05 0 2.83L4 21.41c.39.39.9.59 1.41.59.51 0 1.02-.2 1.41-.59l7.78-7.78 2.81-2.81c.8-.78.8-2.07 0-2.86zM5.41 20L4 18.59l7.72-7.72 1.47 1.35L5.41 20z\"/>\n",
              "  </svg>\n",
              "      </button>\n",
              "      \n",
              "  <style>\n",
              "    .colab-df-container {\n",
              "      display:flex;\n",
              "      flex-wrap:wrap;\n",
              "      gap: 12px;\n",
              "    }\n",
              "\n",
              "    .colab-df-convert {\n",
              "      background-color: #E8F0FE;\n",
              "      border: none;\n",
              "      border-radius: 50%;\n",
              "      cursor: pointer;\n",
              "      display: none;\n",
              "      fill: #1967D2;\n",
              "      height: 32px;\n",
              "      padding: 0 0 0 0;\n",
              "      width: 32px;\n",
              "    }\n",
              "\n",
              "    .colab-df-convert:hover {\n",
              "      background-color: #E2EBFA;\n",
              "      box-shadow: 0px 1px 2px rgba(60, 64, 67, 0.3), 0px 1px 3px 1px rgba(60, 64, 67, 0.15);\n",
              "      fill: #174EA6;\n",
              "    }\n",
              "\n",
              "    [theme=dark] .colab-df-convert {\n",
              "      background-color: #3B4455;\n",
              "      fill: #D2E3FC;\n",
              "    }\n",
              "\n",
              "    [theme=dark] .colab-df-convert:hover {\n",
              "      background-color: #434B5C;\n",
              "      box-shadow: 0px 1px 3px 1px rgba(0, 0, 0, 0.15);\n",
              "      filter: drop-shadow(0px 1px 2px rgba(0, 0, 0, 0.3));\n",
              "      fill: #FFFFFF;\n",
              "    }\n",
              "  </style>\n",
              "\n",
              "      <script>\n",
              "        const buttonEl =\n",
              "          document.querySelector('#df-5415e5ba-ab33-4874-8e0b-5cadd6336805 button.colab-df-convert');\n",
              "        buttonEl.style.display =\n",
              "          google.colab.kernel.accessAllowed ? 'block' : 'none';\n",
              "\n",
              "        async function convertToInteractive(key) {\n",
              "          const element = document.querySelector('#df-5415e5ba-ab33-4874-8e0b-5cadd6336805');\n",
              "          const dataTable =\n",
              "            await google.colab.kernel.invokeFunction('convertToInteractive',\n",
              "                                                     [key], {});\n",
              "          if (!dataTable) return;\n",
              "\n",
              "          const docLinkHtml = 'Like what you see? Visit the ' +\n",
              "            '<a target=\"_blank\" href=https://colab.research.google.com/notebooks/data_table.ipynb>data table notebook</a>'\n",
              "            + ' to learn more about interactive tables.';\n",
              "          element.innerHTML = '';\n",
              "          dataTable['output_type'] = 'display_data';\n",
              "          await google.colab.output.renderOutput(dataTable, element);\n",
              "          const docLink = document.createElement('div');\n",
              "          docLink.innerHTML = docLinkHtml;\n",
              "          element.appendChild(docLink);\n",
              "        }\n",
              "      </script>\n",
              "    </div>\n",
              "  </div>\n",
              "  "
            ]
          },
          "metadata": {},
          "execution_count": 97
        }
      ]
    },
    {
      "cell_type": "code",
      "source": [
        "team_id_with_no_preference = compare2[compare2['count2']==4]['team_id']"
      ],
      "metadata": {
        "id": "RP3AwA8wAceY"
      },
      "execution_count": 98,
      "outputs": []
    },
    {
      "cell_type": "code",
      "source": [
        "team_id_with_no_preference"
      ],
      "metadata": {
        "colab": {
          "base_uri": "https://localhost:8080/"
        },
        "id": "cybQARYFAppB",
        "outputId": "2a952f08-8683-447d-f366-30c6e92b1d9f"
      },
      "execution_count": 99,
      "outputs": [
        {
          "output_type": "execute_result",
          "data": {
            "text/plain": [
              "33      1054\n",
              "265     1395\n",
              "419     1576\n",
              "434     1594\n",
              "516     1711\n",
              "635     1883\n",
              "699     1965\n",
              "722     1996\n",
              "729     2005\n",
              "764     2093\n",
              "1120    2670\n",
              "1130    2684\n",
              "1162    2736\n",
              "Name: team_id, dtype: int64"
            ]
          },
          "metadata": {},
          "execution_count": 99
        }
      ]
    },
    {
      "cell_type": "markdown",
      "source": [
        "## **Team IDs with no Preference**"
      ],
      "metadata": {
        "id": "b4i60ZRzAZR0"
      }
    },
    {
      "cell_type": "code",
      "source": [
        "Data_analysis = Mem_data24"
      ],
      "metadata": {
        "id": "buy9q27TK_AZ"
      },
      "execution_count": 100,
      "outputs": []
    },
    {
      "cell_type": "code",
      "source": [
        "columns = ['preference1', 'preference2', 'preference3', 'preference4', 'preference5', 'preference6']  \n",
        "df_all = pd.DataFrame(pd.concat([Data_analysis[Data_analysis[cols].isnull()][cols] for cols in columns], axis=1))"
      ],
      "metadata": {
        "id": "LuFqRYtE5Nc6"
      },
      "execution_count": 101,
      "outputs": []
    },
    {
      "cell_type": "code",
      "source": [
        "indexlist = df_all.index.to_list()\n",
        "teamids_without_pref = []\n",
        "for i in indexlist:\n",
        "  teamids_without_pref.append(Data_analysis.iloc[i,0:1].to_list())\n",
        "teamid_null_pref = sorted([list(j) for i, j in groupby(teamids_without_pref)], key=len)\n",
        "print(teamid_null_pref)"
      ],
      "metadata": {
        "colab": {
          "base_uri": "https://localhost:8080/"
        },
        "id": "lxswMYQ95WWQ",
        "outputId": "4c382e7d-d91a-4200-fa0c-ac198bf7fce1"
      },
      "execution_count": 102,
      "outputs": [
        {
          "output_type": "stream",
          "name": "stdout",
          "text": [
            "[[[1054.0], [1054.0], [1054.0], [1054.0]], [[1395.0], [1395.0], [1395.0], [1395.0]], [[1576.0], [1576.0], [1576.0], [1576.0]], [[1594.0], [1594.0], [1594.0], [1594.0]], [[1711.0], [1711.0], [1711.0], [1711.0]], [[1883.0], [1883.0], [1883.0], [1883.0]], [[1965.0], [1965.0], [1965.0], [1965.0]], [[1996.0], [1996.0], [1996.0], [1996.0]], [[2005.0], [2005.0], [2005.0], [2005.0]], [[2093.0], [2093.0], [2093.0], [2093.0]], [[2670.0], [2670.0], [2670.0], [2670.0]], [[2684.0], [2684.0], [2684.0], [2684.0]], [[2736.0], [2736.0], [2736.0], [2736.0]]]\n"
          ]
        }
      ]
    },
    {
      "cell_type": "code",
      "source": [
        "preference = ['preference1', 'preference2', 'preference3', 'preference4', 'preference5', 'preference6']    \n",
        "def preference_null_replace(columns):\n",
        "  for cols in columns:\n",
        "    Data_analysis[cols] = Data_analysis[cols].fillna(7)\n",
        "  return Data_analysis\n",
        "\n",
        "Data_analysis = preference_null_replace(preference)\n"
      ],
      "metadata": {
        "id": "mmvQ5hlf_--e"
      },
      "execution_count": 103,
      "outputs": []
    },
    {
      "cell_type": "code",
      "source": [
        "print(Data_analysis.isna().sum().sort_values(ascending=False).to_markdown())"
      ],
      "metadata": {
        "colab": {
          "base_uri": "https://localhost:8080/"
        },
        "id": "c3R2VaVbBxqQ",
        "outputId": "d9d205ec-ea04-406c-889f-3deb62da4325"
      },
      "execution_count": 104,
      "outputs": [
        {
          "output_type": "stream",
          "name": "stdout",
          "text": [
            "|                      |    0 |\n",
            "|:---------------------|-----:|\n",
            "| internetspeed<       | 1105 |\n",
            "| cgpa                 |  265 |\n",
            "| hsc_board            |  225 |\n",
            "| ssc_board            |  222 |\n",
            "| Department_category  |   61 |\n",
            "| elsiLab              |   19 |\n",
            "| onlineCourse         |   18 |\n",
            "| completeCourse       |   18 |\n",
            "| workstation          |   18 |\n",
            "| sub_ml               |   11 |\n",
            "| sub_de               |   11 |\n",
            "| sub_mm               |   11 |\n",
            "| sub_fpga             |   11 |\n",
            "| sub_mss              |   11 |\n",
            "| sub_cs               |   11 |\n",
            "| sub_ap               |   11 |\n",
            "| sub_emb_c            |   11 |\n",
            "| sub_ip               |   11 |\n",
            "| sub_ros              |   11 |\n",
            "| Gender               |   11 |\n",
            "| Year                 |   11 |\n",
            "| Discipline           |   11 |\n",
            "| preference6          |    0 |\n",
            "| Internet_option_freq |    0 |\n",
            "| Participation_Freq   |    0 |\n",
            "| country              |    0 |\n",
            "| IS_eLSI              |    0 |\n",
            "| preference3          |    0 |\n",
            "| preference5          |    0 |\n",
            "| preference4          |    0 |\n",
            "| role                 |    0 |\n",
            "| preference2          |    0 |\n",
            "| preference1          |    0 |\n",
            "| team_id              |    0 |\n"
          ]
        }
      ]
    },
    {
      "cell_type": "code",
      "source": [
        "Data_analysis.info()"
      ],
      "metadata": {
        "colab": {
          "base_uri": "https://localhost:8080/"
        },
        "id": "xAxxO4v0LK4T",
        "outputId": "42ce8842-04a5-4b72-d063-87df6c72bb72"
      },
      "execution_count": 105,
      "outputs": [
        {
          "output_type": "stream",
          "name": "stdout",
          "text": [
            "<class 'pandas.core.frame.DataFrame'>\n",
            "RangeIndex: 5172 entries, 0 to 5171\n",
            "Data columns (total 34 columns):\n",
            " #   Column                Non-Null Count  Dtype  \n",
            "---  ------                --------------  -----  \n",
            " 0   team_id               5172 non-null   int64  \n",
            " 1   role                  5172 non-null   int64  \n",
            " 2   Discipline            5161 non-null   float64\n",
            " 3   Year                  5161 non-null   float64\n",
            " 4   Gender                5161 non-null   float64\n",
            " 5   elsiLab               5153 non-null   float64\n",
            " 6   cgpa                  4907 non-null   float64\n",
            " 7   onlineCourse          5154 non-null   float64\n",
            " 8   completeCourse        5154 non-null   float64\n",
            " 9   ssc_board             4950 non-null   float64\n",
            " 10  hsc_board             4947 non-null   float64\n",
            " 11  workstation           5154 non-null   float64\n",
            " 12  internetspeed<        4067 non-null   float64\n",
            " 13  sub_ros               5161 non-null   float64\n",
            " 14  sub_ip                5161 non-null   float64\n",
            " 15  sub_emb_c             5161 non-null   float64\n",
            " 16  sub_ml                5161 non-null   float64\n",
            " 17  sub_ap                5161 non-null   float64\n",
            " 18  sub_cs                5161 non-null   float64\n",
            " 19  sub_mss               5161 non-null   float64\n",
            " 20  sub_fpga              5161 non-null   float64\n",
            " 21  sub_mm                5161 non-null   float64\n",
            " 22  sub_de                5161 non-null   float64\n",
            " 23  preference1           5172 non-null   float64\n",
            " 24  preference2           5172 non-null   float64\n",
            " 25  preference3           5172 non-null   float64\n",
            " 26  preference4           5172 non-null   float64\n",
            " 27  preference5           5172 non-null   float64\n",
            " 28  preference6           5172 non-null   float64\n",
            " 29  IS_eLSI               5172 non-null   int64  \n",
            " 30  country               5172 non-null   int64  \n",
            " 31  Participation_Freq    5172 non-null   int64  \n",
            " 32  Internet_option_freq  5172 non-null   int64  \n",
            " 33  Department_category   5111 non-null   float64\n",
            "dtypes: float64(28), int64(6)\n",
            "memory usage: 1.3 MB\n"
          ]
        }
      ]
    },
    {
      "cell_type": "markdown",
      "source": [
        "**Observation:**\n",
        "> As we can see, there were 52 columns without preferences in any of the preference column. After above analysis we can see that that these 52 columns are from 13 teams. These 13 teams have no preferences mentioned.\n",
        "\n"
      ],
      "metadata": {
        "id": "gB9IZFXW3r8a"
      }
    },
    {
      "cell_type": "markdown",
      "source": [
        "## **Null value count per row**"
      ],
      "metadata": {
        "id": "zsPbaN5e4Gju"
      }
    },
    {
      "cell_type": "code",
      "source": [
        "print(Data_analysis.isnull().sum(axis=1).sort_values(ascending=False).to_markdown())"
      ],
      "metadata": {
        "id": "ijNvy1IxYmPW"
      },
      "execution_count": null,
      "outputs": []
    },
    {
      "cell_type": "code",
      "source": [
        "Nullvalsgrouped = pd.DataFrame(Data_analysis.isnull().sum(axis=1).sort_values(ascending=False))"
      ],
      "metadata": {
        "id": "NGPoAOhubkqu"
      },
      "execution_count": 107,
      "outputs": []
    },
    {
      "cell_type": "code",
      "source": [
        "Nullvalsgrouped[Nullvalsgrouped[0]>20].index"
      ],
      "metadata": {
        "colab": {
          "base_uri": "https://localhost:8080/"
        },
        "id": "2wX4WdTAbzbF",
        "outputId": "bf051de3-1138-4691-ab3c-1c07505b1669"
      },
      "execution_count": 108,
      "outputs": [
        {
          "output_type": "execute_result",
          "data": {
            "text/plain": [
              "Int64Index([4025, 2919, 2917, 2916, 4962, 1739, 2918, 4027, 4026, 4651], dtype='int64')"
            ]
          },
          "metadata": {},
          "execution_count": 108
        }
      ]
    },
    {
      "cell_type": "markdown",
      "source": [
        "**Observation:**\n",
        "> As all the rows with almost all fields as null belong to different teams, so we need not to drop them as they will be replaced during combination of rows to create single data row for a team.\n",
        "\n"
      ],
      "metadata": {
        "id": "zQablTeZ41aE"
      }
    },
    {
      "cell_type": "markdown",
      "source": [
        "## **Managing Null Values for Gender**"
      ],
      "metadata": {
        "id": "1r0sHmoS4oFI"
      }
    },
    {
      "cell_type": "code",
      "source": [
        "Gender_null = pd.DataFrame(Data_analysis.Gender.isnull())"
      ],
      "metadata": {
        "id": "mlyncf6VVtL-"
      },
      "execution_count": 109,
      "outputs": []
    },
    {
      "cell_type": "code",
      "source": [
        "Data_analysis['Gender'] = Data_analysis['Gender'].fillna(3)"
      ],
      "metadata": {
        "id": "HsGdYNkN59xM"
      },
      "execution_count": 110,
      "outputs": []
    },
    {
      "cell_type": "code",
      "source": [
        "Data_analysis[Data_analysis['Gender'].isnull()==True]"
      ],
      "metadata": {
        "colab": {
          "base_uri": "https://localhost:8080/",
          "height": 143
        },
        "id": "BQUcZJ7w_L9u",
        "outputId": "664f1abf-53a6-4a4c-88c5-7f34f00a5eb8"
      },
      "execution_count": 111,
      "outputs": [
        {
          "output_type": "execute_result",
          "data": {
            "text/plain": [
              "Empty DataFrame\n",
              "Columns: [team_id, role, Discipline, Year, Gender, elsiLab, cgpa, onlineCourse, completeCourse, ssc_board, hsc_board, workstation, internetspeed<, sub_ros, sub_ip, sub_emb_c, sub_ml, sub_ap, sub_cs, sub_mss, sub_fpga, sub_mm, sub_de, preference1, preference2, preference3, preference4, preference5, preference6, IS_eLSI, country, Participation_Freq, Internet_option_freq, Department_category]\n",
              "Index: []\n",
              "\n",
              "[0 rows x 34 columns]"
            ],
            "text/html": [
              "\n",
              "  <div id=\"df-5022504f-a312-4716-a090-31d5123ac939\">\n",
              "    <div class=\"colab-df-container\">\n",
              "      <div>\n",
              "<style scoped>\n",
              "    .dataframe tbody tr th:only-of-type {\n",
              "        vertical-align: middle;\n",
              "    }\n",
              "\n",
              "    .dataframe tbody tr th {\n",
              "        vertical-align: top;\n",
              "    }\n",
              "\n",
              "    .dataframe thead th {\n",
              "        text-align: right;\n",
              "    }\n",
              "</style>\n",
              "<table border=\"1\" class=\"dataframe\">\n",
              "  <thead>\n",
              "    <tr style=\"text-align: right;\">\n",
              "      <th></th>\n",
              "      <th>team_id</th>\n",
              "      <th>role</th>\n",
              "      <th>Discipline</th>\n",
              "      <th>Year</th>\n",
              "      <th>Gender</th>\n",
              "      <th>elsiLab</th>\n",
              "      <th>cgpa</th>\n",
              "      <th>onlineCourse</th>\n",
              "      <th>completeCourse</th>\n",
              "      <th>ssc_board</th>\n",
              "      <th>...</th>\n",
              "      <th>preference2</th>\n",
              "      <th>preference3</th>\n",
              "      <th>preference4</th>\n",
              "      <th>preference5</th>\n",
              "      <th>preference6</th>\n",
              "      <th>IS_eLSI</th>\n",
              "      <th>country</th>\n",
              "      <th>Participation_Freq</th>\n",
              "      <th>Internet_option_freq</th>\n",
              "      <th>Department_category</th>\n",
              "    </tr>\n",
              "  </thead>\n",
              "  <tbody>\n",
              "  </tbody>\n",
              "</table>\n",
              "<p>0 rows × 34 columns</p>\n",
              "</div>\n",
              "      <button class=\"colab-df-convert\" onclick=\"convertToInteractive('df-5022504f-a312-4716-a090-31d5123ac939')\"\n",
              "              title=\"Convert this dataframe to an interactive table.\"\n",
              "              style=\"display:none;\">\n",
              "        \n",
              "  <svg xmlns=\"http://www.w3.org/2000/svg\" height=\"24px\"viewBox=\"0 0 24 24\"\n",
              "       width=\"24px\">\n",
              "    <path d=\"M0 0h24v24H0V0z\" fill=\"none\"/>\n",
              "    <path d=\"M18.56 5.44l.94 2.06.94-2.06 2.06-.94-2.06-.94-.94-2.06-.94 2.06-2.06.94zm-11 1L8.5 8.5l.94-2.06 2.06-.94-2.06-.94L8.5 2.5l-.94 2.06-2.06.94zm10 10l.94 2.06.94-2.06 2.06-.94-2.06-.94-.94-2.06-.94 2.06-2.06.94z\"/><path d=\"M17.41 7.96l-1.37-1.37c-.4-.4-.92-.59-1.43-.59-.52 0-1.04.2-1.43.59L10.3 9.45l-7.72 7.72c-.78.78-.78 2.05 0 2.83L4 21.41c.39.39.9.59 1.41.59.51 0 1.02-.2 1.41-.59l7.78-7.78 2.81-2.81c.8-.78.8-2.07 0-2.86zM5.41 20L4 18.59l7.72-7.72 1.47 1.35L5.41 20z\"/>\n",
              "  </svg>\n",
              "      </button>\n",
              "      \n",
              "  <style>\n",
              "    .colab-df-container {\n",
              "      display:flex;\n",
              "      flex-wrap:wrap;\n",
              "      gap: 12px;\n",
              "    }\n",
              "\n",
              "    .colab-df-convert {\n",
              "      background-color: #E8F0FE;\n",
              "      border: none;\n",
              "      border-radius: 50%;\n",
              "      cursor: pointer;\n",
              "      display: none;\n",
              "      fill: #1967D2;\n",
              "      height: 32px;\n",
              "      padding: 0 0 0 0;\n",
              "      width: 32px;\n",
              "    }\n",
              "\n",
              "    .colab-df-convert:hover {\n",
              "      background-color: #E2EBFA;\n",
              "      box-shadow: 0px 1px 2px rgba(60, 64, 67, 0.3), 0px 1px 3px 1px rgba(60, 64, 67, 0.15);\n",
              "      fill: #174EA6;\n",
              "    }\n",
              "\n",
              "    [theme=dark] .colab-df-convert {\n",
              "      background-color: #3B4455;\n",
              "      fill: #D2E3FC;\n",
              "    }\n",
              "\n",
              "    [theme=dark] .colab-df-convert:hover {\n",
              "      background-color: #434B5C;\n",
              "      box-shadow: 0px 1px 3px 1px rgba(0, 0, 0, 0.15);\n",
              "      filter: drop-shadow(0px 1px 2px rgba(0, 0, 0, 0.3));\n",
              "      fill: #FFFFFF;\n",
              "    }\n",
              "  </style>\n",
              "\n",
              "      <script>\n",
              "        const buttonEl =\n",
              "          document.querySelector('#df-5022504f-a312-4716-a090-31d5123ac939 button.colab-df-convert');\n",
              "        buttonEl.style.display =\n",
              "          google.colab.kernel.accessAllowed ? 'block' : 'none';\n",
              "\n",
              "        async function convertToInteractive(key) {\n",
              "          const element = document.querySelector('#df-5022504f-a312-4716-a090-31d5123ac939');\n",
              "          const dataTable =\n",
              "            await google.colab.kernel.invokeFunction('convertToInteractive',\n",
              "                                                     [key], {});\n",
              "          if (!dataTable) return;\n",
              "\n",
              "          const docLinkHtml = 'Like what you see? Visit the ' +\n",
              "            '<a target=\"_blank\" href=https://colab.research.google.com/notebooks/data_table.ipynb>data table notebook</a>'\n",
              "            + ' to learn more about interactive tables.';\n",
              "          element.innerHTML = '';\n",
              "          dataTable['output_type'] = 'display_data';\n",
              "          await google.colab.output.renderOutput(dataTable, element);\n",
              "          const docLink = document.createElement('div');\n",
              "          docLink.innerHTML = docLinkHtml;\n",
              "          element.appendChild(docLink);\n",
              "        }\n",
              "      </script>\n",
              "    </div>\n",
              "  </div>\n",
              "  "
            ]
          },
          "metadata": {},
          "execution_count": 111
        }
      ]
    },
    {
      "cell_type": "markdown",
      "source": [
        "**Observation:**\n",
        "> Basically for one-hot encoding, we have replaced nan values with 3 and later we can drop the column as it will not be required. This methodolgy will work as only 11 teams will lose data for a single member. "
      ],
      "metadata": {
        "id": "kOoVGJG__c9g"
      }
    },
    {
      "cell_type": "code",
      "source": [
        "print(Data_analysis.isna().sum().sort_values(ascending=False).to_markdown())"
      ],
      "metadata": {
        "colab": {
          "base_uri": "https://localhost:8080/"
        },
        "id": "gxMrWPHp_tAA",
        "outputId": "e13efaff-77f4-466a-d73e-b7c890acf372"
      },
      "execution_count": 112,
      "outputs": [
        {
          "output_type": "stream",
          "name": "stdout",
          "text": [
            "|                      |    0 |\n",
            "|:---------------------|-----:|\n",
            "| internetspeed<       | 1105 |\n",
            "| cgpa                 |  265 |\n",
            "| hsc_board            |  225 |\n",
            "| ssc_board            |  222 |\n",
            "| Department_category  |   61 |\n",
            "| elsiLab              |   19 |\n",
            "| onlineCourse         |   18 |\n",
            "| completeCourse       |   18 |\n",
            "| workstation          |   18 |\n",
            "| sub_ml               |   11 |\n",
            "| sub_de               |   11 |\n",
            "| sub_mm               |   11 |\n",
            "| sub_fpga             |   11 |\n",
            "| sub_mss              |   11 |\n",
            "| sub_cs               |   11 |\n",
            "| sub_ap               |   11 |\n",
            "| sub_emb_c            |   11 |\n",
            "| sub_ip               |   11 |\n",
            "| sub_ros              |   11 |\n",
            "| Year                 |   11 |\n",
            "| Discipline           |   11 |\n",
            "| preference5          |    0 |\n",
            "| Internet_option_freq |    0 |\n",
            "| Participation_Freq   |    0 |\n",
            "| country              |    0 |\n",
            "| IS_eLSI              |    0 |\n",
            "| preference6          |    0 |\n",
            "| preference3          |    0 |\n",
            "| preference4          |    0 |\n",
            "| role                 |    0 |\n",
            "| preference2          |    0 |\n",
            "| preference1          |    0 |\n",
            "| Gender               |    0 |\n",
            "| team_id              |    0 |\n"
          ]
        }
      ]
    },
    {
      "cell_type": "markdown",
      "source": [
        "## **Analysing null values in Subject Skills scoring**"
      ],
      "metadata": {
        "id": "LxMxJ5BTPD-y"
      }
    },
    {
      "cell_type": "code",
      "source": [
        "Data_analysis.columns"
      ],
      "metadata": {
        "colab": {
          "base_uri": "https://localhost:8080/"
        },
        "id": "qnm6cvhMP0b5",
        "outputId": "78f79ae3-116b-4668-f76e-372fa2402bd3"
      },
      "execution_count": 113,
      "outputs": [
        {
          "output_type": "execute_result",
          "data": {
            "text/plain": [
              "Index(['team_id', 'role', 'Discipline', 'Year', 'Gender', 'elsiLab', 'cgpa',\n",
              "       'onlineCourse', 'completeCourse', 'ssc_board', 'hsc_board',\n",
              "       'workstation', 'internetspeed<', 'sub_ros', 'sub_ip', 'sub_emb_c',\n",
              "       'sub_ml', 'sub_ap', 'sub_cs', 'sub_mss', 'sub_fpga', 'sub_mm', 'sub_de',\n",
              "       'preference1', 'preference2', 'preference3', 'preference4',\n",
              "       'preference5', 'preference6', 'IS_eLSI', 'country',\n",
              "       'Participation_Freq', 'Internet_option_freq', 'Department_category'],\n",
              "      dtype='object')"
            ]
          },
          "metadata": {},
          "execution_count": 113
        }
      ]
    },
    {
      "cell_type": "code",
      "source": [
        "columns = ['sub_ros', 'sub_ip', 'sub_emb_c','sub_ml', 'sub_ap', 'sub_cs', 'sub_mss', 'sub_fpga', 'sub_mm', 'sub_de']\n",
        "df_all = pd.DataFrame(pd.concat([Data_analysis[Data_analysis[cols].isnull()][cols] for cols in columns], axis=1))"
      ],
      "metadata": {
        "id": "Z_IgvlA7P9uU"
      },
      "execution_count": 114,
      "outputs": []
    },
    {
      "cell_type": "code",
      "source": [
        "indexlist = df_all.index.to_list()\n",
        "teamids_without_sub = []\n",
        "for i in indexlist:\n",
        "  # print(Data_analysis.iloc[i,0:1].to_list())\n",
        "  teamids_without_sub.append(Data_analysis.iloc[i,0:1].to_list())\n",
        "\n",
        "teamid_null_sub = sorted([list(j) for i, j in groupby(teamids_without_sub)], key=len)\n",
        "print(teamid_null_sub)"
      ],
      "metadata": {
        "colab": {
          "base_uri": "https://localhost:8080/"
        },
        "id": "jAJMlctTXuV7",
        "outputId": "78703d88-dac3-42e8-af7f-bcf072e508cf"
      },
      "execution_count": 115,
      "outputs": [
        {
          "output_type": "stream",
          "name": "stdout",
          "text": [
            "[[[1576.0]], [[1594.0]], [[2736.0]], [[2859.0]], [[2510.0], [2510.0], [2510.0]], [[2005.0], [2005.0], [2005.0], [2005.0]]]\n"
          ]
        }
      ]
    },
    {
      "cell_type": "code",
      "source": [
        "columns = ['sub_ros', 'sub_ip', 'sub_emb_c','sub_ml', 'sub_ap', 'sub_cs', 'sub_mss', 'sub_fpga', 'sub_mm', 'sub_de']\n",
        "def sub_null_replace(columns):\n",
        "  for cols in columns:\n",
        "    Data_analysis[cols] = Data_analysis[cols].fillna(7)\n",
        "  return Data_analysis\n",
        "\n",
        "Data_analysis = sub_null_replace(columns)"
      ],
      "metadata": {
        "id": "iFHpmUIjb8Wv"
      },
      "execution_count": 116,
      "outputs": []
    },
    {
      "cell_type": "code",
      "source": [
        "print(Data_analysis.isna().sum().sort_values(ascending=False).to_markdown())"
      ],
      "metadata": {
        "colab": {
          "base_uri": "https://localhost:8080/"
        },
        "id": "zEH0Ycybcqqk",
        "outputId": "87c7abcb-dad3-4c36-fa44-e48e57fc4bb7"
      },
      "execution_count": 117,
      "outputs": [
        {
          "output_type": "stream",
          "name": "stdout",
          "text": [
            "|                      |    0 |\n",
            "|:---------------------|-----:|\n",
            "| internetspeed<       | 1105 |\n",
            "| cgpa                 |  265 |\n",
            "| hsc_board            |  225 |\n",
            "| ssc_board            |  222 |\n",
            "| Department_category  |   61 |\n",
            "| elsiLab              |   19 |\n",
            "| completeCourse       |   18 |\n",
            "| workstation          |   18 |\n",
            "| onlineCourse         |   18 |\n",
            "| Year                 |   11 |\n",
            "| Discipline           |   11 |\n",
            "| Internet_option_freq |    0 |\n",
            "| sub_de               |    0 |\n",
            "| Participation_Freq   |    0 |\n",
            "| country              |    0 |\n",
            "| IS_eLSI              |    0 |\n",
            "| preference6          |    0 |\n",
            "| preference5          |    0 |\n",
            "| preference4          |    0 |\n",
            "| preference3          |    0 |\n",
            "| preference2          |    0 |\n",
            "| preference1          |    0 |\n",
            "| team_id              |    0 |\n",
            "| sub_mm               |    0 |\n",
            "| sub_fpga             |    0 |\n",
            "| sub_mss              |    0 |\n",
            "| sub_cs               |    0 |\n",
            "| role                 |    0 |\n",
            "| sub_ml               |    0 |\n",
            "| sub_emb_c            |    0 |\n",
            "| sub_ip               |    0 |\n",
            "| sub_ros              |    0 |\n",
            "| Gender               |    0 |\n",
            "| sub_ap               |    0 |\n"
          ]
        }
      ]
    },
    {
      "cell_type": "code",
      "source": [
        "Unique = unique_chart(Data_analysis)\n",
        "print(Unique.to_markdown())"
      ],
      "metadata": {
        "id": "YCODgiizcx7F"
      },
      "execution_count": null,
      "outputs": []
    },
    {
      "cell_type": "code",
      "source": [
        "print(Data_analysis.isna().sum().sort_values(ascending=False).to_markdown())"
      ],
      "metadata": {
        "id": "WA-r5di8VeF9",
        "outputId": "a814164c-b841-47e7-8686-5b548ed894fa",
        "colab": {
          "base_uri": "https://localhost:8080/"
        }
      },
      "execution_count": 119,
      "outputs": [
        {
          "output_type": "stream",
          "name": "stdout",
          "text": [
            "|                      |    0 |\n",
            "|:---------------------|-----:|\n",
            "| internetspeed<       | 1105 |\n",
            "| cgpa                 |  265 |\n",
            "| hsc_board            |  225 |\n",
            "| ssc_board            |  222 |\n",
            "| Department_category  |   61 |\n",
            "| elsiLab              |   19 |\n",
            "| completeCourse       |   18 |\n",
            "| workstation          |   18 |\n",
            "| onlineCourse         |   18 |\n",
            "| Year                 |   11 |\n",
            "| Discipline           |   11 |\n",
            "| Internet_option_freq |    0 |\n",
            "| sub_de               |    0 |\n",
            "| Participation_Freq   |    0 |\n",
            "| country              |    0 |\n",
            "| IS_eLSI              |    0 |\n",
            "| preference6          |    0 |\n",
            "| preference5          |    0 |\n",
            "| preference4          |    0 |\n",
            "| preference3          |    0 |\n",
            "| preference2          |    0 |\n",
            "| preference1          |    0 |\n",
            "| team_id              |    0 |\n",
            "| sub_mm               |    0 |\n",
            "| sub_fpga             |    0 |\n",
            "| sub_mss              |    0 |\n",
            "| sub_cs               |    0 |\n",
            "| role                 |    0 |\n",
            "| sub_ml               |    0 |\n",
            "| sub_emb_c            |    0 |\n",
            "| sub_ip               |    0 |\n",
            "| sub_ros              |    0 |\n",
            "| Gender               |    0 |\n",
            "| sub_ap               |    0 |\n"
          ]
        }
      ]
    },
    {
      "cell_type": "markdown",
      "source": [
        "### **Null Value Replacement in Discipline, Department, Year, Workstation, ssc and hsc columns**"
      ],
      "metadata": {
        "id": "YHSAyyYqd7uT"
      }
    },
    {
      "cell_type": "code",
      "source": [
        "def null_val_index_list(columns):\n",
        "  df = pd.DataFrame(pd.concat([Data_analysis[Data_analysis[cols].isnull()][cols] for cols in columns], axis=1))\n",
        "  indexlist = df.index.to_list()\n",
        "  teamids = []\n",
        "  for i in indexlist:\n",
        "    teamids.append(Data_analysis.iloc[i,0:1].to_list())\n",
        "  return(teamids)"
      ],
      "metadata": {
        "id": "Nu3V0DqLeNij"
      },
      "execution_count": 120,
      "outputs": []
    },
    {
      "cell_type": "markdown",
      "source": [
        "**List of teams with null in column (for analysis)**"
      ],
      "metadata": {
        "id": "CDDE0l43MlCU"
      }
    },
    {
      "cell_type": "code",
      "source": [
        "columns = ['Discipline']\n",
        "teamid_null_discipline = null_val_index_list(columns)\n",
        "print([list(j) for i, j in groupby(teamid_null_discipline)])"
      ],
      "metadata": {
        "colab": {
          "base_uri": "https://localhost:8080/"
        },
        "id": "UDYkI1TRe_GU",
        "outputId": "292ab89c-6a24-4d46-da5c-94ee5e5a7581"
      },
      "execution_count": 121,
      "outputs": [
        {
          "output_type": "stream",
          "name": "stdout",
          "text": [
            "[[[1594.0]], [[1960.0]], [[2005.0], [2005.0], [2005.0], [2005.0]], [[2510.0], [2510.0], [2510.0]], [[2736.0]], [[2859.0]]]\n"
          ]
        }
      ]
    },
    {
      "cell_type": "markdown",
      "source": [
        "**Null value replacement in column (for analysis)**"
      ],
      "metadata": {
        "id": "PNxuNnXCNQVV"
      }
    },
    {
      "cell_type": "code",
      "source": [
        "columns = ['Discipline']\n",
        "def discipline_null_replace(columns):\n",
        "  for cols in columns:\n",
        "    Data_analysis[cols] = Data_analysis[cols].fillna(7)\n",
        "  return Data_analysis\n",
        "\n",
        "Data_analysis = discipline_null_replace(columns)"
      ],
      "metadata": {
        "id": "3YUv-LHud7GI"
      },
      "execution_count": 122,
      "outputs": []
    },
    {
      "cell_type": "markdown",
      "source": [
        "**List of teams with null in column (for analysis)**"
      ],
      "metadata": {
        "id": "vZ-D4YwvNZ1c"
      }
    },
    {
      "cell_type": "code",
      "source": [
        "columns = ['ssc_board']\n",
        "teamid_null_ssc = null_val_index_list(columns)\n",
        "print([list(j) for i, j in groupby(teamid_null_ssc)])"
      ],
      "metadata": {
        "colab": {
          "base_uri": "https://localhost:8080/"
        },
        "id": "R2QvTOWxfg3_",
        "outputId": "458a3574-bb84-4413-c416-b4945c25b6b0"
      },
      "execution_count": 123,
      "outputs": [
        {
          "output_type": "stream",
          "name": "stdout",
          "text": [
            "[[[1070.0]], [[1073.0]], [[1116.0]], [[1127.0]], [[1134.0]], [[1148.0]], [[1172.0]], [[1197.0], [1197.0]], [[1203.0]], [[1230.0]], [[1231.0]], [[1246.0]], [[1268.0]], [[1269.0]], [[1271.0], [1271.0]], [[1309.0]], [[1322.0]], [[1325.0], [1325.0]], [[1337.0], [1337.0], [1337.0]], [[1365.0]], [[1376.0]], [[1387.0]], [[1399.0]], [[1420.0]], [[1424.0]], [[1426.0]], [[1432.0], [1432.0]], [[1437.0]], [[1440.0]], [[1455.0]], [[1456.0]], [[1473.0]], [[1483.0]], [[1488.0], [1488.0]], [[1489.0]], [[1514.0]], [[1520.0]], [[1528.0]], [[1544.0]], [[1549.0]], [[1561.0]], [[1563.0]], [[1564.0]], [[1565.0]], [[1566.0]], [[1571.0]], [[1576.0]], [[1579.0]], [[1583.0]], [[1589.0]], [[1590.0]], [[1594.0]], [[1623.0]], [[1630.0]], [[1647.0]], [[1655.0]], [[1696.0]], [[1698.0]], [[1702.0]], [[1711.0]], [[1721.0], [1721.0], [1721.0], [1721.0]], [[1730.0]], [[1750.0], [1750.0], [1750.0]], [[1756.0], [1756.0], [1756.0], [1756.0]], [[1758.0], [1758.0], [1758.0], [1758.0]], [[1769.0]], [[1781.0]], [[1782.0], [1782.0]], [[1785.0]], [[1788.0]], [[1791.0], [1791.0], [1791.0]], [[1794.0]], [[1809.0], [1809.0]], [[1815.0]], [[1825.0]], [[1834.0], [1834.0]], [[1836.0]], [[1839.0]], [[1852.0], [1852.0]], [[1856.0]], [[1873.0]], [[1883.0]], [[1888.0], [1888.0]], [[1920.0]], [[1932.0], [1932.0], [1932.0], [1932.0]], [[1935.0]], [[1947.0]], [[1950.0], [1950.0]], [[1960.0], [1960.0], [1960.0]], [[1963.0]], [[1979.0]], [[1984.0]], [[2005.0], [2005.0], [2005.0], [2005.0]], [[2012.0]], [[2035.0]], [[2065.0]], [[2090.0]], [[2104.0]], [[2158.0]], [[2166.0]], [[2176.0]], [[2182.0]], [[2197.0], [2197.0], [2197.0], [2197.0]], [[2198.0]], [[2203.0]], [[2242.0], [2242.0], [2242.0]], [[2251.0]], [[2253.0], [2253.0]], [[2277.0]], [[2311.0]], [[2316.0]], [[2344.0]], [[2353.0]], [[2356.0]], [[2391.0]], [[2407.0]], [[2422.0]], [[2425.0]], [[2442.0], [2442.0]], [[2443.0]], [[2459.0]], [[2460.0]], [[2463.0]], [[2465.0], [2465.0], [2465.0]], [[2485.0]], [[2494.0]], [[2510.0], [2510.0], [2510.0]], [[2522.0]], [[2523.0]], [[2528.0]], [[2539.0]], [[2542.0]], [[2544.0]], [[2551.0]], [[2566.0]], [[2572.0]], [[2575.0]], [[2578.0]], [[2624.0], [2624.0], [2624.0]], [[2632.0]], [[2656.0]], [[2665.0]], [[2683.0]], [[2686.0]], [[2700.0]], [[2701.0]], [[2706.0]], [[2722.0], [2722.0], [2722.0]], [[2730.0]], [[2736.0], [2736.0]], [[2741.0]], [[2742.0]], [[2752.0]], [[2766.0]], [[2771.0]], [[2776.0]], [[2788.0]], [[2817.0]], [[2819.0]], [[2822.0]], [[2859.0], [2859.0]], [[2884.0]], [[2886.0]], [[2896.0]], [[2897.0], [2897.0]], [[2910.0]], [[2939.0]], [[2941.0]], [[2949.0]], [[2963.0]]]\n"
          ]
        }
      ]
    },
    {
      "cell_type": "code",
      "source": [
        "columns = ['hsc_board']\n",
        "teamid_null_hsc = null_val_index_list(columns)\n",
        "print([list(j) for i, j in groupby(teamid_null_hsc)])"
      ],
      "metadata": {
        "colab": {
          "base_uri": "https://localhost:8080/"
        },
        "id": "uIKkAQ2-fwaW",
        "outputId": "0868966c-be66-44eb-99f8-570ecc410fb7"
      },
      "execution_count": 124,
      "outputs": [
        {
          "output_type": "stream",
          "name": "stdout",
          "text": [
            "[[[1070.0]], [[1073.0]], [[1127.0]], [[1134.0]], [[1148.0]], [[1172.0]], [[1197.0], [1197.0]], [[1203.0]], [[1223.0]], [[1227.0]], [[1230.0]], [[1231.0]], [[1246.0]], [[1268.0]], [[1269.0]], [[1271.0], [1271.0]], [[1309.0]], [[1317.0]], [[1322.0]], [[1325.0], [1325.0]], [[1337.0], [1337.0]], [[1345.0]], [[1351.0]], [[1365.0]], [[1376.0]], [[1387.0]], [[1399.0]], [[1420.0]], [[1424.0]], [[1426.0], [1426.0]], [[1432.0], [1432.0]], [[1437.0]], [[1440.0]], [[1455.0]], [[1456.0]], [[1473.0]], [[1483.0]], [[1488.0], [1488.0]], [[1489.0]], [[1514.0]], [[1520.0]], [[1525.0]], [[1528.0]], [[1544.0]], [[1549.0]], [[1561.0]], [[1563.0]], [[1564.0]], [[1566.0]], [[1571.0]], [[1576.0]], [[1579.0]], [[1583.0]], [[1589.0]], [[1590.0]], [[1594.0]], [[1630.0]], [[1647.0]], [[1655.0]], [[1696.0]], [[1698.0]], [[1702.0]], [[1711.0]], [[1721.0], [1721.0], [1721.0], [1721.0]], [[1730.0]], [[1750.0], [1750.0], [1750.0]], [[1756.0], [1756.0], [1756.0], [1756.0]], [[1758.0], [1758.0], [1758.0]], [[1769.0]], [[1781.0]], [[1782.0], [1782.0]], [[1785.0]], [[1788.0]], [[1791.0], [1791.0], [1791.0]], [[1794.0]], [[1809.0], [1809.0]], [[1815.0], [1815.0]], [[1825.0]], [[1834.0], [1834.0]], [[1836.0]], [[1839.0]], [[1852.0], [1852.0]], [[1856.0]], [[1873.0]], [[1883.0]], [[1888.0], [1888.0]], [[1920.0]], [[1932.0], [1932.0], [1932.0], [1932.0]], [[1935.0]], [[1947.0]], [[1950.0], [1950.0]], [[1960.0], [1960.0], [1960.0]], [[1963.0]], [[1979.0]], [[1984.0]], [[2005.0], [2005.0], [2005.0], [2005.0]], [[2012.0]], [[2035.0]], [[2065.0]], [[2090.0]], [[2104.0]], [[2158.0]], [[2166.0]], [[2176.0]], [[2182.0]], [[2197.0], [2197.0], [2197.0], [2197.0]], [[2198.0]], [[2203.0]], [[2242.0], [2242.0], [2242.0]], [[2251.0]], [[2253.0], [2253.0]], [[2277.0]], [[2311.0]], [[2316.0]], [[2336.0]], [[2344.0]], [[2353.0]], [[2356.0]], [[2391.0]], [[2407.0]], [[2422.0]], [[2425.0]], [[2442.0], [2442.0]], [[2443.0]], [[2459.0]], [[2460.0]], [[2463.0]], [[2465.0], [2465.0]], [[2485.0]], [[2494.0]], [[2510.0], [2510.0], [2510.0]], [[2522.0]], [[2523.0]], [[2528.0]], [[2539.0]], [[2542.0]], [[2544.0]], [[2551.0]], [[2566.0]], [[2572.0]], [[2575.0]], [[2578.0]], [[2624.0], [2624.0], [2624.0]], [[2632.0]], [[2656.0]], [[2665.0]], [[2683.0]], [[2686.0]], [[2700.0]], [[2701.0]], [[2706.0]], [[2722.0], [2722.0], [2722.0]], [[2730.0]], [[2736.0], [2736.0]], [[2741.0]], [[2742.0]], [[2752.0]], [[2766.0]], [[2771.0]], [[2776.0]], [[2788.0]], [[2817.0]], [[2819.0]], [[2822.0]], [[2859.0], [2859.0]], [[2884.0]], [[2886.0]], [[2896.0]], [[2897.0], [2897.0]], [[2910.0]], [[2939.0]], [[2941.0]], [[2949.0]], [[2963.0]]]\n"
          ]
        }
      ]
    },
    {
      "cell_type": "code",
      "source": [
        "columns = ['Year']\n",
        "teamid_null_year = null_val_index_list(columns)\n",
        "print([list(j) for i, j in groupby(teamid_null_year)])"
      ],
      "metadata": {
        "colab": {
          "base_uri": "https://localhost:8080/"
        },
        "id": "pf9bIj_NgMMm",
        "outputId": "347cd405-c140-42b1-d53b-b6f705a17052"
      },
      "execution_count": 125,
      "outputs": [
        {
          "output_type": "stream",
          "name": "stdout",
          "text": [
            "[[[1594.0]], [[1960.0]], [[2005.0], [2005.0], [2005.0], [2005.0]], [[2510.0], [2510.0], [2510.0]], [[2736.0]], [[2859.0]]]\n"
          ]
        }
      ]
    },
    {
      "cell_type": "markdown",
      "source": [
        "**Null value replacement in column (for analysis)**"
      ],
      "metadata": {
        "id": "YND-om5kNeSe"
      }
    },
    {
      "cell_type": "code",
      "source": [
        "columns = ['Year', 'ssc_board', 'hsc_board']\n",
        "def Year_null_replace(columns):\n",
        "  for cols in columns:\n",
        "    Data_analysis[cols] = Data_analysis[cols].fillna(6)\n",
        "  return Data_analysis\n",
        "\n",
        "Data_analysis = Year_null_replace(columns)"
      ],
      "metadata": {
        "id": "LgODCE33ei_V"
      },
      "execution_count": 126,
      "outputs": []
    },
    {
      "cell_type": "markdown",
      "source": [
        "**List of teams with null in column (for analysis)**"
      ],
      "metadata": {
        "id": "qnkapLwONjYb"
      }
    },
    {
      "cell_type": "code",
      "source": [
        "columns = ['elsiLab']\n",
        "teamid_null_elsiLab = null_val_index_list(columns)\n",
        "print([list(j) for i, j in groupby(teamid_null_elsiLab)])"
      ],
      "metadata": {
        "colab": {
          "base_uri": "https://localhost:8080/"
        },
        "id": "TVpwc7l0gSg0",
        "outputId": "a9ebdc49-1383-4e60-fa68-e6abb8b77988"
      },
      "execution_count": 127,
      "outputs": [
        {
          "output_type": "stream",
          "name": "stdout",
          "text": [
            "[[[1271.0], [1271.0], [1271.0]], [[1576.0]], [[1594.0]], [[1960.0], [1960.0], [1960.0]], [[2005.0], [2005.0], [2005.0], [2005.0]], [[2510.0], [2510.0], [2510.0]], [[2542.0]], [[2736.0]], [[2859.0], [2859.0]]]\n"
          ]
        }
      ]
    },
    {
      "cell_type": "markdown",
      "source": [
        "**Null value replacement in column (for analysis)**"
      ],
      "metadata": {
        "id": "VQ1z3RmjNmae"
      }
    },
    {
      "cell_type": "code",
      "source": [
        "columns = ['elsiLab']\n",
        "def elsilab_null_replace(columns):\n",
        "  for cols in columns:\n",
        "    Data_analysis[cols] = Data_analysis[cols].fillna(0)\n",
        "  return Data_analysis\n",
        "\n",
        "Data_analysis = elsilab_null_replace(columns)"
      ],
      "metadata": {
        "id": "8aXN9gAQeq-6"
      },
      "execution_count": 128,
      "outputs": []
    },
    {
      "cell_type": "markdown",
      "source": [
        "**List of teams with null in column (for analysis)**"
      ],
      "metadata": {
        "id": "jQEW1SDYNrGt"
      }
    },
    {
      "cell_type": "code",
      "source": [
        "columns = ['workstation']\n",
        "teamid_null_workstation = null_val_index_list(columns)\n",
        "print([list(j) for i, j in groupby(teamid_null_workstation)])"
      ],
      "metadata": {
        "colab": {
          "base_uri": "https://localhost:8080/"
        },
        "id": "lFarWm9_gZHz",
        "outputId": "8f40259d-1e32-410e-927f-9da4634177ef"
      },
      "execution_count": 129,
      "outputs": [
        {
          "output_type": "stream",
          "name": "stdout",
          "text": [
            "[[[1271.0], [1271.0]], [[1576.0]], [[1594.0]], [[1960.0], [1960.0], [1960.0]], [[2005.0], [2005.0], [2005.0], [2005.0]], [[2510.0], [2510.0], [2510.0]], [[2542.0]], [[2736.0]], [[2859.0], [2859.0]]]\n"
          ]
        }
      ]
    },
    {
      "cell_type": "code",
      "source": [
        "columns = ['Department_category']\n",
        "teamid_null_dept = null_val_index_list(columns)\n",
        "print([list(j) for i, j in groupby(teamid_null_dept)])"
      ],
      "metadata": {
        "colab": {
          "base_uri": "https://localhost:8080/"
        },
        "id": "WPC5m7cvgY9y",
        "outputId": "2ddf6711-b7f1-43c8-d781-fe2f31103254"
      },
      "execution_count": 130,
      "outputs": [
        {
          "output_type": "stream",
          "name": "stdout",
          "text": [
            "[[[1594.0]], [[1960.0]], [[2005.0], [2005.0], [2005.0], [2005.0]], [[2071.0], [2071.0], [2071.0], [2071.0]], [[2162.0]], [[2239.0], [2239.0], [2239.0], [2239.0]], [[2330.0]], [[2398.0]], [[2409.0]], [[2426.0]], [[2472.0]], [[2479.0]], [[2510.0], [2510.0], [2510.0]], [[2548.0]], [[2551.0], [2551.0], [2551.0]], [[2576.0]], [[2610.0], [2610.0], [2610.0], [2610.0]], [[2620.0], [2620.0], [2620.0], [2620.0]], [[2630.0], [2630.0], [2630.0]], [[2640.0], [2640.0], [2640.0], [2640.0]], [[2651.0]], [[2670.0], [2670.0], [2670.0], [2670.0]], [[2736.0]], [[2742.0], [2742.0], [2742.0], [2742.0]], [[2857.0], [2857.0]], [[2859.0]], [[2880.0]], [[2935.0]], [[2971.0], [2971.0]]]\n"
          ]
        }
      ]
    },
    {
      "cell_type": "markdown",
      "source": [
        "**Null value replacement in column (for analysis)**"
      ],
      "metadata": {
        "id": "aM2Oj2HnNtRT"
      }
    },
    {
      "cell_type": "code",
      "source": [
        "columns = ['workstation','Department_category']\n",
        "def workstation_null_replace(columns):\n",
        "  for cols in columns:\n",
        "    Data_analysis[cols] = Data_analysis[cols].fillna(4)\n",
        "  return Data_analysis\n",
        "\n",
        "Data_analysis = workstation_null_replace(columns)"
      ],
      "metadata": {
        "id": "zYS18349fBVP"
      },
      "execution_count": 131,
      "outputs": []
    },
    {
      "cell_type": "code",
      "source": [
        "print(Data_analysis.isna().sum().sort_values(ascending=False).to_markdown())"
      ],
      "metadata": {
        "id": "GmUDTxhkkBjZ",
        "outputId": "c37fe935-8880-4ec3-8044-60b2331518e3",
        "colab": {
          "base_uri": "https://localhost:8080/"
        }
      },
      "execution_count": 132,
      "outputs": [
        {
          "output_type": "stream",
          "name": "stdout",
          "text": [
            "|                      |    0 |\n",
            "|:---------------------|-----:|\n",
            "| internetspeed<       | 1105 |\n",
            "| cgpa                 |  265 |\n",
            "| onlineCourse         |   18 |\n",
            "| completeCourse       |   18 |\n",
            "| team_id              |    0 |\n",
            "| preference4          |    0 |\n",
            "| sub_mm               |    0 |\n",
            "| sub_de               |    0 |\n",
            "| preference1          |    0 |\n",
            "| preference2          |    0 |\n",
            "| preference3          |    0 |\n",
            "| preference6          |    0 |\n",
            "| preference5          |    0 |\n",
            "| sub_mss              |    0 |\n",
            "| IS_eLSI              |    0 |\n",
            "| country              |    0 |\n",
            "| Participation_Freq   |    0 |\n",
            "| Internet_option_freq |    0 |\n",
            "| sub_fpga             |    0 |\n",
            "| sub_ap               |    0 |\n",
            "| sub_cs               |    0 |\n",
            "| role                 |    0 |\n",
            "| sub_ml               |    0 |\n",
            "| sub_emb_c            |    0 |\n",
            "| sub_ip               |    0 |\n",
            "| sub_ros              |    0 |\n",
            "| workstation          |    0 |\n",
            "| hsc_board            |    0 |\n",
            "| ssc_board            |    0 |\n",
            "| elsiLab              |    0 |\n",
            "| Gender               |    0 |\n",
            "| Year                 |    0 |\n",
            "| Discipline           |    0 |\n",
            "| Department_category  |    0 |\n"
          ]
        }
      ]
    },
    {
      "cell_type": "code",
      "source": [
        "teamsid_without_netspeed = Data_analysis[Data_analysis['internetspeed<'].isnull()]['team_id'].to_list()\n",
        "print(sorted([list(j) for i, j in groupby(teamsid_without_netspeed)], key=len))"
      ],
      "metadata": {
        "colab": {
          "base_uri": "https://localhost:8080/"
        },
        "id": "770aI1q7L1tb",
        "outputId": "a6e154dc-607f-47e9-aa7c-d4f727970d3e"
      },
      "execution_count": 133,
      "outputs": [
        {
          "output_type": "stream",
          "name": "stdout",
          "text": [
            "[[1046], [1052], [1059], [1069], [1117], [1133], [1151], [1153], [1158], [1161], [1168], [1190], [1196], [1221], [1240], [1250], [1259], [1270], [1295], [1305], [1317], [1326], [1337], [1339], [1345], [1351], [1355], [1356], [1357], [1361], [1383], [1419], [1420], [1421], [1423], [1440], [1448], [1451], [1462], [1476], [1480], [1485], [1491], [1495], [1497], [1499], [1500], [1501], [1513], [1523], [1561], [1569], [1570], [1577], [1587], [1589], [1595], [1597], [1600], [1610], [1614], [1615], [1617], [1622], [1628], [1650], [1655], [1658], [1660], [1664], [1688], [1697], [1699], [1701], [1706], [1717], [1727], [1730], [1731], [1733], [1763], [1770], [1779], [1783], [1785], [1789], [1803], [1811], [1834], [1844], [1851], [1853], [1855], [1856], [1869], [1872], [1877], [1880], [1888], [1896], [1903], [1914], [1920], [1923], [1927], [1933], [1941], [1954], [1958], [1966], [1973], [1975], [1978], [1987], [1989], [1995], [2004], [2013], [2045], [2087], [2093], [2120], [2167], [2189], [2195], [2196], [2207], [2214], [2216], [2239], [2240], [2249], [2251], [2256], [2257], [2262], [2277], [2285], [2316], [2383], [2392], [2397], [2402], [2417], [2423], [2432], [2437], [2445], [2455], [2474], [2479], [2488], [2494], [2506], [2511], [2516], [2523], [2528], [2542], [2544], [2551], [2562], [2566], [2576], [2594], [2616], [2619], [2620], [2637], [2643], [2649], [2657], [2668], [2679], [2682], [2684], [2693], [2695], [2717], [2722], [2725], [2736], [2758], [2779], [2790], [2814], [2816], [2830], [2843], [2853], [2884], [2896], [2901], [2913], [2916], [2917], [2922], [1065, 1065], [1139, 1139], [1162, 1162], [1170, 1170], [1210, 1210], [1271, 1271], [1277, 1277], [1278, 1278], [1279, 1279], [1331, 1331], [1385, 1385], [1406, 1406], [1411, 1411], [1415, 1415], [1445, 1445], [1452, 1452], [1455, 1455], [1456, 1456], [1481, 1481], [1508, 1508], [1511, 1511], [1514, 1514], [1533, 1533], [1534, 1534], [1547, 1547], [1549, 1549], [1583, 1583], [1591, 1591], [1592, 1592], [1647, 1647], [1680, 1680], [1695, 1695], [1698, 1698], [1704, 1704], [1713, 1713], [1726, 1726], [1768, 1768], [1780, 1780], [1794, 1794], [1797, 1797], [1807, 1807], [1818, 1818], [1824, 1824], [1832, 1832], [1835, 1835], [1845, 1845], [1852, 1852], [1863, 1863], [1865, 1865], [1883, 1883], [1893, 1893], [1901, 1901], [1902, 1902], [1906, 1906], [1918, 1918], [1930, 1930], [1988, 1988], [2009, 2009], [2058, 2058], [2065, 2065], [2205, 2205], [2219, 2219], [2245, 2245], [2278, 2278], [2284, 2284], [2291, 2291], [2354, 2354], [2362, 2362], [2365, 2365], [2394, 2394], [2398, 2398], [2425, 2425], [2464, 2464], [2470, 2470], [2472, 2472], [2496, 2496], [2499, 2499], [2500, 2500], [2503, 2503], [2563, 2563], [2581, 2581], [2593, 2593], [2597, 2597], [2600, 2600], [2609, 2609], [2622, 2622], [2627, 2627], [2635, 2635], [2651, 2651], [2665, 2665], [2666, 2666], [2740, 2740], [2744, 2744], [2753, 2753], [2778, 2778], [2780, 2780], [2808, 2808], [2819, 2819], [2854, 2854], [2866, 2866], [2872, 2872], [2900, 2900], [2910, 2910], [2953, 2953], [1194, 1194, 1194], [1263, 1263, 1263], [1349, 1349, 1349], [1370, 1370, 1370], [1402, 1402, 1402], [1457, 1457, 1457], [1464, 1464, 1464], [1496, 1496, 1496], [1531, 1531, 1531], [1550, 1550, 1550], [1560, 1560, 1560], [1566, 1566, 1566], [1573, 1573, 1573], [1574, 1574, 1574], [1575, 1575, 1575], [1594, 1594, 1594], [1599, 1599, 1599], [1618, 1618, 1618], [1626, 1626, 1626], [1635, 1635, 1635], [1636, 1636, 1636], [1642, 1642, 1642], [1678, 1678, 1678], [1689, 1689, 1689], [1724, 1724, 1724], [1738, 1738, 1738], [1742, 1742, 1742], [1769, 1769, 1769], [1775, 1775, 1775], [1777, 1777, 1777], [1801, 1801, 1801], [1842, 1842, 1842], [1860, 1860, 1860], [1881, 1881, 1881], [1907, 1907, 1907], [1946, 1946, 1946], [1960, 1960, 1960], [1963, 1963, 1963], [2034, 2034, 2034], [2176, 2176, 2176], [2332, 2332, 2332], [2344, 2344, 2344], [2348, 2348, 2348], [2358, 2358, 2358], [2382, 2382, 2382], [2386, 2386, 2386], [2409, 2409, 2409], [2426, 2426, 2426], [2428, 2428, 2428], [2438, 2438, 2438], [2442, 2442, 2442], [2454, 2454, 2454], [2475, 2475, 2475], [2484, 2484, 2484], [2507, 2507, 2507], [2510, 2510, 2510], [2514, 2514, 2514], [2521, 2521, 2521], [2558, 2558, 2558], [2592, 2592, 2592], [2607, 2607, 2607], [2613, 2613, 2613], [2615, 2615, 2615], [2618, 2618, 2618], [2632, 2632, 2632], [2640, 2640, 2640], [2652, 2652, 2652], [2661, 2661, 2661], [2663, 2663, 2663], [2705, 2705, 2705], [2735, 2735, 2735], [2742, 2742, 2742], [2771, 2771, 2771], [2787, 2787, 2787], [2793, 2793, 2793], [2800, 2800, 2800], [2812, 2812, 2812], [2836, 2836, 2836], [2841, 2841, 2841], [2842, 2842, 2842], [2845, 2845, 2845], [2859, 2859, 2859], [2869, 2869, 2869], [2870, 2870, 2870], [2909, 2909, 2909], [2941, 2941, 2941], [2949, 2949, 2949], [2951, 2951, 2951], [1054, 1054, 1054, 1054], [1125, 1125, 1125, 1125], [1177, 1177, 1177, 1177], [1231, 1231, 1231, 1231], [1246, 1246, 1246, 1246], [1248, 1248, 1248, 1248], [1256, 1256, 1256, 1256], [1367, 1367, 1367, 1367], [1393, 1393, 1393, 1393], [1467, 1467, 1467, 1467], [1521, 1521, 1521, 1521], [1539, 1539, 1539, 1539], [1546, 1546, 1546, 1546], [1562, 1562, 1562, 1562], [1576, 1576, 1576, 1576], [1601, 1601, 1601, 1601], [1632, 1632, 1632, 1632], [1651, 1651, 1651, 1651], [1687, 1687, 1687, 1687], [1696, 1696, 1696, 1696], [1711, 1711, 1711, 1711], [1864, 1864, 1864, 1864], [1867, 1867, 1867, 1867], [1870, 1870, 1870, 1870], [1894, 1894, 1894, 1894], [1895, 1895, 1895, 1895], [1916, 1916, 1916, 1916], [1922, 1922, 1922, 1922], [1949, 1949, 1949, 1949], [1950, 1950, 1950, 1950], [1965, 1965, 1965, 1965], [1971, 1971, 1971, 1971], [1984, 1984, 1984, 1984], [1994, 1994, 1994, 1994], [1996, 1996, 1996, 1996], [2000, 2000, 2000, 2000], [2005, 2005, 2005, 2005], [2032, 2032, 2032, 2032], [2063, 2063, 2063, 2063], [2090, 2090, 2090, 2090], [2104, 2104, 2104, 2104], [2110, 2110, 2110, 2110], [2137, 2137, 2137, 2137], [2171, 2171, 2171, 2171], [2182, 2182, 2182, 2182], [2183, 2183, 2183, 2183], [2187, 2187, 2187, 2187], [2188, 2188, 2188, 2188], [2273, 2273, 2273, 2273], [2336, 2336, 2336, 2336], [2353, 2353, 2353, 2353], [2387, 2387, 2387, 2387], [2391, 2391, 2391, 2391], [2399, 2399, 2399, 2399], [2403, 2403, 2403, 2403], [2408, 2408, 2408, 2408], [2414, 2414, 2414, 2414], [2433, 2433, 2433, 2433], [2447, 2447, 2447, 2447], [2460, 2460, 2460, 2460], [2485, 2485, 2485, 2485], [2491, 2491, 2491, 2491], [2498, 2498, 2498, 2498], [2543, 2543, 2543, 2543], [2554, 2554, 2554, 2554], [2555, 2555, 2555, 2555], [2575, 2575, 2575, 2575], [2580, 2580, 2580, 2580], [2589, 2589, 2589, 2589], [2601, 2601, 2601, 2601], [2602, 2602, 2602, 2602], [2617, 2617, 2617, 2617], [2621, 2621, 2621, 2621], [2639, 2639, 2639, 2639], [2654, 2654, 2654, 2654], [2660, 2660, 2660, 2660], [2664, 2664, 2664, 2664], [2669, 2669, 2669, 2669], [2670, 2670, 2670, 2670], [2671, 2671, 2671, 2671], [2672, 2672, 2672, 2672], [2677, 2677, 2677, 2677], [2680, 2680, 2680, 2680], [2681, 2681, 2681, 2681], [2685, 2685, 2685, 2685], [2686, 2686, 2686, 2686], [2687, 2687, 2687, 2687], [2689, 2689, 2689, 2689], [2690, 2690, 2690, 2690], [2691, 2691, 2691, 2691], [2692, 2692, 2692, 2692], [2699, 2699, 2699, 2699], [2733, 2733, 2733, 2733], [2741, 2741, 2741, 2741], [2766, 2766, 2766, 2766], [2769, 2769, 2769, 2769], [2774, 2774, 2774, 2774], [2776, 2776, 2776, 2776], [2799, 2799, 2799, 2799], [2807, 2807, 2807, 2807], [2809, 2809, 2809, 2809], [2822, 2822, 2822, 2822], [2828, 2828, 2828, 2828], [2847, 2847, 2847, 2847], [2879, 2879, 2879, 2879], [2912, 2912, 2912, 2912], [2968, 2968, 2968, 2968], [2970, 2970, 2970, 2970], [2971, 2971, 2971, 2971]]\n"
          ]
        }
      ]
    },
    {
      "cell_type": "code",
      "source": [
        "teamsid_without_cgpa = Data_analysis[Data_analysis['cgpa'].isnull()]['team_id']\n",
        "print(sorted([list(j) for i, j in groupby(teamsid_without_cgpa)], key=len))"
      ],
      "metadata": {
        "colab": {
          "base_uri": "https://localhost:8080/"
        },
        "id": "Sl257W39VYmR",
        "outputId": "fdc192bb-add3-45f4-bf1d-c75278990c2b"
      },
      "execution_count": 134,
      "outputs": [
        {
          "output_type": "stream",
          "name": "stdout",
          "text": [
            "[[1070], [1073], [1134], [1148], [1172], [1183], [1203], [1223], [1230], [1231], [1246], [1268], [1269], [1282], [1293], [1309], [1322], [1337], [1351], [1362], [1365], [1370], [1376], [1387], [1399], [1415], [1420], [1424], [1426], [1437], [1438], [1440], [1455], [1457], [1473], [1481], [1483], [1485], [1489], [1514], [1520], [1528], [1531], [1549], [1557], [1561], [1563], [1564], [1566], [1571], [1576], [1583], [1589], [1594], [1623], [1630], [1636], [1642], [1655], [1666], [1696], [1698], [1702], [1711], [1730], [1731], [1764], [1766], [1769], [1781], [1785], [1788], [1791], [1794], [1815], [1825], [1828], [1834], [1836], [1839], [1856], [1858], [1860], [1873], [1876], [1883], [1886], [1888], [1895], [1903], [1920], [1935], [1984], [2000], [2012], [2035], [2065], [2090], [2104], [2139], [2158], [2166], [2176], [2192], [2198], [2203], [2232], [2248], [2251], [2277], [2311], [2316], [2344], [2353], [2382], [2391], [2407], [2422], [2443], [2447], [2459], [2460], [2461], [2485], [2486], [2522], [2523], [2528], [2539], [2544], [2551], [2558], [2566], [2572], [2575], [2578], [2624], [2632], [2665], [2683], [2686], [2700], [2701], [2730], [2736], [2737], [2741], [2742], [2752], [2766], [2771], [2776], [2788], [2790], [2817], [2819], [2822], [2857], [2884], [2896], [2910], [2941], [2949], [2961], [2963], [2965], [1128, 1128], [1197, 1197], [1271, 1271], [1312, 1312], [1325, 1325], [1432, 1432], [1456, 1456], [1488, 1488], [1544, 1544], [1653, 1653], [1756, 1756], [1809, 1809], [1852, 1852], [1947, 1947], [1950, 1950], [1963, 1963], [2249, 2249], [2253, 2253], [2356, 2356], [2442, 2442], [2542, 2542], [2656, 2656], [2706, 2706], [2859, 2859], [2897, 2897], [1750, 1750, 1750], [1758, 1758, 1758], [1932, 1932, 1932], [1960, 1960, 1960], [2058, 2058, 2058], [2242, 2242, 2242], [2510, 2510, 2510], [1721, 1721, 1721, 1721], [1782, 1782, 1782, 1782], [1956, 1956, 1956, 1956], [2005, 2005, 2005, 2005], [2197, 2197, 2197, 2197], [2465, 2465, 2465, 2465], [2722, 2722, 2722, 2722]]\n"
          ]
        }
      ]
    },
    {
      "cell_type": "code",
      "source": [
        "columns = ['onlineCourse', 'completeCourse']\n",
        "teamid = null_val_index_list(columns)\n",
        "print(sorted([list(j) for i, j in groupby(teamid)], key=len))"
      ],
      "metadata": {
        "colab": {
          "base_uri": "https://localhost:8080/"
        },
        "id": "R4TbYJcSYdPu",
        "outputId": "484a4243-afdd-4471-a1de-c49ab211034b"
      },
      "execution_count": 135,
      "outputs": [
        {
          "output_type": "stream",
          "name": "stdout",
          "text": [
            "[[[1576.0]], [[1594.0]], [[2542.0]], [[2652.0]], [[2736.0]], [[2859.0]], [[1960.0], [1960.0]], [[1271.0], [1271.0], [1271.0]], [[2510.0], [2510.0], [2510.0]], [[2005.0], [2005.0], [2005.0], [2005.0]]]\n"
          ]
        }
      ]
    },
    {
      "cell_type": "code",
      "source": [
        "print(Data_analysis.isna().sum().sort_values(ascending=False).to_markdown())"
      ],
      "metadata": {
        "colab": {
          "base_uri": "https://localhost:8080/"
        },
        "id": "b8kmLMt0g7YW",
        "outputId": "e11f03cd-6e96-4e49-e359-5a5d9bcb0dfd"
      },
      "execution_count": 136,
      "outputs": [
        {
          "output_type": "stream",
          "name": "stdout",
          "text": [
            "|                      |    0 |\n",
            "|:---------------------|-----:|\n",
            "| internetspeed<       | 1105 |\n",
            "| cgpa                 |  265 |\n",
            "| onlineCourse         |   18 |\n",
            "| completeCourse       |   18 |\n",
            "| team_id              |    0 |\n",
            "| preference4          |    0 |\n",
            "| sub_mm               |    0 |\n",
            "| sub_de               |    0 |\n",
            "| preference1          |    0 |\n",
            "| preference2          |    0 |\n",
            "| preference3          |    0 |\n",
            "| preference6          |    0 |\n",
            "| preference5          |    0 |\n",
            "| sub_mss              |    0 |\n",
            "| IS_eLSI              |    0 |\n",
            "| country              |    0 |\n",
            "| Participation_Freq   |    0 |\n",
            "| Internet_option_freq |    0 |\n",
            "| sub_fpga             |    0 |\n",
            "| sub_ap               |    0 |\n",
            "| sub_cs               |    0 |\n",
            "| role                 |    0 |\n",
            "| sub_ml               |    0 |\n",
            "| sub_emb_c            |    0 |\n",
            "| sub_ip               |    0 |\n",
            "| sub_ros              |    0 |\n",
            "| workstation          |    0 |\n",
            "| hsc_board            |    0 |\n",
            "| ssc_board            |    0 |\n",
            "| elsiLab              |    0 |\n",
            "| Gender               |    0 |\n",
            "| Year                 |    0 |\n",
            "| Discipline           |    0 |\n",
            "| Department_category  |    0 |\n"
          ]
        }
      ]
    },
    {
      "cell_type": "markdown",
      "source": [
        "**Some analysis code:(Not required)**"
      ],
      "metadata": {
        "id": "9LtA8nB2N3P1"
      }
    },
    {
      "cell_type": "code",
      "source": [
        "x = pd.DataFrame(teamid_null_pref)\n",
        "x"
      ],
      "metadata": {
        "id": "nuYb0EMc-qgV"
      },
      "execution_count": null,
      "outputs": []
    },
    {
      "cell_type": "code",
      "source": [
        "y = pd.DataFrame(teamid_null_sub)\n",
        "y"
      ],
      "metadata": {
        "id": "yZ8rULNF_RPb"
      },
      "execution_count": null,
      "outputs": []
    },
    {
      "cell_type": "code",
      "source": [
        "z = pd.DataFrame(teamid_null_discipline)\n",
        "z"
      ],
      "metadata": {
        "id": "PTB8hoCs_b_C"
      },
      "execution_count": null,
      "outputs": []
    },
    {
      "cell_type": "code",
      "source": [
        "w = pd.DataFrame(teamsid_without_netspeed)\n",
        "w"
      ],
      "metadata": {
        "id": "XbtIl9PA_5eH"
      },
      "execution_count": null,
      "outputs": []
    },
    {
      "cell_type": "markdown",
      "source": [
        "## **One Hot Encoding:**"
      ],
      "metadata": {
        "id": "D7lr2OjmkIjv"
      }
    },
    {
      "cell_type": "code",
      "source": [
        "Data_analysis.columns"
      ],
      "metadata": {
        "colab": {
          "base_uri": "https://localhost:8080/"
        },
        "id": "7cBDs_RUmH6o",
        "outputId": "85be29c1-0124-4a6e-f469-ffd2aab211e0"
      },
      "execution_count": 138,
      "outputs": [
        {
          "output_type": "execute_result",
          "data": {
            "text/plain": [
              "Index(['team_id', 'role', 'Discipline', 'Year', 'Gender', 'elsiLab', 'cgpa',\n",
              "       'onlineCourse', 'completeCourse', 'ssc_board', 'hsc_board',\n",
              "       'workstation', 'internetspeed<', 'sub_ros', 'sub_ip', 'sub_emb_c',\n",
              "       'sub_ml', 'sub_ap', 'sub_cs', 'sub_mss', 'sub_fpga', 'sub_mm', 'sub_de',\n",
              "       'preference1', 'preference2', 'preference3', 'preference4',\n",
              "       'preference5', 'preference6', 'IS_eLSI', 'country',\n",
              "       'Participation_Freq', 'Internet_option_freq', 'Department_category'],\n",
              "      dtype='object')"
            ]
          },
          "metadata": {},
          "execution_count": 138
        }
      ]
    },
    {
      "cell_type": "code",
      "source": [
        "Unique = unique_chart(Data_analysis)\n",
        "print(Unique.to_markdown())"
      ],
      "metadata": {
        "colab": {
          "base_uri": "https://localhost:8080/"
        },
        "id": "Es1olPO8jerL",
        "outputId": "3fe339f6-4f90-41ed-a03b-b66303e2a0b1"
      },
      "execution_count": 139,
      "outputs": [
        {
          "output_type": "stream",
          "name": "stdout",
          "text": [
            "|    |   team_id | role   | Discipline             | Year             | Gender     | elsiLab    |   cgpa |   onlineCourse |   completeCourse | ssc_board           | hsc_board           | workstation   | internetspeed<                       | sub_ros             | sub_ip              | sub_emb_c           | sub_ml              | sub_ap              | sub_cs              | sub_mss             | sub_fpga            | sub_mm              | sub_de              | preference1            | preference2            | preference3            | preference4            | preference5            | preference6            | IS_eLSI   | country   | Participation_Freq   | Internet_option_freq   | Department_category   |\n",
            "|---:|----------:|:-------|:-----------------------|:-----------------|:-----------|:-----------|-------:|---------------:|-----------------:|:--------------------|:--------------------|:--------------|:-------------------------------------|:--------------------|:--------------------|:--------------------|:--------------------|:--------------------|:--------------------|:--------------------|:--------------------|:--------------------|:--------------------|:-----------------------|:-----------------------|:-----------------------|:-----------------------|:-----------------------|:-----------------------|:----------|:----------|:---------------------|:-----------------------|:----------------------|\n",
            "|  0 |      1293 | 2      | 7                      | 5                | 3          | 3          |    755 |             40 |               35 | 6                   | 6                   | 3             | 6                                    | 6                   | 6                   | 6                   | 6                   | 6                   | 6                   | 6                   | 6                   | 6                   | 6                   | 7                      | 7                      | 7                      | 7                      | 7                      | 7                      | 2         | 3         | 4                    | 6                      | 5                     |\n",
            "|  1 |       nan | [1 2]  | [0. 1. 2. 3. 4. 5. 7.] | [3. 2. 4. 1. 6.] | [0. 1. 3.] | [1. 2. 0.] |    nan |            nan |              nan | [0. 1. 2. 6. 3. 4.] | [1. 0. 2. 4. 6. 3.] | [1. 2. 4.]    | [  1.  10.  50. 150. 200. 100.  nan] | [1. 0. 4. 3. 2. 7.] | [0. 2. 3. 1. 4. 7.] | [1. 0. 3. 2. 4. 7.] | [0. 1. 3. 4. 2. 7.] | [0. 2. 1. 3. 4. 7.] | [2. 1. 0. 3. 4. 7.] | [0. 1. 3. 2. 4. 7.] | [1. 0. 2. 4. 3. 7.] | [0. 2. 1. 3. 7. 4.] | [2. 1. 0. 3. 4. 7.] | [0. 1. 2. 3. 4. 5. 7.] | [1. 3. 5. 0. 2. 4. 7.] | [4. 1. 5. 3. 0. 2. 7.] | [3. 4. 5. 1. 0. 2. 7.] | [5. 2. 3. 4. 1. 0. 7.] | [2. 4. 0. 5. 3. 1. 7.] | [1 0]     | [0 1 2]   | [1 0 2 3]            | [3 2 1 4 5 0]          | [0. 1. 2. 3. 4.]      |\n"
          ]
        }
      ]
    },
    {
      "cell_type": "code",
      "source": [
        "Data_analysis.info()"
      ],
      "metadata": {
        "colab": {
          "base_uri": "https://localhost:8080/"
        },
        "id": "vun5OEho2h2g",
        "outputId": "235e76fa-ac9d-41da-ad2d-07a83701a0ef"
      },
      "execution_count": 140,
      "outputs": [
        {
          "output_type": "stream",
          "name": "stdout",
          "text": [
            "<class 'pandas.core.frame.DataFrame'>\n",
            "RangeIndex: 5172 entries, 0 to 5171\n",
            "Data columns (total 34 columns):\n",
            " #   Column                Non-Null Count  Dtype  \n",
            "---  ------                --------------  -----  \n",
            " 0   team_id               5172 non-null   int64  \n",
            " 1   role                  5172 non-null   int64  \n",
            " 2   Discipline            5172 non-null   float64\n",
            " 3   Year                  5172 non-null   float64\n",
            " 4   Gender                5172 non-null   float64\n",
            " 5   elsiLab               5172 non-null   float64\n",
            " 6   cgpa                  4907 non-null   float64\n",
            " 7   onlineCourse          5154 non-null   float64\n",
            " 8   completeCourse        5154 non-null   float64\n",
            " 9   ssc_board             5172 non-null   float64\n",
            " 10  hsc_board             5172 non-null   float64\n",
            " 11  workstation           5172 non-null   float64\n",
            " 12  internetspeed<        4067 non-null   float64\n",
            " 13  sub_ros               5172 non-null   float64\n",
            " 14  sub_ip                5172 non-null   float64\n",
            " 15  sub_emb_c             5172 non-null   float64\n",
            " 16  sub_ml                5172 non-null   float64\n",
            " 17  sub_ap                5172 non-null   float64\n",
            " 18  sub_cs                5172 non-null   float64\n",
            " 19  sub_mss               5172 non-null   float64\n",
            " 20  sub_fpga              5172 non-null   float64\n",
            " 21  sub_mm                5172 non-null   float64\n",
            " 22  sub_de                5172 non-null   float64\n",
            " 23  preference1           5172 non-null   float64\n",
            " 24  preference2           5172 non-null   float64\n",
            " 25  preference3           5172 non-null   float64\n",
            " 26  preference4           5172 non-null   float64\n",
            " 27  preference5           5172 non-null   float64\n",
            " 28  preference6           5172 non-null   float64\n",
            " 29  IS_eLSI               5172 non-null   int64  \n",
            " 30  country               5172 non-null   int64  \n",
            " 31  Participation_Freq    5172 non-null   int64  \n",
            " 32  Internet_option_freq  5172 non-null   int64  \n",
            " 33  Department_category   5172 non-null   float64\n",
            "dtypes: float64(28), int64(6)\n",
            "memory usage: 1.3 MB\n"
          ]
        }
      ]
    },
    {
      "cell_type": "code",
      "source": [
        "categorical_cols = ['Discipline', 'Year', 'Gender', 'elsiLab', 'ssc_board', 'hsc_board',\n",
        "       'workstation', 'sub_ros', 'sub_ip', 'sub_emb_c',\n",
        "       'sub_ml', 'sub_ap', 'sub_cs', 'sub_mss', 'sub_fpga', 'sub_mm', 'sub_de',\n",
        "       'preference1', 'preference2', 'preference3', 'preference4',\n",
        "       'preference5', 'preference6', 'IS_eLSI', 'country',\n",
        "       'Participation_Freq', 'Internet_option_freq', 'Department_category'] \n",
        "ohe = OneHotEncoder()"
      ],
      "metadata": {
        "id": "Ka0vry8okMLS"
      },
      "execution_count": 141,
      "outputs": []
    },
    {
      "cell_type": "code",
      "source": [
        "average_data = Data_analysis.drop(columns=categorical_cols, axis=1)"
      ],
      "metadata": {
        "id": "QYUIt3l73Dok"
      },
      "execution_count": 142,
      "outputs": []
    },
    {
      "cell_type": "code",
      "source": [
        "Data_analysis.columns"
      ],
      "metadata": {
        "colab": {
          "base_uri": "https://localhost:8080/"
        },
        "id": "YCJCR01B3NsE",
        "outputId": "b9c2b070-c809-417c-ba87-ef0141e3e9e0"
      },
      "execution_count": 143,
      "outputs": [
        {
          "output_type": "execute_result",
          "data": {
            "text/plain": [
              "Index(['team_id', 'role', 'Discipline', 'Year', 'Gender', 'elsiLab', 'cgpa',\n",
              "       'onlineCourse', 'completeCourse', 'ssc_board', 'hsc_board',\n",
              "       'workstation', 'internetspeed<', 'sub_ros', 'sub_ip', 'sub_emb_c',\n",
              "       'sub_ml', 'sub_ap', 'sub_cs', 'sub_mss', 'sub_fpga', 'sub_mm', 'sub_de',\n",
              "       'preference1', 'preference2', 'preference3', 'preference4',\n",
              "       'preference5', 'preference6', 'IS_eLSI', 'country',\n",
              "       'Participation_Freq', 'Internet_option_freq', 'Department_category'],\n",
              "      dtype='object')"
            ]
          },
          "metadata": {},
          "execution_count": 143
        }
      ]
    },
    {
      "cell_type": "code",
      "source": [
        "data_hot_encoded = pd.get_dummies(Data_analysis, columns = categorical_cols)"
      ],
      "metadata": {
        "id": "sCODcxlenAD4"
      },
      "execution_count": 144,
      "outputs": []
    },
    {
      "cell_type": "code",
      "source": [
        "data_hot_encoded.drop(['role', 'cgpa', 'onlineCourse', 'completeCourse', 'internetspeed<'], axis=1, inplace=True)"
      ],
      "metadata": {
        "id": "LKub9dU1nnEi"
      },
      "execution_count": 145,
      "outputs": []
    },
    {
      "cell_type": "code",
      "source": [
        "data_hot_encoded.head()"
      ],
      "metadata": {
        "colab": {
          "base_uri": "https://localhost:8080/",
          "height": 299
        },
        "id": "0ruRowMP4KPe",
        "outputId": "bbcf3adc-f6db-4f44-edb1-388cfb84bb62"
      },
      "execution_count": 146,
      "outputs": [
        {
          "output_type": "execute_result",
          "data": {
            "text/plain": [
              "   team_id  Discipline_0.0  Discipline_1.0  Discipline_2.0  Discipline_3.0  \\\n",
              "0     1001               1               0               0               0   \n",
              "1     1001               1               0               0               0   \n",
              "2     1001               1               0               0               0   \n",
              "3     1001               1               0               0               0   \n",
              "4     1002               1               0               0               0   \n",
              "\n",
              "   Discipline_4.0  Discipline_5.0  Discipline_7.0  Year_1.0  Year_2.0  ...  \\\n",
              "0               0               0               0         0         0  ...   \n",
              "1               0               0               0         0         0  ...   \n",
              "2               0               0               0         0         0  ...   \n",
              "3               0               0               0         0         0  ...   \n",
              "4               0               0               0         0         0  ...   \n",
              "\n",
              "   Internet_option_freq_1  Internet_option_freq_2  Internet_option_freq_3  \\\n",
              "0                       0                       0                       1   \n",
              "1                       0                       1                       0   \n",
              "2                       0                       1                       0   \n",
              "3                       0                       1                       0   \n",
              "4                       0                       0                       1   \n",
              "\n",
              "   Internet_option_freq_4  Internet_option_freq_5  Department_category_0.0  \\\n",
              "0                       0                       0                        1   \n",
              "1                       0                       0                        1   \n",
              "2                       0                       0                        1   \n",
              "3                       0                       0                        1   \n",
              "4                       0                       0                        1   \n",
              "\n",
              "   Department_category_1.0  Department_category_2.0  Department_category_3.0  \\\n",
              "0                        0                        0                        0   \n",
              "1                        0                        0                        0   \n",
              "2                        0                        0                        0   \n",
              "3                        0                        0                        0   \n",
              "4                        0                        0                        0   \n",
              "\n",
              "   Department_category_4.0  \n",
              "0                        0  \n",
              "1                        0  \n",
              "2                        0  \n",
              "3                        0  \n",
              "4                        0  \n",
              "\n",
              "[5 rows x 156 columns]"
            ],
            "text/html": [
              "\n",
              "  <div id=\"df-de7071b4-7138-4cd8-8fc1-e96ff6a047fe\">\n",
              "    <div class=\"colab-df-container\">\n",
              "      <div>\n",
              "<style scoped>\n",
              "    .dataframe tbody tr th:only-of-type {\n",
              "        vertical-align: middle;\n",
              "    }\n",
              "\n",
              "    .dataframe tbody tr th {\n",
              "        vertical-align: top;\n",
              "    }\n",
              "\n",
              "    .dataframe thead th {\n",
              "        text-align: right;\n",
              "    }\n",
              "</style>\n",
              "<table border=\"1\" class=\"dataframe\">\n",
              "  <thead>\n",
              "    <tr style=\"text-align: right;\">\n",
              "      <th></th>\n",
              "      <th>team_id</th>\n",
              "      <th>Discipline_0.0</th>\n",
              "      <th>Discipline_1.0</th>\n",
              "      <th>Discipline_2.0</th>\n",
              "      <th>Discipline_3.0</th>\n",
              "      <th>Discipline_4.0</th>\n",
              "      <th>Discipline_5.0</th>\n",
              "      <th>Discipline_7.0</th>\n",
              "      <th>Year_1.0</th>\n",
              "      <th>Year_2.0</th>\n",
              "      <th>...</th>\n",
              "      <th>Internet_option_freq_1</th>\n",
              "      <th>Internet_option_freq_2</th>\n",
              "      <th>Internet_option_freq_3</th>\n",
              "      <th>Internet_option_freq_4</th>\n",
              "      <th>Internet_option_freq_5</th>\n",
              "      <th>Department_category_0.0</th>\n",
              "      <th>Department_category_1.0</th>\n",
              "      <th>Department_category_2.0</th>\n",
              "      <th>Department_category_3.0</th>\n",
              "      <th>Department_category_4.0</th>\n",
              "    </tr>\n",
              "  </thead>\n",
              "  <tbody>\n",
              "    <tr>\n",
              "      <th>0</th>\n",
              "      <td>1001</td>\n",
              "      <td>1</td>\n",
              "      <td>0</td>\n",
              "      <td>0</td>\n",
              "      <td>0</td>\n",
              "      <td>0</td>\n",
              "      <td>0</td>\n",
              "      <td>0</td>\n",
              "      <td>0</td>\n",
              "      <td>0</td>\n",
              "      <td>...</td>\n",
              "      <td>0</td>\n",
              "      <td>0</td>\n",
              "      <td>1</td>\n",
              "      <td>0</td>\n",
              "      <td>0</td>\n",
              "      <td>1</td>\n",
              "      <td>0</td>\n",
              "      <td>0</td>\n",
              "      <td>0</td>\n",
              "      <td>0</td>\n",
              "    </tr>\n",
              "    <tr>\n",
              "      <th>1</th>\n",
              "      <td>1001</td>\n",
              "      <td>1</td>\n",
              "      <td>0</td>\n",
              "      <td>0</td>\n",
              "      <td>0</td>\n",
              "      <td>0</td>\n",
              "      <td>0</td>\n",
              "      <td>0</td>\n",
              "      <td>0</td>\n",
              "      <td>0</td>\n",
              "      <td>...</td>\n",
              "      <td>0</td>\n",
              "      <td>1</td>\n",
              "      <td>0</td>\n",
              "      <td>0</td>\n",
              "      <td>0</td>\n",
              "      <td>1</td>\n",
              "      <td>0</td>\n",
              "      <td>0</td>\n",
              "      <td>0</td>\n",
              "      <td>0</td>\n",
              "    </tr>\n",
              "    <tr>\n",
              "      <th>2</th>\n",
              "      <td>1001</td>\n",
              "      <td>1</td>\n",
              "      <td>0</td>\n",
              "      <td>0</td>\n",
              "      <td>0</td>\n",
              "      <td>0</td>\n",
              "      <td>0</td>\n",
              "      <td>0</td>\n",
              "      <td>0</td>\n",
              "      <td>0</td>\n",
              "      <td>...</td>\n",
              "      <td>0</td>\n",
              "      <td>1</td>\n",
              "      <td>0</td>\n",
              "      <td>0</td>\n",
              "      <td>0</td>\n",
              "      <td>1</td>\n",
              "      <td>0</td>\n",
              "      <td>0</td>\n",
              "      <td>0</td>\n",
              "      <td>0</td>\n",
              "    </tr>\n",
              "    <tr>\n",
              "      <th>3</th>\n",
              "      <td>1001</td>\n",
              "      <td>1</td>\n",
              "      <td>0</td>\n",
              "      <td>0</td>\n",
              "      <td>0</td>\n",
              "      <td>0</td>\n",
              "      <td>0</td>\n",
              "      <td>0</td>\n",
              "      <td>0</td>\n",
              "      <td>0</td>\n",
              "      <td>...</td>\n",
              "      <td>0</td>\n",
              "      <td>1</td>\n",
              "      <td>0</td>\n",
              "      <td>0</td>\n",
              "      <td>0</td>\n",
              "      <td>1</td>\n",
              "      <td>0</td>\n",
              "      <td>0</td>\n",
              "      <td>0</td>\n",
              "      <td>0</td>\n",
              "    </tr>\n",
              "    <tr>\n",
              "      <th>4</th>\n",
              "      <td>1002</td>\n",
              "      <td>1</td>\n",
              "      <td>0</td>\n",
              "      <td>0</td>\n",
              "      <td>0</td>\n",
              "      <td>0</td>\n",
              "      <td>0</td>\n",
              "      <td>0</td>\n",
              "      <td>0</td>\n",
              "      <td>0</td>\n",
              "      <td>...</td>\n",
              "      <td>0</td>\n",
              "      <td>0</td>\n",
              "      <td>1</td>\n",
              "      <td>0</td>\n",
              "      <td>0</td>\n",
              "      <td>1</td>\n",
              "      <td>0</td>\n",
              "      <td>0</td>\n",
              "      <td>0</td>\n",
              "      <td>0</td>\n",
              "    </tr>\n",
              "  </tbody>\n",
              "</table>\n",
              "<p>5 rows × 156 columns</p>\n",
              "</div>\n",
              "      <button class=\"colab-df-convert\" onclick=\"convertToInteractive('df-de7071b4-7138-4cd8-8fc1-e96ff6a047fe')\"\n",
              "              title=\"Convert this dataframe to an interactive table.\"\n",
              "              style=\"display:none;\">\n",
              "        \n",
              "  <svg xmlns=\"http://www.w3.org/2000/svg\" height=\"24px\"viewBox=\"0 0 24 24\"\n",
              "       width=\"24px\">\n",
              "    <path d=\"M0 0h24v24H0V0z\" fill=\"none\"/>\n",
              "    <path d=\"M18.56 5.44l.94 2.06.94-2.06 2.06-.94-2.06-.94-.94-2.06-.94 2.06-2.06.94zm-11 1L8.5 8.5l.94-2.06 2.06-.94-2.06-.94L8.5 2.5l-.94 2.06-2.06.94zm10 10l.94 2.06.94-2.06 2.06-.94-2.06-.94-.94-2.06-.94 2.06-2.06.94z\"/><path d=\"M17.41 7.96l-1.37-1.37c-.4-.4-.92-.59-1.43-.59-.52 0-1.04.2-1.43.59L10.3 9.45l-7.72 7.72c-.78.78-.78 2.05 0 2.83L4 21.41c.39.39.9.59 1.41.59.51 0 1.02-.2 1.41-.59l7.78-7.78 2.81-2.81c.8-.78.8-2.07 0-2.86zM5.41 20L4 18.59l7.72-7.72 1.47 1.35L5.41 20z\"/>\n",
              "  </svg>\n",
              "      </button>\n",
              "      \n",
              "  <style>\n",
              "    .colab-df-container {\n",
              "      display:flex;\n",
              "      flex-wrap:wrap;\n",
              "      gap: 12px;\n",
              "    }\n",
              "\n",
              "    .colab-df-convert {\n",
              "      background-color: #E8F0FE;\n",
              "      border: none;\n",
              "      border-radius: 50%;\n",
              "      cursor: pointer;\n",
              "      display: none;\n",
              "      fill: #1967D2;\n",
              "      height: 32px;\n",
              "      padding: 0 0 0 0;\n",
              "      width: 32px;\n",
              "    }\n",
              "\n",
              "    .colab-df-convert:hover {\n",
              "      background-color: #E2EBFA;\n",
              "      box-shadow: 0px 1px 2px rgba(60, 64, 67, 0.3), 0px 1px 3px 1px rgba(60, 64, 67, 0.15);\n",
              "      fill: #174EA6;\n",
              "    }\n",
              "\n",
              "    [theme=dark] .colab-df-convert {\n",
              "      background-color: #3B4455;\n",
              "      fill: #D2E3FC;\n",
              "    }\n",
              "\n",
              "    [theme=dark] .colab-df-convert:hover {\n",
              "      background-color: #434B5C;\n",
              "      box-shadow: 0px 1px 3px 1px rgba(0, 0, 0, 0.15);\n",
              "      filter: drop-shadow(0px 1px 2px rgba(0, 0, 0, 0.3));\n",
              "      fill: #FFFFFF;\n",
              "    }\n",
              "  </style>\n",
              "\n",
              "      <script>\n",
              "        const buttonEl =\n",
              "          document.querySelector('#df-de7071b4-7138-4cd8-8fc1-e96ff6a047fe button.colab-df-convert');\n",
              "        buttonEl.style.display =\n",
              "          google.colab.kernel.accessAllowed ? 'block' : 'none';\n",
              "\n",
              "        async function convertToInteractive(key) {\n",
              "          const element = document.querySelector('#df-de7071b4-7138-4cd8-8fc1-e96ff6a047fe');\n",
              "          const dataTable =\n",
              "            await google.colab.kernel.invokeFunction('convertToInteractive',\n",
              "                                                     [key], {});\n",
              "          if (!dataTable) return;\n",
              "\n",
              "          const docLinkHtml = 'Like what you see? Visit the ' +\n",
              "            '<a target=\"_blank\" href=https://colab.research.google.com/notebooks/data_table.ipynb>data table notebook</a>'\n",
              "            + ' to learn more about interactive tables.';\n",
              "          element.innerHTML = '';\n",
              "          dataTable['output_type'] = 'display_data';\n",
              "          await google.colab.output.renderOutput(dataTable, element);\n",
              "          const docLink = document.createElement('div');\n",
              "          docLink.innerHTML = docLinkHtml;\n",
              "          element.appendChild(docLink);\n",
              "        }\n",
              "      </script>\n",
              "    </div>\n",
              "  </div>\n",
              "  "
            ]
          },
          "metadata": {},
          "execution_count": 146
        }
      ]
    },
    {
      "cell_type": "code",
      "source": [
        "average_data.head()"
      ],
      "metadata": {
        "colab": {
          "base_uri": "https://localhost:8080/",
          "height": 206
        },
        "id": "V0_DkroP4sm1",
        "outputId": "134472fc-aa38-4961-c71e-94bc40933a7f"
      },
      "execution_count": 147,
      "outputs": [
        {
          "output_type": "execute_result",
          "data": {
            "text/plain": [
              "   team_id  role   cgpa  onlineCourse  completeCourse  internetspeed<\n",
              "0     1001     1  9.000           3.0             2.0             1.0\n",
              "1     1001     2  9.000           4.0             2.0             1.0\n",
              "2     1001     2  8.450           3.0             0.0             1.0\n",
              "3     1001     2  7.300           1.0             0.0             1.0\n",
              "4     1002     1  9.004          10.0             7.0            10.0"
            ],
            "text/html": [
              "\n",
              "  <div id=\"df-94941387-ea65-4b28-b34c-20c7217159ca\">\n",
              "    <div class=\"colab-df-container\">\n",
              "      <div>\n",
              "<style scoped>\n",
              "    .dataframe tbody tr th:only-of-type {\n",
              "        vertical-align: middle;\n",
              "    }\n",
              "\n",
              "    .dataframe tbody tr th {\n",
              "        vertical-align: top;\n",
              "    }\n",
              "\n",
              "    .dataframe thead th {\n",
              "        text-align: right;\n",
              "    }\n",
              "</style>\n",
              "<table border=\"1\" class=\"dataframe\">\n",
              "  <thead>\n",
              "    <tr style=\"text-align: right;\">\n",
              "      <th></th>\n",
              "      <th>team_id</th>\n",
              "      <th>role</th>\n",
              "      <th>cgpa</th>\n",
              "      <th>onlineCourse</th>\n",
              "      <th>completeCourse</th>\n",
              "      <th>internetspeed&lt;</th>\n",
              "    </tr>\n",
              "  </thead>\n",
              "  <tbody>\n",
              "    <tr>\n",
              "      <th>0</th>\n",
              "      <td>1001</td>\n",
              "      <td>1</td>\n",
              "      <td>9.000</td>\n",
              "      <td>3.0</td>\n",
              "      <td>2.0</td>\n",
              "      <td>1.0</td>\n",
              "    </tr>\n",
              "    <tr>\n",
              "      <th>1</th>\n",
              "      <td>1001</td>\n",
              "      <td>2</td>\n",
              "      <td>9.000</td>\n",
              "      <td>4.0</td>\n",
              "      <td>2.0</td>\n",
              "      <td>1.0</td>\n",
              "    </tr>\n",
              "    <tr>\n",
              "      <th>2</th>\n",
              "      <td>1001</td>\n",
              "      <td>2</td>\n",
              "      <td>8.450</td>\n",
              "      <td>3.0</td>\n",
              "      <td>0.0</td>\n",
              "      <td>1.0</td>\n",
              "    </tr>\n",
              "    <tr>\n",
              "      <th>3</th>\n",
              "      <td>1001</td>\n",
              "      <td>2</td>\n",
              "      <td>7.300</td>\n",
              "      <td>1.0</td>\n",
              "      <td>0.0</td>\n",
              "      <td>1.0</td>\n",
              "    </tr>\n",
              "    <tr>\n",
              "      <th>4</th>\n",
              "      <td>1002</td>\n",
              "      <td>1</td>\n",
              "      <td>9.004</td>\n",
              "      <td>10.0</td>\n",
              "      <td>7.0</td>\n",
              "      <td>10.0</td>\n",
              "    </tr>\n",
              "  </tbody>\n",
              "</table>\n",
              "</div>\n",
              "      <button class=\"colab-df-convert\" onclick=\"convertToInteractive('df-94941387-ea65-4b28-b34c-20c7217159ca')\"\n",
              "              title=\"Convert this dataframe to an interactive table.\"\n",
              "              style=\"display:none;\">\n",
              "        \n",
              "  <svg xmlns=\"http://www.w3.org/2000/svg\" height=\"24px\"viewBox=\"0 0 24 24\"\n",
              "       width=\"24px\">\n",
              "    <path d=\"M0 0h24v24H0V0z\" fill=\"none\"/>\n",
              "    <path d=\"M18.56 5.44l.94 2.06.94-2.06 2.06-.94-2.06-.94-.94-2.06-.94 2.06-2.06.94zm-11 1L8.5 8.5l.94-2.06 2.06-.94-2.06-.94L8.5 2.5l-.94 2.06-2.06.94zm10 10l.94 2.06.94-2.06 2.06-.94-2.06-.94-.94-2.06-.94 2.06-2.06.94z\"/><path d=\"M17.41 7.96l-1.37-1.37c-.4-.4-.92-.59-1.43-.59-.52 0-1.04.2-1.43.59L10.3 9.45l-7.72 7.72c-.78.78-.78 2.05 0 2.83L4 21.41c.39.39.9.59 1.41.59.51 0 1.02-.2 1.41-.59l7.78-7.78 2.81-2.81c.8-.78.8-2.07 0-2.86zM5.41 20L4 18.59l7.72-7.72 1.47 1.35L5.41 20z\"/>\n",
              "  </svg>\n",
              "      </button>\n",
              "      \n",
              "  <style>\n",
              "    .colab-df-container {\n",
              "      display:flex;\n",
              "      flex-wrap:wrap;\n",
              "      gap: 12px;\n",
              "    }\n",
              "\n",
              "    .colab-df-convert {\n",
              "      background-color: #E8F0FE;\n",
              "      border: none;\n",
              "      border-radius: 50%;\n",
              "      cursor: pointer;\n",
              "      display: none;\n",
              "      fill: #1967D2;\n",
              "      height: 32px;\n",
              "      padding: 0 0 0 0;\n",
              "      width: 32px;\n",
              "    }\n",
              "\n",
              "    .colab-df-convert:hover {\n",
              "      background-color: #E2EBFA;\n",
              "      box-shadow: 0px 1px 2px rgba(60, 64, 67, 0.3), 0px 1px 3px 1px rgba(60, 64, 67, 0.15);\n",
              "      fill: #174EA6;\n",
              "    }\n",
              "\n",
              "    [theme=dark] .colab-df-convert {\n",
              "      background-color: #3B4455;\n",
              "      fill: #D2E3FC;\n",
              "    }\n",
              "\n",
              "    [theme=dark] .colab-df-convert:hover {\n",
              "      background-color: #434B5C;\n",
              "      box-shadow: 0px 1px 3px 1px rgba(0, 0, 0, 0.15);\n",
              "      filter: drop-shadow(0px 1px 2px rgba(0, 0, 0, 0.3));\n",
              "      fill: #FFFFFF;\n",
              "    }\n",
              "  </style>\n",
              "\n",
              "      <script>\n",
              "        const buttonEl =\n",
              "          document.querySelector('#df-94941387-ea65-4b28-b34c-20c7217159ca button.colab-df-convert');\n",
              "        buttonEl.style.display =\n",
              "          google.colab.kernel.accessAllowed ? 'block' : 'none';\n",
              "\n",
              "        async function convertToInteractive(key) {\n",
              "          const element = document.querySelector('#df-94941387-ea65-4b28-b34c-20c7217159ca');\n",
              "          const dataTable =\n",
              "            await google.colab.kernel.invokeFunction('convertToInteractive',\n",
              "                                                     [key], {});\n",
              "          if (!dataTable) return;\n",
              "\n",
              "          const docLinkHtml = 'Like what you see? Visit the ' +\n",
              "            '<a target=\"_blank\" href=https://colab.research.google.com/notebooks/data_table.ipynb>data table notebook</a>'\n",
              "            + ' to learn more about interactive tables.';\n",
              "          element.innerHTML = '';\n",
              "          dataTable['output_type'] = 'display_data';\n",
              "          await google.colab.output.renderOutput(dataTable, element);\n",
              "          const docLink = document.createElement('div');\n",
              "          docLink.innerHTML = docLinkHtml;\n",
              "          element.appendChild(docLink);\n",
              "        }\n",
              "      </script>\n",
              "    </div>\n",
              "  </div>\n",
              "  "
            ]
          },
          "metadata": {},
          "execution_count": 147
        }
      ]
    },
    {
      "cell_type": "code",
      "source": [
        "# average_data = average_data.groupby('team_id').mean()\n",
        "average_data = average_data.groupby('team_id').agg({'cgpa':'mean', \n",
        "                         'onlineCourse':'mean', \n",
        "                         'completeCourse':'mean', \n",
        "                         'internetspeed<': 'max'})"
      ],
      "metadata": {
        "id": "ZJW2Hj8Lzvtj"
      },
      "execution_count": 148,
      "outputs": []
    },
    {
      "cell_type": "code",
      "source": [
        "average_data.head()"
      ],
      "metadata": {
        "colab": {
          "base_uri": "https://localhost:8080/",
          "height": 237
        },
        "id": "ydzIDxv446te",
        "outputId": "f34017ff-a36c-48ad-cce6-9fa3addba331"
      },
      "execution_count": 149,
      "outputs": [
        {
          "output_type": "execute_result",
          "data": {
            "text/plain": [
              "             cgpa  onlineCourse  completeCourse  internetspeed<\n",
              "team_id                                                        \n",
              "1001     8.437500          2.75             1.0             1.0\n",
              "1002     8.443500          5.75             4.5            50.0\n",
              "1004     8.852500          6.00             5.5           150.0\n",
              "1005     8.650000          5.75             4.0           200.0\n",
              "1006     7.549675          0.50             0.5           100.0"
            ],
            "text/html": [
              "\n",
              "  <div id=\"df-934dd054-34e8-4c47-bef6-04f086863d9a\">\n",
              "    <div class=\"colab-df-container\">\n",
              "      <div>\n",
              "<style scoped>\n",
              "    .dataframe tbody tr th:only-of-type {\n",
              "        vertical-align: middle;\n",
              "    }\n",
              "\n",
              "    .dataframe tbody tr th {\n",
              "        vertical-align: top;\n",
              "    }\n",
              "\n",
              "    .dataframe thead th {\n",
              "        text-align: right;\n",
              "    }\n",
              "</style>\n",
              "<table border=\"1\" class=\"dataframe\">\n",
              "  <thead>\n",
              "    <tr style=\"text-align: right;\">\n",
              "      <th></th>\n",
              "      <th>cgpa</th>\n",
              "      <th>onlineCourse</th>\n",
              "      <th>completeCourse</th>\n",
              "      <th>internetspeed&lt;</th>\n",
              "    </tr>\n",
              "    <tr>\n",
              "      <th>team_id</th>\n",
              "      <th></th>\n",
              "      <th></th>\n",
              "      <th></th>\n",
              "      <th></th>\n",
              "    </tr>\n",
              "  </thead>\n",
              "  <tbody>\n",
              "    <tr>\n",
              "      <th>1001</th>\n",
              "      <td>8.437500</td>\n",
              "      <td>2.75</td>\n",
              "      <td>1.0</td>\n",
              "      <td>1.0</td>\n",
              "    </tr>\n",
              "    <tr>\n",
              "      <th>1002</th>\n",
              "      <td>8.443500</td>\n",
              "      <td>5.75</td>\n",
              "      <td>4.5</td>\n",
              "      <td>50.0</td>\n",
              "    </tr>\n",
              "    <tr>\n",
              "      <th>1004</th>\n",
              "      <td>8.852500</td>\n",
              "      <td>6.00</td>\n",
              "      <td>5.5</td>\n",
              "      <td>150.0</td>\n",
              "    </tr>\n",
              "    <tr>\n",
              "      <th>1005</th>\n",
              "      <td>8.650000</td>\n",
              "      <td>5.75</td>\n",
              "      <td>4.0</td>\n",
              "      <td>200.0</td>\n",
              "    </tr>\n",
              "    <tr>\n",
              "      <th>1006</th>\n",
              "      <td>7.549675</td>\n",
              "      <td>0.50</td>\n",
              "      <td>0.5</td>\n",
              "      <td>100.0</td>\n",
              "    </tr>\n",
              "  </tbody>\n",
              "</table>\n",
              "</div>\n",
              "      <button class=\"colab-df-convert\" onclick=\"convertToInteractive('df-934dd054-34e8-4c47-bef6-04f086863d9a')\"\n",
              "              title=\"Convert this dataframe to an interactive table.\"\n",
              "              style=\"display:none;\">\n",
              "        \n",
              "  <svg xmlns=\"http://www.w3.org/2000/svg\" height=\"24px\"viewBox=\"0 0 24 24\"\n",
              "       width=\"24px\">\n",
              "    <path d=\"M0 0h24v24H0V0z\" fill=\"none\"/>\n",
              "    <path d=\"M18.56 5.44l.94 2.06.94-2.06 2.06-.94-2.06-.94-.94-2.06-.94 2.06-2.06.94zm-11 1L8.5 8.5l.94-2.06 2.06-.94-2.06-.94L8.5 2.5l-.94 2.06-2.06.94zm10 10l.94 2.06.94-2.06 2.06-.94-2.06-.94-.94-2.06-.94 2.06-2.06.94z\"/><path d=\"M17.41 7.96l-1.37-1.37c-.4-.4-.92-.59-1.43-.59-.52 0-1.04.2-1.43.59L10.3 9.45l-7.72 7.72c-.78.78-.78 2.05 0 2.83L4 21.41c.39.39.9.59 1.41.59.51 0 1.02-.2 1.41-.59l7.78-7.78 2.81-2.81c.8-.78.8-2.07 0-2.86zM5.41 20L4 18.59l7.72-7.72 1.47 1.35L5.41 20z\"/>\n",
              "  </svg>\n",
              "      </button>\n",
              "      \n",
              "  <style>\n",
              "    .colab-df-container {\n",
              "      display:flex;\n",
              "      flex-wrap:wrap;\n",
              "      gap: 12px;\n",
              "    }\n",
              "\n",
              "    .colab-df-convert {\n",
              "      background-color: #E8F0FE;\n",
              "      border: none;\n",
              "      border-radius: 50%;\n",
              "      cursor: pointer;\n",
              "      display: none;\n",
              "      fill: #1967D2;\n",
              "      height: 32px;\n",
              "      padding: 0 0 0 0;\n",
              "      width: 32px;\n",
              "    }\n",
              "\n",
              "    .colab-df-convert:hover {\n",
              "      background-color: #E2EBFA;\n",
              "      box-shadow: 0px 1px 2px rgba(60, 64, 67, 0.3), 0px 1px 3px 1px rgba(60, 64, 67, 0.15);\n",
              "      fill: #174EA6;\n",
              "    }\n",
              "\n",
              "    [theme=dark] .colab-df-convert {\n",
              "      background-color: #3B4455;\n",
              "      fill: #D2E3FC;\n",
              "    }\n",
              "\n",
              "    [theme=dark] .colab-df-convert:hover {\n",
              "      background-color: #434B5C;\n",
              "      box-shadow: 0px 1px 3px 1px rgba(0, 0, 0, 0.15);\n",
              "      filter: drop-shadow(0px 1px 2px rgba(0, 0, 0, 0.3));\n",
              "      fill: #FFFFFF;\n",
              "    }\n",
              "  </style>\n",
              "\n",
              "      <script>\n",
              "        const buttonEl =\n",
              "          document.querySelector('#df-934dd054-34e8-4c47-bef6-04f086863d9a button.colab-df-convert');\n",
              "        buttonEl.style.display =\n",
              "          google.colab.kernel.accessAllowed ? 'block' : 'none';\n",
              "\n",
              "        async function convertToInteractive(key) {\n",
              "          const element = document.querySelector('#df-934dd054-34e8-4c47-bef6-04f086863d9a');\n",
              "          const dataTable =\n",
              "            await google.colab.kernel.invokeFunction('convertToInteractive',\n",
              "                                                     [key], {});\n",
              "          if (!dataTable) return;\n",
              "\n",
              "          const docLinkHtml = 'Like what you see? Visit the ' +\n",
              "            '<a target=\"_blank\" href=https://colab.research.google.com/notebooks/data_table.ipynb>data table notebook</a>'\n",
              "            + ' to learn more about interactive tables.';\n",
              "          element.innerHTML = '';\n",
              "          dataTable['output_type'] = 'display_data';\n",
              "          await google.colab.output.renderOutput(dataTable, element);\n",
              "          const docLink = document.createElement('div');\n",
              "          docLink.innerHTML = docLinkHtml;\n",
              "          element.appendChild(docLink);\n",
              "        }\n",
              "      </script>\n",
              "    </div>\n",
              "  </div>\n",
              "  "
            ]
          },
          "metadata": {},
          "execution_count": 149
        }
      ]
    },
    {
      "cell_type": "code",
      "source": [
        "data_hot_encoded = data_hot_encoded.groupby(\"team_id\").sum()"
      ],
      "metadata": {
        "id": "5qrHRyRT6sDz"
      },
      "execution_count": 150,
      "outputs": []
    },
    {
      "cell_type": "code",
      "source": [
        "data_hot_encoded.head()"
      ],
      "metadata": {
        "colab": {
          "base_uri": "https://localhost:8080/",
          "height": 331
        },
        "id": "6WwyUjO96-T0",
        "outputId": "b1f09cea-eb72-4842-9875-f166ddb283dd"
      },
      "execution_count": 151,
      "outputs": [
        {
          "output_type": "execute_result",
          "data": {
            "text/plain": [
              "         Discipline_0.0  Discipline_1.0  Discipline_2.0  Discipline_3.0  \\\n",
              "team_id                                                                   \n",
              "1001                  4               0               0               0   \n",
              "1002                  4               0               0               0   \n",
              "1004                  4               0               0               0   \n",
              "1005                  4               0               0               0   \n",
              "1006                  3               1               0               0   \n",
              "\n",
              "         Discipline_4.0  Discipline_5.0  Discipline_7.0  Year_1.0  Year_2.0  \\\n",
              "team_id                                                                       \n",
              "1001                  0               0               0         0         0   \n",
              "1002                  0               0               0         0         0   \n",
              "1004                  0               0               0         0         1   \n",
              "1005                  0               0               0         0         0   \n",
              "1006                  0               0               0         0         4   \n",
              "\n",
              "         Year_3.0  ...  Internet_option_freq_1  Internet_option_freq_2  \\\n",
              "team_id            ...                                                   \n",
              "1001            4  ...                       0                       3   \n",
              "1002            4  ...                       3                       0   \n",
              "1004            3  ...                       4                       0   \n",
              "1005            0  ...                       4                       0   \n",
              "1006            0  ...                       0                       4   \n",
              "\n",
              "         Internet_option_freq_3  Internet_option_freq_4  \\\n",
              "team_id                                                   \n",
              "1001                          1                       0   \n",
              "1002                          1                       0   \n",
              "1004                          0                       0   \n",
              "1005                          0                       0   \n",
              "1006                          0                       0   \n",
              "\n",
              "         Internet_option_freq_5  Department_category_0.0  \\\n",
              "team_id                                                    \n",
              "1001                          0                        4   \n",
              "1002                          0                        3   \n",
              "1004                          0                        1   \n",
              "1005                          0                        0   \n",
              "1006                          0                        3   \n",
              "\n",
              "         Department_category_1.0  Department_category_2.0  \\\n",
              "team_id                                                     \n",
              "1001                           0                        0   \n",
              "1002                           1                        0   \n",
              "1004                           0                        3   \n",
              "1005                           0                        3   \n",
              "1006                           1                        0   \n",
              "\n",
              "         Department_category_3.0  Department_category_4.0  \n",
              "team_id                                                    \n",
              "1001                           0                        0  \n",
              "1002                           0                        0  \n",
              "1004                           0                        0  \n",
              "1005                           1                        0  \n",
              "1006                           0                        0  \n",
              "\n",
              "[5 rows x 155 columns]"
            ],
            "text/html": [
              "\n",
              "  <div id=\"df-d2a8870e-cc8c-4cc2-bbbb-232a178d5327\">\n",
              "    <div class=\"colab-df-container\">\n",
              "      <div>\n",
              "<style scoped>\n",
              "    .dataframe tbody tr th:only-of-type {\n",
              "        vertical-align: middle;\n",
              "    }\n",
              "\n",
              "    .dataframe tbody tr th {\n",
              "        vertical-align: top;\n",
              "    }\n",
              "\n",
              "    .dataframe thead th {\n",
              "        text-align: right;\n",
              "    }\n",
              "</style>\n",
              "<table border=\"1\" class=\"dataframe\">\n",
              "  <thead>\n",
              "    <tr style=\"text-align: right;\">\n",
              "      <th></th>\n",
              "      <th>Discipline_0.0</th>\n",
              "      <th>Discipline_1.0</th>\n",
              "      <th>Discipline_2.0</th>\n",
              "      <th>Discipline_3.0</th>\n",
              "      <th>Discipline_4.0</th>\n",
              "      <th>Discipline_5.0</th>\n",
              "      <th>Discipline_7.0</th>\n",
              "      <th>Year_1.0</th>\n",
              "      <th>Year_2.0</th>\n",
              "      <th>Year_3.0</th>\n",
              "      <th>...</th>\n",
              "      <th>Internet_option_freq_1</th>\n",
              "      <th>Internet_option_freq_2</th>\n",
              "      <th>Internet_option_freq_3</th>\n",
              "      <th>Internet_option_freq_4</th>\n",
              "      <th>Internet_option_freq_5</th>\n",
              "      <th>Department_category_0.0</th>\n",
              "      <th>Department_category_1.0</th>\n",
              "      <th>Department_category_2.0</th>\n",
              "      <th>Department_category_3.0</th>\n",
              "      <th>Department_category_4.0</th>\n",
              "    </tr>\n",
              "    <tr>\n",
              "      <th>team_id</th>\n",
              "      <th></th>\n",
              "      <th></th>\n",
              "      <th></th>\n",
              "      <th></th>\n",
              "      <th></th>\n",
              "      <th></th>\n",
              "      <th></th>\n",
              "      <th></th>\n",
              "      <th></th>\n",
              "      <th></th>\n",
              "      <th></th>\n",
              "      <th></th>\n",
              "      <th></th>\n",
              "      <th></th>\n",
              "      <th></th>\n",
              "      <th></th>\n",
              "      <th></th>\n",
              "      <th></th>\n",
              "      <th></th>\n",
              "      <th></th>\n",
              "      <th></th>\n",
              "    </tr>\n",
              "  </thead>\n",
              "  <tbody>\n",
              "    <tr>\n",
              "      <th>1001</th>\n",
              "      <td>4</td>\n",
              "      <td>0</td>\n",
              "      <td>0</td>\n",
              "      <td>0</td>\n",
              "      <td>0</td>\n",
              "      <td>0</td>\n",
              "      <td>0</td>\n",
              "      <td>0</td>\n",
              "      <td>0</td>\n",
              "      <td>4</td>\n",
              "      <td>...</td>\n",
              "      <td>0</td>\n",
              "      <td>3</td>\n",
              "      <td>1</td>\n",
              "      <td>0</td>\n",
              "      <td>0</td>\n",
              "      <td>4</td>\n",
              "      <td>0</td>\n",
              "      <td>0</td>\n",
              "      <td>0</td>\n",
              "      <td>0</td>\n",
              "    </tr>\n",
              "    <tr>\n",
              "      <th>1002</th>\n",
              "      <td>4</td>\n",
              "      <td>0</td>\n",
              "      <td>0</td>\n",
              "      <td>0</td>\n",
              "      <td>0</td>\n",
              "      <td>0</td>\n",
              "      <td>0</td>\n",
              "      <td>0</td>\n",
              "      <td>0</td>\n",
              "      <td>4</td>\n",
              "      <td>...</td>\n",
              "      <td>3</td>\n",
              "      <td>0</td>\n",
              "      <td>1</td>\n",
              "      <td>0</td>\n",
              "      <td>0</td>\n",
              "      <td>3</td>\n",
              "      <td>1</td>\n",
              "      <td>0</td>\n",
              "      <td>0</td>\n",
              "      <td>0</td>\n",
              "    </tr>\n",
              "    <tr>\n",
              "      <th>1004</th>\n",
              "      <td>4</td>\n",
              "      <td>0</td>\n",
              "      <td>0</td>\n",
              "      <td>0</td>\n",
              "      <td>0</td>\n",
              "      <td>0</td>\n",
              "      <td>0</td>\n",
              "      <td>0</td>\n",
              "      <td>1</td>\n",
              "      <td>3</td>\n",
              "      <td>...</td>\n",
              "      <td>4</td>\n",
              "      <td>0</td>\n",
              "      <td>0</td>\n",
              "      <td>0</td>\n",
              "      <td>0</td>\n",
              "      <td>1</td>\n",
              "      <td>0</td>\n",
              "      <td>3</td>\n",
              "      <td>0</td>\n",
              "      <td>0</td>\n",
              "    </tr>\n",
              "    <tr>\n",
              "      <th>1005</th>\n",
              "      <td>4</td>\n",
              "      <td>0</td>\n",
              "      <td>0</td>\n",
              "      <td>0</td>\n",
              "      <td>0</td>\n",
              "      <td>0</td>\n",
              "      <td>0</td>\n",
              "      <td>0</td>\n",
              "      <td>0</td>\n",
              "      <td>0</td>\n",
              "      <td>...</td>\n",
              "      <td>4</td>\n",
              "      <td>0</td>\n",
              "      <td>0</td>\n",
              "      <td>0</td>\n",
              "      <td>0</td>\n",
              "      <td>0</td>\n",
              "      <td>0</td>\n",
              "      <td>3</td>\n",
              "      <td>1</td>\n",
              "      <td>0</td>\n",
              "    </tr>\n",
              "    <tr>\n",
              "      <th>1006</th>\n",
              "      <td>3</td>\n",
              "      <td>1</td>\n",
              "      <td>0</td>\n",
              "      <td>0</td>\n",
              "      <td>0</td>\n",
              "      <td>0</td>\n",
              "      <td>0</td>\n",
              "      <td>0</td>\n",
              "      <td>4</td>\n",
              "      <td>0</td>\n",
              "      <td>...</td>\n",
              "      <td>0</td>\n",
              "      <td>4</td>\n",
              "      <td>0</td>\n",
              "      <td>0</td>\n",
              "      <td>0</td>\n",
              "      <td>3</td>\n",
              "      <td>1</td>\n",
              "      <td>0</td>\n",
              "      <td>0</td>\n",
              "      <td>0</td>\n",
              "    </tr>\n",
              "  </tbody>\n",
              "</table>\n",
              "<p>5 rows × 155 columns</p>\n",
              "</div>\n",
              "      <button class=\"colab-df-convert\" onclick=\"convertToInteractive('df-d2a8870e-cc8c-4cc2-bbbb-232a178d5327')\"\n",
              "              title=\"Convert this dataframe to an interactive table.\"\n",
              "              style=\"display:none;\">\n",
              "        \n",
              "  <svg xmlns=\"http://www.w3.org/2000/svg\" height=\"24px\"viewBox=\"0 0 24 24\"\n",
              "       width=\"24px\">\n",
              "    <path d=\"M0 0h24v24H0V0z\" fill=\"none\"/>\n",
              "    <path d=\"M18.56 5.44l.94 2.06.94-2.06 2.06-.94-2.06-.94-.94-2.06-.94 2.06-2.06.94zm-11 1L8.5 8.5l.94-2.06 2.06-.94-2.06-.94L8.5 2.5l-.94 2.06-2.06.94zm10 10l.94 2.06.94-2.06 2.06-.94-2.06-.94-.94-2.06-.94 2.06-2.06.94z\"/><path d=\"M17.41 7.96l-1.37-1.37c-.4-.4-.92-.59-1.43-.59-.52 0-1.04.2-1.43.59L10.3 9.45l-7.72 7.72c-.78.78-.78 2.05 0 2.83L4 21.41c.39.39.9.59 1.41.59.51 0 1.02-.2 1.41-.59l7.78-7.78 2.81-2.81c.8-.78.8-2.07 0-2.86zM5.41 20L4 18.59l7.72-7.72 1.47 1.35L5.41 20z\"/>\n",
              "  </svg>\n",
              "      </button>\n",
              "      \n",
              "  <style>\n",
              "    .colab-df-container {\n",
              "      display:flex;\n",
              "      flex-wrap:wrap;\n",
              "      gap: 12px;\n",
              "    }\n",
              "\n",
              "    .colab-df-convert {\n",
              "      background-color: #E8F0FE;\n",
              "      border: none;\n",
              "      border-radius: 50%;\n",
              "      cursor: pointer;\n",
              "      display: none;\n",
              "      fill: #1967D2;\n",
              "      height: 32px;\n",
              "      padding: 0 0 0 0;\n",
              "      width: 32px;\n",
              "    }\n",
              "\n",
              "    .colab-df-convert:hover {\n",
              "      background-color: #E2EBFA;\n",
              "      box-shadow: 0px 1px 2px rgba(60, 64, 67, 0.3), 0px 1px 3px 1px rgba(60, 64, 67, 0.15);\n",
              "      fill: #174EA6;\n",
              "    }\n",
              "\n",
              "    [theme=dark] .colab-df-convert {\n",
              "      background-color: #3B4455;\n",
              "      fill: #D2E3FC;\n",
              "    }\n",
              "\n",
              "    [theme=dark] .colab-df-convert:hover {\n",
              "      background-color: #434B5C;\n",
              "      box-shadow: 0px 1px 3px 1px rgba(0, 0, 0, 0.15);\n",
              "      filter: drop-shadow(0px 1px 2px rgba(0, 0, 0, 0.3));\n",
              "      fill: #FFFFFF;\n",
              "    }\n",
              "  </style>\n",
              "\n",
              "      <script>\n",
              "        const buttonEl =\n",
              "          document.querySelector('#df-d2a8870e-cc8c-4cc2-bbbb-232a178d5327 button.colab-df-convert');\n",
              "        buttonEl.style.display =\n",
              "          google.colab.kernel.accessAllowed ? 'block' : 'none';\n",
              "\n",
              "        async function convertToInteractive(key) {\n",
              "          const element = document.querySelector('#df-d2a8870e-cc8c-4cc2-bbbb-232a178d5327');\n",
              "          const dataTable =\n",
              "            await google.colab.kernel.invokeFunction('convertToInteractive',\n",
              "                                                     [key], {});\n",
              "          if (!dataTable) return;\n",
              "\n",
              "          const docLinkHtml = 'Like what you see? Visit the ' +\n",
              "            '<a target=\"_blank\" href=https://colab.research.google.com/notebooks/data_table.ipynb>data table notebook</a>'\n",
              "            + ' to learn more about interactive tables.';\n",
              "          element.innerHTML = '';\n",
              "          dataTable['output_type'] = 'display_data';\n",
              "          await google.colab.output.renderOutput(dataTable, element);\n",
              "          const docLink = document.createElement('div');\n",
              "          docLink.innerHTML = docLinkHtml;\n",
              "          element.appendChild(docLink);\n",
              "        }\n",
              "      </script>\n",
              "    </div>\n",
              "  </div>\n",
              "  "
            ]
          },
          "metadata": {},
          "execution_count": 151
        }
      ]
    },
    {
      "cell_type": "code",
      "source": [
        "data_grouped = pd.concat([average_data, data_hot_encoded], axis=1)"
      ],
      "metadata": {
        "id": "FhlX9TCD7Fcx"
      },
      "execution_count": 152,
      "outputs": []
    },
    {
      "cell_type": "code",
      "source": [
        "data_grouped.head()"
      ],
      "metadata": {
        "colab": {
          "base_uri": "https://localhost:8080/",
          "height": 331
        },
        "id": "VLGA9_jo7WvP",
        "outputId": "08f053fe-4e8c-4cb7-ca94-1fdf282c5832"
      },
      "execution_count": 153,
      "outputs": [
        {
          "output_type": "execute_result",
          "data": {
            "text/plain": [
              "             cgpa  onlineCourse  completeCourse  internetspeed<  \\\n",
              "team_id                                                           \n",
              "1001     8.437500          2.75             1.0             1.0   \n",
              "1002     8.443500          5.75             4.5            50.0   \n",
              "1004     8.852500          6.00             5.5           150.0   \n",
              "1005     8.650000          5.75             4.0           200.0   \n",
              "1006     7.549675          0.50             0.5           100.0   \n",
              "\n",
              "         Discipline_0.0  Discipline_1.0  Discipline_2.0  Discipline_3.0  \\\n",
              "team_id                                                                   \n",
              "1001                  4               0               0               0   \n",
              "1002                  4               0               0               0   \n",
              "1004                  4               0               0               0   \n",
              "1005                  4               0               0               0   \n",
              "1006                  3               1               0               0   \n",
              "\n",
              "         Discipline_4.0  Discipline_5.0  ...  Internet_option_freq_1  \\\n",
              "team_id                                  ...                           \n",
              "1001                  0               0  ...                       0   \n",
              "1002                  0               0  ...                       3   \n",
              "1004                  0               0  ...                       4   \n",
              "1005                  0               0  ...                       4   \n",
              "1006                  0               0  ...                       0   \n",
              "\n",
              "         Internet_option_freq_2  Internet_option_freq_3  \\\n",
              "team_id                                                   \n",
              "1001                          3                       1   \n",
              "1002                          0                       1   \n",
              "1004                          0                       0   \n",
              "1005                          0                       0   \n",
              "1006                          4                       0   \n",
              "\n",
              "         Internet_option_freq_4  Internet_option_freq_5  \\\n",
              "team_id                                                   \n",
              "1001                          0                       0   \n",
              "1002                          0                       0   \n",
              "1004                          0                       0   \n",
              "1005                          0                       0   \n",
              "1006                          0                       0   \n",
              "\n",
              "         Department_category_0.0  Department_category_1.0  \\\n",
              "team_id                                                     \n",
              "1001                           4                        0   \n",
              "1002                           3                        1   \n",
              "1004                           1                        0   \n",
              "1005                           0                        0   \n",
              "1006                           3                        1   \n",
              "\n",
              "         Department_category_2.0  Department_category_3.0  \\\n",
              "team_id                                                     \n",
              "1001                           0                        0   \n",
              "1002                           0                        0   \n",
              "1004                           3                        0   \n",
              "1005                           3                        1   \n",
              "1006                           0                        0   \n",
              "\n",
              "         Department_category_4.0  \n",
              "team_id                           \n",
              "1001                           0  \n",
              "1002                           0  \n",
              "1004                           0  \n",
              "1005                           0  \n",
              "1006                           0  \n",
              "\n",
              "[5 rows x 159 columns]"
            ],
            "text/html": [
              "\n",
              "  <div id=\"df-9aa93089-10d5-4161-ba2d-064f75553314\">\n",
              "    <div class=\"colab-df-container\">\n",
              "      <div>\n",
              "<style scoped>\n",
              "    .dataframe tbody tr th:only-of-type {\n",
              "        vertical-align: middle;\n",
              "    }\n",
              "\n",
              "    .dataframe tbody tr th {\n",
              "        vertical-align: top;\n",
              "    }\n",
              "\n",
              "    .dataframe thead th {\n",
              "        text-align: right;\n",
              "    }\n",
              "</style>\n",
              "<table border=\"1\" class=\"dataframe\">\n",
              "  <thead>\n",
              "    <tr style=\"text-align: right;\">\n",
              "      <th></th>\n",
              "      <th>cgpa</th>\n",
              "      <th>onlineCourse</th>\n",
              "      <th>completeCourse</th>\n",
              "      <th>internetspeed&lt;</th>\n",
              "      <th>Discipline_0.0</th>\n",
              "      <th>Discipline_1.0</th>\n",
              "      <th>Discipline_2.0</th>\n",
              "      <th>Discipline_3.0</th>\n",
              "      <th>Discipline_4.0</th>\n",
              "      <th>Discipline_5.0</th>\n",
              "      <th>...</th>\n",
              "      <th>Internet_option_freq_1</th>\n",
              "      <th>Internet_option_freq_2</th>\n",
              "      <th>Internet_option_freq_3</th>\n",
              "      <th>Internet_option_freq_4</th>\n",
              "      <th>Internet_option_freq_5</th>\n",
              "      <th>Department_category_0.0</th>\n",
              "      <th>Department_category_1.0</th>\n",
              "      <th>Department_category_2.0</th>\n",
              "      <th>Department_category_3.0</th>\n",
              "      <th>Department_category_4.0</th>\n",
              "    </tr>\n",
              "    <tr>\n",
              "      <th>team_id</th>\n",
              "      <th></th>\n",
              "      <th></th>\n",
              "      <th></th>\n",
              "      <th></th>\n",
              "      <th></th>\n",
              "      <th></th>\n",
              "      <th></th>\n",
              "      <th></th>\n",
              "      <th></th>\n",
              "      <th></th>\n",
              "      <th></th>\n",
              "      <th></th>\n",
              "      <th></th>\n",
              "      <th></th>\n",
              "      <th></th>\n",
              "      <th></th>\n",
              "      <th></th>\n",
              "      <th></th>\n",
              "      <th></th>\n",
              "      <th></th>\n",
              "      <th></th>\n",
              "    </tr>\n",
              "  </thead>\n",
              "  <tbody>\n",
              "    <tr>\n",
              "      <th>1001</th>\n",
              "      <td>8.437500</td>\n",
              "      <td>2.75</td>\n",
              "      <td>1.0</td>\n",
              "      <td>1.0</td>\n",
              "      <td>4</td>\n",
              "      <td>0</td>\n",
              "      <td>0</td>\n",
              "      <td>0</td>\n",
              "      <td>0</td>\n",
              "      <td>0</td>\n",
              "      <td>...</td>\n",
              "      <td>0</td>\n",
              "      <td>3</td>\n",
              "      <td>1</td>\n",
              "      <td>0</td>\n",
              "      <td>0</td>\n",
              "      <td>4</td>\n",
              "      <td>0</td>\n",
              "      <td>0</td>\n",
              "      <td>0</td>\n",
              "      <td>0</td>\n",
              "    </tr>\n",
              "    <tr>\n",
              "      <th>1002</th>\n",
              "      <td>8.443500</td>\n",
              "      <td>5.75</td>\n",
              "      <td>4.5</td>\n",
              "      <td>50.0</td>\n",
              "      <td>4</td>\n",
              "      <td>0</td>\n",
              "      <td>0</td>\n",
              "      <td>0</td>\n",
              "      <td>0</td>\n",
              "      <td>0</td>\n",
              "      <td>...</td>\n",
              "      <td>3</td>\n",
              "      <td>0</td>\n",
              "      <td>1</td>\n",
              "      <td>0</td>\n",
              "      <td>0</td>\n",
              "      <td>3</td>\n",
              "      <td>1</td>\n",
              "      <td>0</td>\n",
              "      <td>0</td>\n",
              "      <td>0</td>\n",
              "    </tr>\n",
              "    <tr>\n",
              "      <th>1004</th>\n",
              "      <td>8.852500</td>\n",
              "      <td>6.00</td>\n",
              "      <td>5.5</td>\n",
              "      <td>150.0</td>\n",
              "      <td>4</td>\n",
              "      <td>0</td>\n",
              "      <td>0</td>\n",
              "      <td>0</td>\n",
              "      <td>0</td>\n",
              "      <td>0</td>\n",
              "      <td>...</td>\n",
              "      <td>4</td>\n",
              "      <td>0</td>\n",
              "      <td>0</td>\n",
              "      <td>0</td>\n",
              "      <td>0</td>\n",
              "      <td>1</td>\n",
              "      <td>0</td>\n",
              "      <td>3</td>\n",
              "      <td>0</td>\n",
              "      <td>0</td>\n",
              "    </tr>\n",
              "    <tr>\n",
              "      <th>1005</th>\n",
              "      <td>8.650000</td>\n",
              "      <td>5.75</td>\n",
              "      <td>4.0</td>\n",
              "      <td>200.0</td>\n",
              "      <td>4</td>\n",
              "      <td>0</td>\n",
              "      <td>0</td>\n",
              "      <td>0</td>\n",
              "      <td>0</td>\n",
              "      <td>0</td>\n",
              "      <td>...</td>\n",
              "      <td>4</td>\n",
              "      <td>0</td>\n",
              "      <td>0</td>\n",
              "      <td>0</td>\n",
              "      <td>0</td>\n",
              "      <td>0</td>\n",
              "      <td>0</td>\n",
              "      <td>3</td>\n",
              "      <td>1</td>\n",
              "      <td>0</td>\n",
              "    </tr>\n",
              "    <tr>\n",
              "      <th>1006</th>\n",
              "      <td>7.549675</td>\n",
              "      <td>0.50</td>\n",
              "      <td>0.5</td>\n",
              "      <td>100.0</td>\n",
              "      <td>3</td>\n",
              "      <td>1</td>\n",
              "      <td>0</td>\n",
              "      <td>0</td>\n",
              "      <td>0</td>\n",
              "      <td>0</td>\n",
              "      <td>...</td>\n",
              "      <td>0</td>\n",
              "      <td>4</td>\n",
              "      <td>0</td>\n",
              "      <td>0</td>\n",
              "      <td>0</td>\n",
              "      <td>3</td>\n",
              "      <td>1</td>\n",
              "      <td>0</td>\n",
              "      <td>0</td>\n",
              "      <td>0</td>\n",
              "    </tr>\n",
              "  </tbody>\n",
              "</table>\n",
              "<p>5 rows × 159 columns</p>\n",
              "</div>\n",
              "      <button class=\"colab-df-convert\" onclick=\"convertToInteractive('df-9aa93089-10d5-4161-ba2d-064f75553314')\"\n",
              "              title=\"Convert this dataframe to an interactive table.\"\n",
              "              style=\"display:none;\">\n",
              "        \n",
              "  <svg xmlns=\"http://www.w3.org/2000/svg\" height=\"24px\"viewBox=\"0 0 24 24\"\n",
              "       width=\"24px\">\n",
              "    <path d=\"M0 0h24v24H0V0z\" fill=\"none\"/>\n",
              "    <path d=\"M18.56 5.44l.94 2.06.94-2.06 2.06-.94-2.06-.94-.94-2.06-.94 2.06-2.06.94zm-11 1L8.5 8.5l.94-2.06 2.06-.94-2.06-.94L8.5 2.5l-.94 2.06-2.06.94zm10 10l.94 2.06.94-2.06 2.06-.94-2.06-.94-.94-2.06-.94 2.06-2.06.94z\"/><path d=\"M17.41 7.96l-1.37-1.37c-.4-.4-.92-.59-1.43-.59-.52 0-1.04.2-1.43.59L10.3 9.45l-7.72 7.72c-.78.78-.78 2.05 0 2.83L4 21.41c.39.39.9.59 1.41.59.51 0 1.02-.2 1.41-.59l7.78-7.78 2.81-2.81c.8-.78.8-2.07 0-2.86zM5.41 20L4 18.59l7.72-7.72 1.47 1.35L5.41 20z\"/>\n",
              "  </svg>\n",
              "      </button>\n",
              "      \n",
              "  <style>\n",
              "    .colab-df-container {\n",
              "      display:flex;\n",
              "      flex-wrap:wrap;\n",
              "      gap: 12px;\n",
              "    }\n",
              "\n",
              "    .colab-df-convert {\n",
              "      background-color: #E8F0FE;\n",
              "      border: none;\n",
              "      border-radius: 50%;\n",
              "      cursor: pointer;\n",
              "      display: none;\n",
              "      fill: #1967D2;\n",
              "      height: 32px;\n",
              "      padding: 0 0 0 0;\n",
              "      width: 32px;\n",
              "    }\n",
              "\n",
              "    .colab-df-convert:hover {\n",
              "      background-color: #E2EBFA;\n",
              "      box-shadow: 0px 1px 2px rgba(60, 64, 67, 0.3), 0px 1px 3px 1px rgba(60, 64, 67, 0.15);\n",
              "      fill: #174EA6;\n",
              "    }\n",
              "\n",
              "    [theme=dark] .colab-df-convert {\n",
              "      background-color: #3B4455;\n",
              "      fill: #D2E3FC;\n",
              "    }\n",
              "\n",
              "    [theme=dark] .colab-df-convert:hover {\n",
              "      background-color: #434B5C;\n",
              "      box-shadow: 0px 1px 3px 1px rgba(0, 0, 0, 0.15);\n",
              "      filter: drop-shadow(0px 1px 2px rgba(0, 0, 0, 0.3));\n",
              "      fill: #FFFFFF;\n",
              "    }\n",
              "  </style>\n",
              "\n",
              "      <script>\n",
              "        const buttonEl =\n",
              "          document.querySelector('#df-9aa93089-10d5-4161-ba2d-064f75553314 button.colab-df-convert');\n",
              "        buttonEl.style.display =\n",
              "          google.colab.kernel.accessAllowed ? 'block' : 'none';\n",
              "\n",
              "        async function convertToInteractive(key) {\n",
              "          const element = document.querySelector('#df-9aa93089-10d5-4161-ba2d-064f75553314');\n",
              "          const dataTable =\n",
              "            await google.colab.kernel.invokeFunction('convertToInteractive',\n",
              "                                                     [key], {});\n",
              "          if (!dataTable) return;\n",
              "\n",
              "          const docLinkHtml = 'Like what you see? Visit the ' +\n",
              "            '<a target=\"_blank\" href=https://colab.research.google.com/notebooks/data_table.ipynb>data table notebook</a>'\n",
              "            + ' to learn more about interactive tables.';\n",
              "          element.innerHTML = '';\n",
              "          dataTable['output_type'] = 'display_data';\n",
              "          await google.colab.output.renderOutput(dataTable, element);\n",
              "          const docLink = document.createElement('div');\n",
              "          docLink.innerHTML = docLinkHtml;\n",
              "          element.appendChild(docLink);\n",
              "        }\n",
              "      </script>\n",
              "    </div>\n",
              "  </div>\n",
              "  "
            ]
          },
          "metadata": {},
          "execution_count": 153
        }
      ]
    },
    {
      "cell_type": "code",
      "source": [
        "data_grouped.info()"
      ],
      "metadata": {
        "colab": {
          "base_uri": "https://localhost:8080/"
        },
        "id": "LzbkHAQg7hlm",
        "outputId": "b57a2d1e-7a57-4e17-fe7e-4ccd351f853b"
      },
      "execution_count": 154,
      "outputs": [
        {
          "output_type": "stream",
          "name": "stdout",
          "text": [
            "<class 'pandas.core.frame.DataFrame'>\n",
            "Int64Index: 1293 entries, 1001 to 2971\n",
            "Columns: 159 entries, cgpa to Department_category_4.0\n",
            "dtypes: float64(4), uint8(155)\n",
            "memory usage: 246.2 KB\n"
          ]
        }
      ]
    },
    {
      "cell_type": "code",
      "source": [
        "data_grouped.describe()"
      ],
      "metadata": {
        "colab": {
          "base_uri": "https://localhost:8080/",
          "height": 393
        },
        "id": "Dm7DeBnC7oK-",
        "outputId": "c2200188-2296-4d69-81f7-ad10aa820eef"
      },
      "execution_count": 155,
      "outputs": [
        {
          "output_type": "execute_result",
          "data": {
            "text/plain": [
              "              cgpa  onlineCourse  completeCourse  internetspeed<  \\\n",
              "count  1286.000000   1292.000000     1292.000000     1184.000000   \n",
              "mean      8.494606      2.898671        1.962461       63.363176   \n",
              "std       0.812837      3.185943        2.462263       55.176500   \n",
              "min       2.870000      0.000000        0.000000        1.000000   \n",
              "25%       8.117812      1.000000        0.500000       10.000000   \n",
              "50%       8.589417      2.000000        1.250000       50.000000   \n",
              "75%       9.011875      4.000000        2.750000      100.000000   \n",
              "max      10.000000     29.250000       28.500000      200.000000   \n",
              "\n",
              "       Discipline_0.0  Discipline_1.0  Discipline_2.0  Discipline_3.0  \\\n",
              "count     1293.000000     1293.000000      1293.00000     1293.000000   \n",
              "mean         3.768755        0.008507         0.07966        0.096674   \n",
              "std          0.827104        0.133152         0.42811        0.593382   \n",
              "min          0.000000        0.000000         0.00000        0.000000   \n",
              "25%          4.000000        0.000000         0.00000        0.000000   \n",
              "50%          4.000000        0.000000         0.00000        0.000000   \n",
              "75%          4.000000        0.000000         0.00000        0.000000   \n",
              "max          4.000000        4.000000         4.00000        4.000000   \n",
              "\n",
              "       Discipline_4.0  Discipline_5.0  ...  Internet_option_freq_1  \\\n",
              "count     1293.000000     1293.000000  ...             1293.000000   \n",
              "mean         0.015468        0.022428  ...                2.730085   \n",
              "std          0.218514        0.252464  ...                1.227522   \n",
              "min          0.000000        0.000000  ...                0.000000   \n",
              "25%          0.000000        0.000000  ...                2.000000   \n",
              "50%          0.000000        0.000000  ...                3.000000   \n",
              "75%          0.000000        0.000000  ...                4.000000   \n",
              "max          4.000000        4.000000  ...                4.000000   \n",
              "\n",
              "       Internet_option_freq_2  Internet_option_freq_3  Internet_option_freq_4  \\\n",
              "count             1293.000000             1293.000000             1293.000000   \n",
              "mean                 0.788863                0.359629                0.094354   \n",
              "std                  0.969887                0.735948                0.377880   \n",
              "min                  0.000000                0.000000                0.000000   \n",
              "25%                  0.000000                0.000000                0.000000   \n",
              "50%                  1.000000                0.000000                0.000000   \n",
              "75%                  1.000000                0.000000                0.000000   \n",
              "max                  4.000000                4.000000                4.000000   \n",
              "\n",
              "       Internet_option_freq_5  Department_category_0.0  \\\n",
              "count             1293.000000              1293.000000   \n",
              "mean                 0.013148                 2.050271   \n",
              "std                  0.120552                 1.701787   \n",
              "min                  0.000000                 0.000000   \n",
              "25%                  0.000000                 0.000000   \n",
              "50%                  0.000000                 2.000000   \n",
              "75%                  0.000000                 4.000000   \n",
              "max                  2.000000                 4.000000   \n",
              "\n",
              "       Department_category_1.0  Department_category_2.0  \\\n",
              "count              1293.000000              1293.000000   \n",
              "mean                  0.948183                 0.728538   \n",
              "std                   1.415179                 1.306010   \n",
              "min                   0.000000                 0.000000   \n",
              "25%                   0.000000                 0.000000   \n",
              "50%                   0.000000                 0.000000   \n",
              "75%                   2.000000                 1.000000   \n",
              "max                   4.000000                 4.000000   \n",
              "\n",
              "       Department_category_3.0  Department_category_4.0  \n",
              "count              1293.000000              1293.000000  \n",
              "mean                  0.225831                 0.047177  \n",
              "std                   0.688279                 0.369212  \n",
              "min                   0.000000                 0.000000  \n",
              "25%                   0.000000                 0.000000  \n",
              "50%                   0.000000                 0.000000  \n",
              "75%                   0.000000                 0.000000  \n",
              "max                   4.000000                 4.000000  \n",
              "\n",
              "[8 rows x 159 columns]"
            ],
            "text/html": [
              "\n",
              "  <div id=\"df-ac4853cb-a209-45c9-9025-ff5bd5b8a828\">\n",
              "    <div class=\"colab-df-container\">\n",
              "      <div>\n",
              "<style scoped>\n",
              "    .dataframe tbody tr th:only-of-type {\n",
              "        vertical-align: middle;\n",
              "    }\n",
              "\n",
              "    .dataframe tbody tr th {\n",
              "        vertical-align: top;\n",
              "    }\n",
              "\n",
              "    .dataframe thead th {\n",
              "        text-align: right;\n",
              "    }\n",
              "</style>\n",
              "<table border=\"1\" class=\"dataframe\">\n",
              "  <thead>\n",
              "    <tr style=\"text-align: right;\">\n",
              "      <th></th>\n",
              "      <th>cgpa</th>\n",
              "      <th>onlineCourse</th>\n",
              "      <th>completeCourse</th>\n",
              "      <th>internetspeed&lt;</th>\n",
              "      <th>Discipline_0.0</th>\n",
              "      <th>Discipline_1.0</th>\n",
              "      <th>Discipline_2.0</th>\n",
              "      <th>Discipline_3.0</th>\n",
              "      <th>Discipline_4.0</th>\n",
              "      <th>Discipline_5.0</th>\n",
              "      <th>...</th>\n",
              "      <th>Internet_option_freq_1</th>\n",
              "      <th>Internet_option_freq_2</th>\n",
              "      <th>Internet_option_freq_3</th>\n",
              "      <th>Internet_option_freq_4</th>\n",
              "      <th>Internet_option_freq_5</th>\n",
              "      <th>Department_category_0.0</th>\n",
              "      <th>Department_category_1.0</th>\n",
              "      <th>Department_category_2.0</th>\n",
              "      <th>Department_category_3.0</th>\n",
              "      <th>Department_category_4.0</th>\n",
              "    </tr>\n",
              "  </thead>\n",
              "  <tbody>\n",
              "    <tr>\n",
              "      <th>count</th>\n",
              "      <td>1286.000000</td>\n",
              "      <td>1292.000000</td>\n",
              "      <td>1292.000000</td>\n",
              "      <td>1184.000000</td>\n",
              "      <td>1293.000000</td>\n",
              "      <td>1293.000000</td>\n",
              "      <td>1293.00000</td>\n",
              "      <td>1293.000000</td>\n",
              "      <td>1293.000000</td>\n",
              "      <td>1293.000000</td>\n",
              "      <td>...</td>\n",
              "      <td>1293.000000</td>\n",
              "      <td>1293.000000</td>\n",
              "      <td>1293.000000</td>\n",
              "      <td>1293.000000</td>\n",
              "      <td>1293.000000</td>\n",
              "      <td>1293.000000</td>\n",
              "      <td>1293.000000</td>\n",
              "      <td>1293.000000</td>\n",
              "      <td>1293.000000</td>\n",
              "      <td>1293.000000</td>\n",
              "    </tr>\n",
              "    <tr>\n",
              "      <th>mean</th>\n",
              "      <td>8.494606</td>\n",
              "      <td>2.898671</td>\n",
              "      <td>1.962461</td>\n",
              "      <td>63.363176</td>\n",
              "      <td>3.768755</td>\n",
              "      <td>0.008507</td>\n",
              "      <td>0.07966</td>\n",
              "      <td>0.096674</td>\n",
              "      <td>0.015468</td>\n",
              "      <td>0.022428</td>\n",
              "      <td>...</td>\n",
              "      <td>2.730085</td>\n",
              "      <td>0.788863</td>\n",
              "      <td>0.359629</td>\n",
              "      <td>0.094354</td>\n",
              "      <td>0.013148</td>\n",
              "      <td>2.050271</td>\n",
              "      <td>0.948183</td>\n",
              "      <td>0.728538</td>\n",
              "      <td>0.225831</td>\n",
              "      <td>0.047177</td>\n",
              "    </tr>\n",
              "    <tr>\n",
              "      <th>std</th>\n",
              "      <td>0.812837</td>\n",
              "      <td>3.185943</td>\n",
              "      <td>2.462263</td>\n",
              "      <td>55.176500</td>\n",
              "      <td>0.827104</td>\n",
              "      <td>0.133152</td>\n",
              "      <td>0.42811</td>\n",
              "      <td>0.593382</td>\n",
              "      <td>0.218514</td>\n",
              "      <td>0.252464</td>\n",
              "      <td>...</td>\n",
              "      <td>1.227522</td>\n",
              "      <td>0.969887</td>\n",
              "      <td>0.735948</td>\n",
              "      <td>0.377880</td>\n",
              "      <td>0.120552</td>\n",
              "      <td>1.701787</td>\n",
              "      <td>1.415179</td>\n",
              "      <td>1.306010</td>\n",
              "      <td>0.688279</td>\n",
              "      <td>0.369212</td>\n",
              "    </tr>\n",
              "    <tr>\n",
              "      <th>min</th>\n",
              "      <td>2.870000</td>\n",
              "      <td>0.000000</td>\n",
              "      <td>0.000000</td>\n",
              "      <td>1.000000</td>\n",
              "      <td>0.000000</td>\n",
              "      <td>0.000000</td>\n",
              "      <td>0.00000</td>\n",
              "      <td>0.000000</td>\n",
              "      <td>0.000000</td>\n",
              "      <td>0.000000</td>\n",
              "      <td>...</td>\n",
              "      <td>0.000000</td>\n",
              "      <td>0.000000</td>\n",
              "      <td>0.000000</td>\n",
              "      <td>0.000000</td>\n",
              "      <td>0.000000</td>\n",
              "      <td>0.000000</td>\n",
              "      <td>0.000000</td>\n",
              "      <td>0.000000</td>\n",
              "      <td>0.000000</td>\n",
              "      <td>0.000000</td>\n",
              "    </tr>\n",
              "    <tr>\n",
              "      <th>25%</th>\n",
              "      <td>8.117812</td>\n",
              "      <td>1.000000</td>\n",
              "      <td>0.500000</td>\n",
              "      <td>10.000000</td>\n",
              "      <td>4.000000</td>\n",
              "      <td>0.000000</td>\n",
              "      <td>0.00000</td>\n",
              "      <td>0.000000</td>\n",
              "      <td>0.000000</td>\n",
              "      <td>0.000000</td>\n",
              "      <td>...</td>\n",
              "      <td>2.000000</td>\n",
              "      <td>0.000000</td>\n",
              "      <td>0.000000</td>\n",
              "      <td>0.000000</td>\n",
              "      <td>0.000000</td>\n",
              "      <td>0.000000</td>\n",
              "      <td>0.000000</td>\n",
              "      <td>0.000000</td>\n",
              "      <td>0.000000</td>\n",
              "      <td>0.000000</td>\n",
              "    </tr>\n",
              "    <tr>\n",
              "      <th>50%</th>\n",
              "      <td>8.589417</td>\n",
              "      <td>2.000000</td>\n",
              "      <td>1.250000</td>\n",
              "      <td>50.000000</td>\n",
              "      <td>4.000000</td>\n",
              "      <td>0.000000</td>\n",
              "      <td>0.00000</td>\n",
              "      <td>0.000000</td>\n",
              "      <td>0.000000</td>\n",
              "      <td>0.000000</td>\n",
              "      <td>...</td>\n",
              "      <td>3.000000</td>\n",
              "      <td>1.000000</td>\n",
              "      <td>0.000000</td>\n",
              "      <td>0.000000</td>\n",
              "      <td>0.000000</td>\n",
              "      <td>2.000000</td>\n",
              "      <td>0.000000</td>\n",
              "      <td>0.000000</td>\n",
              "      <td>0.000000</td>\n",
              "      <td>0.000000</td>\n",
              "    </tr>\n",
              "    <tr>\n",
              "      <th>75%</th>\n",
              "      <td>9.011875</td>\n",
              "      <td>4.000000</td>\n",
              "      <td>2.750000</td>\n",
              "      <td>100.000000</td>\n",
              "      <td>4.000000</td>\n",
              "      <td>0.000000</td>\n",
              "      <td>0.00000</td>\n",
              "      <td>0.000000</td>\n",
              "      <td>0.000000</td>\n",
              "      <td>0.000000</td>\n",
              "      <td>...</td>\n",
              "      <td>4.000000</td>\n",
              "      <td>1.000000</td>\n",
              "      <td>0.000000</td>\n",
              "      <td>0.000000</td>\n",
              "      <td>0.000000</td>\n",
              "      <td>4.000000</td>\n",
              "      <td>2.000000</td>\n",
              "      <td>1.000000</td>\n",
              "      <td>0.000000</td>\n",
              "      <td>0.000000</td>\n",
              "    </tr>\n",
              "    <tr>\n",
              "      <th>max</th>\n",
              "      <td>10.000000</td>\n",
              "      <td>29.250000</td>\n",
              "      <td>28.500000</td>\n",
              "      <td>200.000000</td>\n",
              "      <td>4.000000</td>\n",
              "      <td>4.000000</td>\n",
              "      <td>4.00000</td>\n",
              "      <td>4.000000</td>\n",
              "      <td>4.000000</td>\n",
              "      <td>4.000000</td>\n",
              "      <td>...</td>\n",
              "      <td>4.000000</td>\n",
              "      <td>4.000000</td>\n",
              "      <td>4.000000</td>\n",
              "      <td>4.000000</td>\n",
              "      <td>2.000000</td>\n",
              "      <td>4.000000</td>\n",
              "      <td>4.000000</td>\n",
              "      <td>4.000000</td>\n",
              "      <td>4.000000</td>\n",
              "      <td>4.000000</td>\n",
              "    </tr>\n",
              "  </tbody>\n",
              "</table>\n",
              "<p>8 rows × 159 columns</p>\n",
              "</div>\n",
              "      <button class=\"colab-df-convert\" onclick=\"convertToInteractive('df-ac4853cb-a209-45c9-9025-ff5bd5b8a828')\"\n",
              "              title=\"Convert this dataframe to an interactive table.\"\n",
              "              style=\"display:none;\">\n",
              "        \n",
              "  <svg xmlns=\"http://www.w3.org/2000/svg\" height=\"24px\"viewBox=\"0 0 24 24\"\n",
              "       width=\"24px\">\n",
              "    <path d=\"M0 0h24v24H0V0z\" fill=\"none\"/>\n",
              "    <path d=\"M18.56 5.44l.94 2.06.94-2.06 2.06-.94-2.06-.94-.94-2.06-.94 2.06-2.06.94zm-11 1L8.5 8.5l.94-2.06 2.06-.94-2.06-.94L8.5 2.5l-.94 2.06-2.06.94zm10 10l.94 2.06.94-2.06 2.06-.94-2.06-.94-.94-2.06-.94 2.06-2.06.94z\"/><path d=\"M17.41 7.96l-1.37-1.37c-.4-.4-.92-.59-1.43-.59-.52 0-1.04.2-1.43.59L10.3 9.45l-7.72 7.72c-.78.78-.78 2.05 0 2.83L4 21.41c.39.39.9.59 1.41.59.51 0 1.02-.2 1.41-.59l7.78-7.78 2.81-2.81c.8-.78.8-2.07 0-2.86zM5.41 20L4 18.59l7.72-7.72 1.47 1.35L5.41 20z\"/>\n",
              "  </svg>\n",
              "      </button>\n",
              "      \n",
              "  <style>\n",
              "    .colab-df-container {\n",
              "      display:flex;\n",
              "      flex-wrap:wrap;\n",
              "      gap: 12px;\n",
              "    }\n",
              "\n",
              "    .colab-df-convert {\n",
              "      background-color: #E8F0FE;\n",
              "      border: none;\n",
              "      border-radius: 50%;\n",
              "      cursor: pointer;\n",
              "      display: none;\n",
              "      fill: #1967D2;\n",
              "      height: 32px;\n",
              "      padding: 0 0 0 0;\n",
              "      width: 32px;\n",
              "    }\n",
              "\n",
              "    .colab-df-convert:hover {\n",
              "      background-color: #E2EBFA;\n",
              "      box-shadow: 0px 1px 2px rgba(60, 64, 67, 0.3), 0px 1px 3px 1px rgba(60, 64, 67, 0.15);\n",
              "      fill: #174EA6;\n",
              "    }\n",
              "\n",
              "    [theme=dark] .colab-df-convert {\n",
              "      background-color: #3B4455;\n",
              "      fill: #D2E3FC;\n",
              "    }\n",
              "\n",
              "    [theme=dark] .colab-df-convert:hover {\n",
              "      background-color: #434B5C;\n",
              "      box-shadow: 0px 1px 3px 1px rgba(0, 0, 0, 0.15);\n",
              "      filter: drop-shadow(0px 1px 2px rgba(0, 0, 0, 0.3));\n",
              "      fill: #FFFFFF;\n",
              "    }\n",
              "  </style>\n",
              "\n",
              "      <script>\n",
              "        const buttonEl =\n",
              "          document.querySelector('#df-ac4853cb-a209-45c9-9025-ff5bd5b8a828 button.colab-df-convert');\n",
              "        buttonEl.style.display =\n",
              "          google.colab.kernel.accessAllowed ? 'block' : 'none';\n",
              "\n",
              "        async function convertToInteractive(key) {\n",
              "          const element = document.querySelector('#df-ac4853cb-a209-45c9-9025-ff5bd5b8a828');\n",
              "          const dataTable =\n",
              "            await google.colab.kernel.invokeFunction('convertToInteractive',\n",
              "                                                     [key], {});\n",
              "          if (!dataTable) return;\n",
              "\n",
              "          const docLinkHtml = 'Like what you see? Visit the ' +\n",
              "            '<a target=\"_blank\" href=https://colab.research.google.com/notebooks/data_table.ipynb>data table notebook</a>'\n",
              "            + ' to learn more about interactive tables.';\n",
              "          element.innerHTML = '';\n",
              "          dataTable['output_type'] = 'display_data';\n",
              "          await google.colab.output.renderOutput(dataTable, element);\n",
              "          const docLink = document.createElement('div');\n",
              "          docLink.innerHTML = docLinkHtml;\n",
              "          element.appendChild(docLink);\n",
              "        }\n",
              "      </script>\n",
              "    </div>\n",
              "  </div>\n",
              "  "
            ]
          },
          "metadata": {},
          "execution_count": 155
        }
      ]
    },
    {
      "cell_type": "code",
      "source": [
        "data_grouped.shape"
      ],
      "metadata": {
        "colab": {
          "base_uri": "https://localhost:8080/"
        },
        "id": "8XstU9y17_wU",
        "outputId": "44bc38da-f632-4f02-8326-012d1342e481"
      },
      "execution_count": 156,
      "outputs": [
        {
          "output_type": "execute_result",
          "data": {
            "text/plain": [
              "(1293, 159)"
            ]
          },
          "metadata": {},
          "execution_count": 156
        }
      ]
    },
    {
      "cell_type": "code",
      "source": [
        "data_grouped.columns.to_list()"
      ],
      "metadata": {
        "id": "rANU3xH0dz4h"
      },
      "execution_count": null,
      "outputs": []
    },
    {
      "cell_type": "code",
      "source": [
        "data_grouped.to_csv('Dataset_grouped(25-06-22).csv', index=True)"
      ],
      "metadata": {
        "id": "Jf3KeCEm8RAi"
      },
      "execution_count": 158,
      "outputs": []
    },
    {
      "cell_type": "markdown",
      "source": [
        "The dataset generated is grouped according to the team id, so that each team has a single data entry. Some continuous values columns like cgpa, courses and internet speed will be dealt later."
      ],
      "metadata": {
        "id": "YmEsenBySE5C"
      }
    }
  ]
}