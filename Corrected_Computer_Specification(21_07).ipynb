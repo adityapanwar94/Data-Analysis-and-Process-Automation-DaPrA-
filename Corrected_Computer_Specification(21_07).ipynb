{
  "nbformat": 4,
  "nbformat_minor": 0,
  "metadata": {
    "colab": {
      "name": "Corrected_Computer_Specification(21-07).ipynb",
      "provenance": [],
      "authorship_tag": "ABX9TyOCmmyDNEQ92301cAz4hGKP",
      "include_colab_link": true
    },
    "kernelspec": {
      "name": "python3",
      "display_name": "Python 3"
    },
    "language_info": {
      "name": "python"
    }
  },
  "cells": [
    {
      "cell_type": "markdown",
      "metadata": {
        "id": "view-in-github",
        "colab_type": "text"
      },
      "source": [
        "<a href=\"https://colab.research.google.com/github/adityapanwar94/Data-Analysis-and-Process-Automation-DaPrA-/blob/drishti/Corrected_Computer_Specification(21_07).ipynb\" target=\"_parent\"><img src=\"https://colab.research.google.com/assets/colab-badge.svg\" alt=\"Open In Colab\"/></a>"
      ]
    },
    {
      "cell_type": "markdown",
      "source": [
        "## **Importing Dataset**"
      ],
      "metadata": {
        "id": "kvkXQV0ES50y"
      }
    },
    {
      "cell_type": "code",
      "execution_count": 1,
      "metadata": {
        "colab": {
          "base_uri": "https://localhost:8080/"
        },
        "id": "y9kCs5VbS0Wm",
        "outputId": "3b27fb46-662b-458f-a7e9-4ae08a7a1e14"
      },
      "outputs": [
        {
          "output_type": "stream",
          "name": "stdout",
          "text": [
            "Mounted at /content/drive\n"
          ]
        }
      ],
      "source": [
        "from google.colab import drive\n",
        "drive.mount('/content/drive', force_remount=True)"
      ]
    },
    {
      "cell_type": "code",
      "source": [
        "!unzip -q /content/drive/MyDrive/eYSIP_Data/Dataset24-06.zip"
      ],
      "metadata": {
        "id": "Bbasa-RyS-aj"
      },
      "execution_count": 2,
      "outputs": []
    },
    {
      "cell_type": "markdown",
      "source": [
        "## **Importing Libraries**"
      ],
      "metadata": {
        "id": "rB6P8tWOhtiM"
      }
    },
    {
      "cell_type": "code",
      "source": [
        "import pandas as pd\n",
        "import numpy as np\n",
        "import plotly.express as px"
      ],
      "metadata": {
        "id": "sEDnaZOkS-W0"
      },
      "execution_count": 175,
      "outputs": []
    },
    {
      "cell_type": "markdown",
      "source": [
        "## **Defining DataFrames**"
      ],
      "metadata": {
        "id": "AdoH9LNLh1Y7"
      }
    },
    {
      "cell_type": "code",
      "source": [
        "Mem_Details = pd.read_csv(r'/content/Dataset (24-06-22)/Team_Members_Details_ DaPrA - team_member_details_30_09.csv')"
      ],
      "metadata": {
        "id": "TC-jWsTjS-SR"
      },
      "execution_count": 4,
      "outputs": []
    },
    {
      "cell_type": "code",
      "source": [
        "Mem_Details.info()"
      ],
      "metadata": {
        "colab": {
          "base_uri": "https://localhost:8080/"
        },
        "id": "1-vrlh17TaSq",
        "outputId": "4dab88b5-cd52-4b47-c086-5cd58a85b916"
      },
      "execution_count": 8,
      "outputs": [
        {
          "output_type": "stream",
          "name": "stdout",
          "text": [
            "<class 'pandas.core.frame.DataFrame'>\n",
            "RangeIndex: 5689 entries, 0 to 5688\n",
            "Data columns (total 68 columns):\n",
            " #   Column           Non-Null Count  Dtype  \n",
            "---  ------           --------------  -----  \n",
            " 0   team_id          5689 non-null   int64  \n",
            " 1   role             5689 non-null   int64  \n",
            " 2   Department       5672 non-null   object \n",
            " 3   Discipline       5672 non-null   object \n",
            " 4   Year             5672 non-null   float64\n",
            " 5   Gender           5672 non-null   object \n",
            " 6   eyrc_year        5670 non-null   object \n",
            " 7   eyrc_theme       641 non-null    object \n",
            " 8   eyrc_cert        641 non-null    object \n",
            " 9   elsiLab          5664 non-null   float64\n",
            " 10  cgpa             5383 non-null   float64\n",
            " 11  onlineCourse     5665 non-null   float64\n",
            " 12  paidCert         5665 non-null   float64\n",
            " 13  completeCourse   5665 non-null   float64\n",
            " 14  courseName1      2582 non-null   object \n",
            " 15  courseYear1      2584 non-null   object \n",
            " 16  courseRs1        2578 non-null   object \n",
            " 17  courseName2      1725 non-null   object \n",
            " 18  courseYear2      1725 non-null   object \n",
            " 19  courseRs2        1721 non-null   object \n",
            " 20  courseName3      1170 non-null   object \n",
            " 21  courseYear3      1171 non-null   object \n",
            " 22  courseRs3        1167 non-null   object \n",
            " 23  courseName4      776 non-null    object \n",
            " 24  courseYear4      777 non-null    object \n",
            " 25  courseRs4        772 non-null    object \n",
            " 26  courseName5      501 non-null    object \n",
            " 27  courseYear5      502 non-null    object \n",
            " 28  courseRs5        501 non-null    object \n",
            " 29  bankAcc          0 non-null      float64\n",
            " 30  paymentOpt       0 non-null      float64\n",
            " 31  categoryDomain   0 non-null      float64\n",
            " 32  otherComp        0 non-null      float64\n",
            " 33  isFee            0 non-null      float64\n",
            " 34  internetOpt      5662 non-null   object \n",
            " 35  ssc_board        5431 non-null   object \n",
            " 36  hsc_board        5428 non-null   object \n",
            " 37  workstation      5662 non-null   float64\n",
            " 38  memory           3377 non-null   object \n",
            " 39  storage          3123 non-null   object \n",
            " 40  processor        3170 non-null   object \n",
            " 41  graphics         2739 non-null   object \n",
            " 42  graphics_memory  2888 non-null   object \n",
            " 43  internetspeed    4503 non-null   object \n",
            " 44  geekbench        4503 non-null   object \n",
            " 45  geekbench1       4503 non-null   object \n",
            " 46  os               3387 non-null   object \n",
            " 47  sub_ros          5672 non-null   float64\n",
            " 48  sub_ip           5672 non-null   float64\n",
            " 49  sub_emb_c        5672 non-null   float64\n",
            " 50  sub_ml           5672 non-null   float64\n",
            " 51  sub_ap           5672 non-null   float64\n",
            " 52  sub_cs           5672 non-null   float64\n",
            " 53  sub_mss          5672 non-null   float64\n",
            " 54  sub_fpga         5672 non-null   float64\n",
            " 55  sub_mm           5672 non-null   float64\n",
            " 56  sub_de           5672 non-null   float64\n",
            " 57  preference       5634 non-null   object \n",
            " 58  preference1      5634 non-null   object \n",
            " 59  preference2      5634 non-null   object \n",
            " 60  preference3      5634 non-null   object \n",
            " 61  preference4      5634 non-null   object \n",
            " 62  preference5      5634 non-null   object \n",
            " 63  preference6      5634 non-null   object \n",
            " 64  college_id       5689 non-null   object \n",
            " 65  college_name     5689 non-null   object \n",
            " 66  IS_eLSI          5689 non-null   int64  \n",
            " 67  country          5689 non-null   object \n",
            "dtypes: float64(22), int64(3), object(43)\n",
            "memory usage: 3.0+ MB\n"
          ]
        }
      ]
    },
    {
      "cell_type": "code",
      "source": [
        "comp_specs_Details = pd.read_csv(r'/content/Dataset (24-06-22)/Team_Members_Details_ DaPrA - output_geekbench.csv')"
      ],
      "metadata": {
        "id": "kR3jf4qtS-MX"
      },
      "execution_count": 5,
      "outputs": []
    },
    {
      "cell_type": "code",
      "source": [
        "comp_specs_Details.info()"
      ],
      "metadata": {
        "colab": {
          "base_uri": "https://localhost:8080/"
        },
        "id": "3dlGjnLETVKr",
        "outputId": "8d134a79-c447-4728-89ae-ee895d7e5b16"
      },
      "execution_count": 6,
      "outputs": [
        {
          "output_type": "stream",
          "name": "stdout",
          "text": [
            "<class 'pandas.core.frame.DataFrame'>\n",
            "RangeIndex: 5684 entries, 0 to 5683\n",
            "Data columns (total 13 columns):\n",
            " #   Column             Non-Null Count  Dtype \n",
            "---  ------             --------------  ----- \n",
            " 0   team_id            5684 non-null   int64 \n",
            " 1   name               5684 non-null   object\n",
            " 2   machine_name       5684 non-null   object\n",
            " 3   Single core score  5684 non-null   object\n",
            " 4   Multi core score   5684 non-null   object\n",
            " 5   OpenCL score       3934 non-null   object\n",
            " 6   OS                 5684 non-null   object\n",
            " 7   Model              5684 non-null   object\n",
            " 8   CPU                5684 non-null   object\n",
            " 9   Memory             5684 non-null   object\n",
            " 10  Graphic Card       3934 non-null   object\n",
            " 11  comments           1366 non-null   object\n",
            " 12  observations       1750 non-null   object\n",
            "dtypes: int64(1), object(12)\n",
            "memory usage: 577.4+ KB\n"
          ]
        }
      ]
    },
    {
      "cell_type": "markdown",
      "source": [
        "## **Removing Teams with less than 4 members**"
      ],
      "metadata": {
        "id": "jW-OiEdLToxT"
      }
    },
    {
      "cell_type": "code",
      "source": [
        "Mem_Details['freq'] = Mem_Details.groupby('team_id')['team_id'].transform('count')\n",
        "Mem_Details.count()"
      ],
      "metadata": {
        "colab": {
          "base_uri": "https://localhost:8080/"
        },
        "id": "69gUslcTToZR",
        "outputId": "6bc6bdb5-95b7-4a61-b35e-6b78498d021d"
      },
      "execution_count": 9,
      "outputs": [
        {
          "output_type": "execute_result",
          "data": {
            "text/plain": [
              "team_id         5689\n",
              "role            5689\n",
              "Department      5672\n",
              "Discipline      5672\n",
              "Year            5672\n",
              "                ... \n",
              "college_id      5689\n",
              "college_name    5689\n",
              "IS_eLSI         5689\n",
              "country         5689\n",
              "freq            5689\n",
              "Length: 69, dtype: int64"
            ]
          },
          "metadata": {},
          "execution_count": 9
        }
      ]
    },
    {
      "cell_type": "code",
      "source": [
        "Mem_Details = Mem_Details[Mem_Details.freq >3]\n",
        "Mem_Details.count()"
      ],
      "metadata": {
        "colab": {
          "base_uri": "https://localhost:8080/"
        },
        "id": "OVnM8bJgTvm0",
        "outputId": "13f1b87f-f1fa-45c1-efd9-d4e2eb15fb28"
      },
      "execution_count": 10,
      "outputs": [
        {
          "output_type": "execute_result",
          "data": {
            "text/plain": [
              "team_id         5172\n",
              "role            5172\n",
              "Department      5161\n",
              "Discipline      5161\n",
              "Year            5161\n",
              "                ... \n",
              "college_id      5172\n",
              "college_name    5172\n",
              "IS_eLSI         5172\n",
              "country         5172\n",
              "freq            5172\n",
              "Length: 69, dtype: int64"
            ]
          },
          "metadata": {},
          "execution_count": 10
        }
      ]
    },
    {
      "cell_type": "code",
      "source": [
        "comp_specs_Details['freq'] = comp_specs_Details.groupby('team_id')['team_id'].transform('count')\n",
        "comp_specs_Details.count()"
      ],
      "metadata": {
        "colab": {
          "base_uri": "https://localhost:8080/"
        },
        "id": "eudQkP8TTxZD",
        "outputId": "c14e1ecf-1dfa-4881-d6b8-da956c3ac92e"
      },
      "execution_count": 12,
      "outputs": [
        {
          "output_type": "execute_result",
          "data": {
            "text/plain": [
              "team_id              5684\n",
              "name                 5684\n",
              "machine_name         5684\n",
              "Single core score    5684\n",
              "Multi core score     5684\n",
              "OpenCL score         3934\n",
              "OS                   5684\n",
              "Model                5684\n",
              "CPU                  5684\n",
              "Memory               5684\n",
              "Graphic Card         3934\n",
              "comments             1366\n",
              "observations         1750\n",
              "freq                 5684\n",
              "dtype: int64"
            ]
          },
          "metadata": {},
          "execution_count": 12
        }
      ]
    },
    {
      "cell_type": "code",
      "source": [
        "comp_specs_Details = comp_specs_Details[comp_specs_Details.freq >3]\n",
        "comp_specs_Details.count()"
      ],
      "metadata": {
        "colab": {
          "base_uri": "https://localhost:8080/"
        },
        "id": "Gs18Yl4oUCNr",
        "outputId": "731b945c-f7da-4667-cd0c-33cc40362bc9"
      },
      "execution_count": 13,
      "outputs": [
        {
          "output_type": "execute_result",
          "data": {
            "text/plain": [
              "team_id              5172\n",
              "name                 5172\n",
              "machine_name         5172\n",
              "Single core score    5172\n",
              "Multi core score     5172\n",
              "OpenCL score         3549\n",
              "OS                   5172\n",
              "Model                5172\n",
              "CPU                  5172\n",
              "Memory               5172\n",
              "Graphic Card         3549\n",
              "comments             1276\n",
              "observations         1623\n",
              "freq                 5172\n",
              "dtype: int64"
            ]
          },
          "metadata": {},
          "execution_count": 13
        }
      ]
    },
    {
      "cell_type": "markdown",
      "source": [
        "## **Dropping User Details and Irrelevant Columns and resetting indexes**"
      ],
      "metadata": {
        "id": "M85sdXOWiDWc"
      }
    },
    {
      "cell_type": "code",
      "source": [
        "comp_specs_Details.columns"
      ],
      "metadata": {
        "colab": {
          "base_uri": "https://localhost:8080/"
        },
        "id": "fqaXiZAlV6XD",
        "outputId": "b2806ba0-d5e2-4c20-9606-f4dd23750c20"
      },
      "execution_count": 16,
      "outputs": [
        {
          "output_type": "execute_result",
          "data": {
            "text/plain": [
              "Index(['team_id', 'name', 'machine_name', 'Single core score',\n",
              "       'Multi core score', 'OpenCL score', 'OS', 'Model', 'CPU', 'Memory',\n",
              "       'Graphic Card', 'comments', 'observations', 'freq'],\n",
              "      dtype='object')"
            ]
          },
          "metadata": {},
          "execution_count": 16
        }
      ]
    },
    {
      "cell_type": "code",
      "source": [
        "comp_specs_Details.drop(['name', 'machine_name', 'OS', 'Model', 'CPU', 'Memory',\n",
        "       'Graphic Card', 'comments', 'observations', 'freq'],axis=1,inplace=True)"
      ],
      "metadata": {
        "id": "VzxI5hgqV0WP"
      },
      "execution_count": 18,
      "outputs": []
    },
    {
      "cell_type": "code",
      "source": [
        "comp_specs_Details.reset_index(inplace=True)"
      ],
      "metadata": {
        "id": "f4BWbnvFamSY"
      },
      "execution_count": 49,
      "outputs": []
    },
    {
      "cell_type": "code",
      "source": [
        "comp_specs_Details.drop(['index'],axis=1,inplace=True)"
      ],
      "metadata": {
        "id": "OyzWFxlDbe47"
      },
      "execution_count": 64,
      "outputs": []
    },
    {
      "cell_type": "code",
      "source": [
        "comp_specs_Details.info()"
      ],
      "metadata": {
        "colab": {
          "base_uri": "https://localhost:8080/"
        },
        "id": "cEAOWSyNWnuv",
        "outputId": "ed644ba6-b4b7-438c-95f5-02c8bba53a5a"
      },
      "execution_count": 65,
      "outputs": [
        {
          "output_type": "stream",
          "name": "stdout",
          "text": [
            "<class 'pandas.core.frame.DataFrame'>\n",
            "RangeIndex: 5172 entries, 0 to 5171\n",
            "Data columns (total 4 columns):\n",
            " #   Column             Non-Null Count  Dtype \n",
            "---  ------             --------------  ----- \n",
            " 0   team_id            5172 non-null   int64 \n",
            " 1   Single core score  5172 non-null   object\n",
            " 2   Multi core score   5172 non-null   object\n",
            " 3   OpenCL score       3549 non-null   object\n",
            "dtypes: int64(1), object(3)\n",
            "memory usage: 161.8+ KB\n"
          ]
        }
      ]
    },
    {
      "cell_type": "code",
      "source": [
        "SpecsFromUserData = Mem_Details.loc[:, ['team_id', 'memory']]"
      ],
      "metadata": {
        "id": "Wjrojvg7WyFJ"
      },
      "execution_count": 66,
      "outputs": []
    },
    {
      "cell_type": "code",
      "source": [
        "SpecsFromUserData.reset_index(inplace=True)"
      ],
      "metadata": {
        "id": "derur3Y8a8bd"
      },
      "execution_count": 67,
      "outputs": []
    },
    {
      "cell_type": "code",
      "source": [
        "SpecsFromUserData.info()"
      ],
      "metadata": {
        "colab": {
          "base_uri": "https://localhost:8080/"
        },
        "id": "jRHpO-e4YKjH",
        "outputId": "bf3e12c3-ec80-4919-9df3-290d33a63076"
      },
      "execution_count": 79,
      "outputs": [
        {
          "output_type": "stream",
          "name": "stdout",
          "text": [
            "<class 'pandas.core.frame.DataFrame'>\n",
            "RangeIndex: 5172 entries, 0 to 5171\n",
            "Data columns (total 2 columns):\n",
            " #   Column   Non-Null Count  Dtype \n",
            "---  ------   --------------  ----- \n",
            " 0   team_id  5172 non-null   int64 \n",
            " 1   memory   3059 non-null   object\n",
            "dtypes: int64(1), object(1)\n",
            "memory usage: 80.9+ KB\n"
          ]
        }
      ]
    },
    {
      "cell_type": "code",
      "source": [
        "SpecsFromUserData.drop(['index'],axis=1,inplace=True)"
      ],
      "metadata": {
        "id": "a-QNtqBjZf6p"
      },
      "execution_count": 69,
      "outputs": []
    },
    {
      "cell_type": "code",
      "source": [
        "SpecsFromUserData.head()"
      ],
      "metadata": {
        "colab": {
          "base_uri": "https://localhost:8080/",
          "height": 206
        },
        "id": "DqMXmQcHbMrg",
        "outputId": "58da11f6-aa5a-4cfa-c87e-2526fe3bc002"
      },
      "execution_count": 91,
      "outputs": [
        {
          "output_type": "execute_result",
          "data": {
            "text/plain": [
              "   team_id memory\n",
              "0     1001   4 GB\n",
              "1     1001   8 GB\n",
              "2     1001   4 GB\n",
              "3     1001   6 GB\n",
              "4     1002   8 GB"
            ],
            "text/html": [
              "\n",
              "  <div id=\"df-c0dafdaf-494c-41b7-949c-caa481695902\">\n",
              "    <div class=\"colab-df-container\">\n",
              "      <div>\n",
              "<style scoped>\n",
              "    .dataframe tbody tr th:only-of-type {\n",
              "        vertical-align: middle;\n",
              "    }\n",
              "\n",
              "    .dataframe tbody tr th {\n",
              "        vertical-align: top;\n",
              "    }\n",
              "\n",
              "    .dataframe thead th {\n",
              "        text-align: right;\n",
              "    }\n",
              "</style>\n",
              "<table border=\"1\" class=\"dataframe\">\n",
              "  <thead>\n",
              "    <tr style=\"text-align: right;\">\n",
              "      <th></th>\n",
              "      <th>team_id</th>\n",
              "      <th>memory</th>\n",
              "    </tr>\n",
              "  </thead>\n",
              "  <tbody>\n",
              "    <tr>\n",
              "      <th>0</th>\n",
              "      <td>1001</td>\n",
              "      <td>4 GB</td>\n",
              "    </tr>\n",
              "    <tr>\n",
              "      <th>1</th>\n",
              "      <td>1001</td>\n",
              "      <td>8 GB</td>\n",
              "    </tr>\n",
              "    <tr>\n",
              "      <th>2</th>\n",
              "      <td>1001</td>\n",
              "      <td>4 GB</td>\n",
              "    </tr>\n",
              "    <tr>\n",
              "      <th>3</th>\n",
              "      <td>1001</td>\n",
              "      <td>6 GB</td>\n",
              "    </tr>\n",
              "    <tr>\n",
              "      <th>4</th>\n",
              "      <td>1002</td>\n",
              "      <td>8 GB</td>\n",
              "    </tr>\n",
              "  </tbody>\n",
              "</table>\n",
              "</div>\n",
              "      <button class=\"colab-df-convert\" onclick=\"convertToInteractive('df-c0dafdaf-494c-41b7-949c-caa481695902')\"\n",
              "              title=\"Convert this dataframe to an interactive table.\"\n",
              "              style=\"display:none;\">\n",
              "        \n",
              "  <svg xmlns=\"http://www.w3.org/2000/svg\" height=\"24px\"viewBox=\"0 0 24 24\"\n",
              "       width=\"24px\">\n",
              "    <path d=\"M0 0h24v24H0V0z\" fill=\"none\"/>\n",
              "    <path d=\"M18.56 5.44l.94 2.06.94-2.06 2.06-.94-2.06-.94-.94-2.06-.94 2.06-2.06.94zm-11 1L8.5 8.5l.94-2.06 2.06-.94-2.06-.94L8.5 2.5l-.94 2.06-2.06.94zm10 10l.94 2.06.94-2.06 2.06-.94-2.06-.94-.94-2.06-.94 2.06-2.06.94z\"/><path d=\"M17.41 7.96l-1.37-1.37c-.4-.4-.92-.59-1.43-.59-.52 0-1.04.2-1.43.59L10.3 9.45l-7.72 7.72c-.78.78-.78 2.05 0 2.83L4 21.41c.39.39.9.59 1.41.59.51 0 1.02-.2 1.41-.59l7.78-7.78 2.81-2.81c.8-.78.8-2.07 0-2.86zM5.41 20L4 18.59l7.72-7.72 1.47 1.35L5.41 20z\"/>\n",
              "  </svg>\n",
              "      </button>\n",
              "      \n",
              "  <style>\n",
              "    .colab-df-container {\n",
              "      display:flex;\n",
              "      flex-wrap:wrap;\n",
              "      gap: 12px;\n",
              "    }\n",
              "\n",
              "    .colab-df-convert {\n",
              "      background-color: #E8F0FE;\n",
              "      border: none;\n",
              "      border-radius: 50%;\n",
              "      cursor: pointer;\n",
              "      display: none;\n",
              "      fill: #1967D2;\n",
              "      height: 32px;\n",
              "      padding: 0 0 0 0;\n",
              "      width: 32px;\n",
              "    }\n",
              "\n",
              "    .colab-df-convert:hover {\n",
              "      background-color: #E2EBFA;\n",
              "      box-shadow: 0px 1px 2px rgba(60, 64, 67, 0.3), 0px 1px 3px 1px rgba(60, 64, 67, 0.15);\n",
              "      fill: #174EA6;\n",
              "    }\n",
              "\n",
              "    [theme=dark] .colab-df-convert {\n",
              "      background-color: #3B4455;\n",
              "      fill: #D2E3FC;\n",
              "    }\n",
              "\n",
              "    [theme=dark] .colab-df-convert:hover {\n",
              "      background-color: #434B5C;\n",
              "      box-shadow: 0px 1px 3px 1px rgba(0, 0, 0, 0.15);\n",
              "      filter: drop-shadow(0px 1px 2px rgba(0, 0, 0, 0.3));\n",
              "      fill: #FFFFFF;\n",
              "    }\n",
              "  </style>\n",
              "\n",
              "      <script>\n",
              "        const buttonEl =\n",
              "          document.querySelector('#df-c0dafdaf-494c-41b7-949c-caa481695902 button.colab-df-convert');\n",
              "        buttonEl.style.display =\n",
              "          google.colab.kernel.accessAllowed ? 'block' : 'none';\n",
              "\n",
              "        async function convertToInteractive(key) {\n",
              "          const element = document.querySelector('#df-c0dafdaf-494c-41b7-949c-caa481695902');\n",
              "          const dataTable =\n",
              "            await google.colab.kernel.invokeFunction('convertToInteractive',\n",
              "                                                     [key], {});\n",
              "          if (!dataTable) return;\n",
              "\n",
              "          const docLinkHtml = 'Like what you see? Visit the ' +\n",
              "            '<a target=\"_blank\" href=https://colab.research.google.com/notebooks/data_table.ipynb>data table notebook</a>'\n",
              "            + ' to learn more about interactive tables.';\n",
              "          element.innerHTML = '';\n",
              "          dataTable['output_type'] = 'display_data';\n",
              "          await google.colab.output.renderOutput(dataTable, element);\n",
              "          const docLink = document.createElement('div');\n",
              "          docLink.innerHTML = docLinkHtml;\n",
              "          element.appendChild(docLink);\n",
              "        }\n",
              "      </script>\n",
              "    </div>\n",
              "  </div>\n",
              "  "
            ]
          },
          "metadata": {},
          "execution_count": 91
        }
      ]
    },
    {
      "cell_type": "code",
      "source": [
        "comp_specs_Details.head()"
      ],
      "metadata": {
        "colab": {
          "base_uri": "https://localhost:8080/",
          "height": 206
        },
        "id": "JHXRMwgnZjNS",
        "outputId": "42a702d5-6373-4410-be38-85a8680320e7"
      },
      "execution_count": 89,
      "outputs": [
        {
          "output_type": "execute_result",
          "data": {
            "text/plain": [
              "   team_id Single core score Multi core score OpenCL score\n",
              "0     1001              1142             2148          NaN\n",
              "1     1001               543             1132         3167\n",
              "2     1001               836             1525         3002\n",
              "3     1001               601             2281         2946\n",
              "4     1002              1060             3394         5735"
            ],
            "text/html": [
              "\n",
              "  <div id=\"df-a3f0b38e-5c34-4130-b715-43efabc4df46\">\n",
              "    <div class=\"colab-df-container\">\n",
              "      <div>\n",
              "<style scoped>\n",
              "    .dataframe tbody tr th:only-of-type {\n",
              "        vertical-align: middle;\n",
              "    }\n",
              "\n",
              "    .dataframe tbody tr th {\n",
              "        vertical-align: top;\n",
              "    }\n",
              "\n",
              "    .dataframe thead th {\n",
              "        text-align: right;\n",
              "    }\n",
              "</style>\n",
              "<table border=\"1\" class=\"dataframe\">\n",
              "  <thead>\n",
              "    <tr style=\"text-align: right;\">\n",
              "      <th></th>\n",
              "      <th>team_id</th>\n",
              "      <th>Single core score</th>\n",
              "      <th>Multi core score</th>\n",
              "      <th>OpenCL score</th>\n",
              "    </tr>\n",
              "  </thead>\n",
              "  <tbody>\n",
              "    <tr>\n",
              "      <th>0</th>\n",
              "      <td>1001</td>\n",
              "      <td>1142</td>\n",
              "      <td>2148</td>\n",
              "      <td>NaN</td>\n",
              "    </tr>\n",
              "    <tr>\n",
              "      <th>1</th>\n",
              "      <td>1001</td>\n",
              "      <td>543</td>\n",
              "      <td>1132</td>\n",
              "      <td>3167</td>\n",
              "    </tr>\n",
              "    <tr>\n",
              "      <th>2</th>\n",
              "      <td>1001</td>\n",
              "      <td>836</td>\n",
              "      <td>1525</td>\n",
              "      <td>3002</td>\n",
              "    </tr>\n",
              "    <tr>\n",
              "      <th>3</th>\n",
              "      <td>1001</td>\n",
              "      <td>601</td>\n",
              "      <td>2281</td>\n",
              "      <td>2946</td>\n",
              "    </tr>\n",
              "    <tr>\n",
              "      <th>4</th>\n",
              "      <td>1002</td>\n",
              "      <td>1060</td>\n",
              "      <td>3394</td>\n",
              "      <td>5735</td>\n",
              "    </tr>\n",
              "  </tbody>\n",
              "</table>\n",
              "</div>\n",
              "      <button class=\"colab-df-convert\" onclick=\"convertToInteractive('df-a3f0b38e-5c34-4130-b715-43efabc4df46')\"\n",
              "              title=\"Convert this dataframe to an interactive table.\"\n",
              "              style=\"display:none;\">\n",
              "        \n",
              "  <svg xmlns=\"http://www.w3.org/2000/svg\" height=\"24px\"viewBox=\"0 0 24 24\"\n",
              "       width=\"24px\">\n",
              "    <path d=\"M0 0h24v24H0V0z\" fill=\"none\"/>\n",
              "    <path d=\"M18.56 5.44l.94 2.06.94-2.06 2.06-.94-2.06-.94-.94-2.06-.94 2.06-2.06.94zm-11 1L8.5 8.5l.94-2.06 2.06-.94-2.06-.94L8.5 2.5l-.94 2.06-2.06.94zm10 10l.94 2.06.94-2.06 2.06-.94-2.06-.94-.94-2.06-.94 2.06-2.06.94z\"/><path d=\"M17.41 7.96l-1.37-1.37c-.4-.4-.92-.59-1.43-.59-.52 0-1.04.2-1.43.59L10.3 9.45l-7.72 7.72c-.78.78-.78 2.05 0 2.83L4 21.41c.39.39.9.59 1.41.59.51 0 1.02-.2 1.41-.59l7.78-7.78 2.81-2.81c.8-.78.8-2.07 0-2.86zM5.41 20L4 18.59l7.72-7.72 1.47 1.35L5.41 20z\"/>\n",
              "  </svg>\n",
              "      </button>\n",
              "      \n",
              "  <style>\n",
              "    .colab-df-container {\n",
              "      display:flex;\n",
              "      flex-wrap:wrap;\n",
              "      gap: 12px;\n",
              "    }\n",
              "\n",
              "    .colab-df-convert {\n",
              "      background-color: #E8F0FE;\n",
              "      border: none;\n",
              "      border-radius: 50%;\n",
              "      cursor: pointer;\n",
              "      display: none;\n",
              "      fill: #1967D2;\n",
              "      height: 32px;\n",
              "      padding: 0 0 0 0;\n",
              "      width: 32px;\n",
              "    }\n",
              "\n",
              "    .colab-df-convert:hover {\n",
              "      background-color: #E2EBFA;\n",
              "      box-shadow: 0px 1px 2px rgba(60, 64, 67, 0.3), 0px 1px 3px 1px rgba(60, 64, 67, 0.15);\n",
              "      fill: #174EA6;\n",
              "    }\n",
              "\n",
              "    [theme=dark] .colab-df-convert {\n",
              "      background-color: #3B4455;\n",
              "      fill: #D2E3FC;\n",
              "    }\n",
              "\n",
              "    [theme=dark] .colab-df-convert:hover {\n",
              "      background-color: #434B5C;\n",
              "      box-shadow: 0px 1px 3px 1px rgba(0, 0, 0, 0.15);\n",
              "      filter: drop-shadow(0px 1px 2px rgba(0, 0, 0, 0.3));\n",
              "      fill: #FFFFFF;\n",
              "    }\n",
              "  </style>\n",
              "\n",
              "      <script>\n",
              "        const buttonEl =\n",
              "          document.querySelector('#df-a3f0b38e-5c34-4130-b715-43efabc4df46 button.colab-df-convert');\n",
              "        buttonEl.style.display =\n",
              "          google.colab.kernel.accessAllowed ? 'block' : 'none';\n",
              "\n",
              "        async function convertToInteractive(key) {\n",
              "          const element = document.querySelector('#df-a3f0b38e-5c34-4130-b715-43efabc4df46');\n",
              "          const dataTable =\n",
              "            await google.colab.kernel.invokeFunction('convertToInteractive',\n",
              "                                                     [key], {});\n",
              "          if (!dataTable) return;\n",
              "\n",
              "          const docLinkHtml = 'Like what you see? Visit the ' +\n",
              "            '<a target=\"_blank\" href=https://colab.research.google.com/notebooks/data_table.ipynb>data table notebook</a>'\n",
              "            + ' to learn more about interactive tables.';\n",
              "          element.innerHTML = '';\n",
              "          dataTable['output_type'] = 'display_data';\n",
              "          await google.colab.output.renderOutput(dataTable, element);\n",
              "          const docLink = document.createElement('div');\n",
              "          docLink.innerHTML = docLinkHtml;\n",
              "          element.appendChild(docLink);\n",
              "        }\n",
              "      </script>\n",
              "    </div>\n",
              "  </div>\n",
              "  "
            ]
          },
          "metadata": {},
          "execution_count": 89
        }
      ]
    },
    {
      "cell_type": "markdown",
      "source": [
        "## **Analyzing Null Values in both the datasets**"
      ],
      "metadata": {
        "id": "9P_RZrWTi6QZ"
      }
    },
    {
      "cell_type": "code",
      "source": [
        "print(SpecsFromUserData.isna().sum().sort_values(ascending=False).to_markdown())"
      ],
      "metadata": {
        "colab": {
          "base_uri": "https://localhost:8080/"
        },
        "id": "7_9_fi0jiy8Y",
        "outputId": "e608a76c-a205-4427-962d-ad087808a3f8"
      },
      "execution_count": 107,
      "outputs": [
        {
          "output_type": "stream",
          "name": "stdout",
          "text": [
            "|         |    0 |\n",
            "|:--------|-----:|\n",
            "| memory  | 2113 |\n",
            "| team_id |    0 |\n"
          ]
        }
      ]
    },
    {
      "cell_type": "code",
      "source": [
        "print(comp_specs_Details.isna().sum().sort_values(ascending=False).to_markdown())"
      ],
      "metadata": {
        "colab": {
          "base_uri": "https://localhost:8080/"
        },
        "id": "jb1xJ_qEi2b-",
        "outputId": "ef0f3055-c90c-4a63-ef87-c67ed5890004"
      },
      "execution_count": 108,
      "outputs": [
        {
          "output_type": "stream",
          "name": "stdout",
          "text": [
            "|                   |    0 |\n",
            "|:------------------|-----:|\n",
            "| OpenCL score      | 1623 |\n",
            "| team_id           |    0 |\n",
            "| Single core score |    0 |\n",
            "| Multi core score  |    0 |\n"
          ]
        }
      ]
    },
    {
      "cell_type": "markdown",
      "source": [
        "## **Analyzing Unique Values**"
      ],
      "metadata": {
        "id": "ujsOrjY0iQj3"
      }
    },
    {
      "cell_type": "code",
      "source": [
        "def unique_chart(Dataset):\n",
        "  uni_dict = {}\n",
        "  uni_value ={}\n",
        "  keys = Dataset.columns\n",
        "  for i in keys:\n",
        "    uni_dict[i] = Dataset[i].nunique()\n",
        "    if Dataset[i].nunique() <= 10:\n",
        "      uni_value[i] = Dataset[i].unique()\n",
        "    else:\n",
        "      uni_value[i] = None\n",
        "  Unique = pd.DataFrame([uni_dict, uni_value]) \n",
        "  return (Unique)"
      ],
      "metadata": {
        "id": "Olq0otnTiVfZ"
      },
      "execution_count": 105,
      "outputs": []
    },
    {
      "cell_type": "code",
      "source": [
        "Unique = unique_chart(SpecsFromUserData)\n",
        "print(Unique.to_markdown())"
      ],
      "metadata": {
        "colab": {
          "base_uri": "https://localhost:8080/"
        },
        "id": "NbWkU-Qdic9x",
        "outputId": "bae65783-cb9a-4102-e5e8-8cc04bd79468"
      },
      "execution_count": 106,
      "outputs": [
        {
          "output_type": "stream",
          "name": "stdout",
          "text": [
            "|    |   team_id | memory                                                                 |\n",
            "|---:|----------:|:-----------------------------------------------------------------------|\n",
            "|  0 |      1293 | 7                                                                      |\n",
            "|  1 |       nan | ['4 GB' '8 GB' '6 GB' nan '16 GB & more' '12 GB' 'Up to 2 GB' 'Other'] |\n"
          ]
        }
      ]
    },
    {
      "cell_type": "code",
      "source": [
        "Unique = unique_chart(comp_specs_Details)\n",
        "print(Unique.to_markdown())"
      ],
      "metadata": {
        "colab": {
          "base_uri": "https://localhost:8080/"
        },
        "id": "44gxvnjajfoj",
        "outputId": "b4fc5a25-7e9c-44f8-e9c8-2e9be43812a8"
      },
      "execution_count": 109,
      "outputs": [
        {
          "output_type": "stream",
          "name": "stdout",
          "text": [
            "|    |   team_id |   Single core score |   Multi core score |   OpenCL score |\n",
            "|---:|----------:|--------------------:|-------------------:|---------------:|\n",
            "|  0 |      1293 |                1131 |               2562 |           3125 |\n",
            "|  1 |       nan |                 nan |                nan |            nan |\n"
          ]
        }
      ]
    },
    {
      "cell_type": "markdown",
      "source": [
        "## **Transforming Ram Memory Column**"
      ],
      "metadata": {
        "id": "iifWQm1ij1uq"
      }
    },
    {
      "cell_type": "code",
      "source": [
        "SpecsFromUserData['memory'] = SpecsFromUserData['memory'].replace(np.nan, 0)\n",
        "SpecsFromUserData['memory'] = SpecsFromUserData['memory'].replace('Other', 0)"
      ],
      "metadata": {
        "id": "aFjQ_hgij8rN"
      },
      "execution_count": 110,
      "outputs": []
    },
    {
      "cell_type": "code",
      "source": [
        "SpecsFromUserData['memory'].replace(['4 GB', '8 GB', '6 GB', '16 GB & more', '12 GB', 'Up to 2 GB'], [4, 8, 6, 16, 12, 2], inplace=True)"
      ],
      "metadata": {
        "id": "M8XMvPDfmlgr"
      },
      "execution_count": 112,
      "outputs": []
    },
    {
      "cell_type": "code",
      "source": [
        "Unique = unique_chart(SpecsFromUserData)\n",
        "print(Unique.to_markdown())"
      ],
      "metadata": {
        "colab": {
          "base_uri": "https://localhost:8080/"
        },
        "id": "tKIdWFuRlY52",
        "outputId": "df6f1f71-2e85-4f4f-b4f7-a419b1a8d7a7"
      },
      "execution_count": 113,
      "outputs": [
        {
          "output_type": "stream",
          "name": "stdout",
          "text": [
            "|    |   team_id | memory                 |\n",
            "|---:|----------:|:-----------------------|\n",
            "|  0 |      1293 | 7                      |\n",
            "|  1 |       nan | [ 4  8  6  0 16 12  2] |\n"
          ]
        }
      ]
    },
    {
      "cell_type": "code",
      "source": [
        "SpecsFromUserData.info()"
      ],
      "metadata": {
        "colab": {
          "base_uri": "https://localhost:8080/"
        },
        "id": "q5uEYjfynASi",
        "outputId": "baed174b-e479-477f-b2ff-baba4706ed13"
      },
      "execution_count": 137,
      "outputs": [
        {
          "output_type": "stream",
          "name": "stdout",
          "text": [
            "<class 'pandas.core.frame.DataFrame'>\n",
            "RangeIndex: 5172 entries, 0 to 5171\n",
            "Data columns (total 2 columns):\n",
            " #   Column   Non-Null Count  Dtype\n",
            "---  ------   --------------  -----\n",
            " 0   team_id  5172 non-null   int64\n",
            " 1   memory   5172 non-null   int64\n",
            "dtypes: int64(2)\n",
            "memory usage: 80.9 KB\n"
          ]
        }
      ]
    },
    {
      "cell_type": "markdown",
      "source": [
        "## **Transforming Single core, multi core and openCL Columns**"
      ],
      "metadata": {
        "id": "r51j6DOUnLB7"
      }
    },
    {
      "cell_type": "code",
      "source": [
        "comp_specs_Details['Single core score'][comp_specs_Details['Single core score'].str.isalpha()==True].unique()"
      ],
      "metadata": {
        "id": "lWGmKpybnSWn"
      },
      "execution_count": null,
      "outputs": []
    },
    {
      "cell_type": "code",
      "source": [
        "comp_specs_Details['Multi core score'][comp_specs_Details['Multi core score'].str.isalpha()==True]"
      ],
      "metadata": {
        "id": "Ah5InXfDvA2V"
      },
      "execution_count": null,
      "outputs": []
    },
    {
      "cell_type": "code",
      "source": [
        "comp_specs_Details['OpenCL score'][comp_specs_Details['OpenCL score'].str.isalpha()==True]"
      ],
      "metadata": {
        "colab": {
          "base_uri": "https://localhost:8080/"
        },
        "id": "PeBFQFfZvFy4",
        "outputId": "163b1957-cfd5-46d2-f6f8-b92c58545fa9"
      },
      "execution_count": 159,
      "outputs": [
        {
          "output_type": "execute_result",
          "data": {
            "text/plain": [
              "Series([], Name: OpenCL score, dtype: object)"
            ]
          },
          "metadata": {},
          "execution_count": 159
        }
      ]
    },
    {
      "cell_type": "code",
      "source": [
        "comp_specs_Details['Single core score'].replace('Nil',0,inplace=True)"
      ],
      "metadata": {
        "id": "X7ACElmiuR58"
      },
      "execution_count": 139,
      "outputs": []
    },
    {
      "cell_type": "code",
      "source": [
        "comp_specs_Details['Multi core score'].replace('Nil',0,inplace=True)"
      ],
      "metadata": {
        "id": "vDM_SqYTvYM1"
      },
      "execution_count": 151,
      "outputs": []
    },
    {
      "cell_type": "code",
      "source": [
        "comp_specs_Details['OpenCL score'].replace('Nil',0,inplace=True)\n",
        "comp_specs_Details['OpenCL score'].replace(np.nan,0,inplace=True)"
      ],
      "metadata": {
        "id": "TgqMJDsevl3U"
      },
      "execution_count": 154,
      "outputs": []
    },
    {
      "cell_type": "code",
      "source": [
        "comp_specs_Details['Single core score']=comp_specs_Details['Single core score'].astype(str).astype(int)"
      ],
      "metadata": {
        "id": "LdwAliJOudyb"
      },
      "execution_count": 145,
      "outputs": []
    },
    {
      "cell_type": "code",
      "source": [
        "comp_specs_Details['Multi core score']=comp_specs_Details['Multi core score'].astype(str).astype(int)"
      ],
      "metadata": {
        "id": "U-57eMKAvdSV"
      },
      "execution_count": 152,
      "outputs": []
    },
    {
      "cell_type": "code",
      "source": [
        "comp_specs_Details['OpenCL score']=comp_specs_Details['OpenCL score'].astype(str).astype(int)"
      ],
      "metadata": {
        "id": "jTzYZWjIwAYB"
      },
      "execution_count": 162,
      "outputs": []
    },
    {
      "cell_type": "code",
      "source": [
        "comp_specs_Details.info()"
      ],
      "metadata": {
        "colab": {
          "base_uri": "https://localhost:8080/"
        },
        "id": "B5l-YfZ5u0R-",
        "outputId": "5af3a7e5-7843-46f7-9faa-979f2e5de00b"
      },
      "execution_count": 165,
      "outputs": [
        {
          "output_type": "stream",
          "name": "stdout",
          "text": [
            "<class 'pandas.core.frame.DataFrame'>\n",
            "RangeIndex: 5172 entries, 0 to 5171\n",
            "Data columns (total 4 columns):\n",
            " #   Column             Non-Null Count  Dtype\n",
            "---  ------             --------------  -----\n",
            " 0   team_id            5172 non-null   int64\n",
            " 1   Single core score  5172 non-null   int64\n",
            " 2   Multi core score   5172 non-null   int64\n",
            " 3   OpenCL score       5172 non-null   int64\n",
            "dtypes: int64(4)\n",
            "memory usage: 161.8 KB\n"
          ]
        }
      ]
    },
    {
      "cell_type": "markdown",
      "source": [
        "## **Data Analysis**"
      ],
      "metadata": {
        "id": "zzW_md4zxO0m"
      }
    },
    {
      "cell_type": "code",
      "source": [
        "comp_specs_Details['Single core score'][comp_specs_Details['Single core score']==0].count()"
      ],
      "metadata": {
        "colab": {
          "base_uri": "https://localhost:8080/"
        },
        "id": "rf1lMss_wyaU",
        "outputId": "f74e6633-cd55-4e88-d02d-529dd2e187f9"
      },
      "execution_count": 169,
      "outputs": [
        {
          "output_type": "execute_result",
          "data": {
            "text/plain": [
              "1263"
            ]
          },
          "metadata": {},
          "execution_count": 169
        }
      ]
    },
    {
      "cell_type": "code",
      "source": [
        "comp_specs_Details['Multi core score'][comp_specs_Details['Multi core score']==0].count()"
      ],
      "metadata": {
        "colab": {
          "base_uri": "https://localhost:8080/"
        },
        "id": "1zmpXpc3yRcJ",
        "outputId": "76af1a4c-bdec-414f-e8cc-74dc6ea7ff23"
      },
      "execution_count": 172,
      "outputs": [
        {
          "output_type": "execute_result",
          "data": {
            "text/plain": [
              "1263"
            ]
          },
          "metadata": {},
          "execution_count": 172
        }
      ]
    },
    {
      "cell_type": "code",
      "source": [
        "comp_specs_Details['OpenCL score'][comp_specs_Details['OpenCL score']==0].count()"
      ],
      "metadata": {
        "colab": {
          "base_uri": "https://localhost:8080/"
        },
        "id": "GTT7YIqfyM-D",
        "outputId": "d3c12b69-1195-455e-fc5f-2c4c18c124c8"
      },
      "execution_count": 173,
      "outputs": [
        {
          "output_type": "execute_result",
          "data": {
            "text/plain": [
              "1645"
            ]
          },
          "metadata": {},
          "execution_count": 173
        }
      ]
    },
    {
      "cell_type": "code",
      "source": [
        "SpecsFromUserData['memory'][SpecsFromUserData['memory']==0].count()"
      ],
      "metadata": {
        "colab": {
          "base_uri": "https://localhost:8080/"
        },
        "id": "oX8Urlc2ySgE",
        "outputId": "9481c25c-d947-462e-960f-1e5b4769c0dc"
      },
      "execution_count": 174,
      "outputs": [
        {
          "output_type": "execute_result",
          "data": {
            "text/plain": [
              "2123"
            ]
          },
          "metadata": {},
          "execution_count": 174
        }
      ]
    },
    {
      "cell_type": "code",
      "source": [
        "fig = px.histogram(SpecsFromUserData, x=\"memory\")\n",
        "fig.show()"
      ],
      "metadata": {
        "colab": {
          "base_uri": "https://localhost:8080/",
          "height": 542
        },
        "id": "Hd_1Z0yEy1ag",
        "outputId": "51d86a0b-1ea3-4624-f7da-d8d53ff99747"
      },
      "execution_count": 176,
      "outputs": [
        {
          "output_type": "display_data",
          "data": {
            "text/html": [
              "<html>\n",
              "<head><meta charset=\"utf-8\" /></head>\n",
              "<body>\n",
              "    <div>            <script src=\"https://cdnjs.cloudflare.com/ajax/libs/mathjax/2.7.5/MathJax.js?config=TeX-AMS-MML_SVG\"></script><script type=\"text/javascript\">if (window.MathJax) {MathJax.Hub.Config({SVG: {font: \"STIX-Web\"}});}</script>                <script type=\"text/javascript\">window.PlotlyConfig = {MathJaxConfig: 'local'};</script>\n",
              "        <script src=\"https://cdn.plot.ly/plotly-2.8.3.min.js\"></script>                <div id=\"0d69b90e-4f72-40dc-a0e7-66d6a36131a6\" class=\"plotly-graph-div\" style=\"height:525px; width:100%;\"></div>            <script type=\"text/javascript\">                                    window.PLOTLYENV=window.PLOTLYENV || {};                                    if (document.getElementById(\"0d69b90e-4f72-40dc-a0e7-66d6a36131a6\")) {                    Plotly.newPlot(                        \"0d69b90e-4f72-40dc-a0e7-66d6a36131a6\",                        [{\"alignmentgroup\":\"True\",\"bingroup\":\"x\",\"hovertemplate\":\"memory=%{x}<br>count=%{y}<extra></extra>\",\"legendgroup\":\"\",\"marker\":{\"color\":\"#636efa\",\"pattern\":{\"shape\":\"\"}},\"name\":\"\",\"offsetgroup\":\"\",\"orientation\":\"v\",\"showlegend\":false,\"x\":[4,8,4,6,8,8,0,8,8,16,8,0,16,16,0,16,8,8,8,16,16,8,8,16,12,8,8,8,0,8,0,8,8,8,0,0,8,4,0,8,8,0,0,8,0,8,8,8,4,8,8,8,8,16,16,12,8,4,8,0,8,0,0,8,8,8,8,8,16,8,0,8,8,16,16,0,0,8,0,0,8,2,6,8,8,0,8,8,0,16,8,8,16,16,2,0,4,0,4,4,16,8,8,4,16,0,8,0,8,8,8,0,0,0,8,2,8,8,8,0,6,8,0,0,8,8,8,8,8,0,16,8,0,0,0,0,8,8,8,8,16,8,16,12,0,0,0,16,12,6,8,8,8,8,8,16,6,0,16,0,8,0,8,8,8,8,8,8,8,0,8,16,0,0,8,0,8,4,0,8,8,16,8,0,8,12,8,8,8,4,4,0,8,16,16,16,8,8,6,8,8,8,12,8,16,8,8,4,4,8,8,0,8,8,8,4,0,0,16,4,8,16,4,8,8,8,8,8,8,4,8,8,8,8,8,8,8,8,8,8,8,8,8,8,8,0,0,16,0,0,16,0,8,8,8,8,16,8,0,16,4,4,0,8,8,16,16,8,4,16,16,0,16,8,0,16,8,8,8,8,0,0,0,0,4,8,16,4,12,0,0,2,0,0,0,16,12,0,8,4,0,0,8,8,8,0,0,0,16,8,8,0,8,8,8,8,8,16,8,8,0,0,0,0,16,16,8,16,12,16,8,8,8,12,0,8,16,16,0,8,8,0,0,0,8,8,8,8,8,0,16,8,0,8,16,0,16,8,0,8,0,0,8,8,16,8,0,8,8,0,0,0,4,16,8,0,0,0,0,0,16,16,16,8,8,16,8,16,8,8,4,0,8,8,4,0,8,8,8,0,8,16,4,0,8,16,8,16,12,0,16,16,8,4,4,0,16,8,16,8,8,8,16,0,8,0,0,0,0,0,0,8,16,8,8,16,4,8,4,8,16,8,16,8,16,8,8,8,0,0,16,8,8,8,8,8,8,8,4,8,4,8,4,8,8,0,0,4,16,0,8,8,8,8,6,8,8,12,8,8,16,8,8,4,8,8,8,8,4,0,0,0,8,0,8,8,0,0,8,8,8,4,0,4,16,16,0,0,16,8,0,8,0,8,0,8,8,8,8,8,8,0,0,4,0,8,4,8,0,8,0,16,0,0,0,0,0,16,4,8,0,0,0,0,12,8,0,8,8,4,16,8,0,0,16,8,0,0,12,0,8,0,8,0,8,8,8,12,16,0,8,8,0,0,0,0,16,8,8,8,0,0,0,0,8,8,8,8,8,0,0,8,8,16,16,8,16,0,8,8,8,16,8,0,8,4,8,4,0,0,0,0,8,8,8,8,0,12,8,4,0,4,16,4,4,4,4,0,16,0,0,0,0,0,8,0,8,0,0,0,16,8,16,8,12,4,0,8,0,8,8,0,4,8,8,8,8,0,0,4,16,8,0,0,8,8,8,8,8,8,2,8,8,8,8,8,8,0,8,4,8,8,0,0,16,0,8,0,0,0,8,8,2,8,0,8,8,0,8,8,8,0,8,8,8,16,0,8,8,4,8,8,4,8,8,8,8,8,8,0,8,8,16,8,0,0,8,8,8,16,8,8,8,8,0,0,8,0,8,8,0,8,8,0,16,0,8,8,8,8,8,0,0,0,0,8,8,8,8,8,16,16,0,0,0,4,0,0,4,4,4,4,8,4,8,0,8,8,8,8,8,8,8,8,4,8,4,4,0,0,8,0,0,0,0,0,8,8,0,4,0,4,16,8,0,0,0,8,8,8,8,8,8,8,16,8,8,8,12,8,8,8,8,16,6,4,0,8,0,0,0,0,8,8,8,8,12,0,4,8,8,16,8,4,8,8,8,0,8,8,16,8,8,8,0,0,12,16,16,0,8,0,8,0,8,16,8,8,16,8,8,16,0,8,16,0,8,0,12,8,8,4,0,4,8,16,8,8,8,8,8,16,8,8,8,0,8,8,0,8,8,8,8,8,8,8,8,0,8,0,4,8,8,8,8,0,0,0,0,8,0,8,8,8,8,0,0,0,8,8,8,0,8,8,6,8,8,16,8,0,8,4,0,8,8,0,8,4,16,16,8,8,16,8,8,8,8,4,8,16,8,0,8,0,8,16,16,16,16,16,16,16,8,8,16,16,16,8,8,0,0,0,0,0,16,0,0,8,16,0,8,0,0,4,0,0,6,0,4,0,16,16,8,16,8,8,0,4,8,8,8,8,4,8,0,4,0,0,0,16,8,8,0,8,0,8,4,8,8,4,6,8,8,0,8,8,8,8,8,0,0,0,0,0,16,8,16,0,8,0,0,8,16,8,16,8,0,0,0,0,4,8,8,8,8,8,8,8,12,8,8,16,8,0,0,8,8,0,8,4,8,8,8,8,0,0,0,0,8,8,8,8,0,8,8,0,8,8,8,0,8,8,8,8,8,8,2,4,16,0,8,0,0,0,8,8,0,8,0,0,0,8,8,8,8,4,8,6,8,0,8,8,16,8,0,0,8,0,8,8,0,0,8,0,0,0,0,0,0,0,4,16,0,8,0,0,8,0,0,8,8,8,6,16,8,8,8,16,8,8,0,4,8,0,0,8,8,8,4,8,8,4,8,8,8,8,0,0,8,8,8,4,0,8,4,8,16,0,8,8,0,0,8,8,16,8,8,0,8,8,8,8,0,16,16,0,0,8,0,8,8,4,4,8,16,0,8,8,0,8,8,0,8,8,8,0,8,8,0,8,8,8,0,8,16,8,0,0,0,8,0,8,0,0,8,8,8,0,0,8,0,4,0,0,8,4,8,8,4,0,0,0,0,8,4,8,8,8,0,8,0,8,8,0,0,0,0,0,8,8,8,0,8,0,2,16,0,0,0,0,8,16,8,8,8,8,16,8,0,0,0,0,8,8,0,4,12,16,16,0,8,0,0,0,0,8,8,0,16,8,8,16,8,0,8,0,8,12,8,8,8,0,16,0,8,8,8,8,8,16,16,0,8,0,16,0,8,16,8,0,0,0,0,8,8,0,8,8,0,0,0,0,8,8,0,0,4,0,8,0,0,0,0,16,8,8,4,0,0,0,8,8,4,0,8,4,0,8,0,0,8,0,0,0,8,4,0,0,8,8,16,0,16,4,0,6,4,4,4,0,8,8,8,8,0,0,8,0,4,8,8,4,8,2,4,4,0,4,0,0,4,0,0,0,8,6,0,16,8,8,0,0,0,0,4,4,0,0,8,0,4,8,4,8,0,8,0,0,8,4,0,8,8,8,8,4,16,12,8,8,0,0,0,0,8,4,0,8,8,8,8,0,8,0,0,0,8,4,8,4,8,16,8,8,0,8,0,8,4,8,8,8,4,8,8,8,8,8,16,8,0,8,0,0,8,0,8,0,4,4,0,0,4,0,8,0,8,8,4,0,16,8,8,8,0,0,0,0,0,0,0,0,0,8,8,8,8,8,8,8,8,16,8,16,16,8,0,8,0,0,0,0,0,8,0,16,4,2,4,0,12,0,0,0,8,0,0,0,16,0,8,4,0,0,8,0,8,8,8,8,0,8,8,8,0,8,16,8,16,8,0,4,8,8,16,8,0,0,8,0,16,8,8,0,0,0,0,0,8,8,4,0,0,0,8,0,0,8,0,0,0,4,0,0,0,0,0,8,8,8,8,0,8,0,8,8,16,16,0,8,8,6,8,16,0,8,0,0,0,0,8,0,16,0,0,0,0,0,0,0,8,8,8,0,8,16,8,0,8,8,8,8,0,0,16,4,8,8,16,8,0,0,0,0,8,0,0,0,4,8,4,4,8,0,16,0,0,0,0,4,0,0,0,16,0,8,4,6,8,0,0,0,0,0,0,0,0,8,0,0,8,8,4,0,8,4,8,0,8,0,0,0,8,16,0,0,0,0,0,0,8,8,8,8,12,8,4,8,8,8,12,8,16,4,0,4,8,0,0,0,0,0,4,0,8,0,4,0,8,0,4,0,8,8,4,0,16,0,0,0,0,0,8,8,8,8,8,0,0,8,8,0,0,0,0,12,8,8,8,16,8,8,8,16,0,0,0,0,0,0,8,0,8,0,0,0,4,4,8,4,8,8,8,8,8,8,0,0,0,0,0,0,0,8,0,8,0,0,8,0,4,0,0,0,8,8,0,8,16,8,8,0,8,0,0,8,0,0,0,0,8,8,8,8,4,16,4,8,0,0,0,12,16,0,4,0,16,8,6,4,0,0,0,0,0,0,0,0,4,4,16,0,0,0,8,8,16,16,16,8,8,0,8,8,0,0,0,0,0,8,16,8,8,8,8,0,0,0,0,0,8,0,16,0,0,0,8,2,0,0,0,0,4,4,8,8,8,8,8,0,4,12,0,0,16,12,8,0,0,8,6,0,4,8,8,0,8,4,8,8,0,0,0,0,0,0,8,0,0,0,8,4,4,0,0,16,12,8,8,0,0,0,0,0,4,4,4,0,4,0,0,0,0,0,8,16,0,0,0,0,8,8,8,0,8,0,4,0,8,8,0,16,4,0,6,4,4,0,8,4,8,12,4,0,0,0,0,8,0,0,0,8,8,0,8,8,8,16,8,0,8,0,8,0,0,0,0,0,4,4,0,0,4,8,0,0,8,8,0,16,8,8,8,4,8,8,0,0,0,4,16,4,4,0,0,0,0,0,0,0,8,8,0,0,8,4,8,4,8,0,0,0,4,4,0,16,8,16,8,0,16,0,12,16,0,8,8,8,4,0,0,0,4,4,4,8,0,0,0,0,0,8,4,0,0,8,8,4,12,4,8,16,16,8,8,16,4,8,8,8,8,8,4,16,8,0,16,8,16,8,8,8,0,0,0,8,8,4,8,0,8,0,8,8,8,16,6,0,8,8,8,0,8,8,8,8,8,8,0,0,2,0,0,0,8,4,8,0,12,8,12,8,0,8,0,0,0,4,4,0,4,0,0,0,0,0,12,8,0,0,8,0,4,8,8,4,16,0,12,4,4,0,4,0,4,2,0,0,8,8,8,8,0,0,0,0,0,0,0,8,0,8,0,0,0,4,4,2,8,16,16,16,8,8,4,8,8,16,4,8,8,4,0,0,4,8,8,8,0,8,0,4,0,2,0,0,12,0,0,0,0,0,8,0,4,4,4,4,4,8,0,8,0,0,0,0,8,8,8,8,8,8,8,8,8,0,8,8,0,0,8,8,0,8,0,0,8,4,4,4,12,8,0,4,8,0,0,0,8,8,8,8,0,4,12,0,0,4,8,8,4,0,8,8,0,16,8,0,0,0,8,0,8,8,8,8,0,8,8,8,4,8,8,8,8,8,0,0,0,0,0,0,0,8,4,4,4,0,0,16,16,16,0,8,8,8,0,0,16,16,8,8,4,0,0,0,8,16,8,0,8,0,4,8,0,0,4,0,8,8,8,8,0,4,8,8,0,0,0,0,0,0,8,0,4,6,0,4,8,8,0,0,8,0,4,8,8,8,0,8,8,8,8,6,0,0,0,8,8,16,8,8,8,8,4,8,8,4,0,0,0,0,0,0,0,0,8,8,0,0,0,0,8,0,0,8,0,0,0,0,8,16,0,16,8,4,0,0,8,8,16,0,8,4,16,8,16,0,0,0,0,0,0,0,8,8,16,0,16,8,0,8,8,0,0,0,16,8,0,0,8,8,0,0,8,8,8,8,0,8,8,0,0,8,8,0,0,0,8,8,0,0,16,16,4,0,8,0,0,0,0,0,0,0,0,0,0,0,0,0,0,0,0,0,16,16,8,8,0,8,8,0,4,0,0,0,8,4,0,0,0,0,8,0,16,4,8,6,8,0,0,8,0,4,0,0,8,8,8,12,8,0,8,4,0,0,0,4,8,16,8,8,0,8,0,0,8,4,8,0,0,0,0,0,0,0,8,16,8,0,0,0,0,0,0,0,8,0,0,4,8,8,8,8,0,8,0,8,8,4,16,0,8,0,8,8,0,8,16,4,0,0,8,0,8,8,8,12,0,4,0,8,0,8,8,0,0,16,16,8,4,4,8,8,0,0,0,0,8,8,8,8,8,8,0,8,8,8,8,16,0,16,8,8,8,16,16,16,4,8,8,8,0,0,8,0,8,8,8,8,8,8,8,8,0,0,0,0,0,0,0,0,8,16,4,4,0,0,8,8,4,4,4,0,8,8,8,4,16,0,0,0,8,0,0,12,16,4,8,4,4,0,0,0,4,4,4,8,0,0,0,0,16,16,8,4,0,0,0,0,0,0,4,0,8,8,8,8,8,16,16,8,8,0,0,0,0,0,0,0,0,8,8,0,8,4,0,0,8,16,8,8,8,8,8,0,16,8,8,8,8,8,8,0,0,4,4,4,0,0,0,0,12,8,0,8,8,4,0,8,8,0,0,0,8,8,0,0,16,8,0,8,8,8,8,4,16,8,8,8,0,0,0,0,8,16,4,0,0,0,0,0,8,6,8,8,0,0,0,0,0,0,0,0,8,8,8,0,8,8,8,0,4,8,0,8,0,0,0,0,8,8,0,0,16,16,16,16,6,0,0,16,8,0,16,0,8,8,8,8,16,16,8,8,8,16,8,16,4,4,4,4,8,16,0,8,0,12,0,0,8,0,8,8,8,8,8,8,6,8,8,8,0,0,0,0,0,0,0,0,16,8,0,0,8,4,4,0,4,8,8,4,8,8,8,8,8,0,0,4,8,8,8,12,0,0,0,0,8,0,8,0,8,8,8,8,0,0,0,0,8,0,8,2,16,4,4,8,8,8,8,8,4,16,8,0,8,8,0,16,0,0,8,8,0,8,0,8,0,0,0,0,8,8,8,8,8,0,0,0,4,0,8,4,6,8,12,6,8,8,8,8,0,0,0,0,8,8,4,8,16,16,16,8,8,8,8,8,0,0,0,0,16,4,12,8,0,0,0,4,0,0,0,0,8,8,8,8,16,16,4,8,8,4,8,0,8,12,8,0,4,4,0,8,16,0,8,16,8,12,8,0,4,16,4,8,8,8,8,8,8,16,0,12,0,0,8,0,0,0,4,16,16,8,0,8,0,0,16,4,0,0,0,0,0,0,0,0,8,8,0,8,8,4,4,8,16,0,0,16,8,8,8,8,16,8,8,4,8,4,8,8,0,8,0,0,0,0,0,4,0,0,0,0,16,16,8,8,8,8,8,8,8,0,8,0,8,8,4,16,8,8,0,8,0,0,0,0,0,0,8,0,8,8,16,8,8,8,8,8,8,8,8,6,0,0,0,0,0,0,0,0,8,8,8,12,8,8,8,8,0,0,0,0,0,0,0,0,0,0,0,0,8,8,0,4,8,0,0,4,8,8,16,0,8,8,8,0,8,8,8,0,8,8,8,8,8,0,0,8,8,8,8,8,0,0,0,0,8,16,4,0,8,0,0,0,4,8,0,16,12,12,8,8,8,8,0,8,8,8,8,0,8,0,0,0,4,12,8,0,8,0,8,8,0,0,0,0,0,0,4,0,8,8,8,0,8,16,8,4,8,8,16,16,0,8,0,16,8,0,8,8,4,8,8,8,16,0,8,8,0,8,0,16,8,0,8,8,8,8,8,8,16,8,0,0,16,16,0,0,0,0,8,8,8,0,4,8,4,0,0,8,8,8,16,0,8,0,8,0,8,8,0,8,8,8,8,8,0,4,8,0,4,0,16,0,4,4,8,8,0,0,0,8,0,0,0,0,16,8,8,8,8,8,8,8,8,0,0,0,4,0,2,0,8,8,8,16,12,8,8,8,8,8,8,8,8,0,0,0,8,8,4,0,4,0,8,0,0,8,0,0,12,8,4,6,0,8,8,8,0,8,8,0,2,0,8,8,0,0,16,0,16,12,8,8,8,8,12,8,4,8,4,4,0,0,8,8,8,4,8,4,0,0,0,0,0,8,8,0,8,4,8,6,0,0,0,0,8,8,0,8,8,16,8,8,8,4,16,8,0,16,0,16,4,0,8,0,0,0,0,0,8,0,0,0,16,0,8,4,0,8,8,0,4,0,0,0,8,8,8,4,8,16,8,8,8,8,8,8,8,8,8,8,0,0,0,0,0,8,4,0,12,16,4,8,0,8,8,4,16,0,0,0,0,12,16,0,8,0,0,8,0,8,8,0,8,8,4,0,8,4,8,8,0,8,0,0,4,0,0,0,0,8,8,16,0,0,8,0,0,0,2,0,0,0,4,8,4,0,0,0,0,0,0,0,8,8,8,8,8,8,8,0,0,0,0,0,0,0,2,8,8,0,0,8,8,8,8,8,0,0,0,12,0,0,0,8,0,0,0,0,16,0,8,6,8,0,0,8,0,8,0,8,0,0,0,0,8,8,4,8,0,0,0,0,8,8,16,8,0,0,0,0,0,0,0,8,0,0,8,0,0,0,0,0,0,0,0,0,16,8,0,0,2,4,8,0,8,0,0,0,0,0,0,8,8,16,8,8,0,8,4,0,8,4,6,0,0,8,0,8,0,0,0,0,0,4,0,0,0,8,0,0,16,8,8,0,8,0,4,8,16,0,8,8,0,0,0,0,16,8,8,8,8,16,8,8,0,0,4,4,4,0,0,0,4,0,0,0,8,8,0,16,0,0,8,4,0,0,0,0,8,16,16,12,4,4,8,8,0,0,0,8,8,8,8,8,8,0,0,0,8,8,8,0,8,12,8,4,8,8,4,4,0,0,0,0,0,8,0,8,0,8,8,0,4,8,4,4,8,8,0,0,0,0,0,0,8,8,0,0,0,8,0,8,8,8,8,8,8,0,2,0,8,8,0,8,0,0,0,0,8,16,8,0,8,0,0,0,16,4,0,0,8,16,0,8,8,0,8,8,0,0,0,0,0,0,0,0,8,8,12,8,0,0,16,8,8,4,0,4,4,4,0,4,0,0,0,0,4,16,4,0,16,0,0,0,0,0,0,0,0,4,8,0,8,0,6,0,16,0,8,12,0,0,0,0,0,0,16,0,8,0,0,0,0,8,8,0,16,8,0,0,4,0,0,0,8,0,8,8,0,0,0,0,0,0,0,8,8,8,0,8,4,0,0,8,8,0,16,8,0,8,16,16,0,16,0,0,8,16,8,0,0,8,2,8,8,8,8,8,8,8,8,8,8,8,8,8,8,16,8,0,8,8,4,16,12,12,12,12,8,8,0,8,8,8,8,8,0,0,8,0,16,6,8,8,0,0,0,0,0,0,0,16,16,16,16,16,0,0,0,0,0,0,0,0,4,0,4,0,8,0,8,0,0,0,0,8,0,0,8,8,0,0,0,8,8,0,0,8,0,0,0,0,0,0,0,0,16,0,0,0,8,4,0,4,0,4,0,4,4,16,8,8,0,0,8,8,0,8,8,4,8,16,16,8,8,8,8,0,0,0,0,0,8,8,0,0,8,16,8,8,8,8,8,0,0,0,0,0,4,0,0,8,8,8,0,8,8,8,0,8,0,0,0,0,0,0,0,8,4,0,0,0,0,12,8,0,8,4,4,0,0,4,8,0,6,6,4,6,0,8,4,8,16,0,0,0,0,0,0,0,0,0,0,0,0,0,0,0,0,0,0,0,8,0,0,8,8,16,16,0,8,16,8,8,6,0,0,0,8,0,0,0,8,0,8,0,0,0,0,0,8,0,0,0,0,0,0,0,8,0,4,8,0,0,0,0,8,0,0,0,16,16,8,8,4,16,8,8,2,8,2,2,4,8,0,0,16,8,4,0,8,12,0,8,0,0,16,0,0,0,0,0,0,0,0,0,8,4,8,0,16,0,0,0,8,0,8,8,8,0,8,8,0,0,0,0,0,0,0,0,16,4,8,4,0,0,0,12,8,16,8,8,0,0,8,8,8,8,4,8,8,8,4,8,8,2,8,0,0,4,0,2,0,4,0,0,16,4,16,8,0,0,0,0,0,0,0,0,8,8,6,8,4,8,8,0,0,8,8,0,0,0,4,0,0,0,0,0,0,8,0,0,16,0,0,0,0,0,0,0,0,8,0,4,0,0,0,0,12,0,0,8,0,0,0,0,0,0,0,0,0,0,0,0,0,0,0,0,8,8,8,8,0,0,0,0,8,0,16,0,0,0,0,0,0,0,0,0,8,4,0,0,8,8,8,8,8,0,0,8,0,0,0,0,0,0,0,0,0,0,0,0,0,0,0,0,0,0,0,0,0,0,0,0,0,0,0,0,0,0,4,0,8,0,0,0,0,8,0,16,0,0,0,0,16,8,0,8,0,0,8,8,8,8,6,6,6,0,0,0,8,8,0,0,8,8,16,4,16,8,8,16,8,0,2,0,12,8,16,0,16,16,8,16,4,8,0,8,0,4,0,0,16,0,8,8,0,8,0,0,0,16,0,0,0,8,8,0,6,8,8,8,0,0,0,0,0,8,8,8,0,4,0,0,16,8,8,0,0,8,8,8,4,4,0,8,8,0,8,0,0,0,0,0,0,0,0,0,8,0,4,0,4,2,2,2,8,8,8,4,0,8,8,8,8,8,8,8,4,4,8,4,8,0,0,16,4,8,4,8,16,8,0,8,4,4,4,4,0,0,0,0,8,8,8,8,0,0,0,0,0,0,0,0,4,4,16,8,8,0,8,0,0,0,0,0,0,0,0,0,6,0,0,4,8,0,0,8,8,0,0,8,8,0,16,16,8,0,16,8,8,0,0,0,8,0,8,0,16,16,8,0,8,0,16,0,4,0,0,0,16,8,0,0,4,4,8,8,8,8,8,8,8,0,8,4,0,0,0,0,0,0,0,0,8,12,0,0,8,8,8,0,0,0,0,0,0,8,0,0,0,0,0,0,4,4,8,8,16,2,8,8,4,0,0,0,0,8,8,8,0,0,8,0,8,8,0,8,0,8,8,0,0,8,16,8,0,0,8,4,8,0,8,8,0,0,0,0,8,8,8,8,0,8,8,4,8,16,8,8,0,0,0,0,0,0,0,8,8,8,0,8,0,16,16,8,8,8,0,16,0,0,0,0,4,0,4,8,8,0,8,8,4,0,0,0,0,0,8,0,8,0,0,8,0,0,0,8,0,0,0,0,8,12,16,8,8,0,0,4,8,0,8,0,0,8,8,8,0,0,8,0,4,8,4,8,8,0,0,0,8,8,8,0,0,12,0,16,8,0,8,0,16,0,0,0,16,0,0,0,4,4,0,0,8,16,8,16,8,8,4,8,0,0,0,0,0,16,0,16,8,8,8,0,4,8,8,8,8,8,0,8,0,8,8,4,0,8,0,0,0,0,0,0,8,8,0,0,8,8,8,0,0,8,6,12,8,8,8,8,8,8,0,8,8,0,0,0,0,12,0,0,0,0,0,0,8,0,8,8,8,8,8,0,8,8,4,8,8,8,0,8,8,8,2,0,8,8,8,0,0,0,2,0,4,0,0,0,8,0,8,8,8,8,0,0,16,4,16,8,8,0,8,0,8,0,0,0,0,0,4,0,8,16,12,16,0,0,0,0,0,0,0,0,0,0,0,8,8,16,8,8,0,8,0,16,0,0,0,0,12,4,8,0,8,8,0,8,4,0,8,0,8,4,8,0,0,0,0,0,0,0,0,0,0,0,0,0],\"xaxis\":\"x\",\"yaxis\":\"y\",\"type\":\"histogram\"}],                        {\"template\":{\"data\":{\"bar\":[{\"error_x\":{\"color\":\"#2a3f5f\"},\"error_y\":{\"color\":\"#2a3f5f\"},\"marker\":{\"line\":{\"color\":\"#E5ECF6\",\"width\":0.5},\"pattern\":{\"fillmode\":\"overlay\",\"size\":10,\"solidity\":0.2}},\"type\":\"bar\"}],\"barpolar\":[{\"marker\":{\"line\":{\"color\":\"#E5ECF6\",\"width\":0.5},\"pattern\":{\"fillmode\":\"overlay\",\"size\":10,\"solidity\":0.2}},\"type\":\"barpolar\"}],\"carpet\":[{\"aaxis\":{\"endlinecolor\":\"#2a3f5f\",\"gridcolor\":\"white\",\"linecolor\":\"white\",\"minorgridcolor\":\"white\",\"startlinecolor\":\"#2a3f5f\"},\"baxis\":{\"endlinecolor\":\"#2a3f5f\",\"gridcolor\":\"white\",\"linecolor\":\"white\",\"minorgridcolor\":\"white\",\"startlinecolor\":\"#2a3f5f\"},\"type\":\"carpet\"}],\"choropleth\":[{\"colorbar\":{\"outlinewidth\":0,\"ticks\":\"\"},\"type\":\"choropleth\"}],\"contour\":[{\"colorbar\":{\"outlinewidth\":0,\"ticks\":\"\"},\"colorscale\":[[0.0,\"#0d0887\"],[0.1111111111111111,\"#46039f\"],[0.2222222222222222,\"#7201a8\"],[0.3333333333333333,\"#9c179e\"],[0.4444444444444444,\"#bd3786\"],[0.5555555555555556,\"#d8576b\"],[0.6666666666666666,\"#ed7953\"],[0.7777777777777778,\"#fb9f3a\"],[0.8888888888888888,\"#fdca26\"],[1.0,\"#f0f921\"]],\"type\":\"contour\"}],\"contourcarpet\":[{\"colorbar\":{\"outlinewidth\":0,\"ticks\":\"\"},\"type\":\"contourcarpet\"}],\"heatmap\":[{\"colorbar\":{\"outlinewidth\":0,\"ticks\":\"\"},\"colorscale\":[[0.0,\"#0d0887\"],[0.1111111111111111,\"#46039f\"],[0.2222222222222222,\"#7201a8\"],[0.3333333333333333,\"#9c179e\"],[0.4444444444444444,\"#bd3786\"],[0.5555555555555556,\"#d8576b\"],[0.6666666666666666,\"#ed7953\"],[0.7777777777777778,\"#fb9f3a\"],[0.8888888888888888,\"#fdca26\"],[1.0,\"#f0f921\"]],\"type\":\"heatmap\"}],\"heatmapgl\":[{\"colorbar\":{\"outlinewidth\":0,\"ticks\":\"\"},\"colorscale\":[[0.0,\"#0d0887\"],[0.1111111111111111,\"#46039f\"],[0.2222222222222222,\"#7201a8\"],[0.3333333333333333,\"#9c179e\"],[0.4444444444444444,\"#bd3786\"],[0.5555555555555556,\"#d8576b\"],[0.6666666666666666,\"#ed7953\"],[0.7777777777777778,\"#fb9f3a\"],[0.8888888888888888,\"#fdca26\"],[1.0,\"#f0f921\"]],\"type\":\"heatmapgl\"}],\"histogram\":[{\"marker\":{\"pattern\":{\"fillmode\":\"overlay\",\"size\":10,\"solidity\":0.2}},\"type\":\"histogram\"}],\"histogram2d\":[{\"colorbar\":{\"outlinewidth\":0,\"ticks\":\"\"},\"colorscale\":[[0.0,\"#0d0887\"],[0.1111111111111111,\"#46039f\"],[0.2222222222222222,\"#7201a8\"],[0.3333333333333333,\"#9c179e\"],[0.4444444444444444,\"#bd3786\"],[0.5555555555555556,\"#d8576b\"],[0.6666666666666666,\"#ed7953\"],[0.7777777777777778,\"#fb9f3a\"],[0.8888888888888888,\"#fdca26\"],[1.0,\"#f0f921\"]],\"type\":\"histogram2d\"}],\"histogram2dcontour\":[{\"colorbar\":{\"outlinewidth\":0,\"ticks\":\"\"},\"colorscale\":[[0.0,\"#0d0887\"],[0.1111111111111111,\"#46039f\"],[0.2222222222222222,\"#7201a8\"],[0.3333333333333333,\"#9c179e\"],[0.4444444444444444,\"#bd3786\"],[0.5555555555555556,\"#d8576b\"],[0.6666666666666666,\"#ed7953\"],[0.7777777777777778,\"#fb9f3a\"],[0.8888888888888888,\"#fdca26\"],[1.0,\"#f0f921\"]],\"type\":\"histogram2dcontour\"}],\"mesh3d\":[{\"colorbar\":{\"outlinewidth\":0,\"ticks\":\"\"},\"type\":\"mesh3d\"}],\"parcoords\":[{\"line\":{\"colorbar\":{\"outlinewidth\":0,\"ticks\":\"\"}},\"type\":\"parcoords\"}],\"pie\":[{\"automargin\":true,\"type\":\"pie\"}],\"scatter\":[{\"marker\":{\"colorbar\":{\"outlinewidth\":0,\"ticks\":\"\"}},\"type\":\"scatter\"}],\"scatter3d\":[{\"line\":{\"colorbar\":{\"outlinewidth\":0,\"ticks\":\"\"}},\"marker\":{\"colorbar\":{\"outlinewidth\":0,\"ticks\":\"\"}},\"type\":\"scatter3d\"}],\"scattercarpet\":[{\"marker\":{\"colorbar\":{\"outlinewidth\":0,\"ticks\":\"\"}},\"type\":\"scattercarpet\"}],\"scattergeo\":[{\"marker\":{\"colorbar\":{\"outlinewidth\":0,\"ticks\":\"\"}},\"type\":\"scattergeo\"}],\"scattergl\":[{\"marker\":{\"colorbar\":{\"outlinewidth\":0,\"ticks\":\"\"}},\"type\":\"scattergl\"}],\"scattermapbox\":[{\"marker\":{\"colorbar\":{\"outlinewidth\":0,\"ticks\":\"\"}},\"type\":\"scattermapbox\"}],\"scatterpolar\":[{\"marker\":{\"colorbar\":{\"outlinewidth\":0,\"ticks\":\"\"}},\"type\":\"scatterpolar\"}],\"scatterpolargl\":[{\"marker\":{\"colorbar\":{\"outlinewidth\":0,\"ticks\":\"\"}},\"type\":\"scatterpolargl\"}],\"scatterternary\":[{\"marker\":{\"colorbar\":{\"outlinewidth\":0,\"ticks\":\"\"}},\"type\":\"scatterternary\"}],\"surface\":[{\"colorbar\":{\"outlinewidth\":0,\"ticks\":\"\"},\"colorscale\":[[0.0,\"#0d0887\"],[0.1111111111111111,\"#46039f\"],[0.2222222222222222,\"#7201a8\"],[0.3333333333333333,\"#9c179e\"],[0.4444444444444444,\"#bd3786\"],[0.5555555555555556,\"#d8576b\"],[0.6666666666666666,\"#ed7953\"],[0.7777777777777778,\"#fb9f3a\"],[0.8888888888888888,\"#fdca26\"],[1.0,\"#f0f921\"]],\"type\":\"surface\"}],\"table\":[{\"cells\":{\"fill\":{\"color\":\"#EBF0F8\"},\"line\":{\"color\":\"white\"}},\"header\":{\"fill\":{\"color\":\"#C8D4E3\"},\"line\":{\"color\":\"white\"}},\"type\":\"table\"}]},\"layout\":{\"annotationdefaults\":{\"arrowcolor\":\"#2a3f5f\",\"arrowhead\":0,\"arrowwidth\":1},\"autotypenumbers\":\"strict\",\"coloraxis\":{\"colorbar\":{\"outlinewidth\":0,\"ticks\":\"\"}},\"colorscale\":{\"diverging\":[[0,\"#8e0152\"],[0.1,\"#c51b7d\"],[0.2,\"#de77ae\"],[0.3,\"#f1b6da\"],[0.4,\"#fde0ef\"],[0.5,\"#f7f7f7\"],[0.6,\"#e6f5d0\"],[0.7,\"#b8e186\"],[0.8,\"#7fbc41\"],[0.9,\"#4d9221\"],[1,\"#276419\"]],\"sequential\":[[0.0,\"#0d0887\"],[0.1111111111111111,\"#46039f\"],[0.2222222222222222,\"#7201a8\"],[0.3333333333333333,\"#9c179e\"],[0.4444444444444444,\"#bd3786\"],[0.5555555555555556,\"#d8576b\"],[0.6666666666666666,\"#ed7953\"],[0.7777777777777778,\"#fb9f3a\"],[0.8888888888888888,\"#fdca26\"],[1.0,\"#f0f921\"]],\"sequentialminus\":[[0.0,\"#0d0887\"],[0.1111111111111111,\"#46039f\"],[0.2222222222222222,\"#7201a8\"],[0.3333333333333333,\"#9c179e\"],[0.4444444444444444,\"#bd3786\"],[0.5555555555555556,\"#d8576b\"],[0.6666666666666666,\"#ed7953\"],[0.7777777777777778,\"#fb9f3a\"],[0.8888888888888888,\"#fdca26\"],[1.0,\"#f0f921\"]]},\"colorway\":[\"#636efa\",\"#EF553B\",\"#00cc96\",\"#ab63fa\",\"#FFA15A\",\"#19d3f3\",\"#FF6692\",\"#B6E880\",\"#FF97FF\",\"#FECB52\"],\"font\":{\"color\":\"#2a3f5f\"},\"geo\":{\"bgcolor\":\"white\",\"lakecolor\":\"white\",\"landcolor\":\"#E5ECF6\",\"showlakes\":true,\"showland\":true,\"subunitcolor\":\"white\"},\"hoverlabel\":{\"align\":\"left\"},\"hovermode\":\"closest\",\"mapbox\":{\"style\":\"light\"},\"paper_bgcolor\":\"white\",\"plot_bgcolor\":\"#E5ECF6\",\"polar\":{\"angularaxis\":{\"gridcolor\":\"white\",\"linecolor\":\"white\",\"ticks\":\"\"},\"bgcolor\":\"#E5ECF6\",\"radialaxis\":{\"gridcolor\":\"white\",\"linecolor\":\"white\",\"ticks\":\"\"}},\"scene\":{\"xaxis\":{\"backgroundcolor\":\"#E5ECF6\",\"gridcolor\":\"white\",\"gridwidth\":2,\"linecolor\":\"white\",\"showbackground\":true,\"ticks\":\"\",\"zerolinecolor\":\"white\"},\"yaxis\":{\"backgroundcolor\":\"#E5ECF6\",\"gridcolor\":\"white\",\"gridwidth\":2,\"linecolor\":\"white\",\"showbackground\":true,\"ticks\":\"\",\"zerolinecolor\":\"white\"},\"zaxis\":{\"backgroundcolor\":\"#E5ECF6\",\"gridcolor\":\"white\",\"gridwidth\":2,\"linecolor\":\"white\",\"showbackground\":true,\"ticks\":\"\",\"zerolinecolor\":\"white\"}},\"shapedefaults\":{\"line\":{\"color\":\"#2a3f5f\"}},\"ternary\":{\"aaxis\":{\"gridcolor\":\"white\",\"linecolor\":\"white\",\"ticks\":\"\"},\"baxis\":{\"gridcolor\":\"white\",\"linecolor\":\"white\",\"ticks\":\"\"},\"bgcolor\":\"#E5ECF6\",\"caxis\":{\"gridcolor\":\"white\",\"linecolor\":\"white\",\"ticks\":\"\"}},\"title\":{\"x\":0.05},\"xaxis\":{\"automargin\":true,\"gridcolor\":\"white\",\"linecolor\":\"white\",\"ticks\":\"\",\"title\":{\"standoff\":15},\"zerolinecolor\":\"white\",\"zerolinewidth\":2},\"yaxis\":{\"automargin\":true,\"gridcolor\":\"white\",\"linecolor\":\"white\",\"ticks\":\"\",\"title\":{\"standoff\":15},\"zerolinecolor\":\"white\",\"zerolinewidth\":2}}},\"xaxis\":{\"anchor\":\"y\",\"domain\":[0.0,1.0],\"title\":{\"text\":\"memory\"}},\"yaxis\":{\"anchor\":\"x\",\"domain\":[0.0,1.0],\"title\":{\"text\":\"count\"}},\"legend\":{\"tracegroupgap\":0},\"margin\":{\"t\":60},\"barmode\":\"relative\"},                        {\"responsive\": true}                    ).then(function(){\n",
              "                            \n",
              "var gd = document.getElementById('0d69b90e-4f72-40dc-a0e7-66d6a36131a6');\n",
              "var x = new MutationObserver(function (mutations, observer) {{\n",
              "        var display = window.getComputedStyle(gd).display;\n",
              "        if (!display || display === 'none') {{\n",
              "            console.log([gd, 'removed!']);\n",
              "            Plotly.purge(gd);\n",
              "            observer.disconnect();\n",
              "        }}\n",
              "}});\n",
              "\n",
              "// Listen for the removal of the full notebook cells\n",
              "var notebookContainer = gd.closest('#notebook-container');\n",
              "if (notebookContainer) {{\n",
              "    x.observe(notebookContainer, {childList: true});\n",
              "}}\n",
              "\n",
              "// Listen for the clearing of the current output cell\n",
              "var outputEl = gd.closest('.output');\n",
              "if (outputEl) {{\n",
              "    x.observe(outputEl, {childList: true});\n",
              "}}\n",
              "\n",
              "                        })                };                            </script>        </div>\n",
              "</body>\n",
              "</html>"
            ]
          },
          "metadata": {}
        }
      ]
    },
    {
      "cell_type": "code",
      "source": [
        "fig = px.histogram(comp_specs_Details, x=\"Single core score\")\n",
        "fig.show()"
      ],
      "metadata": {
        "colab": {
          "base_uri": "https://localhost:8080/",
          "height": 542
        },
        "id": "WCZb5Z8CzC89",
        "outputId": "48cc1dad-9067-4fa0-f7ee-46ced20bfc2f"
      },
      "execution_count": 177,
      "outputs": [
        {
          "output_type": "display_data",
          "data": {
            "text/html": [
              "<html>\n",
              "<head><meta charset=\"utf-8\" /></head>\n",
              "<body>\n",
              "    <div>            <script src=\"https://cdnjs.cloudflare.com/ajax/libs/mathjax/2.7.5/MathJax.js?config=TeX-AMS-MML_SVG\"></script><script type=\"text/javascript\">if (window.MathJax) {MathJax.Hub.Config({SVG: {font: \"STIX-Web\"}});}</script>                <script type=\"text/javascript\">window.PlotlyConfig = {MathJaxConfig: 'local'};</script>\n",
              "        <script src=\"https://cdn.plot.ly/plotly-2.8.3.min.js\"></script>                <div id=\"27f8d43f-ab75-4232-9242-8b019367aca2\" class=\"plotly-graph-div\" style=\"height:525px; width:100%;\"></div>            <script type=\"text/javascript\">                                    window.PLOTLYENV=window.PLOTLYENV || {};                                    if (document.getElementById(\"27f8d43f-ab75-4232-9242-8b019367aca2\")) {                    Plotly.newPlot(                        \"27f8d43f-ab75-4232-9242-8b019367aca2\",                        [{\"alignmentgroup\":\"True\",\"bingroup\":\"x\",\"hovertemplate\":\"Single core score=%{x}<br>count=%{y}<extra></extra>\",\"legendgroup\":\"\",\"marker\":{\"color\":\"#636efa\",\"pattern\":{\"shape\":\"\"}},\"name\":\"\",\"offsetgroup\":\"\",\"orientation\":\"v\",\"showlegend\":false,\"x\":[1142,543,836,601,1060,549,416,590,809,1182,847,770,686,1003,624,827,1004,422,657,1121,834,827,767,559,973,877,684,1273,769,797,454,792,1044,667,424,289,1150,417,263,933,493,1232,657,0,632,1039,895,722,805,1039,1085,1038,325,1100,988,403,855,495,861,1011,1057,886,1128,1148,1114,1114,1114,1114,1096,733,892,788,794,914,1086,1031,815,804,904,622,545,296,446,0,860,935,718,363,1186,1053,969,321,967,1077,463,1068,551,386,322,238,1291,893,701,831,1048,643,692,313,1015,617,1063,928,980,0,591,748,765,470,799,186,323,452,768,825,569,913,869,367,522,0,437,833,0,0,0,0,1140,877,817,719,521,819,921,872,348,666,0,411,632,558,439,846,815,991,1007,1078,603,0,995,0,917,753,720,781,1054,716,714,1031,805,1148,957,393,820,0,494,446,1066,583,799,1016,1066,1184,710,994,464,358,966,795,1086,702,440,1105,747,1086,1191,855,1128,838,851,501,911,644,740,990,777,561,660,471,892,818,813,472,1031,965,442,927,0,0,761,0,0,694,350,966,783,809,531,932,657,254,481,0,934,898,467,711,811,882,350,1017,665,822,964,922,0,1032,946,986,417,0,1249,0,454,932,766,619,1233,1057,1053,423,607,530,0,855,975,863,729,520,758,979,588,803,1136,789,654,498,652,494,704,866,0,0,0,0,253,783,1112,614,1132,1033,577,387,902,609,964,942,0,620,503,0,432,609,414,922,888,0,917,1080,1078,602,1101,1037,912,790,588,863,1047,1067,934,877,289,509,0,0,1062,922,963,982,451,796,972,655,1359,660,866,927,1186,1102,0,1050,455,0,1130,1098,816,1000,794,904,974,970,674,373,0,1096,1111,608,765,1051,0,757,0,0,229,496,969,917,0,604,1009,0,846,0,466,658,663,403,0,0,0,0,990,1298,305,597,713,833,335,1003,703,798,111,1093,1162,1737,893,944,343,1697,541,397,706,1141,0,750,599,1348,472,840,398,862,842,891,1104,397,350,0,1066,935,1113,830,971,582,1044,794,585,0,0,0,874,0,0,657,535,1044,543,1107,276,871,238,722,957,1157,780,837,1107,624,715,872,460,799,334,837,913,778,1331,720,463,631,979,790,675,991,530,505,985,0,0,830,1038,460,1095,997,1052,929,838,867,1039,604,1157,974,1181,739,530,615,454,0,758,973,486,352,854,562,1241,680,1168,450,523,0,720,1044,536,345,641,993,528,1126,345,526,0,1058,0,1052,505,701,419,1289,359,470,757,1101,0,1016,622,926,767,524,607,1125,882,375,472,536,0,0,0,0,354,668,457,175,618,878,979,722,892,1102,730,721,732,339,563,397,407,1210,847,861,839,0,1081,1017,890,735,822,670,234,570,385,588,1063,917,915,845,0,0,0,0,1274,653,594,704,0,0,0,0,899,0,580,0,913,549,0,1011,550,1067,1172,471,1073,679,905,1187,1007,1211,754,803,1203,526,690,454,0,0,0,0,1072,1234,652,412,992,645,901,898,0,1002,1313,647,502,502,364,1046,0,1104,1358,685,0,0,1116,0,986,501,803,990,1018,1064,793,1021,633,491,500,762,912,889,1060,604,563,1087,1155,1725,879,942,0,621,548,1157,0,0,895,946,939,0,875,567,841,1009,634,537,1088,1720,339,218,1142,416,396,646,0,0,952,0,790,0,0,0,904,521,223,911,607,953,869,545,1021,1284,734,928,894,1060,1041,1048,839,1028,851,958,935,1051,683,1059,984,907,855,1050,1059,972,0,1089,0,497,501,769,1075,831,499,1058,196,859,1329,559,395,1028,1720,683,356,584,668,389,1054,0,1041,796,1055,1717,387,1327,624,264,784,916,1044,911,1033,0,574,627,1018,1129,656,613,687,171,1231,0,336,334,317,283,0,540,503,0,299,0,789,633,923,898,1101,441,523,1084,748,358,739,457,588,1092,1008,524,625,734,1242,989,536,286,400,1272,1710,1016,0,377,834,1069,788,755,1037,804,1029,937,958,937,1037,697,844,1026,544,497,902,874,812,628,646,640,1047,382,414,407,855,953,1006,1028,701,0,414,972,1056,1228,1039,828,1317,669,689,871,1057,927,1081,1060,973,504,0,0,0,918,1575,756,670,973,1013,0,408,555,441,923,1096,645,918,676,0,928,1108,884,807,1082,609,1198,899,488,0,226,887,0,940,505,1036,1049,1112,1153,527,1033,1739,1039,893,664,988,904,479,983,944,620,1146,911,1118,0,868,1094,279,478,854,737,341,694,0,0,0,1087,836,1103,322,1076,1076,458,0,1121,323,607,814,701,674,1712,497,1687,473,206,538,0,1051,415,0,877,590,0,998,532,1037,869,940,1202,1124,607,472,447,1050,604,680,1252,1134,572,1059,0,1139,1070,624,952,0,1051,659,1103,1062,913,1300,1291,260,0,0,0,0,0,0,0,949,770,566,681,1157,773,828,1030,0,462,0,0,715,849,1018,0,748,1032,815,716,411,807,389,320,431,501,873,763,1164,923,855,470,373,1205,773,723,503,862,1218,228,922,1033,237,539,550,452,618,852,343,412,1129,983,1040,395,1068,0,677,0,682,0,1314,0,1254,749,685,1017,360,880,1472,623,1128,686,0,0,0,0,489,1064,1000,785,739,229,1258,456,588,1076,898,1047,529,1101,674,1336,1106,1159,1137,694,969,1213,508,1043,0,0,282,0,857,624,956,929,0,858,384,0,630,743,1093,386,357,357,1132,344,1365,540,825,515,965,0,898,0,454,454,807,396,0,452,0,1073,711,0,0,903,830,546,700,462,1072,0,1087,1327,809,1145,0,1109,841,0,693,817,860,137,876,1015,928,975,505,0,1734,1736,1086,918,185,1081,568,487,973,529,331,803,679,864,613,748,970,1065,858,1237,441,1162,502,778,1057,816,453,1732,935,1276,760,1044,0,496,974,786,521,830,986,527,1104,1002,1048,312,648,1065,487,499,593,0,543,578,472,551,676,786,1069,558,973,1009,834,638,1028,377,540,1000,1252,1204,0,1255,0,0,450,611,390,1114,629,667,662,481,590,608,696,0,1195,907,755,1125,1342,1342,601,956,1294,1064,0,1152,896,1144,0,0,98,752,940,666,0,0,689,0,817,0,0,688,0,198,0,0,1082,566,1082,1218,0,0,1092,542,898,677,536,163,0,585,0,786,780,1164,1035,837,934,0,0,0,1137,411,728,733,896,358,534,862,0,0,0,0,329,906,1070,442,822,683,355,603,598,1047,351,540,1221,997,527,223,666,680,1008,1039,940,420,729,218,165,853,701,1092,1218,1172,1032,809,409,0,627,704,1246,884,1329,759,441,238,506,1474,524,639,676,971,816,938,859,0,1013,0,1071,0,785,1301,910,979,795,1011,681,841,979,608,316,788,624,0,275,633,598,387,495,698,328,970,1233,987,970,926,1098,1300,1010,728,479,695,786,0,708,876,265,503,719,1039,0,983,648,1319,361,0,0,0,1268,946,0,208,973,912,874,0,1362,234,0,974,549,524,386,0,1193,864,798,1038,470,584,490,623,620,425,1202,231,847,352,628,463,1132,501,0,0,357,0,368,0,1143,609,1739,1169,558,1220,0,621,0,0,514,522,506,1095,1074,832,215,455,574,654,1188,652,1188,1188,916,853,396,1077,381,444,478,538,1074,460,799,1002,0,0,0,0,1106,274,856,446,969,0,887,0,950,740,656,575,481,381,1030,588,385,929,852,1129,199,836,956,623,725,1298,533,1119,379,950,716,1037,795,987,1362,1248,0,1346,0,0,793,599,743,0,266,374,0,0,893,0,992,0,941,746,867,932,1190,1031,313,578,866,705,455,220,0,0,0,0,658,641,972,965,1063,842,772,1008,638,769,308,657,1047,1037,354,1038,0,0,0,0,0,757,0,868,556,281,137,608,706,0,307,0,651,0,0,0,901,436,876,836,840,382,1141,1175,833,935,969,1344,1053,638,1096,979,875,1014,1041,1741,629,748,220,709,671,976,1073,446,0,0,1074,0,1364,932,452,0,0,0,0,0,1049,723,510,341,941,0,701,532,539,707,1049,630,0,320,0,0,823,660,1167,859,986,1333,0,0,1094,0,868,595,1014,652,289,790,1733,724,381,1137,0,1157,0,0,0,0,1073,0,741,0,0,0,0,0,0,0,874,1044,548,0,890,1313,1034,1319,1344,688,602,1034,680,1434,967,609,399,300,1134,942,760,1209,1132,517,656,0,0,701,529,514,930,0,575,603,1109,910,0,1155,856,245,1072,0,488,1255,871,286,463,523,1001,896,0,0,835,0,963,0,0,638,0,0,770,735,541,0,1330,123,988,0,0,0,0,0,741,942,0,983,0,0,0,0,358,784,1144,447,513,879,468,553,391,556,405,536,492,614,466,513,491,0,0,344,360,927,0,655,934,0,531,403,996,0,510,1057,822,494,0,0,1193,0,0,0,265,1047,1101,660,570,993,783,1081,1016,625,969,0,823,0,401,562,774,538,974,969,869,1741,1068,876,0,0,453,0,1139,203,1153,943,701,0,563,766,703,457,754,883,680,545,448,555,812,747,626,363,0,0,0,0,866,506,270,441,0,0,490,0,270,0,0,0,492,884,813,703,1005,523,0,249,821,384,767,265,749,0,0,0,1112,1069,498,0,578,364,310,636,736,545,1249,540,957,0,0,0,710,715,427,464,687,409,725,0,0,0,0,0,503,0,1310,441,652,1035,1003,1020,543,924,1256,853,733,0,665,709,800,920,659,464,450,777,0,615,1110,882,975,0,811,484,1012,646,1084,0,816,679,1122,269,915,0,1095,342,924,681,570,622,971,458,669,1013,759,0,262,0,361,684,847,478,705,842,469,942,498,923,596,921,1069,1036,657,645,645,1070,977,623,199,1126,0,0,983,0,429,460,428,280,533,0,0,1588,754,638,1107,724,0,0,0,0,328,309,321,0,0,0,0,0,0,0,859,878,0,0,0,0,780,1052,1224,0,915,0,980,0,0,477,0,0,658,0,524,924,592,376,628,399,980,523,294,868,617,0,0,980,647,188,1041,452,0,0,735,771,1195,811,600,359,336,543,1028,733,0,0,0,0,258,322,0,0,502,527,0,665,826,689,988,840,993,873,1057,585,810,1133,1023,943,580,714,1177,561,309,0,0,0,841,0,0,572,962,649,677,0,639,912,520,967,969,1252,0,1068,306,335,0,287,983,510,1058,0,830,875,375,1216,923,613,808,881,465,0,0,0,710,245,504,939,767,0,0,0,1073,982,444,610,1168,915,1069,538,975,940,1011,848,1089,679,938,878,823,904,457,1111,749,1063,471,1204,1053,938,908,1735,1243,873,1049,1147,987,776,874,1039,752,222,1049,473,425,983,983,209,519,1115,531,0,521,1101,871,419,975,813,887,853,0,1090,0,0,266,0,0,0,610,916,929,0,384,943,352,1053,527,1004,668,842,1302,0,221,583,335,0,0,0,539,1187,0,374,0,0,739,0,381,968,503,584,438,0,459,468,582,0,508,0,552,226,550,219,918,599,700,1143,464,268,965,0,1038,1152,0,0,0,0,0,1035,0,321,324,313,977,961,951,1456,1166,562,373,868,1044,1142,669,848,0,455,0,0,387,1304,789,1043,1354,845,745,499,312,332,0,0,765,334,643,1027,0,0,880,0,647,271,337,305,277,855,0,0,551,740,0,0,868,291,1099,877,557,1050,1069,1073,432,0,685,1117,312,898,1023,0,1207,1366,209,921,1262,424,365,694,247,868,295,396,783,862,978,417,416,1065,839,1065,0,635,1250,0,480,525,1019,641,489,1181,881,334,707,779,1726,555,1089,0,0,0,891,993,1156,443,994,687,908,819,1038,717,1104,1093,951,853,1016,1033,0,0,130,0,0,1048,546,636,223,0,0,1083,1130,1337,1054,1012,292,879,896,1011,901,1040,831,729,593,0,0,0,376,1165,871,893,503,0,817,844,342,0,587,0,640,914,866,958,0,737,557,904,218,0,960,0,261,0,482,938,751,404,0,283,1086,968,861,0,0,548,716,905,1741,1206,976,819,1066,662,780,760,0,0,0,420,1042,999,1242,532,1068,782,151,497,1123,852,0,0,0,0,0,0,0,0,730,622,0,0,0,0,388,0,758,843,0,0,0,0,993,1038,0,1038,985,467,380,423,542,885,607,730,747,905,660,356,942,0,345,1254,783,968,781,0,793,563,1147,442,627,1059,0,768,745,0,0,0,979,527,1268,473,518,646,0,0,1043,1093,949,1065,392,973,666,1059,938,1264,389,338,1044,0,0,509,499,377,1095,896,335,572,687,1730,734,0,0,950,0,0,0,0,0,0,0,0,851,772,0,526,695,1243,775,966,0,638,444,0,858,975,0,0,890,200,357,0,1042,1042,780,716,949,411,1086,877,849,0,0,998,0,341,0,0,1068,1009,820,510,533,556,1186,518,845,616,359,359,0,1442,793,903,481,978,566,0,850,479,862,1072,0,0,0,0,0,0,1339,1092,615,868,0,908,0,0,0,0,1340,645,0,535,877,770,944,903,734,969,839,1082,722,627,358,0,1004,1046,1070,529,211,734,1000,491,0,553,0,0,1078,471,890,751,902,752,887,810,0,1121,967,1163,526,963,1000,867,858,242,750,662,468,857,318,1264,1002,1002,949,785,862,962,0,1131,1114,841,655,800,787,1165,986,634,994,902,744,502,616,1106,1071,1062,0,0,1050,0,624,816,859,862,774,1030,1272,1023,0,0,0,0,0,0,0,0,1201,940,593,251,558,1735,1149,1053,370,240,274,0,1209,507,1302,736,1385,313,241,1432,241,0,776,863,1035,553,729,345,0,0,0,0,368,467,242,857,1046,0,0,0,900,1149,744,381,0,0,0,0,613,232,449,0,569,807,731,833,672,1034,382,751,533,528,542,987,0,0,0,0,1046,0,0,0,470,959,477,0,550,1152,499,1122,556,433,1036,0,1256,709,1014,1121,1043,737,914,749,624,846,268,840,0,0,0,0,755,752,575,578,623,479,0,557,0,0,0,977,1114,1071,0,126,1072,790,1722,523,422,752,928,525,1065,934,1015,708,0,0,0,0,717,1374,1069,0,0,0,0,0,818,420,399,578,0,0,0,0,600,975,358,669,1236,1129,742,1278,1065,466,475,862,744,321,0,770,0,0,0,0,923,566,0,0,337,337,1023,337,447,1020,0,1167,859,1013,1732,849,395,787,788,1069,747,1348,324,853,681,1049,1050,818,334,334,313,334,973,1101,479,1042,1017,862,1002,562,996,855,1052,1030,1011,876,915,1253,516,899,951,1014,0,0,0,0,358,0,0,0,1125,1008,0,910,977,630,1052,0,356,653,1294,937,666,605,1735,546,1089,0,0,275,912,497,861,1028,0,0,0,0,934,0,1036,0,398,471,489,1174,306,210,245,333,1121,433,1044,911,895,402,280,279,710,669,846,867,731,1052,826,511,1167,840,574,1203,984,0,0,663,959,546,544,1167,0,0,0,0,1234,561,813,908,970,740,0,823,1043,974,541,463,400,761,1313,0,1032,1098,1028,957,594,421,565,437,411,882,496,464,1041,819,1142,1047,0,900,455,976,0,0,0,0,846,553,602,570,547,795,727,527,0,0,0,0,1094,812,796,1140,774,1046,851,639,892,0,1732,592,1080,785,833,400,302,496,955,583,1026,0,991,892,1090,913,587,545,541,676,485,1236,1153,836,1013,511,934,945,561,459,1104,1039,1311,894,971,359,873,971,852,1012,889,683,389,503,876,559,0,0,0,0,530,530,587,593,622,744,513,443,535,321,592,0,1213,920,987,466,136,1040,676,663,931,920,924,917,432,293,729,518,328,448,497,963,529,897,0,0,1070,0,1070,1070,1009,1111,827,971,957,957,1167,983,540,0,771,773,1071,0,369,1246,1035,738,1117,975,0,0,0,0,0,0,542,0,612,1063,739,993,384,695,862,730,458,778,487,602,0,0,0,0,0,0,0,0,1089,1205,1022,551,990,1084,824,744,0,0,0,0,0,0,0,0,542,1039,0,766,477,969,0,1055,664,1045,756,930,836,883,927,714,1014,1141,664,0,901,537,1142,0,1213,1726,1726,957,1104,1053,0,1098,1178,779,1178,778,340,822,333,498,627,1267,531,285,452,680,0,0,857,521,0,1203,136,250,1075,706,690,852,1001,1050,1199,716,1698,1337,836,0,868,695,0,497,539,0,1175,1338,1065,882,811,423,0,0,0,0,0,0,477,464,838,573,385,1011,907,589,261,503,1044,1044,988,691,917,1103,706,910,989,797,0,0,0,0,1411,1161,920,914,1629,1221,0,1136,886,0,616,788,279,1032,1375,279,986,1073,864,678,864,864,0,0,934,941,767,540,646,0,778,0,447,613,0,596,839,1118,1094,1052,998,0,1091,666,275,439,0,0,587,1145,718,921,0,445,1098,920,422,326,0,490,176,1041,486,650,451,1038,1332,1719,0,0,0,0,1134,1011,590,855,1046,1099,656,639,491,0,1067,0,328,0,193,0,0,585,562,802,1222,870,592,970,1042,638,1250,447,1020,0,0,1020,740,400,108,0,911,0,899,0,1106,656,548,640,654,541,472,1089,625,965,463,879,913,718,1095,501,349,957,768,792,1185,0,729,818,916,944,610,875,528,742,475,279,636,816,636,549,361,529,618,839,845,244,563,452,805,0,0,0,521,617,1009,1108,695,521,400,660,0,0,0,0,1686,756,1131,937,1261,820,1046,1050,1010,559,781,477,852,1316,527,1114,903,599,649,0,309,306,306,309,870,0,0,0,961,471,1061,991,426,835,1109,495,266,0,0,0,682,1030,465,485,1045,1125,1034,880,1164,761,1065,1012,945,945,945,945,0,0,0,0,0,1103,340,0,599,1148,523,779,571,892,596,583,703,0,0,0,714,452,672,960,673,0,0,873,0,0,1008,0,956,515,436,141,1023,512,707,1216,486,667,695,589,444,960,90,456,1046,740,924,1099,483,483,653,1274,0,0,623,0,0,964,833,1025,1066,0,0,0,0,0,0,0,882,1183,974,966,699,815,973,946,0,0,0,0,0,349,1039,1135,438,0,0,1037,1108,861,1002,1328,410,508,0,460,0,889,0,735,0,0,0,0,1355,1695,1013,436,1068,415,1043,513,633,0,0,837,0,0,0,0,835,516,678,521,981,632,428,487,1020,1084,1198,720,0,0,0,0,0,0,0,1067,902,612,449,1015,1265,1720,997,1022,0,0,0,0,678,870,519,1058,1203,550,562,0,512,580,756,399,1020,397,622,1218,455,1069,1216,884,885,771,0,1092,985,985,985,0,0,1015,0,1111,0,0,0,736,963,941,821,362,0,446,0,0,909,734,428,828,982,776,243,1173,832,0,1076,1741,0,0,0,0,1380,1219,969,776,956,983,911,782,0,1738,218,334,277,0,0,0,685,0,0,0,1034,867,904,958,0,747,548,340,0,0,0,0,693,751,846,868,485,488,760,632,806,913,886,862,197,1322,283,825,1033,0,0,0,1331,1303,470,0,378,559,684,1001,798,893,489,385,0,0,0,0,795,763,682,457,1277,1062,526,512,0,910,576,894,1054,925,0,0,1009,663,928,1009,635,638,784,934,437,511,391,1198,1027,1328,672,984,1186,0,0,0,978,817,637,243,1234,1230,0,0,1023,984,1174,0,1161,0,0,0,1292,1032,343,503,487,458,0,802,769,468,769,769,0,1028,0,0,0,0,0,0,643,1103,563,1011,1081,1200,1016,891,572,217,0,377,308,396,0,333,0,0,0,0,313,807,388,0,1089,0,664,0,0,0,0,0,0,309,512,0,734,0,436,0,766,1040,523,578,333,0,0,875,0,0,0,0,1350,0,0,0,184,1001,595,430,844,1021,1106,1104,677,0,0,0,1006,0,667,737,994,1096,539,675,0,0,0,733,850,435,882,622,288,0,1006,751,1012,941,1322,1048,926,1023,1696,448,0,1215,0,0,1075,867,816,929,0,604,366,1087,1694,1043,1068,1035,374,975,1171,1185,699,974,937,836,1120,1154,544,0,913,919,807,1133,978,978,978,978,0,0,403,750,850,861,605,850,454,415,629,1054,1360,902,377,805,589,425,1142,625,609,504,891,1282,1224,1055,1382,1202,1114,375,433,0,0,0,0,0,120,644,825,0,482,898,676,552,914,349,718,906,820,891,703,1742,499,0,622,295,1092,822,395,1023,0,0,0,0,0,0,0,0,645,0,0,0,623,365,0,395,0,313,0,935,421,1100,0,481,618,0,423,589,0,680,325,503,741,1017,653,432,833,412,949,833,0,0,0,0,1727,410,0,654,967,1372,892,1744,1009,565,884,552,0,0,0,0,249,0,0,0,648,1089,758,473,952,804,1170,642,0,0,0,0,813,1012,892,865,539,0,0,0,0,1237,498,0,0,0,0,0,0,0,780,0,487,487,487,487,460,681,243,630,937,468,0,0,0,0,0,0,0,0,0,0,0,466,0,0,951,605,1011,763,612,0,0,612,910,661,1131,620,971,1710,329,910,680,0,0,0,1286,0,0,0,670,0,493,1343,0,0,0,0,547,0,0,0,502,893,1084,0,741,0,908,843,0,0,0,0,767,0,0,231,1158,976,670,1008,480,734,0,519,397,1306,590,1129,706,0,0,0,954,896,358,479,907,934,0,715,1364,651,919,919,0,0,0,561,767,484,0,485,730,795,848,493,1026,480,0,0,969,730,1102,1086,624,0,725,848,0,0,0,0,0,557,0,0,1056,235,1074,371,348,590,0,995,204,1045,893,727,883,900,1121,634,494,204,381,1057,1015,1049,1015,957,700,976,1089,0,0,481,0,566,0,764,0,0,648,537,623,850,0,0,0,0,829,491,1199,1275,334,664,862,755,600,1119,1099,0,886,874,775,382,866,866,913,1738,0,0,0,0,0,1734,0,0,918,0,0,0,0,0,0,0,0,1060,0,804,0,868,1030,0,986,727,0,1199,0,0,0,0,0,0,0,0,0,0,0,0,0,0,0,0,445,377,445,1227,0,0,0,0,1079,0,0,621,0,0,0,0,0,0,0,0,1161,646,276,0,1112,1075,689,947,1098,0,751,945,0,0,0,0,0,0,0,0,0,0,0,0,0,0,0,0,0,0,0,0,0,0,0,0,0,0,0,0,934,1216,661,0,872,499,0,1734,356,730,389,812,0,0,0,0,1130,863,1063,953,507,1103,923,468,445,445,445,445,956,0,0,0,795,1729,579,875,461,993,1000,568,0,988,866,1733,716,1319,716,1319,579,192,695,0,1163,739,778,851,930,995,876,1115,1080,428,420,0,686,0,1105,650,914,615,368,783,1732,681,931,681,1161,829,563,1192,724,840,872,1096,0,0,0,0,1088,866,1146,659,0,369,0,0,0,426,416,0,973,622,471,719,628,304,772,1030,461,0,1208,0,0,0,0,0,0,0,0,0,0,0,387,0,530,1281,530,530,897,1028,637,399,429,920,268,968,669,222,1126,1179,630,214,1053,859,421,0,0,700,297,763,366,675,1127,814,0,202,963,551,0,850,0,0,0,0,750,926,978,396,0,0,0,0,1062,0,0,0,947,994,1052,1089,632,872,960,552,0,0,0,0,0,0,0,0,631,0,0,760,954,0,0,1338,859,0,0,821,888,978,805,1017,875,958,1071,0,1024,0,0,0,1739,733,665,833,1086,933,0,0,1735,1245,979,490,372,0,0,0,1257,1070,735,868,962,466,846,520,1130,379,631,380,0,0,0,0,483,0,0,0,999,679,589,1073,741,644,516,702,0,0,0,0,805,1048,0,0,0,0,0,0,314,290,689,692,1152,753,1181,724,412,0,0,0,0,1050,1043,1141,451,998,1008,882,1010,516,0,1010,742,435,1014,598,436,814,782,1010,0,0,617,765,376,882,1052,583,0,0,0,0,1042,1042,1042,1042,954,817,988,352,1003,1073,799,805,0,0,0,0,735,735,735,735,1224,1324,0,1105,349,1321,1119,851,1706,381,276,1029,0,0,0,545,394,442,148,841,1048,0,942,724,1192,0,0,0,0,0,1080,0,663,921,0,939,0,0,0,1732,0,0,0,0,654,818,1043,370,933,1003,0,547,970,0,527,0,559,1031,1038,0,520,534,0,341,934,956,444,881,252,0,0,0,1008,668,708,745,1080,761,803,1005,370,0,832,0,1157,0,0,0,734,0,0,0,507,507,0,0,1026,742,1741,346,528,439,857,566,0,0,0,0,1030,956,652,1121,977,867,1036,0,453,881,754,661,513,535,0,487,375,911,842,352,540,867,608,1107,524,989,700,517,184,954,0,0,775,876,775,0,593,497,462,468,575,640,1031,960,816,1067,405,552,884,0,0,0,0,1089,1036,0,0,0,0,0,0,0,581,930,943,677,1055,1256,312,993,230,1303,981,472,0,758,465,878,224,0,366,997,793,0,851,756,0,429,434,386,482,245,866,0,433,767,885,981,1049,611,1009,496,490,665,579,708,579,187,806,846,1007,938,0,0,962,0,586,586,1054,1214,0,672,0,0,0,0,0,0,996,0,0,0,0,0,248,952,472,0,734,0,613,986,932,329,472,847,425,269,632,959,643,531,216,802,1742,450,416,777,1059,622,664,0,587,441,0,0,0,0,0,0,0,0,0,0,0,0],\"xaxis\":\"x\",\"yaxis\":\"y\",\"type\":\"histogram\"}],                        {\"template\":{\"data\":{\"bar\":[{\"error_x\":{\"color\":\"#2a3f5f\"},\"error_y\":{\"color\":\"#2a3f5f\"},\"marker\":{\"line\":{\"color\":\"#E5ECF6\",\"width\":0.5},\"pattern\":{\"fillmode\":\"overlay\",\"size\":10,\"solidity\":0.2}},\"type\":\"bar\"}],\"barpolar\":[{\"marker\":{\"line\":{\"color\":\"#E5ECF6\",\"width\":0.5},\"pattern\":{\"fillmode\":\"overlay\",\"size\":10,\"solidity\":0.2}},\"type\":\"barpolar\"}],\"carpet\":[{\"aaxis\":{\"endlinecolor\":\"#2a3f5f\",\"gridcolor\":\"white\",\"linecolor\":\"white\",\"minorgridcolor\":\"white\",\"startlinecolor\":\"#2a3f5f\"},\"baxis\":{\"endlinecolor\":\"#2a3f5f\",\"gridcolor\":\"white\",\"linecolor\":\"white\",\"minorgridcolor\":\"white\",\"startlinecolor\":\"#2a3f5f\"},\"type\":\"carpet\"}],\"choropleth\":[{\"colorbar\":{\"outlinewidth\":0,\"ticks\":\"\"},\"type\":\"choropleth\"}],\"contour\":[{\"colorbar\":{\"outlinewidth\":0,\"ticks\":\"\"},\"colorscale\":[[0.0,\"#0d0887\"],[0.1111111111111111,\"#46039f\"],[0.2222222222222222,\"#7201a8\"],[0.3333333333333333,\"#9c179e\"],[0.4444444444444444,\"#bd3786\"],[0.5555555555555556,\"#d8576b\"],[0.6666666666666666,\"#ed7953\"],[0.7777777777777778,\"#fb9f3a\"],[0.8888888888888888,\"#fdca26\"],[1.0,\"#f0f921\"]],\"type\":\"contour\"}],\"contourcarpet\":[{\"colorbar\":{\"outlinewidth\":0,\"ticks\":\"\"},\"type\":\"contourcarpet\"}],\"heatmap\":[{\"colorbar\":{\"outlinewidth\":0,\"ticks\":\"\"},\"colorscale\":[[0.0,\"#0d0887\"],[0.1111111111111111,\"#46039f\"],[0.2222222222222222,\"#7201a8\"],[0.3333333333333333,\"#9c179e\"],[0.4444444444444444,\"#bd3786\"],[0.5555555555555556,\"#d8576b\"],[0.6666666666666666,\"#ed7953\"],[0.7777777777777778,\"#fb9f3a\"],[0.8888888888888888,\"#fdca26\"],[1.0,\"#f0f921\"]],\"type\":\"heatmap\"}],\"heatmapgl\":[{\"colorbar\":{\"outlinewidth\":0,\"ticks\":\"\"},\"colorscale\":[[0.0,\"#0d0887\"],[0.1111111111111111,\"#46039f\"],[0.2222222222222222,\"#7201a8\"],[0.3333333333333333,\"#9c179e\"],[0.4444444444444444,\"#bd3786\"],[0.5555555555555556,\"#d8576b\"],[0.6666666666666666,\"#ed7953\"],[0.7777777777777778,\"#fb9f3a\"],[0.8888888888888888,\"#fdca26\"],[1.0,\"#f0f921\"]],\"type\":\"heatmapgl\"}],\"histogram\":[{\"marker\":{\"pattern\":{\"fillmode\":\"overlay\",\"size\":10,\"solidity\":0.2}},\"type\":\"histogram\"}],\"histogram2d\":[{\"colorbar\":{\"outlinewidth\":0,\"ticks\":\"\"},\"colorscale\":[[0.0,\"#0d0887\"],[0.1111111111111111,\"#46039f\"],[0.2222222222222222,\"#7201a8\"],[0.3333333333333333,\"#9c179e\"],[0.4444444444444444,\"#bd3786\"],[0.5555555555555556,\"#d8576b\"],[0.6666666666666666,\"#ed7953\"],[0.7777777777777778,\"#fb9f3a\"],[0.8888888888888888,\"#fdca26\"],[1.0,\"#f0f921\"]],\"type\":\"histogram2d\"}],\"histogram2dcontour\":[{\"colorbar\":{\"outlinewidth\":0,\"ticks\":\"\"},\"colorscale\":[[0.0,\"#0d0887\"],[0.1111111111111111,\"#46039f\"],[0.2222222222222222,\"#7201a8\"],[0.3333333333333333,\"#9c179e\"],[0.4444444444444444,\"#bd3786\"],[0.5555555555555556,\"#d8576b\"],[0.6666666666666666,\"#ed7953\"],[0.7777777777777778,\"#fb9f3a\"],[0.8888888888888888,\"#fdca26\"],[1.0,\"#f0f921\"]],\"type\":\"histogram2dcontour\"}],\"mesh3d\":[{\"colorbar\":{\"outlinewidth\":0,\"ticks\":\"\"},\"type\":\"mesh3d\"}],\"parcoords\":[{\"line\":{\"colorbar\":{\"outlinewidth\":0,\"ticks\":\"\"}},\"type\":\"parcoords\"}],\"pie\":[{\"automargin\":true,\"type\":\"pie\"}],\"scatter\":[{\"marker\":{\"colorbar\":{\"outlinewidth\":0,\"ticks\":\"\"}},\"type\":\"scatter\"}],\"scatter3d\":[{\"line\":{\"colorbar\":{\"outlinewidth\":0,\"ticks\":\"\"}},\"marker\":{\"colorbar\":{\"outlinewidth\":0,\"ticks\":\"\"}},\"type\":\"scatter3d\"}],\"scattercarpet\":[{\"marker\":{\"colorbar\":{\"outlinewidth\":0,\"ticks\":\"\"}},\"type\":\"scattercarpet\"}],\"scattergeo\":[{\"marker\":{\"colorbar\":{\"outlinewidth\":0,\"ticks\":\"\"}},\"type\":\"scattergeo\"}],\"scattergl\":[{\"marker\":{\"colorbar\":{\"outlinewidth\":0,\"ticks\":\"\"}},\"type\":\"scattergl\"}],\"scattermapbox\":[{\"marker\":{\"colorbar\":{\"outlinewidth\":0,\"ticks\":\"\"}},\"type\":\"scattermapbox\"}],\"scatterpolar\":[{\"marker\":{\"colorbar\":{\"outlinewidth\":0,\"ticks\":\"\"}},\"type\":\"scatterpolar\"}],\"scatterpolargl\":[{\"marker\":{\"colorbar\":{\"outlinewidth\":0,\"ticks\":\"\"}},\"type\":\"scatterpolargl\"}],\"scatterternary\":[{\"marker\":{\"colorbar\":{\"outlinewidth\":0,\"ticks\":\"\"}},\"type\":\"scatterternary\"}],\"surface\":[{\"colorbar\":{\"outlinewidth\":0,\"ticks\":\"\"},\"colorscale\":[[0.0,\"#0d0887\"],[0.1111111111111111,\"#46039f\"],[0.2222222222222222,\"#7201a8\"],[0.3333333333333333,\"#9c179e\"],[0.4444444444444444,\"#bd3786\"],[0.5555555555555556,\"#d8576b\"],[0.6666666666666666,\"#ed7953\"],[0.7777777777777778,\"#fb9f3a\"],[0.8888888888888888,\"#fdca26\"],[1.0,\"#f0f921\"]],\"type\":\"surface\"}],\"table\":[{\"cells\":{\"fill\":{\"color\":\"#EBF0F8\"},\"line\":{\"color\":\"white\"}},\"header\":{\"fill\":{\"color\":\"#C8D4E3\"},\"line\":{\"color\":\"white\"}},\"type\":\"table\"}]},\"layout\":{\"annotationdefaults\":{\"arrowcolor\":\"#2a3f5f\",\"arrowhead\":0,\"arrowwidth\":1},\"autotypenumbers\":\"strict\",\"coloraxis\":{\"colorbar\":{\"outlinewidth\":0,\"ticks\":\"\"}},\"colorscale\":{\"diverging\":[[0,\"#8e0152\"],[0.1,\"#c51b7d\"],[0.2,\"#de77ae\"],[0.3,\"#f1b6da\"],[0.4,\"#fde0ef\"],[0.5,\"#f7f7f7\"],[0.6,\"#e6f5d0\"],[0.7,\"#b8e186\"],[0.8,\"#7fbc41\"],[0.9,\"#4d9221\"],[1,\"#276419\"]],\"sequential\":[[0.0,\"#0d0887\"],[0.1111111111111111,\"#46039f\"],[0.2222222222222222,\"#7201a8\"],[0.3333333333333333,\"#9c179e\"],[0.4444444444444444,\"#bd3786\"],[0.5555555555555556,\"#d8576b\"],[0.6666666666666666,\"#ed7953\"],[0.7777777777777778,\"#fb9f3a\"],[0.8888888888888888,\"#fdca26\"],[1.0,\"#f0f921\"]],\"sequentialminus\":[[0.0,\"#0d0887\"],[0.1111111111111111,\"#46039f\"],[0.2222222222222222,\"#7201a8\"],[0.3333333333333333,\"#9c179e\"],[0.4444444444444444,\"#bd3786\"],[0.5555555555555556,\"#d8576b\"],[0.6666666666666666,\"#ed7953\"],[0.7777777777777778,\"#fb9f3a\"],[0.8888888888888888,\"#fdca26\"],[1.0,\"#f0f921\"]]},\"colorway\":[\"#636efa\",\"#EF553B\",\"#00cc96\",\"#ab63fa\",\"#FFA15A\",\"#19d3f3\",\"#FF6692\",\"#B6E880\",\"#FF97FF\",\"#FECB52\"],\"font\":{\"color\":\"#2a3f5f\"},\"geo\":{\"bgcolor\":\"white\",\"lakecolor\":\"white\",\"landcolor\":\"#E5ECF6\",\"showlakes\":true,\"showland\":true,\"subunitcolor\":\"white\"},\"hoverlabel\":{\"align\":\"left\"},\"hovermode\":\"closest\",\"mapbox\":{\"style\":\"light\"},\"paper_bgcolor\":\"white\",\"plot_bgcolor\":\"#E5ECF6\",\"polar\":{\"angularaxis\":{\"gridcolor\":\"white\",\"linecolor\":\"white\",\"ticks\":\"\"},\"bgcolor\":\"#E5ECF6\",\"radialaxis\":{\"gridcolor\":\"white\",\"linecolor\":\"white\",\"ticks\":\"\"}},\"scene\":{\"xaxis\":{\"backgroundcolor\":\"#E5ECF6\",\"gridcolor\":\"white\",\"gridwidth\":2,\"linecolor\":\"white\",\"showbackground\":true,\"ticks\":\"\",\"zerolinecolor\":\"white\"},\"yaxis\":{\"backgroundcolor\":\"#E5ECF6\",\"gridcolor\":\"white\",\"gridwidth\":2,\"linecolor\":\"white\",\"showbackground\":true,\"ticks\":\"\",\"zerolinecolor\":\"white\"},\"zaxis\":{\"backgroundcolor\":\"#E5ECF6\",\"gridcolor\":\"white\",\"gridwidth\":2,\"linecolor\":\"white\",\"showbackground\":true,\"ticks\":\"\",\"zerolinecolor\":\"white\"}},\"shapedefaults\":{\"line\":{\"color\":\"#2a3f5f\"}},\"ternary\":{\"aaxis\":{\"gridcolor\":\"white\",\"linecolor\":\"white\",\"ticks\":\"\"},\"baxis\":{\"gridcolor\":\"white\",\"linecolor\":\"white\",\"ticks\":\"\"},\"bgcolor\":\"#E5ECF6\",\"caxis\":{\"gridcolor\":\"white\",\"linecolor\":\"white\",\"ticks\":\"\"}},\"title\":{\"x\":0.05},\"xaxis\":{\"automargin\":true,\"gridcolor\":\"white\",\"linecolor\":\"white\",\"ticks\":\"\",\"title\":{\"standoff\":15},\"zerolinecolor\":\"white\",\"zerolinewidth\":2},\"yaxis\":{\"automargin\":true,\"gridcolor\":\"white\",\"linecolor\":\"white\",\"ticks\":\"\",\"title\":{\"standoff\":15},\"zerolinecolor\":\"white\",\"zerolinewidth\":2}}},\"xaxis\":{\"anchor\":\"y\",\"domain\":[0.0,1.0],\"title\":{\"text\":\"Single core score\"}},\"yaxis\":{\"anchor\":\"x\",\"domain\":[0.0,1.0],\"title\":{\"text\":\"count\"}},\"legend\":{\"tracegroupgap\":0},\"margin\":{\"t\":60},\"barmode\":\"relative\"},                        {\"responsive\": true}                    ).then(function(){\n",
              "                            \n",
              "var gd = document.getElementById('27f8d43f-ab75-4232-9242-8b019367aca2');\n",
              "var x = new MutationObserver(function (mutations, observer) {{\n",
              "        var display = window.getComputedStyle(gd).display;\n",
              "        if (!display || display === 'none') {{\n",
              "            console.log([gd, 'removed!']);\n",
              "            Plotly.purge(gd);\n",
              "            observer.disconnect();\n",
              "        }}\n",
              "}});\n",
              "\n",
              "// Listen for the removal of the full notebook cells\n",
              "var notebookContainer = gd.closest('#notebook-container');\n",
              "if (notebookContainer) {{\n",
              "    x.observe(notebookContainer, {childList: true});\n",
              "}}\n",
              "\n",
              "// Listen for the clearing of the current output cell\n",
              "var outputEl = gd.closest('.output');\n",
              "if (outputEl) {{\n",
              "    x.observe(outputEl, {childList: true});\n",
              "}}\n",
              "\n",
              "                        })                };                            </script>        </div>\n",
              "</body>\n",
              "</html>"
            ]
          },
          "metadata": {}
        }
      ]
    },
    {
      "cell_type": "code",
      "source": [
        "fig = px.histogram(comp_specs_Details, x=\"Multi core score\")\n",
        "fig.show()"
      ],
      "metadata": {
        "colab": {
          "base_uri": "https://localhost:8080/",
          "height": 542
        },
        "id": "8sfKfNJXzQI9",
        "outputId": "9c9b4cbf-6b02-4cda-adae-cf7741ab5269"
      },
      "execution_count": 178,
      "outputs": [
        {
          "output_type": "display_data",
          "data": {
            "text/html": [
              "<html>\n",
              "<head><meta charset=\"utf-8\" /></head>\n",
              "<body>\n",
              "    <div>            <script src=\"https://cdnjs.cloudflare.com/ajax/libs/mathjax/2.7.5/MathJax.js?config=TeX-AMS-MML_SVG\"></script><script type=\"text/javascript\">if (window.MathJax) {MathJax.Hub.Config({SVG: {font: \"STIX-Web\"}});}</script>                <script type=\"text/javascript\">window.PlotlyConfig = {MathJaxConfig: 'local'};</script>\n",
              "        <script src=\"https://cdn.plot.ly/plotly-2.8.3.min.js\"></script>                <div id=\"9b86d145-bcc7-45ea-8e75-d6ff5d38f08d\" class=\"plotly-graph-div\" style=\"height:525px; width:100%;\"></div>            <script type=\"text/javascript\">                                    window.PLOTLYENV=window.PLOTLYENV || {};                                    if (document.getElementById(\"9b86d145-bcc7-45ea-8e75-d6ff5d38f08d\")) {                    Plotly.newPlot(                        \"9b86d145-bcc7-45ea-8e75-d6ff5d38f08d\",                        [{\"alignmentgroup\":\"True\",\"bingroup\":\"x\",\"hovertemplate\":\"Multi core score=%{x}<br>count=%{y}<extra></extra>\",\"legendgroup\":\"\",\"marker\":{\"color\":\"#636efa\",\"pattern\":{\"shape\":\"\"}},\"name\":\"\",\"offsetgroup\":\"\",\"orientation\":\"v\",\"showlegend\":false,\"x\":[2148,1132,1525,2281,3394,1834,857,1326,2303,6647,2474,1643,3318,3848,3610,4071,2612,1127,2252,5887,3618,2822,1541,2219,3428,3966,3730,3881,2224,2136,959,1682,3466,1513,910,886,2649,688,587,2529,2768,3840,1596,0,1070,2753,2867,1969,1914,3315,3657,3893,1973,5087,1996,1790,2686,842,2171,2132,4147,2902,3855,5181,3983,3983,3983,3983,4398,2082,3221,3018,1777,3181,5968,3730,1879,3076,2543,1284,1155,536,1914,0,3465,2182,2485,2261,4606,4008,4405,893,3750,5550,1973,2890,1316,2197,451,694,3763,2701,1798,1767,4533,1645,2748,550,3509,3445,2809,3420,2486,0,1140,2190,2372,807,2577,754,607,1126,2252,2383,1121,1605,2847,1615,2831,0,1807,3163,0,0,0,0,3754,2268,2747,1664,1943,2366,3762,1797,684,1425,0,2615,1606,2092,1042,3472,2612,3102,2992,5695,2267,0,3394,0,3578,2852,1582,3036,3676,3666,1912,3458,2899,3432,3243,3952,2618,0,1570,837,5886,2100,2424,1948,2756,6773,2879,3323,1207,1000,2597,2546,3583,1371,939,3706,3232,5384,7790,3860,4294,3351,2884,1148,4010,2552,2304,2478,2915,2559,2304,1013,2028,2380,2417,1939,2800,2846,1897,1858,0,0,5472,0,0,4446,802,3415,1636,1815,1357,1813,1447,371,1881,0,3085,2211,1871,2435,2619,2824,2283,4482,2355,2373,4053,3328,0,3009,3312,3789,960,0,6078,0,2954,2983,2105,2551,3070,3016,3908,1830,1228,1144,0,3374,3259,4021,3073,1109,2205,4502,2615,2477,5134,2151,2843,2420,2562,1828,1996,2962,0,0,0,0,792,3200,4706,1318,3153,2965,1232,916,2575,3476,2782,6045,0,2688,1165,0,2042,2665,1479,4908,2444,0,1833,3778,4184,4207,3169,3931,2267,2431,1775,2058,3928,5223,3138,3073,720,1284,0,0,5355,3339,3127,4184,874,3757,2571,1361,3501,2255,2356,2811,5679,5218,0,4092,1739,0,3993,3470,2156,2456,2232,2188,2946,2118,4745,690,0,4844,4138,1069,3898,4754,0,2412,0,0,502,1180,3387,3935,0,2219,3340,0,2745,0,799,2933,2692,1071,0,0,0,0,4062,9875,1182,3577,2102,2570,561,3683,2224,2059,264,3130,3904,7609,1714,2128,2092,7154,1734,850,1303,6014,0,1601,1263,6969,2206,2660,959,4738,2833,2144,5177,1001,569,0,3324,3159,4755,2350,2544,1986,4539,2475,1937,0,0,0,2250,0,0,1331,1579,2672,2223,4002,569,2478,759,2611,2843,3460,4298,2713,4718,2448,3176,1952,969,2461,1677,3036,3494,1260,4423,3984,749,2493,2416,1872,1445,4819,1163,2714,3411,0,0,1887,5488,2070,4083,2921,3838,3485,2892,2844,2519,1448,4033,3693,6040,2601,1843,1199,1186,0,2800,3222,1111,2466,2936,1331,3958,3644,3841,887,1304,0,1478,3302,1616,558,1317,5020,1705,3502,1342,1851,0,2647,0,2833,2002,2422,1142,3498,1411,2039,2488,3099,0,2998,2433,2009,3123,2072,1319,3759,2033,1504,1934,3848,0,0,0,0,868,3350,1207,608,2385,1765,3551,2941,2869,3821,3160,1329,1955,237,2119,1892,2784,6302,3366,2861,2467,0,3335,4224,2299,2144,2852,3504,651,1277,1967,1150,5764,2571,2089,1971,0,0,0,0,7491,1422,3536,1677,0,0,0,0,2820,0,1607,0,2828,2952,0,3043,1508,7346,5891,1881,4838,3002,2532,5087,4221,5330,2349,2019,3000,1143,1067,1040,0,0,0,0,3384,3719,1285,932,3035,1424,2145,2541,0,2125,7096,1288,1301,1301,906,3980,0,3593,6913,7204,0,0,2699,0,3264,985,3367,3014,3836,3197,3198,3207,1474,1431,1117,2222,3049,2173,3792,2638,1345,3727,3642,7599,2320,2462,0,1308,1893,2916,0,0,2545,3086,2668,0,1897,1398,1903,3141,1571,885,4313,7455,1046,771,2181,1093,2603,3415,0,0,4952,0,2585,0,0,0,2795,2071,278,2403,2186,1834,5450,2269,3200,4199,3303,4140,2892,5142,2948,3688,2396,3855,2749,3309,1894,3689,1295,3409,3507,980,2485,3087,3499,2760,0,3136,0,1930,1135,3374,2160,2886,1643,3607,415,2202,4385,995,863,2747,7698,3839,1338,2326,1712,2191,2977,0,4112,2555,4414,7654,1068,4572,1412,745,3185,2827,2922,2981,3796,0,1369,2745,2709,5559,1412,1059,2449,624,3614,0,600,534,469,408,0,1256,841,0,1634,0,2472,2675,2406,2981,3341,840,1160,3789,1648,648,4566,1050,1676,2900,3685,1175,2923,1498,2397,2171,1186,425,884,3811,7401,2428,0,569,2925,4267,2611,2266,3439,3237,3307,2453,3015,2453,2930,1973,2987,1956,2113,1621,2960,2345,2807,2190,2530,1667,2737,827,1144,888,3139,3013,3564,3855,1493,0,784,3114,3325,4899,2936,2019,4176,1222,1694,2738,4363,2561,5064,3358,2827,1737,0,0,0,3614,7142,2951,3540,2578,2863,0,910,2305,1160,1996,4686,3416,3300,5041,0,3135,4227,2875,2993,3946,1773,5890,1696,1119,0,754,2552,0,3285,2611,3406,2962,4686,6293,2184,2567,7638,2019,3891,3769,3606,3468,2377,2944,3135,2745,4602,2954,3819,0,2350,2725,834,2418,2191,1461,1559,1499,0,0,0,3207,2775,3566,924,5020,4236,1344,0,4035,2262,1548,2914,2386,2345,7261,1082,6751,1604,3552,2852,0,2682,938,0,2285,3463,0,3354,1096,4523,2995,3061,3583,3445,1843,1871,1706,2788,1309,2748,3787,4059,2435,3797,0,3981,4737,3273,2811,0,5314,3369,5275,3164,2395,4214,3770,2794,0,0,0,0,0,0,0,4952,1785,1381,2767,4814,2412,1587,3119,0,1266,0,0,1424,2845,2642,0,4160,3763,3451,4570,1902,2592,1482,372,1835,2081,2114,2960,3838,4079,2784,974,869,3895,4382,4286,2453,1700,3212,676,2964,3168,665,2329,2052,756,1178,2502,1501,1336,4731,3096,3072,1669,3465,0,3856,0,2215,0,3973,0,3934,1231,2544,2610,1437,2326,7951,3344,5380,2714,0,0,0,0,1111,3395,3759,2778,2826,759,3931,2080,1419,3567,2345,3560,2376,3587,1300,3969,3194,3961,3435,2361,2913,5286,1058,5026,0,0,823,0,1558,2047,1790,2738,0,2252,1775,0,3284,1706,2753,854,817,817,5531,1536,5535,1389,2184,1101,3438,0,3228,0,1911,1911,2582,2603,0,1098,0,2685,2739,0,0,2969,2987,1017,1829,1029,3493,0,1947,3809,4255,4128,0,2960,2198,0,1611,2774,2721,336,4025,2769,2056,2642,1144,0,7660,7722,1950,3401,529,3233,1216,2217,2600,1146,621,2954,1403,2555,1311,2582,2643,3708,2158,3258,1836,3334,1089,1449,3031,5767,2022,7348,3625,5098,1656,4405,0,1430,3187,3247,2229,2856,3125,2385,3595,3441,3302,620,2608,3532,1150,2134,4027,0,2088,2190,2661,1494,1986,4280,4769,2066,2291,4254,2679,3358,2682,3102,1220,4382,6233,4136,0,3266,0,0,1664,1160,1156,4891,3355,1502,3247,2100,1288,1602,1568,0,4197,3144,2360,3783,4077,4077,3067,4362,4311,2983,0,3481,3050,3793,0,0,247,2639,2414,2420,0,0,2826,0,2599,0,0,4147,0,672,0,0,3946,1212,2887,6851,0,0,3715,1288,3573,1381,1160,558,0,2745,0,2338,1508,3958,4282,2480,2677,0,0,0,3919,1875,2416,1599,3246,1392,1212,4592,0,0,0,0,1262,4539,3146,2407,2044,2171,2329,2314,1580,4753,1248,1052,4058,3619,2385,628,1634,5145,4650,4523,3731,1555,2398,550,296,2823,2290,3216,5537,5426,5223,3046,1767,0,1044,1771,2303,1983,4603,3081,2706,630,2553,4347,1883,3590,1629,2944,2980,3423,4648,0,4379,0,5188,0,2531,3709,3301,3170,2360,2010,2826,2904,3223,3249,1300,2520,1709,0,779,3256,1210,1455,1232,1728,500,2284,3125,4225,3573,2468,4080,5871,3468,2093,1115,1477,2604,0,3874,2684,655,1763,2814,3045,0,2738,3564,3752,1482,0,0,0,2773,2629,0,692,3602,2628,3239,0,3989,752,0,3170,1303,1174,848,0,3851,2002,2947,3902,1011,1342,1351,1727,1349,1862,3896,652,3097,583,1327,1235,3771,1154,0,0,593,0,698,0,3549,2909,7699,3122,1278,5817,0,1380,0,0,1215,1177,2403,3179,3423,2756,470,732,361,2921,3670,3107,3670,3670,2570,1874,1285,3613,1407,2664,2121,2079,3678,1062,1713,2847,0,0,0,0,3866,776,3930,2547,2957,0,2476,0,3112,2132,2388,848,960,670,2115,1204,1364,2797,3543,2305,292,1545,2574,1344,1450,2697,1955,4030,717,3226,2312,3160,1980,2918,4684,3355,0,4372,0,0,2633,2372,2944,0,741,925,0,0,2983,0,3502,0,2454,2167,1844,2309,7849,4818,665,3365,2943,2262,1976,784,0,0,0,0,1347,3114,3496,3799,4623,1651,2275,2926,2526,3461,1106,4003,3248,3641,586,4107,0,0,0,0,0,2164,0,4176,1214,506,537,4333,3138,0,1817,0,1364,0,0,0,4632,1090,2429,2745,2556,596,3956,3793,2515,3041,3413,4125,2322,3683,3494,1973,3394,4900,2696,7624,3896,3623,757,3247,1406,2983,3732,1253,0,0,3591,0,4513,2762,994,0,0,0,0,0,2955,2892,1150,712,2948,0,2548,2582,2158,1906,3397,3197,0,515,0,0,2815,4295,3171,1694,3129,4569,0,0,3805,0,2514,3146,4328,3137,1039,2335,7703,1584,1733,5933,0,3112,0,0,0,0,5021,0,1763,0,0,0,0,0,0,0,2776,3850,3111,0,2618,3672,3156,3741,4631,2499,1343,4112,2396,4367,4949,1498,1101,1728,5059,3026,2472,3290,5512,2389,2972,0,0,1467,1192,2570,1920,0,1075,2080,4604,2354,0,3321,2853,597,2091,0,2570,3258,2127,596,900,974,2879,3163,0,0,2210,0,3161,0,0,2385,0,0,2137,2049,1199,0,4531,159,2729,0,0,0,0,0,1735,3445,0,3643,0,0,0,0,1856,2771,3774,2128,1261,3017,1019,1317,730,2497,1786,1888,4010,1392,962,1086,2752,0,0,538,1144,1937,0,3014,2473,0,1352,1849,3190,0,1217,2241,1708,1756,0,0,6314,0,0,0,750,3129,4999,3819,4057,3054,2450,3063,3171,1917,2968,0,3315,0,1120,1218,3177,2483,2198,4392,3152,7726,4922,4253,0,0,1626,0,4017,688,3946,2556,2820,0,1349,2589,1632,971,2665,1608,3339,1206,922,2420,1729,1782,1624,685,0,0,0,0,2191,1129,759,1828,0,0,2011,0,758,0,0,0,1877,2257,2439,1858,3802,2158,0,871,2155,689,1187,1291,2467,0,0,0,2891,3062,2455,0,1446,1616,882,3131,1523,1198,3895,1349,4508,0,0,0,1923,2957,974,1015,1204,789,2645,0,0,0,0,0,1090,0,3934,840,2963,3633,2567,2734,1147,3910,6303,2635,2621,0,1321,1992,2783,2841,1427,988,1086,2409,0,2728,3030,3709,3447,0,2969,1768,2892,2512,3143,0,2962,2421,4074,752,2962,0,3155,785,3192,2380,1250,1291,4183,1881,3658,2900,2911,0,506,0,731,2085,3510,1094,1436,3555,1021,3361,1116,3743,1393,2293,2896,2984,1471,2356,2356,3311,2945,1417,442,2367,0,0,2550,0,1633,1935,1002,655,1012,0,0,7799,2855,1525,2756,2819,0,0,0,0,553,510,540,0,0,0,0,0,0,0,2136,3195,0,0,0,0,2453,3550,3837,0,2453,0,1976,0,0,2309,0,0,2809,0,1257,1956,1236,864,2153,605,3147,1152,564,2765,1393,0,0,2249,2970,393,2217,1709,0,0,2741,1724,4492,2735,2195,1806,2022,2093,4096,1427,0,0,0,0,777,423,0,0,1084,2088,0,1196,2312,1973,3211,1925,2817,2954,2812,1121,2754,5233,3027,2279,1251,2414,5357,1483,439,0,0,0,2888,0,0,1188,3017,3035,1782,0,2049,1888,2657,2876,2618,2587,0,2056,451,543,0,504,2748,1935,2975,0,3027,1843,636,5647,3015,2945,2001,3096,1005,0,0,0,1625,370,1093,2917,2756,0,0,0,4962,3326,1294,2776,3522,3615,3661,1163,4499,3022,3576,3295,5365,1884,2960,3995,2148,3495,1000,2955,2927,3648,823,7924,4175,2882,3938,7542,6530,2951,2526,5568,3469,2058,2902,2712,2585,564,3405,1101,1065,3190,3190,1338,1237,6293,1510,0,1234,2162,2699,4623,3010,2437,3009,2965,0,2378,0,0,746,0,0,0,1362,1790,2215,0,1597,3003,902,4649,1144,2765,1680,2746,4338,0,803,1980,558,0,0,0,1125,2583,0,1889,0,0,2845,0,788,2574,2078,1395,2276,0,1051,1988,1434,0,1248,0,1052,671,2099,734,3332,1933,1678,3438,2222,451,2322,0,2059,2392,0,0,0,0,0,2070,0,545,541,473,3061,4481,5762,3711,3953,1721,789,2276,3691,7163,1393,2722,0,1157,0,0,851,11241,2548,4693,4755,2789,2614,1230,497,537,0,0,2495,663,2504,2010,0,0,2365,0,1404,757,546,514,842,2854,0,0,1072,1674,0,0,2441,726,4815,2328,1249,3965,2231,4746,2543,0,3877,2317,2326,2962,3176,0,3401,3809,686,2016,3692,994,1034,1701,703,3335,1343,909,2923,3151,3579,834,2613,3499,2177,3183,0,1371,3436,0,2021,1077,2887,2519,1151,8044,3484,1372,2815,1775,7628,1349,4028,0,0,0,2634,2813,3165,1836,3504,2689,1672,4824,2079,1960,3233,4415,2153,2900,3008,2833,0,0,662,0,0,3127,1144,1341,654,0,0,3664,5717,4543,2905,3673,2358,3060,3217,2905,3856,3760,2457,2668,1239,0,0,0,895,6770,2124,2818,2179,0,1342,2336,822,0,1126,0,3454,2574,2902,2135,0,2202,2394,3011,400,0,2589,0,376,0,851,2658,1604,622,0,785,2968,3248,2104,0,0,2714,1871,1795,7660,4085,4506,2681,2983,2030,2359,2753,0,0,0,1424,3497,4034,3433,3450,3263,1832,236,2325,3784,3196,0,0,0,0,0,0,0,0,2298,2422,0,0,0,0,1421,0,2839,2241,0,0,0,0,2808,5253,0,4034,3440,947,942,818,1193,3591,2047,2046,2586,1861,1713,869,4263,0,785,3497,1659,3181,2469,0,3408,1841,6325,1373,4184,3889,0,2736,2898,0,0,0,4125,2699,4104,1207,1390,3542,0,0,4707,4523,3792,3307,1725,2072,3198,4176,2005,5268,731,553,2061,0,0,2154,2006,1087,3931,3789,486,1342,1461,7415,2917,0,0,2767,0,0,0,0,0,0,0,0,2926,2655,0,1368,1696,5498,1915,2671,0,3457,708,0,3051,3358,0,0,2793,192,639,0,2553,2553,2990,4602,5172,920,3647,2821,1793,0,0,3230,0,559,0,0,3520,3475,4010,1358,1256,1074,3551,1158,3287,1390,772,772,0,4273,2706,2654,1387,2522,970,0,3854,1264,2741,4113,0,0,0,0,0,0,3640,5050,1470,1982,0,2105,0,0,0,0,3719,3096,0,1166,2888,3063,3135,1633,1555,2099,2101,4197,3539,1286,3573,0,3614,2903,3664,2138,374,1548,2923,970,0,1290,0,0,4463,1080,2158,2408,2871,1341,2970,2507,0,3008,1972,5436,1189,3401,3629,2715,847,459,2822,2946,1000,3443,2280,4547,3529,3529,3372,2772,2620,3041,0,3991,3976,2953,1742,3236,2278,5796,3989,2873,3496,3124,4534,1969,1246,3193,3226,2486,0,0,2647,0,1159,2194,2459,2346,1379,2758,3617,2947,0,0,0,0,0,0,0,0,2559,3425,1264,406,1612,7535,3754,2764,704,727,432,0,3525,2076,3959,1954,4886,943,575,4670,748,0,1492,2376,3608,1043,1540,1031,0,0,0,0,814,1217,803,2505,4729,0,0,0,3563,5941,2084,1117,0,0,0,0,2301,727,983,0,1134,2363,2545,2580,2078,3761,1702,2575,2029,1209,1154,3186,0,0,0,0,2951,0,0,0,1473,2516,2156,0,2092,3161,1445,3356,1879,1239,4535,0,7827,2006,3064,3058,3474,2184,2593,1548,3146,1641,764,1529,0,0,0,0,1678,1492,1264,2039,1250,1323,0,1351,0,0,0,2087,3699,3699,0,455,3277,1751,7511,1967,1356,2220,2020,1508,5918,2734,3206,2700,0,0,0,0,2453,4301,1969,0,0,0,0,0,2433,1034,1837,2190,0,0,0,0,2895,2069,1044,2041,3832,4048,1543,3964,3692,1383,1892,4144,1509,726,0,2532,0,0,0,0,3177,1267,0,0,2040,2040,3176,2040,850,3778,0,7245,2171,4401,7660,2905,660,3800,2661,2120,4734,3877,837,3254,3515,2699,4136,3301,559,559,501,556,3149,5811,2851,3553,4463,2571,3703,1164,3746,2929,3344,3683,3880,3070,2857,4947,2099,2448,2740,1901,0,0,0,0,575,0,0,0,5519,2562,0,3318,2595,1293,1961,0,742,2760,3330,1972,1351,1619,7569,2123,3017,0,0,369,3288,2919,3153,2145,0,0,0,0,3502,0,2044,0,1423,1418,3538,3915,510,572,410,534,3708,1111,2745,2809,1772,907,649,861,1708,2801,2688,2793,1518,3919,1603,1290,3791,2888,1553,7846,3570,0,0,2545,2569,1370,839,3320,0,0,0,0,2845,2084,2332,2316,2828,1583,0,2188,2443,3130,2449,956,749,2202,3526,0,3710,4873,2690,3870,2420,795,1934,856,1890,2758,1002,2807,2346,2752,5950,3338,0,2564,1963,3431,0,0,0,0,3327,1168,1332,1082,1149,4276,1734,1496,0,0,0,0,3649,2816,4088,3635,1793,5539,2211,2466,3007,0,7676,1268,4417,2471,3020,918,744,1067,2649,1361,3520,0,4053,4552,4186,2971,2896,2064,1304,3258,1058,3216,2963,2357,3222,1217,2199,4012,1654,1716,4424,3401,3710,4064,3647,769,1842,3647,3237,3376,2984,2847,1190,1200,3848,1161,0,0,0,0,1131,1131,1299,2442,3468,2139,1139,941,2975,637,993,0,5724,1913,2712,2048,834,4544,2721,2973,3843,3116,2353,2189,881,665,3142,1149,794,1774,2840,3293,1564,3588,0,0,4413,0,4413,4413,4724,5064,2157,2998,4568,4568,3852,2917,2921,0,2572,2432,4679,0,594,5767,3522,1941,2848,3672,0,0,0,0,0,0,2439,0,3454,4880,4217,3690,949,1519,1993,2931,1825,2609,1767,2552,0,0,0,0,0,0,0,0,2952,3188,3970,1141,2640,4524,3290,1365,0,0,0,0,0,0,0,0,1462,3537,0,2583,2003,2370,0,2069,3256,3309,1396,1919,2631,2988,3117,2612,2943,2948,2424,0,3133,1790,5134,0,2519,7707,7707,4568,4370,2422,0,2728,2873,1756,2873,2024,893,2747,859,1388,3327,6306,1203,801,1610,2751,0,0,1675,2407,0,6128,616,1351,3504,2239,2600,2830,2869,3160,5097,2398,6847,4587,2929,0,2645,2497,0,1976,1203,0,4406,3944,3584,2795,1507,702,0,0,0,0,0,0,1082,2149,2261,1395,835,4070,2228,1289,1234,1123,4790,4790,3570,1514,3470,4314,2781,1695,3026,2993,0,0,0,0,4687,4483,3927,2564,7091,3449,0,4776,2541,0,1975,1921,1559,3287,4504,1559,4594,4794,1790,2202,4422,4422,0,0,4251,2271,2630,2963,3116,0,2330,0,876,5512,0,2437,1805,2971,3564,2814,3607,0,4119,1386,724,1884,0,0,1311,4006,1533,3224,0,1286,3288,2951,904,629,0,1831,631,1825,2029,3053,1980,4992,4136,7511,0,0,0,0,6375,3618,1261,3069,3101,3809,3809,2563,1220,0,3433,0,530,0,232,0,0,2393,1761,1708,2089,1902,1465,2399,3159,2025,2421,1692,3089,0,0,3089,3243,2155,494,0,1839,0,2856,0,4146,3215,1250,2127,1393,2371,1175,2296,1402,2105,2159,2675,3039,1620,4756,1157,801,2884,2390,2168,4995,0,1789,1611,3621,3024,2341,2240,1052,2326,2796,966,1396,2176,1396,1206,876,1411,1332,3134,2372,790,1291,845,1813,0,0,0,1170,2580,3250,3709,2660,1125,1704,3191,0,0,0,0,6992,1253,5527,3932,3784,4403,5053,2443,4257,1115,3103,1037,4531,7542,2067,5806,1936,1326,1470,0,410,451,451,410,3595,0,0,0,3693,1093,2691,2952,1293,3226,3677,1237,726,0,0,0,2706,4654,1871,1095,3141,5556,4607,2468,2481,2504,3300,2582,1270,1270,1270,1270,0,0,0,0,0,5201,567,0,1351,6794,1187,2633,2572,2182,3535,1056,2783,0,0,0,1453,1432,2034,3126,1485,0,0,3471,0,0,4156,0,2370,2057,1022,484,3398,1215,2261,3087,2021,1357,1397,1258,977,2821,189,2454,5206,2164,2704,5431,1025,1025,1230,2389,0,0,1441,0,0,3548,1399,3303,2085,0,0,0,0,0,0,0,2725,3262,2299,4200,1550,2834,3450,1952,0,0,0,0,0,1893,4542,4071,2646,0,0,3302,3939,4438,3432,3934,738,3457,0,969,0,2473,0,3360,0,0,0,0,3985,6927,2839,2678,3361,1393,3666,932,1248,0,0,2317,0,0,0,0,2972,1987,1178,2102,1994,1924,1737,1365,2162,3733,7364,1849,0,0,0,0,0,0,0,3427,3171,1335,2224,3226,3384,7562,3998,3639,0,0,0,0,3863,2286,1153,4792,3658,1525,3039,0,2334,2489,2302,879,2729,1726,1165,5156,1953,4882,2809,3148,2306,2063,0,3738,3931,3931,3931,0,0,3408,0,3531,0,0,0,1337,1599,1892,2788,927,0,2346,0,0,4245,1597,1051,1821,3385,1751,786,3511,6082,0,5036,7667,0,0,0,0,4142,3600,3050,2601,3507,4852,4322,2537,0,7662,418,529,766,0,0,0,2103,0,0,0,3436,2425,3067,3663,0,1436,1377,558,0,0,0,0,1943,1938,3069,3000,1002,1080,1644,1846,2531,2385,2171,2842,871,4388,594,3627,3611,0,0,0,4479,4538,1896,0,2600,1194,1622,2778,2817,2254,1169,668,0,0,0,0,1851,2509,1371,2301,3985,4138,1422,1161,0,2257,1247,1819,2819,2968,0,0,3160,3106,2234,3160,1412,2903,1807,2567,826,1143,908,4199,3025,3446,2961,2553,2901,0,0,0,3492,1867,1275,490,3743,2996,0,0,3109,3002,3881,0,2386,0,0,0,3644,2046,572,1081,2021,2082,0,2734,2382,1459,2382,2382,0,2641,0,0,0,0,0,0,2399,3278,1174,3276,3398,3170,5831,4079,1717,559,0,535,410,945,0,630,0,0,0,0,578,4604,614,0,3733,0,4104,0,0,0,0,0,0,463,1924,0,2887,0,2009,0,4425,3580,1949,1133,926,0,0,2999,0,0,0,0,4696,0,0,0,270,3663,1781,906,1903,4394,3700,4150,1334,0,0,0,4197,0,3244,4065,3548,3698,1224,1461,0,0,0,2525,3276,3723,3111,4176,903,0,1581,2877,4689,2719,3982,3314,3554,3289,7039,2055,0,6273,0,0,3641,3176,2530,2823,0,2285,749,3465,6687,3163,3574,4852,1015,2944,4083,3639,2665,3289,2757,2522,3205,4361,1291,0,2193,3103,2589,5816,3690,3690,3690,3690,0,0,545,3214,2536,3243,2278,2536,996,2351,3318,3630,4301,1584,661,2201,1909,2897,3222,1247,2335,3715,2849,5035,3257,3062,4444,4881,3553,832,1552,0,0,0,0,0,652,3277,1590,0,4433,4134,1476,909,2408,1030,1620,2136,2137,3299,1413,7711,1140,0,1338,1655,4975,4868,1559,4457,0,0,0,0,0,0,0,0,3144,0,0,0,1360,713,0,735,0,511,0,1670,835,5843,0,802,1329,0,1146,2426,0,3805,535,1065,2637,5578,2650,2192,2154,1641,2339,2154,0,0,0,0,7303,876,0,2801,2959,7467,3209,7647,3185,2500,3162,2367,0,0,0,0,463,0,0,0,3263,3684,2963,1499,2527,2942,3404,1424,0,0,0,0,3075,3227,3661,1613,1597,0,0,0,0,4121,1965,0,0,0,0,0,0,0,2540,0,1086,1086,1086,1086,1002,1584,590,2447,3076,936,0,0,0,0,0,0,0,0,0,0,0,1310,0,0,2114,1499,1964,2122,1354,0,0,1354,2565,4022,5762,2341,3743,7123,1459,2397,1584,0,0,0,3744,0,0,0,1360,0,2415,7669,0,0,0,0,2483,0,0,0,1259,4570,3124,0,3235,0,2671,2693,0,0,0,0,1364,0,0,758,6283,3409,1382,2854,1275,2870,0,1177,810,4026,1222,3243,1998,0,0,0,6219,2533,842,1077,2724,2037,0,1677,3255,2617,3563,3563,0,0,0,2064,2866,1795,0,1804,2097,1768,2348,1431,3364,1147,0,0,2945,1325,2522,3913,3136,0,1631,2520,0,0,0,0,0,2500,0,0,4828,360,3239,597,679,1690,0,2777,559,2725,2533,2811,4750,2586,3347,1251,1195,627,714,4123,3518,2101,3518,2273,2064,4138,3149,0,0,2255,0,1338,0,1603,0,0,2471,2104,2275,2270,0,0,0,0,2558,1152,3560,3462,572,1650,2550,1693,1294,2980,4316,0,2636,2954,2826,1122,3384,3384,1857,7688,0,0,0,0,0,7443,0,0,3588,0,0,0,0,0,0,0,0,3367,0,1732,0,2451,2517,0,2288,3119,0,2349,0,0,0,0,0,0,0,0,0,0,0,0,0,0,0,0,918,968,918,3386,0,0,0,0,3026,0,0,2748,0,0,0,0,0,0,0,0,3617,1292,390,0,4193,3783,2647,1970,5233,0,1595,3182,0,0,0,0,0,0,0,0,0,0,0,0,0,0,0,0,0,0,0,0,0,0,0,0,0,0,0,0,5387,7301,1293,0,1997,2012,0,7641,689,1643,865,4422,0,0,0,0,5802,2855,3953,3208,1701,5055,2008,2252,918,918,918,918,2085,0,0,0,1652,7676,1266,2377,905,2719,3748,1065,0,2754,3141,7531,1975,3609,1975,3609,1882,823,5330,0,6864,2119,1674,2629,1677,1895,3635,3977,5112,789,796,0,3244,0,3829,3501,2489,1359,1949,2532,7693,4814,3716,4814,7148,2929,1334,3515,2427,1926,2554,3080,0,0,0,0,2414,2455,4276,3065,0,704,0,0,0,1024,942,0,3046,1406,1669,2754,1910,430,1724,3829,2795,0,3233,0,0,0,0,0,0,0,0,0,0,0,796,0,1152,3464,1152,1152,2649,3371,3190,801,1101,2983,628,2404,1609,541,4664,3121,1293,703,4989,1829,1695,0,0,4334,496,1835,814,2847,6058,2618,0,902,1907,1150,0,1573,0,0,0,0,3214,3108,2763,2718,0,0,0,0,3552,0,0,0,1793,2312,4876,3349,2145,2399,3454,1213,0,0,0,0,0,0,0,0,3244,0,0,2862,3323,0,0,3056,3008,0,0,3664,2731,3603,3617,3593,2858,4388,3502,0,2205,0,0,0,7512,1609,2195,3153,4684,2497,0,0,7639,2577,2545,1140,621,0,0,0,6673,3313,3014,3020,2428,1943,2410,2744,3603,1713,3520,1236,0,0,0,0,1230,0,0,0,3474,3912,2162,1984,1958,1359,2049,1358,0,0,0,0,2384,3270,0,0,0,0,0,0,574,459,1411,2854,6606,1627,3577,2415,860,0,0,0,0,3778,3411,5680,1975,2712,3251,3840,2313,1135,0,2313,1642,2121,3362,3388,850,2258,3053,2616,0,0,1278,1356,1613,2594,4124,2550,0,0,0,0,3257,3257,3257,3257,3293,3158,3245,751,2855,5138,2377,3159,0,0,0,0,1844,1844,1844,1844,3375,4229,0,2930,1763,6988,4682,2573,7534,1356,459,3838,0,0,0,955,826,1876,221,1970,3102,0,3218,1492,2975,0,0,0,0,0,2510,0,2528,2518,0,2629,0,0,0,7686,0,0,0,0,2660,1585,3818,919,3541,4123,0,1157,1887,0,1180,0,1290,3130,3539,0,2132,1084,0,827,1704,1986,924,2044,733,0,0,0,4724,2157,3422,1848,3217,1746,4629,4044,2045,0,1782,0,5735,0,0,0,3244,0,0,0,1059,1059,0,0,2751,4297,7693,710,2074,1999,1821,3502,0,0,0,0,5484,4148,3083,3214,3577,2889,3303,0,830,2339,2811,2908,1192,1917,0,1186,859,1985,2636,758,1408,3384,2843,4765,1305,2344,1358,1006,588,4068,0,0,2783,2100,2783,0,2799,2486,977,949,3870,1638,2954,2452,1705,4311,907,1336,2613,0,0,0,0,3609,1941,0,0,0,0,0,0,0,3190,2641,2867,2773,3608,3629,2284,2916,765,3353,3940,934,0,2890,1769,2249,513,0,2115,2689,2914,0,2960,2581,0,927,1293,2063,1050,466,3250,0,1253,2575,3092,1927,3360,2020,3949,1222,3210,1538,2195,1545,2195,642,2458,2710,1986,1872,0,0,1778,0,2083,2083,2765,4760,0,2524,0,0,0,0,0,0,2176,0,0,0,0,0,688,2164,1873,0,2669,0,1496,2527,2571,1988,1133,2592,1090,813,2053,1816,2814,964,781,2512,7515,1821,1101,2845,2893,2040,4373,0,2513,1053,0,0,0,0,0,0,0,0,0,0,0,0],\"xaxis\":\"x\",\"yaxis\":\"y\",\"type\":\"histogram\"}],                        {\"template\":{\"data\":{\"bar\":[{\"error_x\":{\"color\":\"#2a3f5f\"},\"error_y\":{\"color\":\"#2a3f5f\"},\"marker\":{\"line\":{\"color\":\"#E5ECF6\",\"width\":0.5},\"pattern\":{\"fillmode\":\"overlay\",\"size\":10,\"solidity\":0.2}},\"type\":\"bar\"}],\"barpolar\":[{\"marker\":{\"line\":{\"color\":\"#E5ECF6\",\"width\":0.5},\"pattern\":{\"fillmode\":\"overlay\",\"size\":10,\"solidity\":0.2}},\"type\":\"barpolar\"}],\"carpet\":[{\"aaxis\":{\"endlinecolor\":\"#2a3f5f\",\"gridcolor\":\"white\",\"linecolor\":\"white\",\"minorgridcolor\":\"white\",\"startlinecolor\":\"#2a3f5f\"},\"baxis\":{\"endlinecolor\":\"#2a3f5f\",\"gridcolor\":\"white\",\"linecolor\":\"white\",\"minorgridcolor\":\"white\",\"startlinecolor\":\"#2a3f5f\"},\"type\":\"carpet\"}],\"choropleth\":[{\"colorbar\":{\"outlinewidth\":0,\"ticks\":\"\"},\"type\":\"choropleth\"}],\"contour\":[{\"colorbar\":{\"outlinewidth\":0,\"ticks\":\"\"},\"colorscale\":[[0.0,\"#0d0887\"],[0.1111111111111111,\"#46039f\"],[0.2222222222222222,\"#7201a8\"],[0.3333333333333333,\"#9c179e\"],[0.4444444444444444,\"#bd3786\"],[0.5555555555555556,\"#d8576b\"],[0.6666666666666666,\"#ed7953\"],[0.7777777777777778,\"#fb9f3a\"],[0.8888888888888888,\"#fdca26\"],[1.0,\"#f0f921\"]],\"type\":\"contour\"}],\"contourcarpet\":[{\"colorbar\":{\"outlinewidth\":0,\"ticks\":\"\"},\"type\":\"contourcarpet\"}],\"heatmap\":[{\"colorbar\":{\"outlinewidth\":0,\"ticks\":\"\"},\"colorscale\":[[0.0,\"#0d0887\"],[0.1111111111111111,\"#46039f\"],[0.2222222222222222,\"#7201a8\"],[0.3333333333333333,\"#9c179e\"],[0.4444444444444444,\"#bd3786\"],[0.5555555555555556,\"#d8576b\"],[0.6666666666666666,\"#ed7953\"],[0.7777777777777778,\"#fb9f3a\"],[0.8888888888888888,\"#fdca26\"],[1.0,\"#f0f921\"]],\"type\":\"heatmap\"}],\"heatmapgl\":[{\"colorbar\":{\"outlinewidth\":0,\"ticks\":\"\"},\"colorscale\":[[0.0,\"#0d0887\"],[0.1111111111111111,\"#46039f\"],[0.2222222222222222,\"#7201a8\"],[0.3333333333333333,\"#9c179e\"],[0.4444444444444444,\"#bd3786\"],[0.5555555555555556,\"#d8576b\"],[0.6666666666666666,\"#ed7953\"],[0.7777777777777778,\"#fb9f3a\"],[0.8888888888888888,\"#fdca26\"],[1.0,\"#f0f921\"]],\"type\":\"heatmapgl\"}],\"histogram\":[{\"marker\":{\"pattern\":{\"fillmode\":\"overlay\",\"size\":10,\"solidity\":0.2}},\"type\":\"histogram\"}],\"histogram2d\":[{\"colorbar\":{\"outlinewidth\":0,\"ticks\":\"\"},\"colorscale\":[[0.0,\"#0d0887\"],[0.1111111111111111,\"#46039f\"],[0.2222222222222222,\"#7201a8\"],[0.3333333333333333,\"#9c179e\"],[0.4444444444444444,\"#bd3786\"],[0.5555555555555556,\"#d8576b\"],[0.6666666666666666,\"#ed7953\"],[0.7777777777777778,\"#fb9f3a\"],[0.8888888888888888,\"#fdca26\"],[1.0,\"#f0f921\"]],\"type\":\"histogram2d\"}],\"histogram2dcontour\":[{\"colorbar\":{\"outlinewidth\":0,\"ticks\":\"\"},\"colorscale\":[[0.0,\"#0d0887\"],[0.1111111111111111,\"#46039f\"],[0.2222222222222222,\"#7201a8\"],[0.3333333333333333,\"#9c179e\"],[0.4444444444444444,\"#bd3786\"],[0.5555555555555556,\"#d8576b\"],[0.6666666666666666,\"#ed7953\"],[0.7777777777777778,\"#fb9f3a\"],[0.8888888888888888,\"#fdca26\"],[1.0,\"#f0f921\"]],\"type\":\"histogram2dcontour\"}],\"mesh3d\":[{\"colorbar\":{\"outlinewidth\":0,\"ticks\":\"\"},\"type\":\"mesh3d\"}],\"parcoords\":[{\"line\":{\"colorbar\":{\"outlinewidth\":0,\"ticks\":\"\"}},\"type\":\"parcoords\"}],\"pie\":[{\"automargin\":true,\"type\":\"pie\"}],\"scatter\":[{\"marker\":{\"colorbar\":{\"outlinewidth\":0,\"ticks\":\"\"}},\"type\":\"scatter\"}],\"scatter3d\":[{\"line\":{\"colorbar\":{\"outlinewidth\":0,\"ticks\":\"\"}},\"marker\":{\"colorbar\":{\"outlinewidth\":0,\"ticks\":\"\"}},\"type\":\"scatter3d\"}],\"scattercarpet\":[{\"marker\":{\"colorbar\":{\"outlinewidth\":0,\"ticks\":\"\"}},\"type\":\"scattercarpet\"}],\"scattergeo\":[{\"marker\":{\"colorbar\":{\"outlinewidth\":0,\"ticks\":\"\"}},\"type\":\"scattergeo\"}],\"scattergl\":[{\"marker\":{\"colorbar\":{\"outlinewidth\":0,\"ticks\":\"\"}},\"type\":\"scattergl\"}],\"scattermapbox\":[{\"marker\":{\"colorbar\":{\"outlinewidth\":0,\"ticks\":\"\"}},\"type\":\"scattermapbox\"}],\"scatterpolar\":[{\"marker\":{\"colorbar\":{\"outlinewidth\":0,\"ticks\":\"\"}},\"type\":\"scatterpolar\"}],\"scatterpolargl\":[{\"marker\":{\"colorbar\":{\"outlinewidth\":0,\"ticks\":\"\"}},\"type\":\"scatterpolargl\"}],\"scatterternary\":[{\"marker\":{\"colorbar\":{\"outlinewidth\":0,\"ticks\":\"\"}},\"type\":\"scatterternary\"}],\"surface\":[{\"colorbar\":{\"outlinewidth\":0,\"ticks\":\"\"},\"colorscale\":[[0.0,\"#0d0887\"],[0.1111111111111111,\"#46039f\"],[0.2222222222222222,\"#7201a8\"],[0.3333333333333333,\"#9c179e\"],[0.4444444444444444,\"#bd3786\"],[0.5555555555555556,\"#d8576b\"],[0.6666666666666666,\"#ed7953\"],[0.7777777777777778,\"#fb9f3a\"],[0.8888888888888888,\"#fdca26\"],[1.0,\"#f0f921\"]],\"type\":\"surface\"}],\"table\":[{\"cells\":{\"fill\":{\"color\":\"#EBF0F8\"},\"line\":{\"color\":\"white\"}},\"header\":{\"fill\":{\"color\":\"#C8D4E3\"},\"line\":{\"color\":\"white\"}},\"type\":\"table\"}]},\"layout\":{\"annotationdefaults\":{\"arrowcolor\":\"#2a3f5f\",\"arrowhead\":0,\"arrowwidth\":1},\"autotypenumbers\":\"strict\",\"coloraxis\":{\"colorbar\":{\"outlinewidth\":0,\"ticks\":\"\"}},\"colorscale\":{\"diverging\":[[0,\"#8e0152\"],[0.1,\"#c51b7d\"],[0.2,\"#de77ae\"],[0.3,\"#f1b6da\"],[0.4,\"#fde0ef\"],[0.5,\"#f7f7f7\"],[0.6,\"#e6f5d0\"],[0.7,\"#b8e186\"],[0.8,\"#7fbc41\"],[0.9,\"#4d9221\"],[1,\"#276419\"]],\"sequential\":[[0.0,\"#0d0887\"],[0.1111111111111111,\"#46039f\"],[0.2222222222222222,\"#7201a8\"],[0.3333333333333333,\"#9c179e\"],[0.4444444444444444,\"#bd3786\"],[0.5555555555555556,\"#d8576b\"],[0.6666666666666666,\"#ed7953\"],[0.7777777777777778,\"#fb9f3a\"],[0.8888888888888888,\"#fdca26\"],[1.0,\"#f0f921\"]],\"sequentialminus\":[[0.0,\"#0d0887\"],[0.1111111111111111,\"#46039f\"],[0.2222222222222222,\"#7201a8\"],[0.3333333333333333,\"#9c179e\"],[0.4444444444444444,\"#bd3786\"],[0.5555555555555556,\"#d8576b\"],[0.6666666666666666,\"#ed7953\"],[0.7777777777777778,\"#fb9f3a\"],[0.8888888888888888,\"#fdca26\"],[1.0,\"#f0f921\"]]},\"colorway\":[\"#636efa\",\"#EF553B\",\"#00cc96\",\"#ab63fa\",\"#FFA15A\",\"#19d3f3\",\"#FF6692\",\"#B6E880\",\"#FF97FF\",\"#FECB52\"],\"font\":{\"color\":\"#2a3f5f\"},\"geo\":{\"bgcolor\":\"white\",\"lakecolor\":\"white\",\"landcolor\":\"#E5ECF6\",\"showlakes\":true,\"showland\":true,\"subunitcolor\":\"white\"},\"hoverlabel\":{\"align\":\"left\"},\"hovermode\":\"closest\",\"mapbox\":{\"style\":\"light\"},\"paper_bgcolor\":\"white\",\"plot_bgcolor\":\"#E5ECF6\",\"polar\":{\"angularaxis\":{\"gridcolor\":\"white\",\"linecolor\":\"white\",\"ticks\":\"\"},\"bgcolor\":\"#E5ECF6\",\"radialaxis\":{\"gridcolor\":\"white\",\"linecolor\":\"white\",\"ticks\":\"\"}},\"scene\":{\"xaxis\":{\"backgroundcolor\":\"#E5ECF6\",\"gridcolor\":\"white\",\"gridwidth\":2,\"linecolor\":\"white\",\"showbackground\":true,\"ticks\":\"\",\"zerolinecolor\":\"white\"},\"yaxis\":{\"backgroundcolor\":\"#E5ECF6\",\"gridcolor\":\"white\",\"gridwidth\":2,\"linecolor\":\"white\",\"showbackground\":true,\"ticks\":\"\",\"zerolinecolor\":\"white\"},\"zaxis\":{\"backgroundcolor\":\"#E5ECF6\",\"gridcolor\":\"white\",\"gridwidth\":2,\"linecolor\":\"white\",\"showbackground\":true,\"ticks\":\"\",\"zerolinecolor\":\"white\"}},\"shapedefaults\":{\"line\":{\"color\":\"#2a3f5f\"}},\"ternary\":{\"aaxis\":{\"gridcolor\":\"white\",\"linecolor\":\"white\",\"ticks\":\"\"},\"baxis\":{\"gridcolor\":\"white\",\"linecolor\":\"white\",\"ticks\":\"\"},\"bgcolor\":\"#E5ECF6\",\"caxis\":{\"gridcolor\":\"white\",\"linecolor\":\"white\",\"ticks\":\"\"}},\"title\":{\"x\":0.05},\"xaxis\":{\"automargin\":true,\"gridcolor\":\"white\",\"linecolor\":\"white\",\"ticks\":\"\",\"title\":{\"standoff\":15},\"zerolinecolor\":\"white\",\"zerolinewidth\":2},\"yaxis\":{\"automargin\":true,\"gridcolor\":\"white\",\"linecolor\":\"white\",\"ticks\":\"\",\"title\":{\"standoff\":15},\"zerolinecolor\":\"white\",\"zerolinewidth\":2}}},\"xaxis\":{\"anchor\":\"y\",\"domain\":[0.0,1.0],\"title\":{\"text\":\"Multi core score\"}},\"yaxis\":{\"anchor\":\"x\",\"domain\":[0.0,1.0],\"title\":{\"text\":\"count\"}},\"legend\":{\"tracegroupgap\":0},\"margin\":{\"t\":60},\"barmode\":\"relative\"},                        {\"responsive\": true}                    ).then(function(){\n",
              "                            \n",
              "var gd = document.getElementById('9b86d145-bcc7-45ea-8e75-d6ff5d38f08d');\n",
              "var x = new MutationObserver(function (mutations, observer) {{\n",
              "        var display = window.getComputedStyle(gd).display;\n",
              "        if (!display || display === 'none') {{\n",
              "            console.log([gd, 'removed!']);\n",
              "            Plotly.purge(gd);\n",
              "            observer.disconnect();\n",
              "        }}\n",
              "}});\n",
              "\n",
              "// Listen for the removal of the full notebook cells\n",
              "var notebookContainer = gd.closest('#notebook-container');\n",
              "if (notebookContainer) {{\n",
              "    x.observe(notebookContainer, {childList: true});\n",
              "}}\n",
              "\n",
              "// Listen for the clearing of the current output cell\n",
              "var outputEl = gd.closest('.output');\n",
              "if (outputEl) {{\n",
              "    x.observe(outputEl, {childList: true});\n",
              "}}\n",
              "\n",
              "                        })                };                            </script>        </div>\n",
              "</body>\n",
              "</html>"
            ]
          },
          "metadata": {}
        }
      ]
    },
    {
      "cell_type": "code",
      "source": [
        "fig = px.histogram(comp_specs_Details, x=\"OpenCL score\")\n",
        "fig.show()"
      ],
      "metadata": {
        "colab": {
          "base_uri": "https://localhost:8080/",
          "height": 542
        },
        "id": "GduyagA0zVOQ",
        "outputId": "71ec2a22-7bb7-472b-ef11-4b01097ba53b"
      },
      "execution_count": 179,
      "outputs": [
        {
          "output_type": "display_data",
          "data": {
            "text/html": [
              "<html>\n",
              "<head><meta charset=\"utf-8\" /></head>\n",
              "<body>\n",
              "    <div>            <script src=\"https://cdnjs.cloudflare.com/ajax/libs/mathjax/2.7.5/MathJax.js?config=TeX-AMS-MML_SVG\"></script><script type=\"text/javascript\">if (window.MathJax) {MathJax.Hub.Config({SVG: {font: \"STIX-Web\"}});}</script>                <script type=\"text/javascript\">window.PlotlyConfig = {MathJaxConfig: 'local'};</script>\n",
              "        <script src=\"https://cdn.plot.ly/plotly-2.8.3.min.js\"></script>                <div id=\"29e344d7-ef19-4907-98a5-e7c1870ef93c\" class=\"plotly-graph-div\" style=\"height:525px; width:100%;\"></div>            <script type=\"text/javascript\">                                    window.PLOTLYENV=window.PLOTLYENV || {};                                    if (document.getElementById(\"29e344d7-ef19-4907-98a5-e7c1870ef93c\")) {                    Plotly.newPlot(                        \"29e344d7-ef19-4907-98a5-e7c1870ef93c\",                        [{\"alignmentgroup\":\"True\",\"bingroup\":\"x\",\"hovertemplate\":\"OpenCL score=%{x}<br>count=%{y}<extra></extra>\",\"legendgroup\":\"\",\"marker\":{\"color\":\"#636efa\",\"pattern\":{\"shape\":\"\"}},\"name\":\"\",\"offsetgroup\":\"\",\"orientation\":\"v\",\"showlegend\":false,\"x\":[0,3167,3002,2946,5735,10951,0,6119,8153,65910,4750,12370,0,35012,33704,65250,43776,2264,39737,64181,22699,22659,6383,4977,15354,15590,5320,11373,8557,4786,3363,3477,19103,6101,2530,2449,5105,1325,3297,7295,5490,14264,6439,812,4186,6350,4695,10909,4544,42122,11768,9577,8067,65600,5999,11874,7211,0,10375,4687,36957,0,38922,44609,41394,41394,41394,41394,44790,36008,13755,40251,4842,85290,45391,39777,2399,4951,4573,6205,0,0,9923,0,7019,2726,0,0,37313,0,32815,3845,0,45157,0,10295,4584,17617,864,226,27873,8653,4468,3644,13309,6216,0,948,5595,36747,8732,0,4892,0,2766,0,41529,3833,39624,1589,0,2434,8862,0,0,0,10620,34058,35789,0,10773,9472,0,0,0,0,0,0,0,4745,24786,10877,48862,5572,0,2487,0,0,5011,0,669,38839,40468,23886,39201,66454,2865,0,30220,0,7712,33682,4501,16548,21091,39183,5805,0,40788,5282,6143,39127,0,0,4507,7377,11508,4299,5298,0,5031,73274,4807,10928,5032,4530,7622,42703,46325,0,0,8763,22837,60895,67875,43687,42054,29423,8877,2640,39447,10374,8027,11350,41428,7354,9884,2385,4345,23797,0,5655,4925,5163,4496,3952,0,0,42074,0,9954,25002,0,7702,0,4052,4159,4033,1057,2194,890,0,1377,10404,7494,5039,40324,10963,4780,45873,10869,5747,37318,2156,0,5405,23629,23410,2538,0,73985,0,10165,40721,0,5180,6532,41399,2067,33036,4101,948,0,4316,39536,11365,20316,3656,0,32420,2617,20990,38928,3905,35903,41279,11135,5530,6421,37086,0,0,0,0,256,6453,40787,393,8765,41945,2544,0,5245,17645,42104,0,0,4702,1990,0,9600,7172,0,55070,0,0,6021,3355,43970,40953,11150,13599,33986,4767,0,4663,38115,50661,11454,5302,781,3976,0,0,37535,8007,44636,43364,3126,30679,3893,4515,10303,1983,4917,5010,70560,52943,0,45559,7312,0,10780,0,4690,11090,4706,10593,5827,3431,22409,0,0,42789,42396,4688,3334,38629,0,11317,0,0,2314,2693,35415,34860,0,17574,47176,0,31070,0,0,24694,7627,4069,0,0,0,0,33412,32663,15038,19293,7055,38675,0,18525,4908,7520,0,5409,37793,15857,4144,4335,4502,0,5829,0,3539,14149,0,4532,7277,102952,4438,20450,2799,44761,5564,20853,38483,2666,3098,0,35510,0,41511,22905,11499,5779,63846,4735,36002,0,0,0,4894,0,0,2717,2983,6957,36739,3676,0,7655,1606,37914,18375,7777,26748,20580,51342,17435,11738,0,18783,18783,17268,41549,22747,3959,10510,33047,4323,5312,4730,5030,3531,38479,3484,8209,8728,0,0,3044,38344,8187,12043,4729,8646,9219,9442,4357,11317,4905,10651,5736,44999,0,4774,2252,2740,0,37722,0,0,38856,40134,2676,11262,34968,11310,2542,4865,0,6164,20944,4133,2219,3201,7229,7615,65340,10327,7561,15335,34437,7529,3678,8943,6572,2740,11026,10933,5498,7377,0,0,30101,11060,4447,11531,8539,4228,38518,4300,4866,7448,7742,0,0,0,0,2508,42127,0,1991,4527,4053,11704,5209,3133,4820,5598,3806,9072,0,27018,35814,44883,41381,57772,40678,5040,0,8682,46042,6986,3018,7799,65827,5424,3722,8104,2732,60379,5557,9033,7392,0,0,0,0,3221,1050,14211,4646,0,0,0,0,41113,0,4749,0,9663,35343,0,0,7503,87009,35676,4997,71675,5478,3985,30762,38909,51903,10191,3522,0,529,0,2492,0,0,0,0,31011,14655,3120,3890,9997,0,8712,4310,0,0,40996,2622,3826,3826,1714,0,0,40555,86833,37830,0,0,33072,0,16699,4420,12465,5157,42488,46206,41028,39934,0,3471,3449,40851,5608,6935,10291,3849,4654,42987,44763,0,7204,4717,0,4008,5484,8991,0,0,7386,41031,6674,0,4956,0,5072,7527,10418,3238,11560,17957,0,570,5076,3541,35028,39280,0,0,62071,0,40406,0,0,0,41252,19045,0,4838,4508,4212,59280,9191,23339,12238,12722,32376,6429,45799,7680,27978,10944,38817,41140,36877,9239,43207,3870,10560,13748,2022,4646,34702,18510,11598,0,5371,0,0,1182,4876,4696,40935,4943,24793,2789,4726,11881,3439,0,5086,21126,36975,19076,5183,4762,35961,4502,0,8590,7416,35546,17570,2795,12260,4210,1476,5427,41091,0,4989,32240,16671,3308,36635,0,33572,0,6186,5124,1570,8933,687,2533,929,907,1663,0,3838,884,0,2408,0,5933,17454,7600,36065,0,904,4444,0,4371,855,40727,2102,4444,9855,27726,3474,5976,4327,8018,7914,3283,906,2716,8573,18297,4730,0,0,36293,0,9922,6512,4206,40627,22359,4820,10299,4820,4956,6842,6997,0,16346,6516,40664,5579,9249,4578,4952,4611,5303,2439,3711,719,6603,37428,45247,41997,4137,0,2572,4949,0,66530,4864,4526,12700,2688,4638,4724,10407,33935,69847,0,24124,26007,0,0,0,2072,0,40552,35120,4534,7374,0,2548,5591,6099,4867,10304,21884,27482,8507,0,27296,5963,5275,17295,39492,8165,64434,4128,4474,0,1589,4602,0,19099,0,11347,2848,35891,45482,5191,5127,16800,4433,7728,6699,39260,43793,17604,4986,11692,5153,41430,5022,45503,0,4732,0,0,4539,10984,5079,3903,5793,0,0,0,46479,5205,11231,1680,54920,56951,4110,0,42629,4737,3742,4239,7723,3832,16767,5544,18677,4509,37696,13304,0,11729,2193,0,4751,41411,0,3468,887,72325,11035,5109,0,10223,4188,8230,4812,5303,4174,5165,27892,44433,6830,43515,0,45797,22576,32675,15527,42793,42981,38984,73748,7220,3806,28056,28030,11354,0,0,0,0,0,0,0,35931,3989,4478,0,5130,4002,4798,44357,0,3999,0,0,4037,7286,4691,0,25134,18613,40392,25881,10924,4703,16431,870,7945,20770,5007,2756,45367,57993,9086,2413,975,9126,3715,39994,0,5759,0,4834,4697,42711,1774,10569,35513,0,0,4707,10752,1279,38386,37214,19717,34247,38168,0,7029,0,6694,0,16684,38651,26953,0,19342,2768,7430,4893,122150,22128,85476,2436,0,0,0,0,0,39115,0,22172,41306,1783,11871,7376,969,19428,0,33063,5441,10353,3680,11631,11294,43366,42545,0,41279,42102,4509,9444,0,0,1839,0,4371,0,0,5063,0,4725,18544,0,19268,0,5152,0,2500,2500,34258,9750,33771,4878,4742,2400,30683,0,25286,0,8627,8627,16568,35028,0,0,0,5383,7732,0,0,5046,4784,3710,5045,2788,42638,0,4335,15506,29677,37948,0,5463,5653,0,4221,36401,7834,0,7852,13327,4618,4371,3852,0,17393,16860,4184,9575,5701,5665,0,0,5098,0,1404,4630,0,0,0,11913,7690,45445,7409,13297,40329,5478,3949,4316,44779,50391,5693,18993,44995,38651,3913,44753,0,4377,5659,9085,8177,8824,0,0,18035,41216,39445,891,37161,22767,3726,4709,35673,0,8841,25517,6501,11817,21294,36431,39806,3380,5658,36062,7647,40551,5206,40189,3997,31734,75936,44698,0,8284,0,1027,8145,2506,3486,35796,7636,5582,39815,3477,0,4468,5216,0,51735,39964,6608,38265,9605,9605,0,62522,11091,41695,0,36177,12096,19686,0,0,916,33104,910,4899,0,0,19063,11872,5677,0,0,38333,0,2322,0,0,47041,3354,7594,36679,0,0,28097,0,40940,4364,4524,1448,7779,5389,0,1945,3953,39837,37840,11397,1732,0,0,0,7685,10462,0,0,17800,6378,4956,51229,0,0,0,0,39973,40484,11942,0,4759,14444,54478,11421,10444,22319,37166,0,29619,9691,0,1587,7675,21114,40341,44074,9314,7130,36974,0,1921,9436,5088,35965,62899,48515,39422,0,7365,0,3689,4579,28752,4869,12280,5527,6070,4039,17951,15851,35615,38189,5934,22486,13692,34793,44775,0,4525,0,39199,0,2079,20804,11774,15368,7504,0,3076,5115,11071,0,4934,61179,5737,0,1937,44126,4708,0,2698,3896,0,0,0,50047,40203,4654,39438,36798,11793,5346,0,4146,5076,0,38140,42735,265,9852,36636,41137,0,36049,36221,11073,11669,0,0,0,9786,4768,0,1681,35211,10380,3619,0,9797,216,0,5763,3975,3449,0,0,10809,15934,5099,2357,2663,4454,2660,2591,2780,9514,11535,1660,5378,0,0,7293,14164,4335,0,0,967,0,447,0,0,38354,16903,11360,4726,5451,0,0,0,0,3600,4129,34483,9178,7929,9314,647,0,0,10688,5738,6138,5738,5738,5071,4216,3651,11152,11625,11752,9951,4634,6200,2532,7141,36078,0,0,0,0,48747,1943,34884,5205,41680,0,4700,0,38915,4897,4174,3705,3265,1913,6895,1053,7585,11306,41096,4960,0,3405,3390,0,3637,8621,8345,39368,0,20762,7248,7710,6212,5097,49472,2573,0,11542,0,0,7563,7453,4997,0,1705,2482,0,0,41814,0,38459,0,0,4835,0,4617,71402,39975,639,39585,5210,14467,5202,1540,0,0,0,0,0,16427,8683,11680,38519,3771,4558,3335,0,39009,0,43022,41164,9229,0,45032,0,0,0,0,0,4611,0,41734,2894,0,918,20110,19255,0,5023,0,2743,0,0,0,41733,3403,4554,10772,11753,2563,38545,5815,20740,5340,9392,12668,6978,36692,5132,4269,19424,61542,0,16479,35006,11886,0,5316,3665,11237,69805,1603,0,0,10558,0,27635,11561,2812,0,0,0,0,0,5093,0,3634,2295,4949,571,37782,7515,5679,4090,40353,7547,0,922,0,0,5225,41071,39046,3723,41760,33083,986,0,34171,0,8789,34361,20478,42458,0,3590,16550,2514,8069,68740,0,5079,0,0,0,0,30932,0,6181,0,0,0,0,0,0,0,36781,9958,34474,0,5451,0,0,15346,5479,36591,6178,0,5045,11929,78385,2740,9528,21596,78203,19199,6863,11510,38982,4144,6281,0,0,6068,0,5510,3500,0,2615,0,44424,6841,0,41099,10274,1511,4516,0,5651,0,4614,3270,2360,970,4662,0,0,0,5171,0,8031,0,0,7203,0,0,36286,4619,3884,0,12822,415,1001,0,0,0,0,0,4971,5725,0,9553,0,0,0,0,34510,3716,7586,5041,6040,31073,2396,2781,0,7046,8823,3791,41292,2845,3229,0,13646,0,0,924,3472,4737,0,39136,1584,0,4031,36139,4997,0,7317,5303,6459,18426,486,0,65876,0,0,0,1281,0,30666,7157,28672,6542,4285,5167,11385,5144,39762,0,5697,0,4293,4088,5394,4932,4268,65957,34543,18503,45314,17573,0,0,3148,0,37980,228,0,4864,5578,0,3961,4998,3677,40,4609,4033,35722,4515,0,29814,4748,5281,6157,2442,0,0,0,0,5045,4466,1693,0,0,0,10029,0,1647,0,0,0,8444,9556,10626,4370,65145,4794,0,5486,40315,2221,3881,28953,8592,0,0,0,4222,3433,8165,4723,4068,5859,0,0,4156,3854,9415,4499,4331,0,0,0,4784,4600,901,2646,0,0,0,0,0,0,0,0,2246,0,13828,4837,5929,38942,10818,11777,11036,44594,67444,44303,5117,0,3630,539,40527,9471,4059,0,3634,40797,0,14797,5532,20324,9266,0,7528,4526,16052,9735,5771,0,3133,3642,38353,1641,40100,0,5516,2776,5310,3360,3847,4655,11182,4387,6699,4408,45010,0,0,0,4022,3330,32430,859,3949,0,868,42219,973,11635,0,4941,7409,532,3528,38474,38474,40877,7631,4549,300,4970,0,0,5081,0,4681,9426,6223,2498,3722,0,0,83888,40915,4685,3396,18973,0,0,0,0,945,939,936,0,300,0,0,0,0,0,1838,34199,0,0,0,0,7664,42952,9881,0,5319,0,0,0,0,5167,0,0,28247,0,5794,4285,0,0,3617,1238,28884,2607,370,38176,4243,0,0,4849,39866,1370,5232,34967,0,0,5154,0,23872,5420,9914,36280,39602,36753,35885,6140,0,0,0,0,1901,927,0,0,2470,8823,0,2433,3003,11630,42297,4575,5090,5190,36069,2626,22437,53791,20796,7398,0,0,55018,0,931,0,0,0,8547,0,0,3330,7586,11904,4081,0,7309,4326,5598,7437,5154,7895,0,1852,2411,948,0,920,10811,10169,0,0,37588,3817,0,37497,5731,10698,0,5240,0,0,0,0,3073,2434,2324,7428,0,0,0,0,41454,12075,0,10500,8319,10082,11625,4030,23305,0,0,41105,63566,0,40441,41125,4760,5742,4316,5377,35440,19458,1494,38331,39846,4852,14870,18204,139294,5338,11581,41753,0,3656,4225,13595,7551,1254,18707,880,3746,0,41985,3738,0,44887,22757,0,4425,4823,4719,7557,10745,7589,13577,0,0,0,0,0,1576,0,0,0,0,4380,4504,0,5748,18567,870,39059,1093,5137,4471,10039,11963,0,1792,0,947,0,0,0,4887,8356,0,31424,0,0,41772,0,3800,7718,10288,3968,66377,0,4700,8224,0,0,1043,0,0,0,35026,1761,34965,4351,6516,8492,10250,0,5109,0,4455,5098,0,0,0,0,0,4403,0,2543,934,3182,7461,59620,42670,10931,10785,4579,4473,6614,31238,11328,3067,7667,0,4001,0,0,963,5185,3803,29423,27742,13235,7591,2869,0,948,0,0,4532,5787,5155,1400,0,0,7095,0,0,1686,910,939,2079,40476,0,0,391,4769,0,0,9894,2137,13193,10721,0,40200,1607,44959,34831,0,7117,4960,14662,4914,34793,0,9250,12530,1325,4317,10294,0,2428,3748,0,9079,41193,5902,5490,4553,11626,2479,37963,23547,7790,35895,0,0,0,0,7999,0,5368,0,877,134540,40282,34845,4911,732,16929,3872,0,0,0,0,4692,35846,0,3437,22667,5079,3759,10508,4495,7679,13916,38863,7274,4411,7563,5117,0,0,2005,0,0,7458,3652,3764,1770,0,0,57916,62509,12642,5365,37105,5084,5259,13839,41213,15050,11102,3786,7343,4055,0,0,0,2479,62024,4696,5322,9564,0,4402,4683,2611,0,0,0,0,11662,5006,4691,0,4875,4609,5625,1349,0,5279,0,842,0,722,4779,0,0,0,5451,8045,5603,7053,0,8574,9638,4836,4301,16564,7894,25782,41291,4822,4758,0,10127,0,0,0,4742,44379,62698,8601,34536,44969,7127,1024,35356,38389,0,0,0,0,0,0,0,0,0,4733,5084,0,0,0,0,1941,0,35358,6059,0,0,0,0,4796,62371,0,44941,35879,0,2542,1487,4205,41336,5131,40686,33616,4114,3058,2570,36971,0,2245,0,4607,3814,40781,0,9175,11309,45295,7242,50840,40507,0,38520,5216,0,0,0,17370,5385,12803,3749,4953,43834,0,0,38009,37849,11192,11037,0,4976,34770,14663,4996,37881,389,947,0,0,4862,37289,7786,3713,27898,27390,913,3977,6091,16404,0,0,0,36192,0,0,0,0,0,0,0,0,2504,4666,0,4124,5326,44676,39455,8216,0,35531,2800,0,3202,11532,0,0,25489,0,3918,0,4710,4710,35480,0,65165,0,0,41106,1952,0,0,4946,0,0,0,0,38783,19987,37216,4357,0,4552,8387,4451,36354,0,0,0,42108,10460,13649,5285,4722,7307,392,0,7393,6091,7576,9611,0,0,0,0,0,0,15254,36346,3844,6524,0,11424,0,0,0,0,15419,35143,0,3547,34574,42359,4473,1065,3787,3323,4968,42672,41500,964,34345,0,11568,5670,11640,18645,186,4028,7279,3338,0,2523,0,0,44178,866,0,1368,6864,4408,5218,4916,0,5882,4117,60112,4171,37679,76672,11381,0,0,5129,42168,2057,9018,6913,12390,43139,43139,34493,36539,7569,4643,0,38816,44455,8014,3971,40254,4062,5669,64139,34835,21751,53697,5264,3544,4083,40998,37387,11272,0,0,4732,0,3279,7474,7701,7639,1984,0,14866,8477,0,0,0,0,0,0,0,0,7365,22689,3781,946,4694,15153,5763,7157,1447,0,862,0,3798,38514,15005,7046,13730,0,1823,12097,0,0,3376,6065,42244,3344,6084,4140,0,0,0,0,0,0,0,0,10644,0,0,0,22745,64256,4971,4693,0,0,0,0,3770,222,3644,0,1321,4326,4250,7514,11750,0,5995,4683,8947,90,3939,5342,0,0,0,0,0,0,0,0,4014,4834,5114,0,6769,36755,10607,0,2192,4065,1045,0,102308,931,38704,8403,9685,39751,35229,4351,34368,0,1754,3911,0,0,0,0,6086,2619,5101,4420,1139,2065,0,0,9937,0,0,4723,0,18968,0,429,41494,11334,16991,5137,2727,41443,35886,1749,37712,9437,10271,41385,0,0,0,0,0,12962,4536,0,0,0,0,0,4486,884,2059,7207,0,0,0,0,37038,4633,2281,3423,30429,38533,2718,8942,42861,2888,10203,40758,4195,1865,0,5280,0,0,0,0,18560,6014,0,0,42726,42726,36354,42726,411,9922,0,65410,4466,34048,21455,50972,3671,45431,10057,4719,8001,28401,2569,11381,22188,10716,0,5623,881,881,943,965,26941,38752,5045,34483,25317,5209,10010,2367,37367,20477,10254,35474,39427,20218,23421,45482,3326,4909,34751,4009,0,0,0,0,2680,0,0,0,39992,0,0,0,39593,2797,4151,0,2542,11855,10534,3724,2603,4156,19141,10078,5632,0,0,2413,40605,34701,47011,0,0,0,0,0,0,0,5384,0,0,2777,35395,0,922,1259,804,901,5710,3808,6906,0,4640,0,0,0,3492,2811,37579,44783,3723,42596,6194,4252,39964,6698,5894,70156,18786,0,0,5097,5136,388,2744,9054,0,0,0,0,0,0,0,0,4869,4467,0,0,8374,11063,7613,3853,2547,11535,11998,0,41582,5857,1403,38728,13113,2163,10090,3148,6617,11943,2245,5060,11283,40994,66758,41523,0,11001,35923,8808,0,0,0,0,38060,3667,0,0,2584,8217,4108,7164,0,0,0,0,3606,5240,25206,38692,4636,33216,4927,34989,35571,0,18828,0,0,6188,37615,884,0,2318,27621,6311,0,0,11420,33195,31092,5365,17729,36251,380,62903,5066,11321,0,6987,11604,4486,7638,35065,11609,9971,41025,44166,13237,8032,36943,6213,4308,36943,73669,31537,8535,37857,3677,1941,7381,1177,0,0,0,0,0,0,2591,1140,35717,4633,3644,2848,35414,0,3074,0,69706,4373,7490,13355,1845,54396,6239,14353,35220,21629,4927,4534,2559,1422,35892,4582,2439,7301,4263,38688,5486,11417,0,0,5406,5406,5406,5406,71475,6028,4705,41107,45742,45742,5819,10524,23323,0,40472,10891,34192,0,946,74655,41141,5276,3687,43304,0,0,0,0,0,0,5652,0,34271,45079,61615,34764,8293,5871,7291,38763,17120,0,7007,7575,0,0,0,0,0,0,0,0,6375,5531,11934,5330,4611,31096,5682,10551,0,0,0,0,0,0,0,0,4216,15234,0,38607,11320,5021,0,4219,38881,20300,0,4466,10624,40163,0,7562,40766,6536,6666,0,41707,7428,39440,0,0,17176,17176,45742,34563,9337,0,8046,0,6413,0,3945,1902,4759,2158,5973,16327,44757,2586,1269,4801,5376,0,0,4528,460,0,38036,3628,3035,37664,4077,36007,5400,5016,41755,38597,7551,15210,12134,44815,0,18410,6501,0,7844,0,0,45158,13686,15136,0,4145,0,0,0,0,0,0,0,2557,7572,4096,3747,2461,58088,4719,0,1490,0,22475,22475,36668,3722,36300,71889,0,4444,40772,35485,0,0,0,0,97186,72501,37344,4789,18613,2048,0,18157,33943,0,0,4144,33670,15331,11879,33670,28819,38315,3889,35316,5323,5713,0,0,45077,37227,41379,35145,6061,0,4609,0,2406,35315,0,4727,3393,7724,7750,5513,38924,0,11227,4096,3001,29862,0,0,2671,36613,2834,0,0,4181,7194,6813,0,0,45268,8767,1692,4247,9121,6157,10256,37249,11206,17195,0,0,0,0,38797,0,2016,41657,35684,54554,6775,5005,3872,0,10241,0,940,0,803,0,0,3328,34580,5035,0,4805,0,7011,11245,14379,7652,36149,4898,0,0,4898,29962,16288,5532,0,4693,0,4752,0,34618,37873,3975,4667,4550,4999,3760,4989,4629,4925,36494,5294,3378,5373,11491,3567,0,5081,20392,4638,0,0,0,2968,5778,0,17848,4743,2099,1198,38623,38383,4265,4474,4417,3542,1940,4206,6185,35639,3717,4657,3697,0,0,0,0,0,1095,18060,5703,5249,11625,878,7111,34515,0,0,0,0,17255,4997,98236,32466,10680,65028,41418,4575,36014,3231,22279,3387,5464,59231,2438,65877,4458,3729,4318,0,1044,2411,2411,1044,11730,0,0,0,3540,3985,7452,9284,4713,5648,41279,3942,1594,0,0,0,5146,10980,0,3338,42048,62879,34413,9769,5587,4849,5499,0,4200,4200,4200,4200,0,0,0,0,0,38072,966,0,0,78046,3968,39657,4978,13810,29719,3569,4984,0,0,0,3695,3690,1963,3869,2798,0,0,9608,0,970,11146,0,6606,36749,2111,0,5605,3607,6866,3325,5240,2169,3870,4312,0,36124,2720,10592,39833,1646,3975,38949,2415,2415,3522,7835,0,0,4395,0,0,15379,4110,0,4697,0,0,0,0,0,0,0,40481,5484,5053,12212,5101,42431,15280,4336,0,0,0,0,0,4454,0,1135,7652,0,0,0,39116,5538,38575,11165,2417,6281,0,3674,0,3987,0,10885,0,0,0,0,10139,15760,18737,4903,10958,4459,3999,3638,5752,3694,0,4787,0,0,0,0,4945,9165,2358,8710,1933,3085,8084,3943,4840,10528,34955,9436,0,0,0,0,0,0,0,5596,12655,3718,5169,5180,8689,16036,13718,10471,0,0,0,0,72810,4093,3870,21977,5629,7238,5324,0,35207,6385,4730,858,2797,8146,0,38655,0,64082,7304,7486,4315,6755,0,37272,11709,11709,11709,0,0,43942,0,9249,0,0,0,0,3826,4424,8922,2524,0,6260,0,0,24367,1238,0,3830,1937,16292,229,40603,62502,0,44135,17074,0,0,0,0,12732,5576,4565,36709,38631,18199,11480,39089,0,19446,0,937,1961,0,0,0,4829,0,0,0,6937,7432,39900,18381,0,2746,0,0,0,0,0,0,4569,5003,10816,9701,0,0,4351,7572,10862,3097,7626,18949,1705,990,3427,13195,8884,0,0,0,11603,12607,8189,0,32610,4603,4475,8948,7818,4649,0,0,0,0,0,0,3224,7399,2231,5123,10803,10349,2839,4484,0,4704,3856,0,0,4625,0,0,38594,8426,40754,38594,0,41855,21293,7683,423,3777,2371,11149,5432,15255,4498,0,10398,0,0,0,0,3981,4832,2262,10821,10402,0,0,44271,4575,7540,0,0,0,0,0,9765,4517,934,4534,36669,13536,0,5161,0,4329,0,0,0,7018,0,0,0,0,0,0,35209,0,3975,5265,8410,2593,25723,0,1670,1645,0,2480,2548,4438,3597,371,0,0,0,0,2569,39815,2549,0,16594,0,7353,0,0,0,0,0,0,2597,8246,0,0,0,10085,0,30888,15210,7533,657,2550,0,0,5032,0,0,0,0,31564,0,0,0,856,36454,10792,5622,5994,63102,44967,65028,2625,0,0,0,3441,0,31034,41579,11627,23068,4131,7228,0,0,0,5982,0,0,4635,7564,2018,0,4325,21471,44408,7363,12791,45802,5647,11322,18159,32016,0,41319,0,0,24756,43144,44322,4858,0,36176,2048,1883,18765,42093,37391,37876,7871,45029,37343,9794,37080,5634,4804,7586,40893,1946,0,0,9194,3258,5410,42081,0,0,0,0,0,0,0,5607,40899,19048,7616,40899,606,5019,7501,9323,28087,5254,0,4989,2011,6500,19592,2901,9981,66195,5060,39298,13017,1055,15160,44517,35209,0,5626,0,0,0,0,0,0,6732,4329,0,39927,12747,4618,3705,11398,6997,4696,4300,4379,40103,0,16524,0,0,2695,2438,45598,39615,3302,41257,0,0,0,0,0,0,0,0,0,0,0,0,1091,1471,0,0,0,2549,0,4243,0,11347,0,9044,0,0,3728,4752,0,6958,2257,4384,36156,73470,9882,5073,10981,9102,7271,10981,0,0,0,0,15496,2295,0,39324,7993,56986,5412,18425,4772,11609,4799,4552,0,0,0,0,916,0,0,858,34830,36444,10699,5415,4869,5339,4235,3553,0,0,0,0,5520,5723,6343,1249,0,0,0,0,0,11793,36077,0,0,0,0,0,0,0,8676,0,436,436,436,436,0,5958,228,1046,10873,3442,0,0,0,0,0,0,0,0,0,0,0,2775,0,0,0,4276,0,4475,0,0,0,0,11726,56659,44588,34871,38554,19246,40628,4610,4523,0,0,0,9308,0,0,0,2718,0,4859,101815,0,0,0,0,0,0,0,0,4495,25201,10460,0,40200,0,4767,42541,0,0,0,0,2543,0,0,227,74520,18533,5473,0,0,7880,0,0,2120,9519,4755,5541,0,0,0,0,4213,5150,2315,2468,8609,4788,0,4847,11744,579,9570,9570,0,0,0,8559,5200,8435,0,4889,3287,4120,7412,3705,5840,3730,0,0,35412,3108,4146,995,5540,0,4538,5276,0,0,0,0,0,11963,0,0,17642,2362,39248,0,4634,4752,0,0,10723,11750,0,11399,6134,42426,9028,3383,3666,5938,1476,11107,19510,19260,19510,10907,4628,10334,5120,0,0,0,0,0,0,772,0,0,0,4693,0,1968,0,0,0,0,8906,6066,5538,15148,3091,6287,7592,4048,3882,5393,23732,0,7402,6333,35775,3085,11676,11676,4393,16866,0,0,0,0,0,16744,0,0,91618,0,0,0,0,0,0,0,0,43565,0,4656,0,4681,4668,0,5087,10564,0,7349,0,0,0,0,0,0,0,0,0,0,0,0,0,0,0,0,2390,4537,2390,6994,0,0,0,0,5159,0,0,36704,0,0,0,0,0,0,0,0,35547,0,2284,0,44662,0,0,5037,37602,0,5974,41026,0,0,0,0,0,0,0,0,0,0,0,0,0,0,0,0,0,0,0,0,0,0,0,0,0,0,0,0,35995,5863,2580,0,0,8619,0,0,0,4775,1786,0,0,0,0,0,0,38637,37721,34844,4056,44261,4886,7689,2390,2390,2390,2390,4951,0,0,0,4672,0,4098,4006,2408,7833,11254,390,19524,11445,41087,18087,8294,12045,8294,12045,1941,2243,16226,0,20074,59472,6476,33242,4063,4826,15313,40241,38843,0,0,0,25864,0,45471,34833,5013,4164,10788,20369,19263,35301,9764,35301,63197,20903,965,10040,7125,4013,11027,5474,0,0,0,0,11631,7010,38864,6073,0,1473,0,0,0,0,2627,0,0,3613,4404,0,0,931,3639,22830,45922,0,11517,0,0,0,0,0,9177,0,0,0,0,0,0,0,3737,15184,3737,3737,4823,21757,33972,2165,879,7525,835,4785,5513,1413,59821,11090,3701,186,37912,4062,4835,0,0,23799,932,2997,888,17493,45308,40318,0,2740,3963,5835,0,6303,0,0,0,0,5607,5513,10627,34076,0,0,0,0,9492,0,0,0,4820,5005,34857,4501,2944,24944,37212,3760,0,0,0,0,0,0,0,0,2417,0,0,0,6603,0,0,0,36775,0,0,10158,4625,13854,35019,23167,7240,4848,40634,1124,17752,0,0,0,16302,0,8607,41485,38622,0,0,0,15637,7815,37003,3937,0,0,0,0,89393,45648,35813,5516,39588,0,4298,0,38958,7665,24702,0,0,0,0,0,5817,0,0,0,15317,6959,4853,4277,4504,2534,8453,2762,0,0,0,0,10402,37591,0,0,0,0,0,0,924,887,2945,35797,45812,11367,36644,3634,0,0,0,0,0,44953,41783,38997,8494,6947,34246,7720,7969,2186,0,7969,0,9503,18998,34918,906,40446,40510,7752,0,0,3697,2955,3537,8842,12047,40918,0,0,0,0,34739,34739,34739,34739,35902,34148,41982,3092,0,0,43369,0,0,0,0,0,4755,4755,4755,4755,7280,10942,0,5309,36228,99821,60180,2504,18204,4657,441,40390,0,0,0,1536,2537,5534,945,3281,9463,11116,38629,3525,8751,0,0,0,0,0,0,0,14519,5549,0,4727,0,0,0,18443,0,0,0,0,0,4432,40538,0,7320,41960,0,3242,4307,0,2686,0,3993,40703,14661,0,5093,0,0,890,4156,4458,6093,8333,0,0,0,0,14602,0,36385,3436,4542,4551,0,24026,13617,0,4804,0,72048,0,0,0,40539,0,0,0,2446,2446,0,0,7584,26415,16094,2584,8492,36365,0,21982,0,0,0,0,32907,60124,4611,6937,36037,35922,4496,0,2999,4647,7799,39788,3591,8110,0,3610,2341,4415,39085,0,3951,9831,0,14515,2678,5043,0,3409,0,11090,0,0,18688,36500,18688,0,40115,20287,2603,4552,35582,9856,4919,0,4578,39609,2706,4682,41867,0,0,0,0,11211,5580,0,0,0,0,0,0,0,0,4719,11651,5043,36323,8142,4246,5465,219,4251,44182,855,0,4116,0,2608,0,0,8325,5010,5307,0,5080,9510,0,2528,3412,3908,4498,862,41374,0,4741,4841,11209,4602,0,4892,41061,3864,5775,4337,6384,3418,6384,1692,0,0,0,0,0,0,0,0,19409,19409,39225,45241,0,4602,0,0,0,0,0,0,3392,0,0,0,0,0,1948,7691,2608,24702,8850,0,4305,7320,3446,3914,2601,7742,3589,4769,34407,3964,5416,877,217,9983,0,0,2143,7063,33327,7418,34544,2022,5043,2459,0,0,0,0,0,0,0,0,0,0,0,0],\"xaxis\":\"x\",\"yaxis\":\"y\",\"type\":\"histogram\"}],                        {\"template\":{\"data\":{\"bar\":[{\"error_x\":{\"color\":\"#2a3f5f\"},\"error_y\":{\"color\":\"#2a3f5f\"},\"marker\":{\"line\":{\"color\":\"#E5ECF6\",\"width\":0.5},\"pattern\":{\"fillmode\":\"overlay\",\"size\":10,\"solidity\":0.2}},\"type\":\"bar\"}],\"barpolar\":[{\"marker\":{\"line\":{\"color\":\"#E5ECF6\",\"width\":0.5},\"pattern\":{\"fillmode\":\"overlay\",\"size\":10,\"solidity\":0.2}},\"type\":\"barpolar\"}],\"carpet\":[{\"aaxis\":{\"endlinecolor\":\"#2a3f5f\",\"gridcolor\":\"white\",\"linecolor\":\"white\",\"minorgridcolor\":\"white\",\"startlinecolor\":\"#2a3f5f\"},\"baxis\":{\"endlinecolor\":\"#2a3f5f\",\"gridcolor\":\"white\",\"linecolor\":\"white\",\"minorgridcolor\":\"white\",\"startlinecolor\":\"#2a3f5f\"},\"type\":\"carpet\"}],\"choropleth\":[{\"colorbar\":{\"outlinewidth\":0,\"ticks\":\"\"},\"type\":\"choropleth\"}],\"contour\":[{\"colorbar\":{\"outlinewidth\":0,\"ticks\":\"\"},\"colorscale\":[[0.0,\"#0d0887\"],[0.1111111111111111,\"#46039f\"],[0.2222222222222222,\"#7201a8\"],[0.3333333333333333,\"#9c179e\"],[0.4444444444444444,\"#bd3786\"],[0.5555555555555556,\"#d8576b\"],[0.6666666666666666,\"#ed7953\"],[0.7777777777777778,\"#fb9f3a\"],[0.8888888888888888,\"#fdca26\"],[1.0,\"#f0f921\"]],\"type\":\"contour\"}],\"contourcarpet\":[{\"colorbar\":{\"outlinewidth\":0,\"ticks\":\"\"},\"type\":\"contourcarpet\"}],\"heatmap\":[{\"colorbar\":{\"outlinewidth\":0,\"ticks\":\"\"},\"colorscale\":[[0.0,\"#0d0887\"],[0.1111111111111111,\"#46039f\"],[0.2222222222222222,\"#7201a8\"],[0.3333333333333333,\"#9c179e\"],[0.4444444444444444,\"#bd3786\"],[0.5555555555555556,\"#d8576b\"],[0.6666666666666666,\"#ed7953\"],[0.7777777777777778,\"#fb9f3a\"],[0.8888888888888888,\"#fdca26\"],[1.0,\"#f0f921\"]],\"type\":\"heatmap\"}],\"heatmapgl\":[{\"colorbar\":{\"outlinewidth\":0,\"ticks\":\"\"},\"colorscale\":[[0.0,\"#0d0887\"],[0.1111111111111111,\"#46039f\"],[0.2222222222222222,\"#7201a8\"],[0.3333333333333333,\"#9c179e\"],[0.4444444444444444,\"#bd3786\"],[0.5555555555555556,\"#d8576b\"],[0.6666666666666666,\"#ed7953\"],[0.7777777777777778,\"#fb9f3a\"],[0.8888888888888888,\"#fdca26\"],[1.0,\"#f0f921\"]],\"type\":\"heatmapgl\"}],\"histogram\":[{\"marker\":{\"pattern\":{\"fillmode\":\"overlay\",\"size\":10,\"solidity\":0.2}},\"type\":\"histogram\"}],\"histogram2d\":[{\"colorbar\":{\"outlinewidth\":0,\"ticks\":\"\"},\"colorscale\":[[0.0,\"#0d0887\"],[0.1111111111111111,\"#46039f\"],[0.2222222222222222,\"#7201a8\"],[0.3333333333333333,\"#9c179e\"],[0.4444444444444444,\"#bd3786\"],[0.5555555555555556,\"#d8576b\"],[0.6666666666666666,\"#ed7953\"],[0.7777777777777778,\"#fb9f3a\"],[0.8888888888888888,\"#fdca26\"],[1.0,\"#f0f921\"]],\"type\":\"histogram2d\"}],\"histogram2dcontour\":[{\"colorbar\":{\"outlinewidth\":0,\"ticks\":\"\"},\"colorscale\":[[0.0,\"#0d0887\"],[0.1111111111111111,\"#46039f\"],[0.2222222222222222,\"#7201a8\"],[0.3333333333333333,\"#9c179e\"],[0.4444444444444444,\"#bd3786\"],[0.5555555555555556,\"#d8576b\"],[0.6666666666666666,\"#ed7953\"],[0.7777777777777778,\"#fb9f3a\"],[0.8888888888888888,\"#fdca26\"],[1.0,\"#f0f921\"]],\"type\":\"histogram2dcontour\"}],\"mesh3d\":[{\"colorbar\":{\"outlinewidth\":0,\"ticks\":\"\"},\"type\":\"mesh3d\"}],\"parcoords\":[{\"line\":{\"colorbar\":{\"outlinewidth\":0,\"ticks\":\"\"}},\"type\":\"parcoords\"}],\"pie\":[{\"automargin\":true,\"type\":\"pie\"}],\"scatter\":[{\"marker\":{\"colorbar\":{\"outlinewidth\":0,\"ticks\":\"\"}},\"type\":\"scatter\"}],\"scatter3d\":[{\"line\":{\"colorbar\":{\"outlinewidth\":0,\"ticks\":\"\"}},\"marker\":{\"colorbar\":{\"outlinewidth\":0,\"ticks\":\"\"}},\"type\":\"scatter3d\"}],\"scattercarpet\":[{\"marker\":{\"colorbar\":{\"outlinewidth\":0,\"ticks\":\"\"}},\"type\":\"scattercarpet\"}],\"scattergeo\":[{\"marker\":{\"colorbar\":{\"outlinewidth\":0,\"ticks\":\"\"}},\"type\":\"scattergeo\"}],\"scattergl\":[{\"marker\":{\"colorbar\":{\"outlinewidth\":0,\"ticks\":\"\"}},\"type\":\"scattergl\"}],\"scattermapbox\":[{\"marker\":{\"colorbar\":{\"outlinewidth\":0,\"ticks\":\"\"}},\"type\":\"scattermapbox\"}],\"scatterpolar\":[{\"marker\":{\"colorbar\":{\"outlinewidth\":0,\"ticks\":\"\"}},\"type\":\"scatterpolar\"}],\"scatterpolargl\":[{\"marker\":{\"colorbar\":{\"outlinewidth\":0,\"ticks\":\"\"}},\"type\":\"scatterpolargl\"}],\"scatterternary\":[{\"marker\":{\"colorbar\":{\"outlinewidth\":0,\"ticks\":\"\"}},\"type\":\"scatterternary\"}],\"surface\":[{\"colorbar\":{\"outlinewidth\":0,\"ticks\":\"\"},\"colorscale\":[[0.0,\"#0d0887\"],[0.1111111111111111,\"#46039f\"],[0.2222222222222222,\"#7201a8\"],[0.3333333333333333,\"#9c179e\"],[0.4444444444444444,\"#bd3786\"],[0.5555555555555556,\"#d8576b\"],[0.6666666666666666,\"#ed7953\"],[0.7777777777777778,\"#fb9f3a\"],[0.8888888888888888,\"#fdca26\"],[1.0,\"#f0f921\"]],\"type\":\"surface\"}],\"table\":[{\"cells\":{\"fill\":{\"color\":\"#EBF0F8\"},\"line\":{\"color\":\"white\"}},\"header\":{\"fill\":{\"color\":\"#C8D4E3\"},\"line\":{\"color\":\"white\"}},\"type\":\"table\"}]},\"layout\":{\"annotationdefaults\":{\"arrowcolor\":\"#2a3f5f\",\"arrowhead\":0,\"arrowwidth\":1},\"autotypenumbers\":\"strict\",\"coloraxis\":{\"colorbar\":{\"outlinewidth\":0,\"ticks\":\"\"}},\"colorscale\":{\"diverging\":[[0,\"#8e0152\"],[0.1,\"#c51b7d\"],[0.2,\"#de77ae\"],[0.3,\"#f1b6da\"],[0.4,\"#fde0ef\"],[0.5,\"#f7f7f7\"],[0.6,\"#e6f5d0\"],[0.7,\"#b8e186\"],[0.8,\"#7fbc41\"],[0.9,\"#4d9221\"],[1,\"#276419\"]],\"sequential\":[[0.0,\"#0d0887\"],[0.1111111111111111,\"#46039f\"],[0.2222222222222222,\"#7201a8\"],[0.3333333333333333,\"#9c179e\"],[0.4444444444444444,\"#bd3786\"],[0.5555555555555556,\"#d8576b\"],[0.6666666666666666,\"#ed7953\"],[0.7777777777777778,\"#fb9f3a\"],[0.8888888888888888,\"#fdca26\"],[1.0,\"#f0f921\"]],\"sequentialminus\":[[0.0,\"#0d0887\"],[0.1111111111111111,\"#46039f\"],[0.2222222222222222,\"#7201a8\"],[0.3333333333333333,\"#9c179e\"],[0.4444444444444444,\"#bd3786\"],[0.5555555555555556,\"#d8576b\"],[0.6666666666666666,\"#ed7953\"],[0.7777777777777778,\"#fb9f3a\"],[0.8888888888888888,\"#fdca26\"],[1.0,\"#f0f921\"]]},\"colorway\":[\"#636efa\",\"#EF553B\",\"#00cc96\",\"#ab63fa\",\"#FFA15A\",\"#19d3f3\",\"#FF6692\",\"#B6E880\",\"#FF97FF\",\"#FECB52\"],\"font\":{\"color\":\"#2a3f5f\"},\"geo\":{\"bgcolor\":\"white\",\"lakecolor\":\"white\",\"landcolor\":\"#E5ECF6\",\"showlakes\":true,\"showland\":true,\"subunitcolor\":\"white\"},\"hoverlabel\":{\"align\":\"left\"},\"hovermode\":\"closest\",\"mapbox\":{\"style\":\"light\"},\"paper_bgcolor\":\"white\",\"plot_bgcolor\":\"#E5ECF6\",\"polar\":{\"angularaxis\":{\"gridcolor\":\"white\",\"linecolor\":\"white\",\"ticks\":\"\"},\"bgcolor\":\"#E5ECF6\",\"radialaxis\":{\"gridcolor\":\"white\",\"linecolor\":\"white\",\"ticks\":\"\"}},\"scene\":{\"xaxis\":{\"backgroundcolor\":\"#E5ECF6\",\"gridcolor\":\"white\",\"gridwidth\":2,\"linecolor\":\"white\",\"showbackground\":true,\"ticks\":\"\",\"zerolinecolor\":\"white\"},\"yaxis\":{\"backgroundcolor\":\"#E5ECF6\",\"gridcolor\":\"white\",\"gridwidth\":2,\"linecolor\":\"white\",\"showbackground\":true,\"ticks\":\"\",\"zerolinecolor\":\"white\"},\"zaxis\":{\"backgroundcolor\":\"#E5ECF6\",\"gridcolor\":\"white\",\"gridwidth\":2,\"linecolor\":\"white\",\"showbackground\":true,\"ticks\":\"\",\"zerolinecolor\":\"white\"}},\"shapedefaults\":{\"line\":{\"color\":\"#2a3f5f\"}},\"ternary\":{\"aaxis\":{\"gridcolor\":\"white\",\"linecolor\":\"white\",\"ticks\":\"\"},\"baxis\":{\"gridcolor\":\"white\",\"linecolor\":\"white\",\"ticks\":\"\"},\"bgcolor\":\"#E5ECF6\",\"caxis\":{\"gridcolor\":\"white\",\"linecolor\":\"white\",\"ticks\":\"\"}},\"title\":{\"x\":0.05},\"xaxis\":{\"automargin\":true,\"gridcolor\":\"white\",\"linecolor\":\"white\",\"ticks\":\"\",\"title\":{\"standoff\":15},\"zerolinecolor\":\"white\",\"zerolinewidth\":2},\"yaxis\":{\"automargin\":true,\"gridcolor\":\"white\",\"linecolor\":\"white\",\"ticks\":\"\",\"title\":{\"standoff\":15},\"zerolinecolor\":\"white\",\"zerolinewidth\":2}}},\"xaxis\":{\"anchor\":\"y\",\"domain\":[0.0,1.0],\"title\":{\"text\":\"OpenCL score\"}},\"yaxis\":{\"anchor\":\"x\",\"domain\":[0.0,1.0],\"title\":{\"text\":\"count\"}},\"legend\":{\"tracegroupgap\":0},\"margin\":{\"t\":60},\"barmode\":\"relative\"},                        {\"responsive\": true}                    ).then(function(){\n",
              "                            \n",
              "var gd = document.getElementById('29e344d7-ef19-4907-98a5-e7c1870ef93c');\n",
              "var x = new MutationObserver(function (mutations, observer) {{\n",
              "        var display = window.getComputedStyle(gd).display;\n",
              "        if (!display || display === 'none') {{\n",
              "            console.log([gd, 'removed!']);\n",
              "            Plotly.purge(gd);\n",
              "            observer.disconnect();\n",
              "        }}\n",
              "}});\n",
              "\n",
              "// Listen for the removal of the full notebook cells\n",
              "var notebookContainer = gd.closest('#notebook-container');\n",
              "if (notebookContainer) {{\n",
              "    x.observe(notebookContainer, {childList: true});\n",
              "}}\n",
              "\n",
              "// Listen for the clearing of the current output cell\n",
              "var outputEl = gd.closest('.output');\n",
              "if (outputEl) {{\n",
              "    x.observe(outputEl, {childList: true});\n",
              "}}\n",
              "\n",
              "                        })                };                            </script>        </div>\n",
              "</body>\n",
              "</html>"
            ]
          },
          "metadata": {}
        }
      ]
    },
    {
      "cell_type": "markdown",
      "source": [
        "## **Grouping data based on teams**"
      ],
      "metadata": {
        "id": "MDlifeXezfxj"
      }
    },
    {
      "cell_type": "code",
      "source": [
        "comp_specs_Details = comp_specs_Details.groupby('team_id').agg({'Single core score':'mean', \n",
        "                         'Multi core score':'mean', \n",
        "                         'OpenCL score':'mean', \n",
        "                         })"
      ],
      "metadata": {
        "id": "pwMz6QmyzoSV"
      },
      "execution_count": 180,
      "outputs": []
    },
    {
      "cell_type": "code",
      "source": [
        "comp_specs_Details.head()"
      ],
      "metadata": {
        "colab": {
          "base_uri": "https://localhost:8080/",
          "height": 237
        },
        "id": "FII-a5Ivz5oZ",
        "outputId": "4afec734-8696-4e0b-9387-b28a0a2700e5"
      },
      "execution_count": 181,
      "outputs": [
        {
          "output_type": "execute_result",
          "data": {
            "text/plain": [
              "         Single core score  Multi core score  OpenCL score\n",
              "team_id                                                   \n",
              "1001                780.50           1771.50       2278.75\n",
              "1002                653.75           1852.75       5701.25\n",
              "1004                902.00           3266.75      22795.75\n",
              "1005                785.00           3711.75      33491.50\n",
              "1006                801.00           2969.50      37489.50"
            ],
            "text/html": [
              "\n",
              "  <div id=\"df-9d7385ea-36ef-4e7c-b1e9-ad5bc1927fc0\">\n",
              "    <div class=\"colab-df-container\">\n",
              "      <div>\n",
              "<style scoped>\n",
              "    .dataframe tbody tr th:only-of-type {\n",
              "        vertical-align: middle;\n",
              "    }\n",
              "\n",
              "    .dataframe tbody tr th {\n",
              "        vertical-align: top;\n",
              "    }\n",
              "\n",
              "    .dataframe thead th {\n",
              "        text-align: right;\n",
              "    }\n",
              "</style>\n",
              "<table border=\"1\" class=\"dataframe\">\n",
              "  <thead>\n",
              "    <tr style=\"text-align: right;\">\n",
              "      <th></th>\n",
              "      <th>Single core score</th>\n",
              "      <th>Multi core score</th>\n",
              "      <th>OpenCL score</th>\n",
              "    </tr>\n",
              "    <tr>\n",
              "      <th>team_id</th>\n",
              "      <th></th>\n",
              "      <th></th>\n",
              "      <th></th>\n",
              "    </tr>\n",
              "  </thead>\n",
              "  <tbody>\n",
              "    <tr>\n",
              "      <th>1001</th>\n",
              "      <td>780.50</td>\n",
              "      <td>1771.50</td>\n",
              "      <td>2278.75</td>\n",
              "    </tr>\n",
              "    <tr>\n",
              "      <th>1002</th>\n",
              "      <td>653.75</td>\n",
              "      <td>1852.75</td>\n",
              "      <td>5701.25</td>\n",
              "    </tr>\n",
              "    <tr>\n",
              "      <th>1004</th>\n",
              "      <td>902.00</td>\n",
              "      <td>3266.75</td>\n",
              "      <td>22795.75</td>\n",
              "    </tr>\n",
              "    <tr>\n",
              "      <th>1005</th>\n",
              "      <td>785.00</td>\n",
              "      <td>3711.75</td>\n",
              "      <td>33491.50</td>\n",
              "    </tr>\n",
              "    <tr>\n",
              "      <th>1006</th>\n",
              "      <td>801.00</td>\n",
              "      <td>2969.50</td>\n",
              "      <td>37489.50</td>\n",
              "    </tr>\n",
              "  </tbody>\n",
              "</table>\n",
              "</div>\n",
              "      <button class=\"colab-df-convert\" onclick=\"convertToInteractive('df-9d7385ea-36ef-4e7c-b1e9-ad5bc1927fc0')\"\n",
              "              title=\"Convert this dataframe to an interactive table.\"\n",
              "              style=\"display:none;\">\n",
              "        \n",
              "  <svg xmlns=\"http://www.w3.org/2000/svg\" height=\"24px\"viewBox=\"0 0 24 24\"\n",
              "       width=\"24px\">\n",
              "    <path d=\"M0 0h24v24H0V0z\" fill=\"none\"/>\n",
              "    <path d=\"M18.56 5.44l.94 2.06.94-2.06 2.06-.94-2.06-.94-.94-2.06-.94 2.06-2.06.94zm-11 1L8.5 8.5l.94-2.06 2.06-.94-2.06-.94L8.5 2.5l-.94 2.06-2.06.94zm10 10l.94 2.06.94-2.06 2.06-.94-2.06-.94-.94-2.06-.94 2.06-2.06.94z\"/><path d=\"M17.41 7.96l-1.37-1.37c-.4-.4-.92-.59-1.43-.59-.52 0-1.04.2-1.43.59L10.3 9.45l-7.72 7.72c-.78.78-.78 2.05 0 2.83L4 21.41c.39.39.9.59 1.41.59.51 0 1.02-.2 1.41-.59l7.78-7.78 2.81-2.81c.8-.78.8-2.07 0-2.86zM5.41 20L4 18.59l7.72-7.72 1.47 1.35L5.41 20z\"/>\n",
              "  </svg>\n",
              "      </button>\n",
              "      \n",
              "  <style>\n",
              "    .colab-df-container {\n",
              "      display:flex;\n",
              "      flex-wrap:wrap;\n",
              "      gap: 12px;\n",
              "    }\n",
              "\n",
              "    .colab-df-convert {\n",
              "      background-color: #E8F0FE;\n",
              "      border: none;\n",
              "      border-radius: 50%;\n",
              "      cursor: pointer;\n",
              "      display: none;\n",
              "      fill: #1967D2;\n",
              "      height: 32px;\n",
              "      padding: 0 0 0 0;\n",
              "      width: 32px;\n",
              "    }\n",
              "\n",
              "    .colab-df-convert:hover {\n",
              "      background-color: #E2EBFA;\n",
              "      box-shadow: 0px 1px 2px rgba(60, 64, 67, 0.3), 0px 1px 3px 1px rgba(60, 64, 67, 0.15);\n",
              "      fill: #174EA6;\n",
              "    }\n",
              "\n",
              "    [theme=dark] .colab-df-convert {\n",
              "      background-color: #3B4455;\n",
              "      fill: #D2E3FC;\n",
              "    }\n",
              "\n",
              "    [theme=dark] .colab-df-convert:hover {\n",
              "      background-color: #434B5C;\n",
              "      box-shadow: 0px 1px 3px 1px rgba(0, 0, 0, 0.15);\n",
              "      filter: drop-shadow(0px 1px 2px rgba(0, 0, 0, 0.3));\n",
              "      fill: #FFFFFF;\n",
              "    }\n",
              "  </style>\n",
              "\n",
              "      <script>\n",
              "        const buttonEl =\n",
              "          document.querySelector('#df-9d7385ea-36ef-4e7c-b1e9-ad5bc1927fc0 button.colab-df-convert');\n",
              "        buttonEl.style.display =\n",
              "          google.colab.kernel.accessAllowed ? 'block' : 'none';\n",
              "\n",
              "        async function convertToInteractive(key) {\n",
              "          const element = document.querySelector('#df-9d7385ea-36ef-4e7c-b1e9-ad5bc1927fc0');\n",
              "          const dataTable =\n",
              "            await google.colab.kernel.invokeFunction('convertToInteractive',\n",
              "                                                     [key], {});\n",
              "          if (!dataTable) return;\n",
              "\n",
              "          const docLinkHtml = 'Like what you see? Visit the ' +\n",
              "            '<a target=\"_blank\" href=https://colab.research.google.com/notebooks/data_table.ipynb>data table notebook</a>'\n",
              "            + ' to learn more about interactive tables.';\n",
              "          element.innerHTML = '';\n",
              "          dataTable['output_type'] = 'display_data';\n",
              "          await google.colab.output.renderOutput(dataTable, element);\n",
              "          const docLink = document.createElement('div');\n",
              "          docLink.innerHTML = docLinkHtml;\n",
              "          element.appendChild(docLink);\n",
              "        }\n",
              "      </script>\n",
              "    </div>\n",
              "  </div>\n",
              "  "
            ]
          },
          "metadata": {},
          "execution_count": 181
        }
      ]
    },
    {
      "cell_type": "code",
      "source": [
        "comp_specs_Details.describe()"
      ],
      "metadata": {
        "colab": {
          "base_uri": "https://localhost:8080/",
          "height": 300
        },
        "id": "8GyCs6J_z-ZA",
        "outputId": "adaff99d-efb1-4e59-9a85-2fcb3723fe90"
      },
      "execution_count": 182,
      "outputs": [
        {
          "output_type": "execute_result",
          "data": {
            "text/plain": [
              "       Single core score  Multi core score  OpenCL score\n",
              "count        1293.000000       1293.000000   1293.000000\n",
              "mean          594.334687       1988.483372  10644.468291\n",
              "std           307.047183       1157.548696   9951.351865\n",
              "min             0.000000          0.000000      0.000000\n",
              "25%           388.250000       1219.750000   2648.250000\n",
              "50%           650.500000       2051.000000   8271.250000\n",
              "75%           826.000000       2768.500000  15825.750000\n",
              "max          1405.500000       5625.250000  58047.500000"
            ],
            "text/html": [
              "\n",
              "  <div id=\"df-31bb790c-87df-4676-b2d9-6f253c2a7a61\">\n",
              "    <div class=\"colab-df-container\">\n",
              "      <div>\n",
              "<style scoped>\n",
              "    .dataframe tbody tr th:only-of-type {\n",
              "        vertical-align: middle;\n",
              "    }\n",
              "\n",
              "    .dataframe tbody tr th {\n",
              "        vertical-align: top;\n",
              "    }\n",
              "\n",
              "    .dataframe thead th {\n",
              "        text-align: right;\n",
              "    }\n",
              "</style>\n",
              "<table border=\"1\" class=\"dataframe\">\n",
              "  <thead>\n",
              "    <tr style=\"text-align: right;\">\n",
              "      <th></th>\n",
              "      <th>Single core score</th>\n",
              "      <th>Multi core score</th>\n",
              "      <th>OpenCL score</th>\n",
              "    </tr>\n",
              "  </thead>\n",
              "  <tbody>\n",
              "    <tr>\n",
              "      <th>count</th>\n",
              "      <td>1293.000000</td>\n",
              "      <td>1293.000000</td>\n",
              "      <td>1293.000000</td>\n",
              "    </tr>\n",
              "    <tr>\n",
              "      <th>mean</th>\n",
              "      <td>594.334687</td>\n",
              "      <td>1988.483372</td>\n",
              "      <td>10644.468291</td>\n",
              "    </tr>\n",
              "    <tr>\n",
              "      <th>std</th>\n",
              "      <td>307.047183</td>\n",
              "      <td>1157.548696</td>\n",
              "      <td>9951.351865</td>\n",
              "    </tr>\n",
              "    <tr>\n",
              "      <th>min</th>\n",
              "      <td>0.000000</td>\n",
              "      <td>0.000000</td>\n",
              "      <td>0.000000</td>\n",
              "    </tr>\n",
              "    <tr>\n",
              "      <th>25%</th>\n",
              "      <td>388.250000</td>\n",
              "      <td>1219.750000</td>\n",
              "      <td>2648.250000</td>\n",
              "    </tr>\n",
              "    <tr>\n",
              "      <th>50%</th>\n",
              "      <td>650.500000</td>\n",
              "      <td>2051.000000</td>\n",
              "      <td>8271.250000</td>\n",
              "    </tr>\n",
              "    <tr>\n",
              "      <th>75%</th>\n",
              "      <td>826.000000</td>\n",
              "      <td>2768.500000</td>\n",
              "      <td>15825.750000</td>\n",
              "    </tr>\n",
              "    <tr>\n",
              "      <th>max</th>\n",
              "      <td>1405.500000</td>\n",
              "      <td>5625.250000</td>\n",
              "      <td>58047.500000</td>\n",
              "    </tr>\n",
              "  </tbody>\n",
              "</table>\n",
              "</div>\n",
              "      <button class=\"colab-df-convert\" onclick=\"convertToInteractive('df-31bb790c-87df-4676-b2d9-6f253c2a7a61')\"\n",
              "              title=\"Convert this dataframe to an interactive table.\"\n",
              "              style=\"display:none;\">\n",
              "        \n",
              "  <svg xmlns=\"http://www.w3.org/2000/svg\" height=\"24px\"viewBox=\"0 0 24 24\"\n",
              "       width=\"24px\">\n",
              "    <path d=\"M0 0h24v24H0V0z\" fill=\"none\"/>\n",
              "    <path d=\"M18.56 5.44l.94 2.06.94-2.06 2.06-.94-2.06-.94-.94-2.06-.94 2.06-2.06.94zm-11 1L8.5 8.5l.94-2.06 2.06-.94-2.06-.94L8.5 2.5l-.94 2.06-2.06.94zm10 10l.94 2.06.94-2.06 2.06-.94-2.06-.94-.94-2.06-.94 2.06-2.06.94z\"/><path d=\"M17.41 7.96l-1.37-1.37c-.4-.4-.92-.59-1.43-.59-.52 0-1.04.2-1.43.59L10.3 9.45l-7.72 7.72c-.78.78-.78 2.05 0 2.83L4 21.41c.39.39.9.59 1.41.59.51 0 1.02-.2 1.41-.59l7.78-7.78 2.81-2.81c.8-.78.8-2.07 0-2.86zM5.41 20L4 18.59l7.72-7.72 1.47 1.35L5.41 20z\"/>\n",
              "  </svg>\n",
              "      </button>\n",
              "      \n",
              "  <style>\n",
              "    .colab-df-container {\n",
              "      display:flex;\n",
              "      flex-wrap:wrap;\n",
              "      gap: 12px;\n",
              "    }\n",
              "\n",
              "    .colab-df-convert {\n",
              "      background-color: #E8F0FE;\n",
              "      border: none;\n",
              "      border-radius: 50%;\n",
              "      cursor: pointer;\n",
              "      display: none;\n",
              "      fill: #1967D2;\n",
              "      height: 32px;\n",
              "      padding: 0 0 0 0;\n",
              "      width: 32px;\n",
              "    }\n",
              "\n",
              "    .colab-df-convert:hover {\n",
              "      background-color: #E2EBFA;\n",
              "      box-shadow: 0px 1px 2px rgba(60, 64, 67, 0.3), 0px 1px 3px 1px rgba(60, 64, 67, 0.15);\n",
              "      fill: #174EA6;\n",
              "    }\n",
              "\n",
              "    [theme=dark] .colab-df-convert {\n",
              "      background-color: #3B4455;\n",
              "      fill: #D2E3FC;\n",
              "    }\n",
              "\n",
              "    [theme=dark] .colab-df-convert:hover {\n",
              "      background-color: #434B5C;\n",
              "      box-shadow: 0px 1px 3px 1px rgba(0, 0, 0, 0.15);\n",
              "      filter: drop-shadow(0px 1px 2px rgba(0, 0, 0, 0.3));\n",
              "      fill: #FFFFFF;\n",
              "    }\n",
              "  </style>\n",
              "\n",
              "      <script>\n",
              "        const buttonEl =\n",
              "          document.querySelector('#df-31bb790c-87df-4676-b2d9-6f253c2a7a61 button.colab-df-convert');\n",
              "        buttonEl.style.display =\n",
              "          google.colab.kernel.accessAllowed ? 'block' : 'none';\n",
              "\n",
              "        async function convertToInteractive(key) {\n",
              "          const element = document.querySelector('#df-31bb790c-87df-4676-b2d9-6f253c2a7a61');\n",
              "          const dataTable =\n",
              "            await google.colab.kernel.invokeFunction('convertToInteractive',\n",
              "                                                     [key], {});\n",
              "          if (!dataTable) return;\n",
              "\n",
              "          const docLinkHtml = 'Like what you see? Visit the ' +\n",
              "            '<a target=\"_blank\" href=https://colab.research.google.com/notebooks/data_table.ipynb>data table notebook</a>'\n",
              "            + ' to learn more about interactive tables.';\n",
              "          element.innerHTML = '';\n",
              "          dataTable['output_type'] = 'display_data';\n",
              "          await google.colab.output.renderOutput(dataTable, element);\n",
              "          const docLink = document.createElement('div');\n",
              "          docLink.innerHTML = docLinkHtml;\n",
              "          element.appendChild(docLink);\n",
              "        }\n",
              "      </script>\n",
              "    </div>\n",
              "  </div>\n",
              "  "
            ]
          },
          "metadata": {},
          "execution_count": 182
        }
      ]
    },
    {
      "cell_type": "code",
      "source": [
        "comp_specs_Details.info()"
      ],
      "metadata": {
        "colab": {
          "base_uri": "https://localhost:8080/"
        },
        "id": "XS-KRb010Yss",
        "outputId": "96302311-8e06-4356-ff98-d87002d54b8d"
      },
      "execution_count": 183,
      "outputs": [
        {
          "output_type": "stream",
          "name": "stdout",
          "text": [
            "<class 'pandas.core.frame.DataFrame'>\n",
            "Int64Index: 1293 entries, 1001 to 2971\n",
            "Data columns (total 3 columns):\n",
            " #   Column             Non-Null Count  Dtype  \n",
            "---  ------             --------------  -----  \n",
            " 0   Single core score  1293 non-null   float64\n",
            " 1   Multi core score   1293 non-null   float64\n",
            " 2   OpenCL score       1293 non-null   float64\n",
            "dtypes: float64(3)\n",
            "memory usage: 40.4 KB\n"
          ]
        }
      ]
    },
    {
      "cell_type": "code",
      "source": [
        "SpecsFromUserData = SpecsFromUserData.groupby('team_id').agg({'memory':'mean', \n",
        "                         })"
      ],
      "metadata": {
        "id": "16NZfHc-0g1v"
      },
      "execution_count": 184,
      "outputs": []
    },
    {
      "cell_type": "code",
      "source": [
        "SpecsFromUserData.head()"
      ],
      "metadata": {
        "colab": {
          "base_uri": "https://localhost:8080/",
          "height": 237
        },
        "id": "fUgmE4UT0r41",
        "outputId": "06d1be8a-3447-4b41-9f8a-68aebd95af25"
      },
      "execution_count": 185,
      "outputs": [
        {
          "output_type": "execute_result",
          "data": {
            "text/plain": [
              "         memory\n",
              "team_id        \n",
              "1001        5.5\n",
              "1002        6.0\n",
              "1004        8.0\n",
              "1005       12.0\n",
              "1006       10.0"
            ],
            "text/html": [
              "\n",
              "  <div id=\"df-7b51355e-3220-44c3-8113-341aa88d2bc7\">\n",
              "    <div class=\"colab-df-container\">\n",
              "      <div>\n",
              "<style scoped>\n",
              "    .dataframe tbody tr th:only-of-type {\n",
              "        vertical-align: middle;\n",
              "    }\n",
              "\n",
              "    .dataframe tbody tr th {\n",
              "        vertical-align: top;\n",
              "    }\n",
              "\n",
              "    .dataframe thead th {\n",
              "        text-align: right;\n",
              "    }\n",
              "</style>\n",
              "<table border=\"1\" class=\"dataframe\">\n",
              "  <thead>\n",
              "    <tr style=\"text-align: right;\">\n",
              "      <th></th>\n",
              "      <th>memory</th>\n",
              "    </tr>\n",
              "    <tr>\n",
              "      <th>team_id</th>\n",
              "      <th></th>\n",
              "    </tr>\n",
              "  </thead>\n",
              "  <tbody>\n",
              "    <tr>\n",
              "      <th>1001</th>\n",
              "      <td>5.5</td>\n",
              "    </tr>\n",
              "    <tr>\n",
              "      <th>1002</th>\n",
              "      <td>6.0</td>\n",
              "    </tr>\n",
              "    <tr>\n",
              "      <th>1004</th>\n",
              "      <td>8.0</td>\n",
              "    </tr>\n",
              "    <tr>\n",
              "      <th>1005</th>\n",
              "      <td>12.0</td>\n",
              "    </tr>\n",
              "    <tr>\n",
              "      <th>1006</th>\n",
              "      <td>10.0</td>\n",
              "    </tr>\n",
              "  </tbody>\n",
              "</table>\n",
              "</div>\n",
              "      <button class=\"colab-df-convert\" onclick=\"convertToInteractive('df-7b51355e-3220-44c3-8113-341aa88d2bc7')\"\n",
              "              title=\"Convert this dataframe to an interactive table.\"\n",
              "              style=\"display:none;\">\n",
              "        \n",
              "  <svg xmlns=\"http://www.w3.org/2000/svg\" height=\"24px\"viewBox=\"0 0 24 24\"\n",
              "       width=\"24px\">\n",
              "    <path d=\"M0 0h24v24H0V0z\" fill=\"none\"/>\n",
              "    <path d=\"M18.56 5.44l.94 2.06.94-2.06 2.06-.94-2.06-.94-.94-2.06-.94 2.06-2.06.94zm-11 1L8.5 8.5l.94-2.06 2.06-.94-2.06-.94L8.5 2.5l-.94 2.06-2.06.94zm10 10l.94 2.06.94-2.06 2.06-.94-2.06-.94-.94-2.06-.94 2.06-2.06.94z\"/><path d=\"M17.41 7.96l-1.37-1.37c-.4-.4-.92-.59-1.43-.59-.52 0-1.04.2-1.43.59L10.3 9.45l-7.72 7.72c-.78.78-.78 2.05 0 2.83L4 21.41c.39.39.9.59 1.41.59.51 0 1.02-.2 1.41-.59l7.78-7.78 2.81-2.81c.8-.78.8-2.07 0-2.86zM5.41 20L4 18.59l7.72-7.72 1.47 1.35L5.41 20z\"/>\n",
              "  </svg>\n",
              "      </button>\n",
              "      \n",
              "  <style>\n",
              "    .colab-df-container {\n",
              "      display:flex;\n",
              "      flex-wrap:wrap;\n",
              "      gap: 12px;\n",
              "    }\n",
              "\n",
              "    .colab-df-convert {\n",
              "      background-color: #E8F0FE;\n",
              "      border: none;\n",
              "      border-radius: 50%;\n",
              "      cursor: pointer;\n",
              "      display: none;\n",
              "      fill: #1967D2;\n",
              "      height: 32px;\n",
              "      padding: 0 0 0 0;\n",
              "      width: 32px;\n",
              "    }\n",
              "\n",
              "    .colab-df-convert:hover {\n",
              "      background-color: #E2EBFA;\n",
              "      box-shadow: 0px 1px 2px rgba(60, 64, 67, 0.3), 0px 1px 3px 1px rgba(60, 64, 67, 0.15);\n",
              "      fill: #174EA6;\n",
              "    }\n",
              "\n",
              "    [theme=dark] .colab-df-convert {\n",
              "      background-color: #3B4455;\n",
              "      fill: #D2E3FC;\n",
              "    }\n",
              "\n",
              "    [theme=dark] .colab-df-convert:hover {\n",
              "      background-color: #434B5C;\n",
              "      box-shadow: 0px 1px 3px 1px rgba(0, 0, 0, 0.15);\n",
              "      filter: drop-shadow(0px 1px 2px rgba(0, 0, 0, 0.3));\n",
              "      fill: #FFFFFF;\n",
              "    }\n",
              "  </style>\n",
              "\n",
              "      <script>\n",
              "        const buttonEl =\n",
              "          document.querySelector('#df-7b51355e-3220-44c3-8113-341aa88d2bc7 button.colab-df-convert');\n",
              "        buttonEl.style.display =\n",
              "          google.colab.kernel.accessAllowed ? 'block' : 'none';\n",
              "\n",
              "        async function convertToInteractive(key) {\n",
              "          const element = document.querySelector('#df-7b51355e-3220-44c3-8113-341aa88d2bc7');\n",
              "          const dataTable =\n",
              "            await google.colab.kernel.invokeFunction('convertToInteractive',\n",
              "                                                     [key], {});\n",
              "          if (!dataTable) return;\n",
              "\n",
              "          const docLinkHtml = 'Like what you see? Visit the ' +\n",
              "            '<a target=\"_blank\" href=https://colab.research.google.com/notebooks/data_table.ipynb>data table notebook</a>'\n",
              "            + ' to learn more about interactive tables.';\n",
              "          element.innerHTML = '';\n",
              "          dataTable['output_type'] = 'display_data';\n",
              "          await google.colab.output.renderOutput(dataTable, element);\n",
              "          const docLink = document.createElement('div');\n",
              "          docLink.innerHTML = docLinkHtml;\n",
              "          element.appendChild(docLink);\n",
              "        }\n",
              "      </script>\n",
              "    </div>\n",
              "  </div>\n",
              "  "
            ]
          },
          "metadata": {},
          "execution_count": 185
        }
      ]
    },
    {
      "cell_type": "code",
      "source": [
        "Comp_Specs_dataset = pd.merge(SpecsFromUserData,comp_specs_Details, how='left', on = 'team_id')"
      ],
      "metadata": {
        "id": "0RiBQhha1MGH"
      },
      "execution_count": 186,
      "outputs": []
    },
    {
      "cell_type": "code",
      "source": [
        "Comp_Specs_dataset.head()"
      ],
      "metadata": {
        "colab": {
          "base_uri": "https://localhost:8080/",
          "height": 237
        },
        "id": "9Ma9Oxq81Vv5",
        "outputId": "1e5b9128-5d01-4f1a-9faf-abad3c0dbd50"
      },
      "execution_count": 187,
      "outputs": [
        {
          "output_type": "execute_result",
          "data": {
            "text/plain": [
              "         memory  Single core score  Multi core score  OpenCL score\n",
              "team_id                                                           \n",
              "1001        5.5             780.50           1771.50       2278.75\n",
              "1002        6.0             653.75           1852.75       5701.25\n",
              "1004        8.0             902.00           3266.75      22795.75\n",
              "1005       12.0             785.00           3711.75      33491.50\n",
              "1006       10.0             801.00           2969.50      37489.50"
            ],
            "text/html": [
              "\n",
              "  <div id=\"df-d4ae2a13-e7bb-44c2-85a6-314fb6342cd9\">\n",
              "    <div class=\"colab-df-container\">\n",
              "      <div>\n",
              "<style scoped>\n",
              "    .dataframe tbody tr th:only-of-type {\n",
              "        vertical-align: middle;\n",
              "    }\n",
              "\n",
              "    .dataframe tbody tr th {\n",
              "        vertical-align: top;\n",
              "    }\n",
              "\n",
              "    .dataframe thead th {\n",
              "        text-align: right;\n",
              "    }\n",
              "</style>\n",
              "<table border=\"1\" class=\"dataframe\">\n",
              "  <thead>\n",
              "    <tr style=\"text-align: right;\">\n",
              "      <th></th>\n",
              "      <th>memory</th>\n",
              "      <th>Single core score</th>\n",
              "      <th>Multi core score</th>\n",
              "      <th>OpenCL score</th>\n",
              "    </tr>\n",
              "    <tr>\n",
              "      <th>team_id</th>\n",
              "      <th></th>\n",
              "      <th></th>\n",
              "      <th></th>\n",
              "      <th></th>\n",
              "    </tr>\n",
              "  </thead>\n",
              "  <tbody>\n",
              "    <tr>\n",
              "      <th>1001</th>\n",
              "      <td>5.5</td>\n",
              "      <td>780.50</td>\n",
              "      <td>1771.50</td>\n",
              "      <td>2278.75</td>\n",
              "    </tr>\n",
              "    <tr>\n",
              "      <th>1002</th>\n",
              "      <td>6.0</td>\n",
              "      <td>653.75</td>\n",
              "      <td>1852.75</td>\n",
              "      <td>5701.25</td>\n",
              "    </tr>\n",
              "    <tr>\n",
              "      <th>1004</th>\n",
              "      <td>8.0</td>\n",
              "      <td>902.00</td>\n",
              "      <td>3266.75</td>\n",
              "      <td>22795.75</td>\n",
              "    </tr>\n",
              "    <tr>\n",
              "      <th>1005</th>\n",
              "      <td>12.0</td>\n",
              "      <td>785.00</td>\n",
              "      <td>3711.75</td>\n",
              "      <td>33491.50</td>\n",
              "    </tr>\n",
              "    <tr>\n",
              "      <th>1006</th>\n",
              "      <td>10.0</td>\n",
              "      <td>801.00</td>\n",
              "      <td>2969.50</td>\n",
              "      <td>37489.50</td>\n",
              "    </tr>\n",
              "  </tbody>\n",
              "</table>\n",
              "</div>\n",
              "      <button class=\"colab-df-convert\" onclick=\"convertToInteractive('df-d4ae2a13-e7bb-44c2-85a6-314fb6342cd9')\"\n",
              "              title=\"Convert this dataframe to an interactive table.\"\n",
              "              style=\"display:none;\">\n",
              "        \n",
              "  <svg xmlns=\"http://www.w3.org/2000/svg\" height=\"24px\"viewBox=\"0 0 24 24\"\n",
              "       width=\"24px\">\n",
              "    <path d=\"M0 0h24v24H0V0z\" fill=\"none\"/>\n",
              "    <path d=\"M18.56 5.44l.94 2.06.94-2.06 2.06-.94-2.06-.94-.94-2.06-.94 2.06-2.06.94zm-11 1L8.5 8.5l.94-2.06 2.06-.94-2.06-.94L8.5 2.5l-.94 2.06-2.06.94zm10 10l.94 2.06.94-2.06 2.06-.94-2.06-.94-.94-2.06-.94 2.06-2.06.94z\"/><path d=\"M17.41 7.96l-1.37-1.37c-.4-.4-.92-.59-1.43-.59-.52 0-1.04.2-1.43.59L10.3 9.45l-7.72 7.72c-.78.78-.78 2.05 0 2.83L4 21.41c.39.39.9.59 1.41.59.51 0 1.02-.2 1.41-.59l7.78-7.78 2.81-2.81c.8-.78.8-2.07 0-2.86zM5.41 20L4 18.59l7.72-7.72 1.47 1.35L5.41 20z\"/>\n",
              "  </svg>\n",
              "      </button>\n",
              "      \n",
              "  <style>\n",
              "    .colab-df-container {\n",
              "      display:flex;\n",
              "      flex-wrap:wrap;\n",
              "      gap: 12px;\n",
              "    }\n",
              "\n",
              "    .colab-df-convert {\n",
              "      background-color: #E8F0FE;\n",
              "      border: none;\n",
              "      border-radius: 50%;\n",
              "      cursor: pointer;\n",
              "      display: none;\n",
              "      fill: #1967D2;\n",
              "      height: 32px;\n",
              "      padding: 0 0 0 0;\n",
              "      width: 32px;\n",
              "    }\n",
              "\n",
              "    .colab-df-convert:hover {\n",
              "      background-color: #E2EBFA;\n",
              "      box-shadow: 0px 1px 2px rgba(60, 64, 67, 0.3), 0px 1px 3px 1px rgba(60, 64, 67, 0.15);\n",
              "      fill: #174EA6;\n",
              "    }\n",
              "\n",
              "    [theme=dark] .colab-df-convert {\n",
              "      background-color: #3B4455;\n",
              "      fill: #D2E3FC;\n",
              "    }\n",
              "\n",
              "    [theme=dark] .colab-df-convert:hover {\n",
              "      background-color: #434B5C;\n",
              "      box-shadow: 0px 1px 3px 1px rgba(0, 0, 0, 0.15);\n",
              "      filter: drop-shadow(0px 1px 2px rgba(0, 0, 0, 0.3));\n",
              "      fill: #FFFFFF;\n",
              "    }\n",
              "  </style>\n",
              "\n",
              "      <script>\n",
              "        const buttonEl =\n",
              "          document.querySelector('#df-d4ae2a13-e7bb-44c2-85a6-314fb6342cd9 button.colab-df-convert');\n",
              "        buttonEl.style.display =\n",
              "          google.colab.kernel.accessAllowed ? 'block' : 'none';\n",
              "\n",
              "        async function convertToInteractive(key) {\n",
              "          const element = document.querySelector('#df-d4ae2a13-e7bb-44c2-85a6-314fb6342cd9');\n",
              "          const dataTable =\n",
              "            await google.colab.kernel.invokeFunction('convertToInteractive',\n",
              "                                                     [key], {});\n",
              "          if (!dataTable) return;\n",
              "\n",
              "          const docLinkHtml = 'Like what you see? Visit the ' +\n",
              "            '<a target=\"_blank\" href=https://colab.research.google.com/notebooks/data_table.ipynb>data table notebook</a>'\n",
              "            + ' to learn more about interactive tables.';\n",
              "          element.innerHTML = '';\n",
              "          dataTable['output_type'] = 'display_data';\n",
              "          await google.colab.output.renderOutput(dataTable, element);\n",
              "          const docLink = document.createElement('div');\n",
              "          docLink.innerHTML = docLinkHtml;\n",
              "          element.appendChild(docLink);\n",
              "        }\n",
              "      </script>\n",
              "    </div>\n",
              "  </div>\n",
              "  "
            ]
          },
          "metadata": {},
          "execution_count": 187
        }
      ]
    },
    {
      "cell_type": "code",
      "source": [
        "Comp_Specs_dataset.columns = ['Ram_Avg', 'SingleCore_Avg', 'MultiCore_Avg', 'GeekBench(OpenCL)_Avg']"
      ],
      "metadata": {
        "id": "7pBRwNhr1ksU"
      },
      "execution_count": 189,
      "outputs": []
    },
    {
      "cell_type": "code",
      "source": [
        "Comp_Specs_dataset.describe()"
      ],
      "metadata": {
        "colab": {
          "base_uri": "https://localhost:8080/",
          "height": 300
        },
        "id": "AE9BaD-w12Ki",
        "outputId": "3b50158f-b153-495a-c9f7-adcf2dc16394"
      },
      "execution_count": 190,
      "outputs": [
        {
          "output_type": "execute_result",
          "data": {
            "text/plain": [
              "           Ram_Avg  SingleCore_Avg  MultiCore_Avg  GeekBench(OpenCL)_Avg\n",
              "count  1293.000000     1292.000000    1292.000000            1292.000000\n",
              "mean      5.033256      594.664667    1989.534056           10651.816563\n",
              "std       3.360911      306.936638    1157.379964            9951.695288\n",
              "min       0.000000        0.000000       0.000000               0.000000\n",
              "25%       2.000000      389.187500    1222.375000            2657.812500\n",
              "50%       5.000000      650.625000    2051.250000            8275.500000\n",
              "75%       8.000000      826.062500    2769.312500           15828.937500\n",
              "max      16.000000     1405.500000    5625.250000           58047.500000"
            ],
            "text/html": [
              "\n",
              "  <div id=\"df-e0dcc5a1-385a-4bbd-9f6d-8f065f0368a1\">\n",
              "    <div class=\"colab-df-container\">\n",
              "      <div>\n",
              "<style scoped>\n",
              "    .dataframe tbody tr th:only-of-type {\n",
              "        vertical-align: middle;\n",
              "    }\n",
              "\n",
              "    .dataframe tbody tr th {\n",
              "        vertical-align: top;\n",
              "    }\n",
              "\n",
              "    .dataframe thead th {\n",
              "        text-align: right;\n",
              "    }\n",
              "</style>\n",
              "<table border=\"1\" class=\"dataframe\">\n",
              "  <thead>\n",
              "    <tr style=\"text-align: right;\">\n",
              "      <th></th>\n",
              "      <th>Ram_Avg</th>\n",
              "      <th>SingleCore_Avg</th>\n",
              "      <th>MultiCore_Avg</th>\n",
              "      <th>GeekBench(OpenCL)_Avg</th>\n",
              "    </tr>\n",
              "  </thead>\n",
              "  <tbody>\n",
              "    <tr>\n",
              "      <th>count</th>\n",
              "      <td>1293.000000</td>\n",
              "      <td>1292.000000</td>\n",
              "      <td>1292.000000</td>\n",
              "      <td>1292.000000</td>\n",
              "    </tr>\n",
              "    <tr>\n",
              "      <th>mean</th>\n",
              "      <td>5.033256</td>\n",
              "      <td>594.664667</td>\n",
              "      <td>1989.534056</td>\n",
              "      <td>10651.816563</td>\n",
              "    </tr>\n",
              "    <tr>\n",
              "      <th>std</th>\n",
              "      <td>3.360911</td>\n",
              "      <td>306.936638</td>\n",
              "      <td>1157.379964</td>\n",
              "      <td>9951.695288</td>\n",
              "    </tr>\n",
              "    <tr>\n",
              "      <th>min</th>\n",
              "      <td>0.000000</td>\n",
              "      <td>0.000000</td>\n",
              "      <td>0.000000</td>\n",
              "      <td>0.000000</td>\n",
              "    </tr>\n",
              "    <tr>\n",
              "      <th>25%</th>\n",
              "      <td>2.000000</td>\n",
              "      <td>389.187500</td>\n",
              "      <td>1222.375000</td>\n",
              "      <td>2657.812500</td>\n",
              "    </tr>\n",
              "    <tr>\n",
              "      <th>50%</th>\n",
              "      <td>5.000000</td>\n",
              "      <td>650.625000</td>\n",
              "      <td>2051.250000</td>\n",
              "      <td>8275.500000</td>\n",
              "    </tr>\n",
              "    <tr>\n",
              "      <th>75%</th>\n",
              "      <td>8.000000</td>\n",
              "      <td>826.062500</td>\n",
              "      <td>2769.312500</td>\n",
              "      <td>15828.937500</td>\n",
              "    </tr>\n",
              "    <tr>\n",
              "      <th>max</th>\n",
              "      <td>16.000000</td>\n",
              "      <td>1405.500000</td>\n",
              "      <td>5625.250000</td>\n",
              "      <td>58047.500000</td>\n",
              "    </tr>\n",
              "  </tbody>\n",
              "</table>\n",
              "</div>\n",
              "      <button class=\"colab-df-convert\" onclick=\"convertToInteractive('df-e0dcc5a1-385a-4bbd-9f6d-8f065f0368a1')\"\n",
              "              title=\"Convert this dataframe to an interactive table.\"\n",
              "              style=\"display:none;\">\n",
              "        \n",
              "  <svg xmlns=\"http://www.w3.org/2000/svg\" height=\"24px\"viewBox=\"0 0 24 24\"\n",
              "       width=\"24px\">\n",
              "    <path d=\"M0 0h24v24H0V0z\" fill=\"none\"/>\n",
              "    <path d=\"M18.56 5.44l.94 2.06.94-2.06 2.06-.94-2.06-.94-.94-2.06-.94 2.06-2.06.94zm-11 1L8.5 8.5l.94-2.06 2.06-.94-2.06-.94L8.5 2.5l-.94 2.06-2.06.94zm10 10l.94 2.06.94-2.06 2.06-.94-2.06-.94-.94-2.06-.94 2.06-2.06.94z\"/><path d=\"M17.41 7.96l-1.37-1.37c-.4-.4-.92-.59-1.43-.59-.52 0-1.04.2-1.43.59L10.3 9.45l-7.72 7.72c-.78.78-.78 2.05 0 2.83L4 21.41c.39.39.9.59 1.41.59.51 0 1.02-.2 1.41-.59l7.78-7.78 2.81-2.81c.8-.78.8-2.07 0-2.86zM5.41 20L4 18.59l7.72-7.72 1.47 1.35L5.41 20z\"/>\n",
              "  </svg>\n",
              "      </button>\n",
              "      \n",
              "  <style>\n",
              "    .colab-df-container {\n",
              "      display:flex;\n",
              "      flex-wrap:wrap;\n",
              "      gap: 12px;\n",
              "    }\n",
              "\n",
              "    .colab-df-convert {\n",
              "      background-color: #E8F0FE;\n",
              "      border: none;\n",
              "      border-radius: 50%;\n",
              "      cursor: pointer;\n",
              "      display: none;\n",
              "      fill: #1967D2;\n",
              "      height: 32px;\n",
              "      padding: 0 0 0 0;\n",
              "      width: 32px;\n",
              "    }\n",
              "\n",
              "    .colab-df-convert:hover {\n",
              "      background-color: #E2EBFA;\n",
              "      box-shadow: 0px 1px 2px rgba(60, 64, 67, 0.3), 0px 1px 3px 1px rgba(60, 64, 67, 0.15);\n",
              "      fill: #174EA6;\n",
              "    }\n",
              "\n",
              "    [theme=dark] .colab-df-convert {\n",
              "      background-color: #3B4455;\n",
              "      fill: #D2E3FC;\n",
              "    }\n",
              "\n",
              "    [theme=dark] .colab-df-convert:hover {\n",
              "      background-color: #434B5C;\n",
              "      box-shadow: 0px 1px 3px 1px rgba(0, 0, 0, 0.15);\n",
              "      filter: drop-shadow(0px 1px 2px rgba(0, 0, 0, 0.3));\n",
              "      fill: #FFFFFF;\n",
              "    }\n",
              "  </style>\n",
              "\n",
              "      <script>\n",
              "        const buttonEl =\n",
              "          document.querySelector('#df-e0dcc5a1-385a-4bbd-9f6d-8f065f0368a1 button.colab-df-convert');\n",
              "        buttonEl.style.display =\n",
              "          google.colab.kernel.accessAllowed ? 'block' : 'none';\n",
              "\n",
              "        async function convertToInteractive(key) {\n",
              "          const element = document.querySelector('#df-e0dcc5a1-385a-4bbd-9f6d-8f065f0368a1');\n",
              "          const dataTable =\n",
              "            await google.colab.kernel.invokeFunction('convertToInteractive',\n",
              "                                                     [key], {});\n",
              "          if (!dataTable) return;\n",
              "\n",
              "          const docLinkHtml = 'Like what you see? Visit the ' +\n",
              "            '<a target=\"_blank\" href=https://colab.research.google.com/notebooks/data_table.ipynb>data table notebook</a>'\n",
              "            + ' to learn more about interactive tables.';\n",
              "          element.innerHTML = '';\n",
              "          dataTable['output_type'] = 'display_data';\n",
              "          await google.colab.output.renderOutput(dataTable, element);\n",
              "          const docLink = document.createElement('div');\n",
              "          docLink.innerHTML = docLinkHtml;\n",
              "          element.appendChild(docLink);\n",
              "        }\n",
              "      </script>\n",
              "    </div>\n",
              "  </div>\n",
              "  "
            ]
          },
          "metadata": {},
          "execution_count": 190
        }
      ]
    },
    {
      "cell_type": "code",
      "source": [
        "columns = ['SingleCore_Avg',\t'MultiCore_Avg',\t'GeekBench(OpenCL)_Avg']\n",
        "Comp_Specs_dataset[columns] = Comp_Specs_dataset[columns].fillna(0)"
      ],
      "metadata": {
        "id": "JF3NhgBo2LaS"
      },
      "execution_count": 193,
      "outputs": []
    },
    {
      "cell_type": "code",
      "source": [
        "Comp_Specs_dataset.info()"
      ],
      "metadata": {
        "colab": {
          "base_uri": "https://localhost:8080/"
        },
        "id": "VXIDmBry1-vJ",
        "outputId": "5962dc57-7115-4b12-8aca-74bfc3630f02"
      },
      "execution_count": 194,
      "outputs": [
        {
          "output_type": "stream",
          "name": "stdout",
          "text": [
            "<class 'pandas.core.frame.DataFrame'>\n",
            "Int64Index: 1293 entries, 1001 to 2971\n",
            "Data columns (total 4 columns):\n",
            " #   Column                 Non-Null Count  Dtype  \n",
            "---  ------                 --------------  -----  \n",
            " 0   Ram_Avg                1293 non-null   float64\n",
            " 1   SingleCore_Avg         1293 non-null   float64\n",
            " 2   MultiCore_Avg          1293 non-null   float64\n",
            " 3   GeekBench(OpenCL)_Avg  1293 non-null   float64\n",
            "dtypes: float64(4)\n",
            "memory usage: 50.5 KB\n"
          ]
        }
      ]
    },
    {
      "cell_type": "code",
      "source": [
        "Comp_Specs_dataset.to_csv('System_Specification.csv', index=True)"
      ],
      "metadata": {
        "id": "91sZqL7B22c9"
      },
      "execution_count": 195,
      "outputs": []
    }
  ]
}